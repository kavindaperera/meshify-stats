{
 "cells": [
  {
   "cell_type": "code",
   "execution_count": 2,
   "metadata": {},
   "outputs": [],
   "source": [
    "import pandas as pd\n",
    "import numpy as np\n",
    "from matplotlib import pyplot as plt\n",
    "from matplotlib.ticker import FormatStrFormatter"
   ]
  },
  {
   "cell_type": "code",
   "execution_count": 3,
   "metadata": {},
   "outputs": [],
   "source": [
    "connection_delay_1 = [15.336, 20.064, 17.467, 19.747, 20.762, 14.676, 23.109, 15.079, 21.228, 21.365]\n",
    "connection_delay_2 = [0]\n",
    "connection_delay_3 = [0]"
   ]
  },
  {
   "cell_type": "code",
   "execution_count": 4,
   "metadata": {},
   "outputs": [
    {
     "data": {
      "image/png": "[encoded data removed]",
      "text/plain": [
       "<Figure size 432x288 with 1 Axes>"
      ]
     },
     "metadata": {
      "needs_background": "light"
     },
     "output_type": "display_data"
    }
   ],
   "source": [
    "columns = [connection_delay_1, connection_delay_2, connection_delay_3]\n",
    "\n",
    "fig, ax = plt.subplots()\n",
    "ax.boxplot(columns)\n",
    "plt.xticks([1, 2, 3], [\"Bluetooth 5 - Bluetooth 5\", \"Bluetooth 5 - Bluetooth 4\", \"Bluetooth 4 - Bluetooth 4\"], rotation=10)\n",
    "ax.set_ylabel('time(seconds)')\n",
    "ax.set_xlabel('Bluetooth Versions')\n",
    "plt.show()"
   ]
  },
  {
   "cell_type": "markdown",
   "metadata": {},
   "source": [
    "# Single-Hop Delay vs Distance"
   ]
  },
  {
   "cell_type": "markdown",
   "metadata": {},
   "source": [
    "## 1 meter delay"
   ]
  },
  {
   "cell_type": "code",
   "execution_count": 5,
   "metadata": {},
   "outputs": [],
   "source": [
    "result_elsa_1h_1m = pd.read_excel('result/result_elsa_1h_1m_2.xlsx', index_col=0)  "
   ]
  },
  {
   "cell_type": "code",
   "execution_count": 6,
   "metadata": {},
   "outputs": [],
   "source": [
    "result_miranda_1h_1m = pd.read_excel('result/result_miranda_1h_1m_2.xlsx', index_col=0)  "
   ]
  },
  {
   "cell_type": "code",
   "execution_count": 7,
   "metadata": {},
   "outputs": [],
   "source": [
    "df_1h_1m = pd.merge(result_miranda_1h_1m, result_elsa_1h_1m, on=\"uuid\")"
   ]
  },
  {
   "cell_type": "code",
   "execution_count": 8,
   "metadata": {},
   "outputs": [
    {
     "data": {
      "text/html": [
       "<div>\n",
       "<style scoped>\n",
       "    .dataframe tbody tr th:only-of-type {\n",
       "        vertical-align: middle;\n",
       "    }\n",
       "\n",
       "    .dataframe tbody tr th {\n",
       "        vertical-align: top;\n",
       "    }\n",
       "\n",
       "    .dataframe thead th {\n",
       "        text-align: right;\n",
       "    }\n",
       "</style>\n",
       "<table border=\"1\" class=\"dataframe\">\n",
       "  <thead>\n",
       "    <tr style=\"text-align: right;\">\n",
       "      <th></th>\n",
       "      <th>connectionType_x</th>\n",
       "      <th>eventId_x</th>\n",
       "      <th>logType_x</th>\n",
       "      <th>timeStamp_x</th>\n",
       "      <th>connectionType_y</th>\n",
       "      <th>eventId_y</th>\n",
       "      <th>logType_y</th>\n",
       "      <th>timeStamp_y</th>\n",
       "    </tr>\n",
       "    <tr>\n",
       "      <th>uuid</th>\n",
       "      <th></th>\n",
       "      <th></th>\n",
       "      <th></th>\n",
       "      <th></th>\n",
       "      <th></th>\n",
       "      <th></th>\n",
       "      <th></th>\n",
       "      <th></th>\n",
       "    </tr>\n",
       "  </thead>\n",
       "  <tbody>\n",
       "    <tr>\n",
       "      <th>3d835cc9-a156-400a-bc04-a810347b1cda</th>\n",
       "      <td>0</td>\n",
       "      <td>0</td>\n",
       "      <td>0</td>\n",
       "      <td>1643093779254</td>\n",
       "      <td>0</td>\n",
       "      <td>1</td>\n",
       "      <td>0</td>\n",
       "      <td>1643093778705</td>\n",
       "    </tr>\n",
       "    <tr>\n",
       "      <th>d00d4b84-bfc2-4b44-9160-f7e064193769</th>\n",
       "      <td>0</td>\n",
       "      <td>0</td>\n",
       "      <td>0</td>\n",
       "      <td>1643093784287</td>\n",
       "      <td>0</td>\n",
       "      <td>1</td>\n",
       "      <td>0</td>\n",
       "      <td>1643093783499</td>\n",
       "    </tr>\n",
       "    <tr>\n",
       "      <th>7a75acd5-763b-4242-b128-c82ed863a9f6</th>\n",
       "      <td>0</td>\n",
       "      <td>0</td>\n",
       "      <td>0</td>\n",
       "      <td>1643093789323</td>\n",
       "      <td>0</td>\n",
       "      <td>1</td>\n",
       "      <td>0</td>\n",
       "      <td>1643093788586</td>\n",
       "    </tr>\n",
       "    <tr>\n",
       "      <th>d3d5fcd8-f77a-4ffa-98c0-c20ee7241602</th>\n",
       "      <td>0</td>\n",
       "      <td>0</td>\n",
       "      <td>0</td>\n",
       "      <td>1643093794362</td>\n",
       "      <td>0</td>\n",
       "      <td>1</td>\n",
       "      <td>0</td>\n",
       "      <td>1643093793611</td>\n",
       "    </tr>\n",
       "    <tr>\n",
       "      <th>66730337-5945-40e7-9898-f014de133653</th>\n",
       "      <td>0</td>\n",
       "      <td>0</td>\n",
       "      <td>0</td>\n",
       "      <td>1643093799400</td>\n",
       "      <td>0</td>\n",
       "      <td>1</td>\n",
       "      <td>0</td>\n",
       "      <td>1643093798668</td>\n",
       "    </tr>\n",
       "  </tbody>\n",
       "</table>\n",
       "</div>"
      ],
      "text/plain": [
       "                                      connectionType_x  eventId_x  logType_x  \\\n",
       "uuid                                                                           \n",
       "3d835cc9-a156-400a-bc04-a810347b1cda                 0          0          0   \n",
       "d00d4b84-bfc2-4b44-9160-f7e064193769                 0          0          0   \n",
       "7a75acd5-763b-4242-b128-c82ed863a9f6                 0          0          0   \n",
       "d3d5fcd8-f77a-4ffa-98c0-c20ee7241602                 0          0          0   \n",
       "66730337-5945-40e7-9898-f014de133653                 0          0          0   \n",
       "\n",
       "                                        timeStamp_x  connectionType_y  \\\n",
       "uuid                                                                    \n",
       "3d835cc9-a156-400a-bc04-a810347b1cda  1643093779254                 0   \n",
       "d00d4b84-bfc2-4b44-9160-f7e064193769  1643093784287                 0   \n",
       "7a75acd5-763b-4242-b128-c82ed863a9f6  1643093789323                 0   \n",
       "d3d5fcd8-f77a-4ffa-98c0-c20ee7241602  1643093794362                 0   \n",
       "66730337-5945-40e7-9898-f014de133653  1643093799400                 0   \n",
       "\n",
       "                                      eventId_y  logType_y    timeStamp_y  \n",
       "uuid                                                                       \n",
       "3d835cc9-a156-400a-bc04-a810347b1cda          1          0  1643093778705  \n",
       "d00d4b84-bfc2-4b44-9160-f7e064193769          1          0  1643093783499  \n",
       "7a75acd5-763b-4242-b128-c82ed863a9f6          1          0  1643093788586  \n",
       "d3d5fcd8-f77a-4ffa-98c0-c20ee7241602          1          0  1643093793611  \n",
       "66730337-5945-40e7-9898-f014de133653          1          0  1643093798668  "
      ]
     },
     "execution_count": 8,
     "metadata": {},
     "output_type": "execute_result"
    }
   ],
   "source": [
    "df_1h_1m.head()"
   ]
  },
  {
   "cell_type": "code",
   "execution_count": 9,
   "metadata": {},
   "outputs": [
    {
     "data": {
      "text/plain": [
       "(109, 8)"
      ]
     },
     "execution_count": 9,
     "metadata": {},
     "output_type": "execute_result"
    }
   ],
   "source": [
    "df_1h_1m.shape"
   ]
  },
  {
   "cell_type": "code",
   "execution_count": 10,
   "metadata": {},
   "outputs": [],
   "source": [
    "df_1h_1m['timeStamp_x'] = df_1h_1m['timeStamp_x'] + 264"
   ]
  },
  {
   "cell_type": "code",
   "execution_count": 11,
   "metadata": {},
   "outputs": [],
   "source": [
    "df_1h_1m['timeStamp_y'] = df_1h_1m['timeStamp_y'] + 1087"
   ]
  },
  {
   "cell_type": "code",
   "execution_count": 12,
   "metadata": {},
   "outputs": [],
   "source": [
    "df_1h_1m['delay'] = df_1h_1m['timeStamp_y'] - df_1h_1m['timeStamp_x']"
   ]
  },
  {
   "cell_type": "code",
   "execution_count": 13,
   "metadata": {},
   "outputs": [
    {
     "data": {
      "text/plain": [
       "86.0"
      ]
     },
     "execution_count": 13,
     "metadata": {},
     "output_type": "execute_result"
    }
   ],
   "source": [
    "df_1h_1m['delay'].median()"
   ]
  },
  {
   "cell_type": "code",
   "execution_count": 14,
   "metadata": {},
   "outputs": [
    {
     "data": {
      "text/plain": [
       "(109, 9)"
      ]
     },
     "execution_count": 14,
     "metadata": {},
     "output_type": "execute_result"
    }
   ],
   "source": [
    "df_1h_1m.shape"
   ]
  },
  {
   "cell_type": "markdown",
   "metadata": {},
   "source": [
    "## 5 meter delay"
   ]
  },
  {
   "cell_type": "code",
   "execution_count": 15,
   "metadata": {},
   "outputs": [],
   "source": [
    "result_elsa_1h_5m = pd.read_excel('result/result_elsa_1h_5m.xlsx', index_col=0)  "
   ]
  },
  {
   "cell_type": "code",
   "execution_count": 16,
   "metadata": {},
   "outputs": [
    {
     "data": {
      "text/plain": [
       "(110, 4)"
      ]
     },
     "execution_count": 16,
     "metadata": {},
     "output_type": "execute_result"
    }
   ],
   "source": [
    "result_elsa_1h_5m.shape"
   ]
  },
  {
   "cell_type": "code",
   "execution_count": 17,
   "metadata": {},
   "outputs": [],
   "source": [
    "result_miranda_1h_5m = pd.read_excel('result/result_miranda_1h_5m.xlsx', index_col=0)  "
   ]
  },
  {
   "cell_type": "code",
   "execution_count": 18,
   "metadata": {},
   "outputs": [
    {
     "data": {
      "text/plain": [
       "(110, 4)"
      ]
     },
     "execution_count": 18,
     "metadata": {},
     "output_type": "execute_result"
    }
   ],
   "source": [
    "result_miranda_1h_5m.shape"
   ]
  },
  {
   "cell_type": "code",
   "execution_count": 19,
   "metadata": {},
   "outputs": [],
   "source": [
    "df_1h_5m = pd.merge(result_miranda_1h_5m, result_elsa_1h_5m, on=\"uuid\")"
   ]
  },
  {
   "cell_type": "code",
   "execution_count": 20,
   "metadata": {},
   "outputs": [
    {
     "data": {
      "text/html": [
       "<div>\n",
       "<style scoped>\n",
       "    .dataframe tbody tr th:only-of-type {\n",
       "        vertical-align: middle;\n",
       "    }\n",
       "\n",
       "    .dataframe tbody tr th {\n",
       "        vertical-align: top;\n",
       "    }\n",
       "\n",
       "    .dataframe thead th {\n",
       "        text-align: right;\n",
       "    }\n",
       "</style>\n",
       "<table border=\"1\" class=\"dataframe\">\n",
       "  <thead>\n",
       "    <tr style=\"text-align: right;\">\n",
       "      <th></th>\n",
       "      <th>connectionType_x</th>\n",
       "      <th>eventId_x</th>\n",
       "      <th>logType_x</th>\n",
       "      <th>timeStamp_x</th>\n",
       "      <th>connectionType_y</th>\n",
       "      <th>eventId_y</th>\n",
       "      <th>logType_y</th>\n",
       "      <th>timeStamp_y</th>\n",
       "    </tr>\n",
       "    <tr>\n",
       "      <th>uuid</th>\n",
       "      <th></th>\n",
       "      <th></th>\n",
       "      <th></th>\n",
       "      <th></th>\n",
       "      <th></th>\n",
       "      <th></th>\n",
       "      <th></th>\n",
       "      <th></th>\n",
       "    </tr>\n",
       "  </thead>\n",
       "  <tbody>\n",
       "    <tr>\n",
       "      <th>ed27fdba-72f2-4aa1-be52-9de247ea5de1</th>\n",
       "      <td>0</td>\n",
       "      <td>0</td>\n",
       "      <td>0</td>\n",
       "      <td>1643092451748</td>\n",
       "      <td>0</td>\n",
       "      <td>1</td>\n",
       "      <td>0</td>\n",
       "      <td>1643092451021</td>\n",
       "    </tr>\n",
       "    <tr>\n",
       "      <th>f3ff84ef-cab0-40b4-b4d8-368310824554</th>\n",
       "      <td>0</td>\n",
       "      <td>0</td>\n",
       "      <td>0</td>\n",
       "      <td>1643092456782</td>\n",
       "      <td>0</td>\n",
       "      <td>1</td>\n",
       "      <td>0</td>\n",
       "      <td>1643092456032</td>\n",
       "    </tr>\n",
       "    <tr>\n",
       "      <th>d13bbbe0-d4e1-4cc7-8496-a97ee3e0f09f</th>\n",
       "      <td>0</td>\n",
       "      <td>0</td>\n",
       "      <td>0</td>\n",
       "      <td>1643092461819</td>\n",
       "      <td>0</td>\n",
       "      <td>1</td>\n",
       "      <td>0</td>\n",
       "      <td>1643092461068</td>\n",
       "    </tr>\n",
       "    <tr>\n",
       "      <th>fcf9da3a-4c5f-4467-93dc-ebbfd57ab479</th>\n",
       "      <td>0</td>\n",
       "      <td>0</td>\n",
       "      <td>0</td>\n",
       "      <td>1643092466853</td>\n",
       "      <td>0</td>\n",
       "      <td>1</td>\n",
       "      <td>0</td>\n",
       "      <td>1643092466101</td>\n",
       "    </tr>\n",
       "    <tr>\n",
       "      <th>355613d0-8f9d-491f-bd4a-328df37c55f6</th>\n",
       "      <td>0</td>\n",
       "      <td>0</td>\n",
       "      <td>0</td>\n",
       "      <td>1643092471884</td>\n",
       "      <td>0</td>\n",
       "      <td>1</td>\n",
       "      <td>0</td>\n",
       "      <td>1643092471096</td>\n",
       "    </tr>\n",
       "  </tbody>\n",
       "</table>\n",
       "</div>"
      ],
      "text/plain": [
       "                                      connectionType_x  eventId_x  logType_x  \\\n",
       "uuid                                                                           \n",
       "ed27fdba-72f2-4aa1-be52-9de247ea5de1                 0          0          0   \n",
       "f3ff84ef-cab0-40b4-b4d8-368310824554                 0          0          0   \n",
       "d13bbbe0-d4e1-4cc7-8496-a97ee3e0f09f                 0          0          0   \n",
       "fcf9da3a-4c5f-4467-93dc-ebbfd57ab479                 0          0          0   \n",
       "355613d0-8f9d-491f-bd4a-328df37c55f6                 0          0          0   \n",
       "\n",
       "                                        timeStamp_x  connectionType_y  \\\n",
       "uuid                                                                    \n",
       "ed27fdba-72f2-4aa1-be52-9de247ea5de1  1643092451748                 0   \n",
       "f3ff84ef-cab0-40b4-b4d8-368310824554  1643092456782                 0   \n",
       "d13bbbe0-d4e1-4cc7-8496-a97ee3e0f09f  1643092461819                 0   \n",
       "fcf9da3a-4c5f-4467-93dc-ebbfd57ab479  1643092466853                 0   \n",
       "355613d0-8f9d-491f-bd4a-328df37c55f6  1643092471884                 0   \n",
       "\n",
       "                                      eventId_y  logType_y    timeStamp_y  \n",
       "uuid                                                                       \n",
       "ed27fdba-72f2-4aa1-be52-9de247ea5de1          1          0  1643092451021  \n",
       "f3ff84ef-cab0-40b4-b4d8-368310824554          1          0  1643092456032  \n",
       "d13bbbe0-d4e1-4cc7-8496-a97ee3e0f09f          1          0  1643092461068  \n",
       "fcf9da3a-4c5f-4467-93dc-ebbfd57ab479          1          0  1643092466101  \n",
       "355613d0-8f9d-491f-bd4a-328df37c55f6          1          0  1643092471096  "
      ]
     },
     "execution_count": 20,
     "metadata": {},
     "output_type": "execute_result"
    }
   ],
   "source": [
    "df_1h_5m.head()"
   ]
  },
  {
   "cell_type": "code",
   "execution_count": 21,
   "metadata": {},
   "outputs": [],
   "source": [
    "df_1h_5m['timeStamp_x'] = df_1h_5m['timeStamp_x'] + 249"
   ]
  },
  {
   "cell_type": "code",
   "execution_count": 22,
   "metadata": {},
   "outputs": [],
   "source": [
    "df_1h_5m['timeStamp_y'] = df_1h_5m['timeStamp_y'] + 1108"
   ]
  },
  {
   "cell_type": "code",
   "execution_count": 23,
   "metadata": {},
   "outputs": [],
   "source": [
    "df_1h_5m['delay'] = df_1h_5m['timeStamp_y'] - df_1h_5m['timeStamp_x']"
   ]
  },
  {
   "cell_type": "code",
   "execution_count": 24,
   "metadata": {},
   "outputs": [
    {
     "data": {
      "text/plain": [
       "110.0"
      ]
     },
     "execution_count": 24,
     "metadata": {},
     "output_type": "execute_result"
    }
   ],
   "source": [
    "df_1h_5m['delay'].median()"
   ]
  },
  {
   "cell_type": "code",
   "execution_count": 25,
   "metadata": {},
   "outputs": [
    {
     "data": {
      "text/plain": [
       "(110, 9)"
      ]
     },
     "execution_count": 25,
     "metadata": {},
     "output_type": "execute_result"
    }
   ],
   "source": [
    "df_1h_5m.shape"
   ]
  },
  {
   "cell_type": "markdown",
   "metadata": {},
   "source": [
    "## 10 meter delay"
   ]
  },
  {
   "cell_type": "code",
   "execution_count": 26,
   "metadata": {},
   "outputs": [],
   "source": [
    "result_elsa_1h_10m = pd.read_excel('result/result_elsa_1h_10m.xlsx', index_col=0)  "
   ]
  },
  {
   "cell_type": "code",
   "execution_count": 27,
   "metadata": {},
   "outputs": [
    {
     "data": {
      "text/plain": [
       "(108, 4)"
      ]
     },
     "execution_count": 27,
     "metadata": {},
     "output_type": "execute_result"
    }
   ],
   "source": [
    "result_elsa_1h_10m.shape"
   ]
  },
  {
   "cell_type": "code",
   "execution_count": 28,
   "metadata": {},
   "outputs": [],
   "source": [
    "result_miranda_1h_10m = pd.read_excel('result/result_miranda_1h_10m.xlsx', index_col=0)  "
   ]
  },
  {
   "cell_type": "code",
   "execution_count": 29,
   "metadata": {},
   "outputs": [
    {
     "data": {
      "text/plain": [
       "(108, 4)"
      ]
     },
     "execution_count": 29,
     "metadata": {},
     "output_type": "execute_result"
    }
   ],
   "source": [
    "result_miranda_1h_10m.shape"
   ]
  },
  {
   "cell_type": "code",
   "execution_count": 30,
   "metadata": {},
   "outputs": [],
   "source": [
    "df_1h_10m = pd.merge(result_miranda_1h_10m, result_elsa_1h_10m, on=\"uuid\")"
   ]
  },
  {
   "cell_type": "code",
   "execution_count": 31,
   "metadata": {},
   "outputs": [
    {
     "data": {
      "text/html": [
       "<div>\n",
       "<style scoped>\n",
       "    .dataframe tbody tr th:only-of-type {\n",
       "        vertical-align: middle;\n",
       "    }\n",
       "\n",
       "    .dataframe tbody tr th {\n",
       "        vertical-align: top;\n",
       "    }\n",
       "\n",
       "    .dataframe thead th {\n",
       "        text-align: right;\n",
       "    }\n",
       "</style>\n",
       "<table border=\"1\" class=\"dataframe\">\n",
       "  <thead>\n",
       "    <tr style=\"text-align: right;\">\n",
       "      <th></th>\n",
       "      <th>connectionType_x</th>\n",
       "      <th>eventId_x</th>\n",
       "      <th>logType_x</th>\n",
       "      <th>timeStamp_x</th>\n",
       "      <th>connectionType_y</th>\n",
       "      <th>eventId_y</th>\n",
       "      <th>logType_y</th>\n",
       "      <th>timeStamp_y</th>\n",
       "    </tr>\n",
       "    <tr>\n",
       "      <th>uuid</th>\n",
       "      <th></th>\n",
       "      <th></th>\n",
       "      <th></th>\n",
       "      <th></th>\n",
       "      <th></th>\n",
       "      <th></th>\n",
       "      <th></th>\n",
       "      <th></th>\n",
       "    </tr>\n",
       "  </thead>\n",
       "  <tbody>\n",
       "    <tr>\n",
       "      <th>42cb7b73-1195-46ee-9ae7-85952c68c30f</th>\n",
       "      <td>0</td>\n",
       "      <td>0</td>\n",
       "      <td>0</td>\n",
       "      <td>1643095244813</td>\n",
       "      <td>0</td>\n",
       "      <td>1</td>\n",
       "      <td>0</td>\n",
       "      <td>1643095244136</td>\n",
       "    </tr>\n",
       "    <tr>\n",
       "      <th>6d7601a0-6842-4a42-8680-366fee4a7a44</th>\n",
       "      <td>0</td>\n",
       "      <td>0</td>\n",
       "      <td>0</td>\n",
       "      <td>1643095249830</td>\n",
       "      <td>0</td>\n",
       "      <td>1</td>\n",
       "      <td>0</td>\n",
       "      <td>1643095249114</td>\n",
       "    </tr>\n",
       "    <tr>\n",
       "      <th>73cfce3c-2630-45eb-9fcb-b8e0eae3b0de</th>\n",
       "      <td>0</td>\n",
       "      <td>0</td>\n",
       "      <td>0</td>\n",
       "      <td>1643095254848</td>\n",
       "      <td>0</td>\n",
       "      <td>1</td>\n",
       "      <td>0</td>\n",
       "      <td>1643095254077</td>\n",
       "    </tr>\n",
       "    <tr>\n",
       "      <th>31ec5ae4-e991-46e0-a69a-44295462638c</th>\n",
       "      <td>0</td>\n",
       "      <td>0</td>\n",
       "      <td>0</td>\n",
       "      <td>1643095259881</td>\n",
       "      <td>0</td>\n",
       "      <td>1</td>\n",
       "      <td>0</td>\n",
       "      <td>1643095259166</td>\n",
       "    </tr>\n",
       "    <tr>\n",
       "      <th>4f934999-8e4a-427b-a8bc-41512acd81c9</th>\n",
       "      <td>0</td>\n",
       "      <td>0</td>\n",
       "      <td>0</td>\n",
       "      <td>1643095264916</td>\n",
       "      <td>0</td>\n",
       "      <td>1</td>\n",
       "      <td>0</td>\n",
       "      <td>1643095264147</td>\n",
       "    </tr>\n",
       "  </tbody>\n",
       "</table>\n",
       "</div>"
      ],
      "text/plain": [
       "                                      connectionType_x  eventId_x  logType_x  \\\n",
       "uuid                                                                           \n",
       "42cb7b73-1195-46ee-9ae7-85952c68c30f                 0          0          0   \n",
       "6d7601a0-6842-4a42-8680-366fee4a7a44                 0          0          0   \n",
       "73cfce3c-2630-45eb-9fcb-b8e0eae3b0de                 0          0          0   \n",
       "31ec5ae4-e991-46e0-a69a-44295462638c                 0          0          0   \n",
       "4f934999-8e4a-427b-a8bc-41512acd81c9                 0          0          0   \n",
       "\n",
       "                                        timeStamp_x  connectionType_y  \\\n",
       "uuid                                                                    \n",
       "42cb7b73-1195-46ee-9ae7-85952c68c30f  1643095244813                 0   \n",
       "6d7601a0-6842-4a42-8680-366fee4a7a44  1643095249830                 0   \n",
       "73cfce3c-2630-45eb-9fcb-b8e0eae3b0de  1643095254848                 0   \n",
       "31ec5ae4-e991-46e0-a69a-44295462638c  1643095259881                 0   \n",
       "4f934999-8e4a-427b-a8bc-41512acd81c9  1643095264916                 0   \n",
       "\n",
       "                                      eventId_y  logType_y    timeStamp_y  \n",
       "uuid                                                                       \n",
       "42cb7b73-1195-46ee-9ae7-85952c68c30f          1          0  1643095244136  \n",
       "6d7601a0-6842-4a42-8680-366fee4a7a44          1          0  1643095249114  \n",
       "73cfce3c-2630-45eb-9fcb-b8e0eae3b0de          1          0  1643095254077  \n",
       "31ec5ae4-e991-46e0-a69a-44295462638c          1          0  1643095259166  \n",
       "4f934999-8e4a-427b-a8bc-41512acd81c9          1          0  1643095264147  "
      ]
     },
     "execution_count": 31,
     "metadata": {},
     "output_type": "execute_result"
    }
   ],
   "source": [
    "df_1h_10m.head()"
   ]
  },
  {
   "cell_type": "code",
   "execution_count": 32,
   "metadata": {},
   "outputs": [],
   "source": [
    "df_1h_10m['timeStamp_x'] = df_1h_10m['timeStamp_x'] + 264"
   ]
  },
  {
   "cell_type": "code",
   "execution_count": 33,
   "metadata": {},
   "outputs": [],
   "source": [
    "df_1h_10m['timeStamp_y'] = df_1h_10m['timeStamp_y'] + 1141"
   ]
  },
  {
   "cell_type": "code",
   "execution_count": 34,
   "metadata": {},
   "outputs": [],
   "source": [
    "df_1h_10m['delay'] = df_1h_10m['timeStamp_y'] - df_1h_10m['timeStamp_x']"
   ]
  },
  {
   "cell_type": "code",
   "execution_count": 35,
   "metadata": {},
   "outputs": [
    {
     "data": {
      "text/plain": [
       "126.5"
      ]
     },
     "execution_count": 35,
     "metadata": {},
     "output_type": "execute_result"
    }
   ],
   "source": [
    "df_1h_10m['delay'].median()"
   ]
  },
  {
   "cell_type": "code",
   "execution_count": 36,
   "metadata": {},
   "outputs": [
    {
     "data": {
      "text/plain": [
       "(108, 9)"
      ]
     },
     "execution_count": 36,
     "metadata": {},
     "output_type": "execute_result"
    }
   ],
   "source": [
    "df_1h_10m.shape"
   ]
  },
  {
   "cell_type": "markdown",
   "metadata": {},
   "source": [
    "## 15 meter delay"
   ]
  },
  {
   "cell_type": "code",
   "execution_count": 105,
   "metadata": {},
   "outputs": [],
   "source": [
    "result_elsa_1h_15m = pd.read_excel('result/result_elsa_1h_15m.xlsx', index_col=0)  "
   ]
  },
  {
   "cell_type": "code",
   "execution_count": 106,
   "metadata": {},
   "outputs": [
    {
     "data": {
      "text/plain": [
       "(113, 4)"
      ]
     },
     "execution_count": 106,
     "metadata": {},
     "output_type": "execute_result"
    }
   ],
   "source": [
    "result_elsa_1h_15m.shape"
   ]
  },
  {
   "cell_type": "code",
   "execution_count": 107,
   "metadata": {},
   "outputs": [],
   "source": [
    "result_miranda_1h_15m = pd.read_excel('result/result_miranda_1h_15m.xlsx', index_col=0)  "
   ]
  },
  {
   "cell_type": "code",
   "execution_count": 108,
   "metadata": {},
   "outputs": [
    {
     "data": {
      "text/plain": [
       "(113, 4)"
      ]
     },
     "execution_count": 108,
     "metadata": {},
     "output_type": "execute_result"
    }
   ],
   "source": [
    "result_miranda_1h_15m.shape"
   ]
  },
  {
   "cell_type": "code",
   "execution_count": 109,
   "metadata": {},
   "outputs": [],
   "source": [
    "df_1h_15m = pd.merge(result_miranda_1h_15m, result_elsa_1h_15m, on=\"uuid\")"
   ]
  },
  {
   "cell_type": "code",
   "execution_count": 110,
   "metadata": {},
   "outputs": [
    {
     "data": {
      "text/plain": [
       "(113, 8)"
      ]
     },
     "execution_count": 110,
     "metadata": {},
     "output_type": "execute_result"
    }
   ],
   "source": [
    "df_1h_15m.shape"
   ]
  },
  {
   "cell_type": "code",
   "execution_count": 111,
   "metadata": {},
   "outputs": [],
   "source": [
    "df_1h_15m['timeStamp_x'] = df_1h_15m['timeStamp_x'] - 1120"
   ]
  },
  {
   "cell_type": "code",
   "execution_count": 112,
   "metadata": {},
   "outputs": [],
   "source": [
    "df_1h_15m['timeStamp_y'] = df_1h_15m['timeStamp_y'] + 344"
   ]
  },
  {
   "cell_type": "code",
   "execution_count": 113,
   "metadata": {},
   "outputs": [],
   "source": [
    "df_1h_15m['delay'] = df_1h_15m['timeStamp_y'] - df_1h_15m['timeStamp_x']"
   ]
  },
  {
   "cell_type": "code",
   "execution_count": 114,
   "metadata": {},
   "outputs": [
    {
     "data": {
      "text/plain": [
       "140.0"
      ]
     },
     "execution_count": 114,
     "metadata": {},
     "output_type": "execute_result"
    }
   ],
   "source": [
    "df_1h_15m['delay'].median()"
   ]
  },
  {
   "cell_type": "code",
   "execution_count": 115,
   "metadata": {},
   "outputs": [
    {
     "data": {
      "text/plain": [
       "uuid\n",
       "d4ea4046-4144-498e-873e-ec820af87f83    186\n",
       "22f65412-2f36-4007-abf5-b5ec000f1613    153\n",
       "2ecf1010-f20b-405a-99ce-438c0ab7d918    134\n",
       "cd52a8be-4cba-4a94-b2a6-6a09fd36bcff    133\n",
       "30d5bbd7-28fe-42a4-8550-eb5d0981c5de    104\n",
       "                                       ... \n",
       "456cac23-2021-4507-a81a-3cb8363e0444    699\n",
       "6a45780a-9012-42ec-b840-1da4dba72753    113\n",
       "30af9d90-35d5-49f9-8479-157c8c2d3cc0    646\n",
       "2db616a2-b1f2-4d2d-ab39-70da349d72ea    112\n",
       "d0389e42-ff2d-4270-8255-e2a7eeb2c8b9    614\n",
       "Name: delay, Length: 113, dtype: int64"
      ]
     },
     "execution_count": 115,
     "metadata": {},
     "output_type": "execute_result"
    }
   ],
   "source": [
    "df_1h_15m['delay']"
   ]
  },
  {
   "cell_type": "code",
   "execution_count": null,
   "metadata": {},
   "outputs": [],
   "source": []
  },
  {
   "cell_type": "code",
   "execution_count": null,
   "metadata": {},
   "outputs": [],
   "source": []
  },
  {
   "cell_type": "code",
   "execution_count": null,
   "metadata": {},
   "outputs": [],
   "source": []
  },
  {
   "cell_type": "code",
   "execution_count": null,
   "metadata": {},
   "outputs": [],
   "source": []
  },
  {
   "cell_type": "code",
   "execution_count": null,
   "metadata": {},
   "outputs": [],
   "source": []
  },
  {
   "cell_type": "code",
   "execution_count": null,
   "metadata": {},
   "outputs": [],
   "source": []
  },
  {
   "cell_type": "code",
   "execution_count": null,
   "metadata": {},
   "outputs": [],
   "source": []
  },
  {
   "cell_type": "code",
   "execution_count": null,
   "metadata": {},
   "outputs": [],
   "source": []
  },
  {
   "cell_type": "code",
   "execution_count": null,
   "metadata": {},
   "outputs": [],
   "source": []
  },
  {
   "cell_type": "markdown",
   "metadata": {},
   "source": [
    "## Plot"
   ]
  },
  {
   "cell_type": "code",
   "execution_count": 222,
   "metadata": {},
   "outputs": [
    {
     "data": {
      "image/png": "[encoded data removed]",
      "text/plain": [
       "<Figure size 504x360 with 1 Axes>"
      ]
     },
     "metadata": {
      "needs_background": "light"
     },
     "output_type": "display_data"
    }
   ],
   "source": [
    "columns = [df_1h_1m['delay'], df_1h_5m['delay'], df_1h_10m['delay'], df_1h_15m['delay'] ]\n",
    "labels = ['1','5','10', '15']\n",
    "\n",
    "fig, ax = plt.subplots()\n",
    "bplot1 = ax.boxplot(columns, \n",
    "            vert=True,  # vertical box alignment\n",
    "            patch_artist=False,  # fill with color\n",
    "            showfliers=False,\n",
    "            labels=labels)\n",
    "\n",
    "ax.set_ylabel('delay (ms)', fontsize=20)\n",
    "ax.set_xlabel('distance (m)', fontsize=20)\n",
    "\n",
    "for tick in ax.xaxis.get_major_ticks():\n",
    "    tick.label.set_fontsize(15)\n",
    "\n",
    "for tick in ax.yaxis.get_major_ticks():\n",
    "    tick.label.set_fontsize(15)\n",
    "\n",
    "# fill with colors\n",
    "# colors = ['lightgreen', 'lightblue', 'lightred']\n",
    "# for bplot in (bplot1, ):\n",
    "#     for patch, color in zip(bplot['boxes'], colors):\n",
    "#         patch.set_facecolor(color)\n",
    " \n",
    "fig.set_size_inches(7, 5)\n",
    "\n",
    "plt.savefig('plots/figure_eval_3.png', dpi=300, bbox_inches=None, pad_inches=1,)\n",
    "plt.show()\n"
   ]
  },
  {
   "cell_type": "code",
   "execution_count": null,
   "metadata": {},
   "outputs": [],
   "source": []
  },
  {
   "cell_type": "markdown",
   "metadata": {},
   "source": [
    "# Delay vs Distance"
   ]
  },
  {
   "cell_type": "code",
   "execution_count": 200,
   "metadata": {},
   "outputs": [],
   "source": [
    "result_elsa_2h_15m = pd.read_excel('result/result_elsa_2h_15m.xlsx', index_col=0)  "
   ]
  },
  {
   "cell_type": "code",
   "execution_count": 201,
   "metadata": {},
   "outputs": [
    {
     "data": {
      "text/plain": [
       "(84, 5)"
      ]
     },
     "execution_count": 201,
     "metadata": {},
     "output_type": "execute_result"
    }
   ],
   "source": [
    "result_elsa_2h_15m.shape"
   ]
  },
  {
   "cell_type": "code",
   "execution_count": 202,
   "metadata": {},
   "outputs": [],
   "source": [
    "result_miranda_2h_15m = pd.read_excel('result/result_miranda_2h_15m.xlsx', index_col=0)  "
   ]
  },
  {
   "cell_type": "code",
   "execution_count": 203,
   "metadata": {},
   "outputs": [
    {
     "data": {
      "text/plain": [
       "(84, 5)"
      ]
     },
     "execution_count": 203,
     "metadata": {},
     "output_type": "execute_result"
    }
   ],
   "source": [
    "result_miranda_2h_15m.shape"
   ]
  },
  {
   "cell_type": "code",
   "execution_count": 204,
   "metadata": {},
   "outputs": [],
   "source": [
    "df_2h_15m = pd.merge(result_miranda_2h_15m, result_elsa_2h_15m, on=\"uuid\")"
   ]
  },
  {
   "cell_type": "code",
   "execution_count": 205,
   "metadata": {},
   "outputs": [
    {
     "data": {
      "text/plain": [
       "(84, 9)"
      ]
     },
     "execution_count": 205,
     "metadata": {},
     "output_type": "execute_result"
    }
   ],
   "source": [
    "df_2h_15m.shape"
   ]
  },
  {
   "cell_type": "code",
   "execution_count": 206,
   "metadata": {},
   "outputs": [
    {
     "data": {
      "text/html": [
       "<div>\n",
       "<style scoped>\n",
       "    .dataframe tbody tr th:only-of-type {\n",
       "        vertical-align: middle;\n",
       "    }\n",
       "\n",
       "    .dataframe tbody tr th {\n",
       "        vertical-align: top;\n",
       "    }\n",
       "\n",
       "    .dataframe thead th {\n",
       "        text-align: right;\n",
       "    }\n",
       "</style>\n",
       "<table border=\"1\" class=\"dataframe\">\n",
       "  <thead>\n",
       "    <tr style=\"text-align: right;\">\n",
       "      <th></th>\n",
       "      <th>uuid</th>\n",
       "      <th>connectionType_x</th>\n",
       "      <th>eventId_x</th>\n",
       "      <th>logType_x</th>\n",
       "      <th>timeStamp_x</th>\n",
       "      <th>connectionType_y</th>\n",
       "      <th>eventId_y</th>\n",
       "      <th>logType_y</th>\n",
       "      <th>timeStamp_y</th>\n",
       "    </tr>\n",
       "  </thead>\n",
       "  <tbody>\n",
       "    <tr>\n",
       "      <th>0</th>\n",
       "      <td>a6df016a-ca8f-44fd-8063-e50358afa347</td>\n",
       "      <td>0</td>\n",
       "      <td>0</td>\n",
       "      <td>2</td>\n",
       "      <td>1643246851494</td>\n",
       "      <td>0</td>\n",
       "      <td>2</td>\n",
       "      <td>2</td>\n",
       "      <td>1643246850901</td>\n",
       "    </tr>\n",
       "    <tr>\n",
       "      <th>1</th>\n",
       "      <td>da13881e-055a-4a18-8949-e60d85c3dee4</td>\n",
       "      <td>0</td>\n",
       "      <td>0</td>\n",
       "      <td>2</td>\n",
       "      <td>1643246856504</td>\n",
       "      <td>0</td>\n",
       "      <td>2</td>\n",
       "      <td>2</td>\n",
       "      <td>1643246855321</td>\n",
       "    </tr>\n",
       "    <tr>\n",
       "      <th>2</th>\n",
       "      <td>60320fb9-1f6a-4ff7-8406-7e1c8f75f227</td>\n",
       "      <td>0</td>\n",
       "      <td>0</td>\n",
       "      <td>2</td>\n",
       "      <td>1643246861511</td>\n",
       "      <td>0</td>\n",
       "      <td>2</td>\n",
       "      <td>2</td>\n",
       "      <td>1643246860772</td>\n",
       "    </tr>\n",
       "    <tr>\n",
       "      <th>3</th>\n",
       "      <td>3031f05e-c488-4a98-b5f2-6a326d3f5611</td>\n",
       "      <td>0</td>\n",
       "      <td>0</td>\n",
       "      <td>2</td>\n",
       "      <td>1643246866517</td>\n",
       "      <td>0</td>\n",
       "      <td>2</td>\n",
       "      <td>2</td>\n",
       "      <td>1643246865566</td>\n",
       "    </tr>\n",
       "    <tr>\n",
       "      <th>4</th>\n",
       "      <td>608165c6-7150-44ed-8502-6f0dc3616c0e</td>\n",
       "      <td>0</td>\n",
       "      <td>0</td>\n",
       "      <td>2</td>\n",
       "      <td>1643246871523</td>\n",
       "      <td>0</td>\n",
       "      <td>2</td>\n",
       "      <td>2</td>\n",
       "      <td>1643246870384</td>\n",
       "    </tr>\n",
       "    <tr>\n",
       "      <th>5</th>\n",
       "      <td>47c286a9-b7e8-44e3-aa6c-e9dcee19d53e</td>\n",
       "      <td>0</td>\n",
       "      <td>0</td>\n",
       "      <td>2</td>\n",
       "      <td>1643246876529</td>\n",
       "      <td>0</td>\n",
       "      <td>2</td>\n",
       "      <td>2</td>\n",
       "      <td>1643246875621</td>\n",
       "    </tr>\n",
       "    <tr>\n",
       "      <th>6</th>\n",
       "      <td>859ae5bf-8717-4f3f-a323-17607c2bce1a</td>\n",
       "      <td>0</td>\n",
       "      <td>0</td>\n",
       "      <td>2</td>\n",
       "      <td>1643246881537</td>\n",
       "      <td>0</td>\n",
       "      <td>2</td>\n",
       "      <td>2</td>\n",
       "      <td>1643246880613</td>\n",
       "    </tr>\n",
       "    <tr>\n",
       "      <th>7</th>\n",
       "      <td>d1103064-d43c-4302-9379-69df38a15034</td>\n",
       "      <td>0</td>\n",
       "      <td>0</td>\n",
       "      <td>2</td>\n",
       "      <td>1643246886543</td>\n",
       "      <td>0</td>\n",
       "      <td>2</td>\n",
       "      <td>2</td>\n",
       "      <td>1643246885548</td>\n",
       "    </tr>\n",
       "    <tr>\n",
       "      <th>8</th>\n",
       "      <td>2b83a0fb-5984-4ab0-b250-6294828061d9</td>\n",
       "      <td>0</td>\n",
       "      <td>0</td>\n",
       "      <td>2</td>\n",
       "      <td>1643246891554</td>\n",
       "      <td>0</td>\n",
       "      <td>2</td>\n",
       "      <td>2</td>\n",
       "      <td>1643246890544</td>\n",
       "    </tr>\n",
       "    <tr>\n",
       "      <th>9</th>\n",
       "      <td>213834a4-e405-464d-ac9b-097d2776cdfb</td>\n",
       "      <td>0</td>\n",
       "      <td>0</td>\n",
       "      <td>2</td>\n",
       "      <td>1643246896561</td>\n",
       "      <td>0</td>\n",
       "      <td>2</td>\n",
       "      <td>2</td>\n",
       "      <td>1643246895916</td>\n",
       "    </tr>\n",
       "  </tbody>\n",
       "</table>\n",
       "</div>"
      ],
      "text/plain": [
       "                                   uuid  connectionType_x  eventId_x  \\\n",
       "0  a6df016a-ca8f-44fd-8063-e50358afa347                 0          0   \n",
       "1  da13881e-055a-4a18-8949-e60d85c3dee4                 0          0   \n",
       "2  60320fb9-1f6a-4ff7-8406-7e1c8f75f227                 0          0   \n",
       "3  3031f05e-c488-4a98-b5f2-6a326d3f5611                 0          0   \n",
       "4  608165c6-7150-44ed-8502-6f0dc3616c0e                 0          0   \n",
       "5  47c286a9-b7e8-44e3-aa6c-e9dcee19d53e                 0          0   \n",
       "6  859ae5bf-8717-4f3f-a323-17607c2bce1a                 0          0   \n",
       "7  d1103064-d43c-4302-9379-69df38a15034                 0          0   \n",
       "8  2b83a0fb-5984-4ab0-b250-6294828061d9                 0          0   \n",
       "9  213834a4-e405-464d-ac9b-097d2776cdfb                 0          0   \n",
       "\n",
       "   logType_x    timeStamp_x  connectionType_y  eventId_y  logType_y  \\\n",
       "0          2  1643246851494                 0          2          2   \n",
       "1          2  1643246856504                 0          2          2   \n",
       "2          2  1643246861511                 0          2          2   \n",
       "3          2  1643246866517                 0          2          2   \n",
       "4          2  1643246871523                 0          2          2   \n",
       "5          2  1643246876529                 0          2          2   \n",
       "6          2  1643246881537                 0          2          2   \n",
       "7          2  1643246886543                 0          2          2   \n",
       "8          2  1643246891554                 0          2          2   \n",
       "9          2  1643246896561                 0          2          2   \n",
       "\n",
       "     timeStamp_y  \n",
       "0  1643246850901  \n",
       "1  1643246855321  \n",
       "2  1643246860772  \n",
       "3  1643246865566  \n",
       "4  1643246870384  \n",
       "5  1643246875621  \n",
       "6  1643246880613  \n",
       "7  1643246885548  \n",
       "8  1643246890544  \n",
       "9  1643246895916  "
      ]
     },
     "execution_count": 206,
     "metadata": {},
     "output_type": "execute_result"
    }
   ],
   "source": [
    "df_2h_15m.head(10)"
   ]
  },
  {
   "cell_type": "code",
   "execution_count": 207,
   "metadata": {},
   "outputs": [],
   "source": [
    "df_2h_15m['timeStamp_x'] = df_2h_15m['timeStamp_x'] - 1030"
   ]
  },
  {
   "cell_type": "code",
   "execution_count": 208,
   "metadata": {},
   "outputs": [],
   "source": [
    "df_2h_15m['timeStamp_y'] = df_2h_15m['timeStamp_y'] + 298"
   ]
  },
  {
   "cell_type": "code",
   "execution_count": 209,
   "metadata": {},
   "outputs": [],
   "source": [
    "df_2h_15m['delay'] = df_2h_15m['timeStamp_y'] - df_2h_15m['timeStamp_x']"
   ]
  },
  {
   "cell_type": "code",
   "execution_count": null,
   "metadata": {},
   "outputs": [],
   "source": []
  },
  {
   "cell_type": "code",
   "execution_count": 210,
   "metadata": {},
   "outputs": [
    {
     "data": {
      "text/plain": [
       "398.5"
      ]
     },
     "execution_count": 210,
     "metadata": {},
     "output_type": "execute_result"
    }
   ],
   "source": [
    "df_2h_15m['delay'][:36].median()"
   ]
  },
  {
   "cell_type": "code",
   "execution_count": 211,
   "metadata": {},
   "outputs": [
    {
     "data": {
      "text/plain": [
       "0    735\n",
       "1    145\n",
       "2    589\n",
       "3    377\n",
       "4    189\n",
       "5    420\n",
       "6    404\n",
       "7    333\n",
       "8    318\n",
       "9    683\n",
       "Name: delay, dtype: int64"
      ]
     },
     "execution_count": 211,
     "metadata": {},
     "output_type": "execute_result"
    }
   ],
   "source": [
    "df_2h_15m['delay'][:36].head(10)"
   ]
  },
  {
   "cell_type": "code",
   "execution_count": null,
   "metadata": {},
   "outputs": [],
   "source": []
  },
  {
   "cell_type": "markdown",
   "metadata": {},
   "source": [
    "## 2 hop indoor"
   ]
  },
  {
   "cell_type": "code",
   "execution_count": 154,
   "metadata": {},
   "outputs": [],
   "source": [
    "result_elsa_2h_10m_in = pd.read_excel('result/result_elsa_2h_10m_in.xlsx', index_col=0)  "
   ]
  },
  {
   "cell_type": "code",
   "execution_count": 155,
   "metadata": {},
   "outputs": [
    {
     "data": {
      "text/plain": [
       "(97, 5)"
      ]
     },
     "execution_count": 155,
     "metadata": {},
     "output_type": "execute_result"
    }
   ],
   "source": [
    "result_elsa_2h_10m_in.shape"
   ]
  },
  {
   "cell_type": "code",
   "execution_count": 156,
   "metadata": {},
   "outputs": [],
   "source": [
    "result_miranda_2h_10m_in = pd.read_excel('result/result_miranda_2h_10m_in.xlsx', index_col=0)  "
   ]
  },
  {
   "cell_type": "code",
   "execution_count": 157,
   "metadata": {},
   "outputs": [
    {
     "data": {
      "text/plain": [
       "(97, 5)"
      ]
     },
     "execution_count": 157,
     "metadata": {},
     "output_type": "execute_result"
    }
   ],
   "source": [
    "result_miranda_2h_10m_in.shape"
   ]
  },
  {
   "cell_type": "code",
   "execution_count": 158,
   "metadata": {},
   "outputs": [],
   "source": [
    "df_2h_10m_in = pd.merge(result_miranda_2h_10m_in, result_elsa_2h_10m_in, on=\"uuid\")"
   ]
  },
  {
   "cell_type": "code",
   "execution_count": 159,
   "metadata": {},
   "outputs": [
    {
     "data": {
      "text/plain": [
       "(97, 9)"
      ]
     },
     "execution_count": 159,
     "metadata": {},
     "output_type": "execute_result"
    }
   ],
   "source": [
    "df_2h_10m_in.shape"
   ]
  },
  {
   "cell_type": "code",
   "execution_count": 160,
   "metadata": {},
   "outputs": [
    {
     "data": {
      "text/html": [
       "<div>\n",
       "<style scoped>\n",
       "    .dataframe tbody tr th:only-of-type {\n",
       "        vertical-align: middle;\n",
       "    }\n",
       "\n",
       "    .dataframe tbody tr th {\n",
       "        vertical-align: top;\n",
       "    }\n",
       "\n",
       "    .dataframe thead th {\n",
       "        text-align: right;\n",
       "    }\n",
       "</style>\n",
       "<table border=\"1\" class=\"dataframe\">\n",
       "  <thead>\n",
       "    <tr style=\"text-align: right;\">\n",
       "      <th></th>\n",
       "      <th>uuid</th>\n",
       "      <th>connectionType_x</th>\n",
       "      <th>eventId_x</th>\n",
       "      <th>logType_x</th>\n",
       "      <th>timeStamp_x</th>\n",
       "      <th>connectionType_y</th>\n",
       "      <th>eventId_y</th>\n",
       "      <th>logType_y</th>\n",
       "      <th>timeStamp_y</th>\n",
       "    </tr>\n",
       "  </thead>\n",
       "  <tbody>\n",
       "    <tr>\n",
       "      <th>0</th>\n",
       "      <td>033e5862-b0d1-40e4-8209-4dee7df83518</td>\n",
       "      <td>0</td>\n",
       "      <td>0</td>\n",
       "      <td>2</td>\n",
       "      <td>1643215223285</td>\n",
       "      <td>0</td>\n",
       "      <td>2</td>\n",
       "      <td>2</td>\n",
       "      <td>1643215224576</td>\n",
       "    </tr>\n",
       "    <tr>\n",
       "      <th>1</th>\n",
       "      <td>2d957850-db17-4769-ae26-977ce71465bc</td>\n",
       "      <td>0</td>\n",
       "      <td>0</td>\n",
       "      <td>2</td>\n",
       "      <td>1643215228293</td>\n",
       "      <td>0</td>\n",
       "      <td>2</td>\n",
       "      <td>2</td>\n",
       "      <td>1643215229960</td>\n",
       "    </tr>\n",
       "    <tr>\n",
       "      <th>2</th>\n",
       "      <td>be67aa0e-0f8a-45ea-a640-af77f7811a89</td>\n",
       "      <td>0</td>\n",
       "      <td>0</td>\n",
       "      <td>2</td>\n",
       "      <td>1643215233299</td>\n",
       "      <td>0</td>\n",
       "      <td>2</td>\n",
       "      <td>2</td>\n",
       "      <td>1643215234024</td>\n",
       "    </tr>\n",
       "    <tr>\n",
       "      <th>3</th>\n",
       "      <td>e5d65bc1-6a3b-42d2-b7bf-a805ebc716c4</td>\n",
       "      <td>0</td>\n",
       "      <td>0</td>\n",
       "      <td>2</td>\n",
       "      <td>1643215238306</td>\n",
       "      <td>0</td>\n",
       "      <td>2</td>\n",
       "      <td>2</td>\n",
       "      <td>1643215239919</td>\n",
       "    </tr>\n",
       "    <tr>\n",
       "      <th>4</th>\n",
       "      <td>1d7564cb-72cc-415b-91f0-f58047050efa</td>\n",
       "      <td>0</td>\n",
       "      <td>0</td>\n",
       "      <td>2</td>\n",
       "      <td>1643215243315</td>\n",
       "      <td>0</td>\n",
       "      <td>2</td>\n",
       "      <td>2</td>\n",
       "      <td>1643215243952</td>\n",
       "    </tr>\n",
       "    <tr>\n",
       "      <th>5</th>\n",
       "      <td>c89153b0-e4c5-4c04-a3f8-415a0dd9472a</td>\n",
       "      <td>0</td>\n",
       "      <td>0</td>\n",
       "      <td>2</td>\n",
       "      <td>1643215248322</td>\n",
       "      <td>0</td>\n",
       "      <td>2</td>\n",
       "      <td>2</td>\n",
       "      <td>1643215250314</td>\n",
       "    </tr>\n",
       "    <tr>\n",
       "      <th>6</th>\n",
       "      <td>7745acab-58cb-49bd-849e-7c32006d3084</td>\n",
       "      <td>0</td>\n",
       "      <td>0</td>\n",
       "      <td>2</td>\n",
       "      <td>1643215253328</td>\n",
       "      <td>0</td>\n",
       "      <td>2</td>\n",
       "      <td>2</td>\n",
       "      <td>1643215254229</td>\n",
       "    </tr>\n",
       "    <tr>\n",
       "      <th>7</th>\n",
       "      <td>727c4918-be64-4e26-a281-dc3bb1280005</td>\n",
       "      <td>0</td>\n",
       "      <td>0</td>\n",
       "      <td>2</td>\n",
       "      <td>1643215258339</td>\n",
       "      <td>0</td>\n",
       "      <td>2</td>\n",
       "      <td>2</td>\n",
       "      <td>1643215259720</td>\n",
       "    </tr>\n",
       "    <tr>\n",
       "      <th>8</th>\n",
       "      <td>166af58b-3527-4ece-8496-b981c0dc84db</td>\n",
       "      <td>0</td>\n",
       "      <td>0</td>\n",
       "      <td>2</td>\n",
       "      <td>1643215263347</td>\n",
       "      <td>0</td>\n",
       "      <td>2</td>\n",
       "      <td>2</td>\n",
       "      <td>1643215263925</td>\n",
       "    </tr>\n",
       "    <tr>\n",
       "      <th>9</th>\n",
       "      <td>eda8dfed-c032-416d-ba46-1a0763ea8510</td>\n",
       "      <td>0</td>\n",
       "      <td>0</td>\n",
       "      <td>2</td>\n",
       "      <td>1643215268358</td>\n",
       "      <td>0</td>\n",
       "      <td>2</td>\n",
       "      <td>2</td>\n",
       "      <td>1643215271104</td>\n",
       "    </tr>\n",
       "  </tbody>\n",
       "</table>\n",
       "</div>"
      ],
      "text/plain": [
       "                                   uuid  connectionType_x  eventId_x  \\\n",
       "0  033e5862-b0d1-40e4-8209-4dee7df83518                 0          0   \n",
       "1  2d957850-db17-4769-ae26-977ce71465bc                 0          0   \n",
       "2  be67aa0e-0f8a-45ea-a640-af77f7811a89                 0          0   \n",
       "3  e5d65bc1-6a3b-42d2-b7bf-a805ebc716c4                 0          0   \n",
       "4  1d7564cb-72cc-415b-91f0-f58047050efa                 0          0   \n",
       "5  c89153b0-e4c5-4c04-a3f8-415a0dd9472a                 0          0   \n",
       "6  7745acab-58cb-49bd-849e-7c32006d3084                 0          0   \n",
       "7  727c4918-be64-4e26-a281-dc3bb1280005                 0          0   \n",
       "8  166af58b-3527-4ece-8496-b981c0dc84db                 0          0   \n",
       "9  eda8dfed-c032-416d-ba46-1a0763ea8510                 0          0   \n",
       "\n",
       "   logType_x    timeStamp_x  connectionType_y  eventId_y  logType_y  \\\n",
       "0          2  1643215223285                 0          2          2   \n",
       "1          2  1643215228293                 0          2          2   \n",
       "2          2  1643215233299                 0          2          2   \n",
       "3          2  1643215238306                 0          2          2   \n",
       "4          2  1643215243315                 0          2          2   \n",
       "5          2  1643215248322                 0          2          2   \n",
       "6          2  1643215253328                 0          2          2   \n",
       "7          2  1643215258339                 0          2          2   \n",
       "8          2  1643215263347                 0          2          2   \n",
       "9          2  1643215268358                 0          2          2   \n",
       "\n",
       "     timeStamp_y  \n",
       "0  1643215224576  \n",
       "1  1643215229960  \n",
       "2  1643215234024  \n",
       "3  1643215239919  \n",
       "4  1643215243952  \n",
       "5  1643215250314  \n",
       "6  1643215254229  \n",
       "7  1643215259720  \n",
       "8  1643215263925  \n",
       "9  1643215271104  "
      ]
     },
     "execution_count": 160,
     "metadata": {},
     "output_type": "execute_result"
    }
   ],
   "source": [
    "df_2h_10m_in.head(10)"
   ]
  },
  {
   "cell_type": "code",
   "execution_count": 161,
   "metadata": {},
   "outputs": [],
   "source": [
    "df_2h_10m_in['timeStamp_x'] = df_2h_10m_in['timeStamp_x'] + 452"
   ]
  },
  {
   "cell_type": "code",
   "execution_count": 162,
   "metadata": {},
   "outputs": [],
   "source": [
    "df_2h_10m_in['timeStamp_y'] = df_2h_10m_in['timeStamp_y'] + 348"
   ]
  },
  {
   "cell_type": "code",
   "execution_count": 163,
   "metadata": {},
   "outputs": [],
   "source": [
    "df_2h_10m_in['delay'] = df_2h_10m_in['timeStamp_y'] - df_2h_10m_in['timeStamp_x']"
   ]
  },
  {
   "cell_type": "code",
   "execution_count": 164,
   "metadata": {},
   "outputs": [
    {
     "data": {
      "text/plain": [
       "908.0"
      ]
     },
     "execution_count": 164,
     "metadata": {},
     "output_type": "execute_result"
    }
   ],
   "source": [
    "df_2h_10m_in['delay'].median()"
   ]
  },
  {
   "cell_type": "code",
   "execution_count": 165,
   "metadata": {},
   "outputs": [
    {
     "data": {
      "text/plain": [
       "0     1187\n",
       "1     1563\n",
       "2      621\n",
       "3     1509\n",
       "4      533\n",
       "      ... \n",
       "92     409\n",
       "93    1156\n",
       "94     410\n",
       "95    1613\n",
       "96     436\n",
       "Name: delay, Length: 97, dtype: int64"
      ]
     },
     "execution_count": 165,
     "metadata": {},
     "output_type": "execute_result"
    }
   ],
   "source": [
    "df_2h_10m_in['delay']"
   ]
  },
  {
   "cell_type": "code",
   "execution_count": 226,
   "metadata": {},
   "outputs": [
    {
     "data": {
      "image/png": "[encoded data removed]",
      "text/plain": [
       "<Figure size 504x360 with 1 Axes>"
      ]
     },
     "metadata": {
      "needs_background": "light"
     },
     "output_type": "display_data"
    }
   ],
   "source": [
    "columns = [df_1h_15m['delay'], df_2h_15m['delay'][:36], ]\n",
    "labels = ['1','2']\n",
    "\n",
    "fig, ax = plt.subplots()\n",
    "bplot2 = ax.boxplot(columns, \n",
    "            vert=True,  # vertical box alignment\n",
    "            patch_artist=False,  # fill with color\n",
    "            showfliers=False,\n",
    "            labels=labels,)\n",
    "\n",
    "ax.set_ylabel('delay (ms)', fontsize=20)\n",
    "ax.set_xlabel('hop count', fontsize=20)\n",
    "\n",
    "for tick in ax.xaxis.get_major_ticks():\n",
    "    tick.label.set_fontsize(15)\n",
    "\n",
    "for tick in ax.yaxis.get_major_ticks():\n",
    "    tick.label.set_fontsize(15)\n",
    "\n",
    "# # fill with colors\n",
    "# colors = ['lightgreen', 'lightblue', 'lightred']\n",
    "# for bplot in (bplot2, ):\n",
    "#     for patch, color in zip(bplot['boxes'], colors):\n",
    "#         patch.set_facecolor(color)\n",
    " \n",
    "fig.set_size_inches(7, 5)\n",
    "\n",
    "plt.savefig('plots/figure_eval_2.png', dpi=300, bbox_inches=None, pad_inches=.2,)\n",
    "plt.show()"
   ]
  },
  {
   "cell_type": "code",
   "execution_count": null,
   "metadata": {},
   "outputs": [],
   "source": []
  },
  {
   "cell_type": "code",
   "execution_count": null,
   "metadata": {},
   "outputs": [],
   "source": []
  },
  {
   "cell_type": "code",
   "execution_count": null,
   "metadata": {},
   "outputs": [],
   "source": []
  },
  {
   "cell_type": "code",
   "execution_count": null,
   "metadata": {},
   "outputs": [],
   "source": []
  },
  {
   "cell_type": "code",
   "execution_count": null,
   "metadata": {},
   "outputs": [],
   "source": []
  },
  {
   "cell_type": "code",
   "execution_count": null,
   "metadata": {},
   "outputs": [],
   "source": []
  },
  {
   "cell_type": "code",
   "execution_count": null,
   "metadata": {},
   "outputs": [],
   "source": []
  },
  {
   "cell_type": "code",
   "execution_count": null,
   "metadata": {},
   "outputs": [],
   "source": []
  },
  {
   "cell_type": "code",
   "execution_count": null,
   "metadata": {},
   "outputs": [],
   "source": []
  },
  {
   "cell_type": "code",
   "execution_count": null,
   "metadata": {},
   "outputs": [],
   "source": []
  },
  {
   "cell_type": "code",
   "execution_count": null,
   "metadata": {},
   "outputs": [],
   "source": []
  },
  {
   "cell_type": "code",
   "execution_count": null,
   "metadata": {},
   "outputs": [],
   "source": []
  },
  {
   "cell_type": "code",
   "execution_count": null,
   "metadata": {},
   "outputs": [],
   "source": []
  },
  {
   "cell_type": "code",
   "execution_count": null,
   "metadata": {},
   "outputs": [],
   "source": []
  },
  {
   "cell_type": "code",
   "execution_count": null,
   "metadata": {},
   "outputs": [],
   "source": []
  },
  {
   "cell_type": "code",
   "execution_count": null,
   "metadata": {},
   "outputs": [],
   "source": []
  },
  {
   "cell_type": "code",
   "execution_count": null,
   "metadata": {},
   "outputs": [],
   "source": []
  },
  {
   "cell_type": "code",
   "execution_count": null,
   "metadata": {},
   "outputs": [],
   "source": []
  },
  {
   "cell_type": "code",
   "execution_count": null,
   "metadata": {},
   "outputs": [],
   "source": []
  },
  {
   "cell_type": "code",
   "execution_count": null,
   "metadata": {},
   "outputs": [],
   "source": []
  },
  {
   "cell_type": "code",
   "execution_count": null,
   "metadata": {},
   "outputs": [],
   "source": []
  },
  {
   "cell_type": "code",
   "execution_count": null,
   "metadata": {},
   "outputs": [],
   "source": []
  },
  {
   "cell_type": "code",
   "execution_count": null,
   "metadata": {},
   "outputs": [],
   "source": []
  },
  {
   "cell_type": "code",
   "execution_count": null,
   "metadata": {},
   "outputs": [],
   "source": []
  }
 ],
 "metadata": {
  "kernelspec": {
   "display_name": "Python 3",
   "language": "python",
   "name": "python3"
  },
  "language_info": {
   "codemirror_mode": {
    "name": "ipython",
    "version": 3
   },
   "file_extension": ".py",
   "mimetype": "text/x-python",
   "name": "python",
   "nbconvert_exporter": "python",
   "pygments_lexer": "ipython3",
   "version": "3.8.3"
  }
 },
 "nbformat": 4,
 "nbformat_minor": 4
}
