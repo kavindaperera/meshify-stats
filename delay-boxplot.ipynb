{
 "cells": [
  {
   "cell_type": "code",
   "execution_count": 1,
   "metadata": {},
   "outputs": [],
   "source": [
    "import pandas as pd\n",
    "import numpy as np\n",
    "from matplotlib import pyplot as plt\n",
    "from matplotlib.ticker import FormatStrFormatter"
   ]
  },
  {
   "cell_type": "code",
   "execution_count": 2,
   "metadata": {},
   "outputs": [],
   "source": [
    "connection_delay_1 = [15.336, 20.064, 17.467, 19.747, 20.762, 14.676, 23.109, 15.079, 21.228, 21.365]\n",
    "connection_delay_2 = [0]\n",
    "connection_delay_3 = [0]"
   ]
  },
  {
   "cell_type": "code",
   "execution_count": 3,
   "metadata": {},
   "outputs": [
    {
     "data": {
      "image/png": "[encoded data removed]",
      "text/plain": [
       "<Figure size 432x288 with 1 Axes>"
      ]
     },
     "metadata": {
      "needs_background": "light"
     },
     "output_type": "display_data"
    }
   ],
   "source": [
    "columns = [connection_delay_1, connection_delay_2, connection_delay_3]\n",
    "\n",
    "fig, ax = plt.subplots()\n",
    "ax.boxplot(columns)\n",
    "plt.xticks([1, 2, 3], [\"Bluetooth 5 - Bluetooth 5\", \"Bluetooth 5 - Bluetooth 4\", \"Bluetooth 4 - Bluetooth 4\"], rotation=10)\n",
    "ax.set_ylabel('time(seconds)')\n",
    "ax.set_xlabel('Bluetooth Versions')\n",
    "plt.show()"
   ]
  },
  {
   "cell_type": "markdown",
   "metadata": {},
   "source": [
    "# Single-Hop Delay vs Distance"
   ]
  },
  {
   "cell_type": "markdown",
   "metadata": {},
   "source": [
    "## 1 meter delay"
   ]
  },
  {
   "cell_type": "code",
   "execution_count": 4,
   "metadata": {},
   "outputs": [],
   "source": [
    "result_elsa_1h_1m = pd.read_excel('result/result_elsa_1h_1m_2.xlsx', index_col=0)  "
   ]
  },
  {
   "cell_type": "code",
   "execution_count": 5,
   "metadata": {},
   "outputs": [],
   "source": [
    "result_miranda_1h_1m = pd.read_excel('result/result_miranda_1h_1m_2.xlsx', index_col=0)  "
   ]
  },
  {
   "cell_type": "code",
   "execution_count": 6,
   "metadata": {},
   "outputs": [],
   "source": [
    "df_1h_1m = pd.merge(result_miranda_1h_1m, result_elsa_1h_1m, on=\"uuid\")"
   ]
  },
  {
   "cell_type": "code",
   "execution_count": 7,
   "metadata": {},
   "outputs": [
    {
     "data": {
      "text/html": [
       "<div>\n",
       "<style scoped>\n",
       "    .dataframe tbody tr th:only-of-type {\n",
       "        vertical-align: middle;\n",
       "    }\n",
       "\n",
       "    .dataframe tbody tr th {\n",
       "        vertical-align: top;\n",
       "    }\n",
       "\n",
       "    .dataframe thead th {\n",
       "        text-align: right;\n",
       "    }\n",
       "</style>\n",
       "<table border=\"1\" class=\"dataframe\">\n",
       "  <thead>\n",
       "    <tr style=\"text-align: right;\">\n",
       "      <th></th>\n",
       "      <th>connectionType_x</th>\n",
       "      <th>eventId_x</th>\n",
       "      <th>logType_x</th>\n",
       "      <th>timeStamp_x</th>\n",
       "      <th>connectionType_y</th>\n",
       "      <th>eventId_y</th>\n",
       "      <th>logType_y</th>\n",
       "      <th>timeStamp_y</th>\n",
       "    </tr>\n",
       "    <tr>\n",
       "      <th>uuid</th>\n",
       "      <th></th>\n",
       "      <th></th>\n",
       "      <th></th>\n",
       "      <th></th>\n",
       "      <th></th>\n",
       "      <th></th>\n",
       "      <th></th>\n",
       "      <th></th>\n",
       "    </tr>\n",
       "  </thead>\n",
       "  <tbody>\n",
       "    <tr>\n",
       "      <th>3d835cc9-a156-400a-bc04-a810347b1cda</th>\n",
       "      <td>0</td>\n",
       "      <td>0</td>\n",
       "      <td>0</td>\n",
       "      <td>1643093779254</td>\n",
       "      <td>0</td>\n",
       "      <td>1</td>\n",
       "      <td>0</td>\n",
       "      <td>1643093778705</td>\n",
       "    </tr>\n",
       "    <tr>\n",
       "      <th>d00d4b84-bfc2-4b44-9160-f7e064193769</th>\n",
       "      <td>0</td>\n",
       "      <td>0</td>\n",
       "      <td>0</td>\n",
       "      <td>1643093784287</td>\n",
       "      <td>0</td>\n",
       "      <td>1</td>\n",
       "      <td>0</td>\n",
       "      <td>1643093783499</td>\n",
       "    </tr>\n",
       "    <tr>\n",
       "      <th>7a75acd5-763b-4242-b128-c82ed863a9f6</th>\n",
       "      <td>0</td>\n",
       "      <td>0</td>\n",
       "      <td>0</td>\n",
       "      <td>1643093789323</td>\n",
       "      <td>0</td>\n",
       "      <td>1</td>\n",
       "      <td>0</td>\n",
       "      <td>1643093788586</td>\n",
       "    </tr>\n",
       "    <tr>\n",
       "      <th>d3d5fcd8-f77a-4ffa-98c0-c20ee7241602</th>\n",
       "      <td>0</td>\n",
       "      <td>0</td>\n",
       "      <td>0</td>\n",
       "      <td>1643093794362</td>\n",
       "      <td>0</td>\n",
       "      <td>1</td>\n",
       "      <td>0</td>\n",
       "      <td>1643093793611</td>\n",
       "    </tr>\n",
       "    <tr>\n",
       "      <th>66730337-5945-40e7-9898-f014de133653</th>\n",
       "      <td>0</td>\n",
       "      <td>0</td>\n",
       "      <td>0</td>\n",
       "      <td>1643093799400</td>\n",
       "      <td>0</td>\n",
       "      <td>1</td>\n",
       "      <td>0</td>\n",
       "      <td>1643093798668</td>\n",
       "    </tr>\n",
       "  </tbody>\n",
       "</table>\n",
       "</div>"
      ],
      "text/plain": [
       "                                      connectionType_x  eventId_x  logType_x  \\\n",
       "uuid                                                                           \n",
       "3d835cc9-a156-400a-bc04-a810347b1cda                 0          0          0   \n",
       "d00d4b84-bfc2-4b44-9160-f7e064193769                 0          0          0   \n",
       "7a75acd5-763b-4242-b128-c82ed863a9f6                 0          0          0   \n",
       "d3d5fcd8-f77a-4ffa-98c0-c20ee7241602                 0          0          0   \n",
       "66730337-5945-40e7-9898-f014de133653                 0          0          0   \n",
       "\n",
       "                                        timeStamp_x  connectionType_y  \\\n",
       "uuid                                                                    \n",
       "3d835cc9-a156-400a-bc04-a810347b1cda  1643093779254                 0   \n",
       "d00d4b84-bfc2-4b44-9160-f7e064193769  1643093784287                 0   \n",
       "7a75acd5-763b-4242-b128-c82ed863a9f6  1643093789323                 0   \n",
       "d3d5fcd8-f77a-4ffa-98c0-c20ee7241602  1643093794362                 0   \n",
       "66730337-5945-40e7-9898-f014de133653  1643093799400                 0   \n",
       "\n",
       "                                      eventId_y  logType_y    timeStamp_y  \n",
       "uuid                                                                       \n",
       "3d835cc9-a156-400a-bc04-a810347b1cda          1          0  1643093778705  \n",
       "d00d4b84-bfc2-4b44-9160-f7e064193769          1          0  1643093783499  \n",
       "7a75acd5-763b-4242-b128-c82ed863a9f6          1          0  1643093788586  \n",
       "d3d5fcd8-f77a-4ffa-98c0-c20ee7241602          1          0  1643093793611  \n",
       "66730337-5945-40e7-9898-f014de133653          1          0  1643093798668  "
      ]
     },
     "execution_count": 7,
     "metadata": {},
     "output_type": "execute_result"
    }
   ],
   "source": [
    "df_1h_1m.head()"
   ]
  },
  {
   "cell_type": "code",
   "execution_count": 8,
   "metadata": {},
   "outputs": [
    {
     "data": {
      "text/plain": [
       "(109, 8)"
      ]
     },
     "execution_count": 8,
     "metadata": {},
     "output_type": "execute_result"
    }
   ],
   "source": [
    "df_1h_1m.shape"
   ]
  },
  {
   "cell_type": "code",
   "execution_count": 9,
   "metadata": {},
   "outputs": [],
   "source": [
    "df_1h_1m['timeStamp_x'] = df_1h_1m['timeStamp_x'] + 264"
   ]
  },
  {
   "cell_type": "code",
   "execution_count": 10,
   "metadata": {},
   "outputs": [],
   "source": [
    "df_1h_1m['timeStamp_y'] = df_1h_1m['timeStamp_y'] + 1087"
   ]
  },
  {
   "cell_type": "code",
   "execution_count": 11,
   "metadata": {},
   "outputs": [],
   "source": [
    "df_1h_1m['delay'] = df_1h_1m['timeStamp_y'] - df_1h_1m['timeStamp_x']"
   ]
  },
  {
   "cell_type": "code",
   "execution_count": 12,
   "metadata": {},
   "outputs": [
    {
     "data": {
      "text/plain": [
       "86.0"
      ]
     },
     "execution_count": 12,
     "metadata": {},
     "output_type": "execute_result"
    }
   ],
   "source": [
    "df_1h_1m['delay'].median()"
   ]
  },
  {
   "cell_type": "code",
   "execution_count": 13,
   "metadata": {},
   "outputs": [
    {
     "data": {
      "text/plain": [
       "(109, 9)"
      ]
     },
     "execution_count": 13,
     "metadata": {},
     "output_type": "execute_result"
    }
   ],
   "source": [
    "df_1h_1m.shape"
   ]
  },
  {
   "cell_type": "markdown",
   "metadata": {},
   "source": [
    "## 5 meter delay"
   ]
  },
  {
   "cell_type": "code",
   "execution_count": 14,
   "metadata": {},
   "outputs": [],
   "source": [
    "result_elsa_1h_5m = pd.read_excel('result/result_elsa_1h_5m.xlsx', index_col=0)  "
   ]
  },
  {
   "cell_type": "code",
   "execution_count": 15,
   "metadata": {},
   "outputs": [
    {
     "data": {
      "text/plain": [
       "(110, 4)"
      ]
     },
     "execution_count": 15,
     "metadata": {},
     "output_type": "execute_result"
    }
   ],
   "source": [
    "result_elsa_1h_5m.shape"
   ]
  },
  {
   "cell_type": "code",
   "execution_count": 16,
   "metadata": {},
   "outputs": [],
   "source": [
    "result_miranda_1h_5m = pd.read_excel('result/result_miranda_1h_5m.xlsx', index_col=0)  "
   ]
  },
  {
   "cell_type": "code",
   "execution_count": 17,
   "metadata": {},
   "outputs": [
    {
     "data": {
      "text/plain": [
       "(110, 4)"
      ]
     },
     "execution_count": 17,
     "metadata": {},
     "output_type": "execute_result"
    }
   ],
   "source": [
    "result_miranda_1h_5m.shape"
   ]
  },
  {
   "cell_type": "code",
   "execution_count": 18,
   "metadata": {},
   "outputs": [],
   "source": [
    "df_1h_5m = pd.merge(result_miranda_1h_5m, result_elsa_1h_5m, on=\"uuid\")"
   ]
  },
  {
   "cell_type": "code",
   "execution_count": 19,
   "metadata": {},
   "outputs": [
    {
     "data": {
      "text/html": [
       "<div>\n",
       "<style scoped>\n",
       "    .dataframe tbody tr th:only-of-type {\n",
       "        vertical-align: middle;\n",
       "    }\n",
       "\n",
       "    .dataframe tbody tr th {\n",
       "        vertical-align: top;\n",
       "    }\n",
       "\n",
       "    .dataframe thead th {\n",
       "        text-align: right;\n",
       "    }\n",
       "</style>\n",
       "<table border=\"1\" class=\"dataframe\">\n",
       "  <thead>\n",
       "    <tr style=\"text-align: right;\">\n",
       "      <th></th>\n",
       "      <th>connectionType_x</th>\n",
       "      <th>eventId_x</th>\n",
       "      <th>logType_x</th>\n",
       "      <th>timeStamp_x</th>\n",
       "      <th>connectionType_y</th>\n",
       "      <th>eventId_y</th>\n",
       "      <th>logType_y</th>\n",
       "      <th>timeStamp_y</th>\n",
       "    </tr>\n",
       "    <tr>\n",
       "      <th>uuid</th>\n",
       "      <th></th>\n",
       "      <th></th>\n",
       "      <th></th>\n",
       "      <th></th>\n",
       "      <th></th>\n",
       "      <th></th>\n",
       "      <th></th>\n",
       "      <th></th>\n",
       "    </tr>\n",
       "  </thead>\n",
       "  <tbody>\n",
       "    <tr>\n",
       "      <th>ed27fdba-72f2-4aa1-be52-9de247ea5de1</th>\n",
       "      <td>0</td>\n",
       "      <td>0</td>\n",
       "      <td>0</td>\n",
       "      <td>1643092451748</td>\n",
       "      <td>0</td>\n",
       "      <td>1</td>\n",
       "      <td>0</td>\n",
       "      <td>1643092451021</td>\n",
       "    </tr>\n",
       "    <tr>\n",
       "      <th>f3ff84ef-cab0-40b4-b4d8-368310824554</th>\n",
       "      <td>0</td>\n",
       "      <td>0</td>\n",
       "      <td>0</td>\n",
       "      <td>1643092456782</td>\n",
       "      <td>0</td>\n",
       "      <td>1</td>\n",
       "      <td>0</td>\n",
       "      <td>1643092456032</td>\n",
       "    </tr>\n",
       "    <tr>\n",
       "      <th>d13bbbe0-d4e1-4cc7-8496-a97ee3e0f09f</th>\n",
       "      <td>0</td>\n",
       "      <td>0</td>\n",
       "      <td>0</td>\n",
       "      <td>1643092461819</td>\n",
       "      <td>0</td>\n",
       "      <td>1</td>\n",
       "      <td>0</td>\n",
       "      <td>1643092461068</td>\n",
       "    </tr>\n",
       "    <tr>\n",
       "      <th>fcf9da3a-4c5f-4467-93dc-ebbfd57ab479</th>\n",
       "      <td>0</td>\n",
       "      <td>0</td>\n",
       "      <td>0</td>\n",
       "      <td>1643092466853</td>\n",
       "      <td>0</td>\n",
       "      <td>1</td>\n",
       "      <td>0</td>\n",
       "      <td>1643092466101</td>\n",
       "    </tr>\n",
       "    <tr>\n",
       "      <th>355613d0-8f9d-491f-bd4a-328df37c55f6</th>\n",
       "      <td>0</td>\n",
       "      <td>0</td>\n",
       "      <td>0</td>\n",
       "      <td>1643092471884</td>\n",
       "      <td>0</td>\n",
       "      <td>1</td>\n",
       "      <td>0</td>\n",
       "      <td>1643092471096</td>\n",
       "    </tr>\n",
       "  </tbody>\n",
       "</table>\n",
       "</div>"
      ],
      "text/plain": [
       "                                      connectionType_x  eventId_x  logType_x  \\\n",
       "uuid                                                                           \n",
       "ed27fdba-72f2-4aa1-be52-9de247ea5de1                 0          0          0   \n",
       "f3ff84ef-cab0-40b4-b4d8-368310824554                 0          0          0   \n",
       "d13bbbe0-d4e1-4cc7-8496-a97ee3e0f09f                 0          0          0   \n",
       "fcf9da3a-4c5f-4467-93dc-ebbfd57ab479                 0          0          0   \n",
       "355613d0-8f9d-491f-bd4a-328df37c55f6                 0          0          0   \n",
       "\n",
       "                                        timeStamp_x  connectionType_y  \\\n",
       "uuid                                                                    \n",
       "ed27fdba-72f2-4aa1-be52-9de247ea5de1  1643092451748                 0   \n",
       "f3ff84ef-cab0-40b4-b4d8-368310824554  1643092456782                 0   \n",
       "d13bbbe0-d4e1-4cc7-8496-a97ee3e0f09f  1643092461819                 0   \n",
       "fcf9da3a-4c5f-4467-93dc-ebbfd57ab479  1643092466853                 0   \n",
       "355613d0-8f9d-491f-bd4a-328df37c55f6  1643092471884                 0   \n",
       "\n",
       "                                      eventId_y  logType_y    timeStamp_y  \n",
       "uuid                                                                       \n",
       "ed27fdba-72f2-4aa1-be52-9de247ea5de1          1          0  1643092451021  \n",
       "f3ff84ef-cab0-40b4-b4d8-368310824554          1          0  1643092456032  \n",
       "d13bbbe0-d4e1-4cc7-8496-a97ee3e0f09f          1          0  1643092461068  \n",
       "fcf9da3a-4c5f-4467-93dc-ebbfd57ab479          1          0  1643092466101  \n",
       "355613d0-8f9d-491f-bd4a-328df37c55f6          1          0  1643092471096  "
      ]
     },
     "execution_count": 19,
     "metadata": {},
     "output_type": "execute_result"
    }
   ],
   "source": [
    "df_1h_5m.head()"
   ]
  },
  {
   "cell_type": "code",
   "execution_count": 20,
   "metadata": {},
   "outputs": [],
   "source": [
    "df_1h_5m['timeStamp_x'] = df_1h_5m['timeStamp_x'] + 249"
   ]
  },
  {
   "cell_type": "code",
   "execution_count": 21,
   "metadata": {},
   "outputs": [],
   "source": [
    "df_1h_5m['timeStamp_y'] = df_1h_5m['timeStamp_y'] + 1108"
   ]
  },
  {
   "cell_type": "code",
   "execution_count": 22,
   "metadata": {},
   "outputs": [],
   "source": [
    "df_1h_5m['delay'] = df_1h_5m['timeStamp_y'] - df_1h_5m['timeStamp_x']"
   ]
  },
  {
   "cell_type": "code",
   "execution_count": 23,
   "metadata": {},
   "outputs": [
    {
     "data": {
      "text/plain": [
       "110.0"
      ]
     },
     "execution_count": 23,
     "metadata": {},
     "output_type": "execute_result"
    }
   ],
   "source": [
    "df_1h_5m['delay'].median()"
   ]
  },
  {
   "cell_type": "code",
   "execution_count": 24,
   "metadata": {},
   "outputs": [
    {
     "data": {
      "text/plain": [
       "(110, 9)"
      ]
     },
     "execution_count": 24,
     "metadata": {},
     "output_type": "execute_result"
    }
   ],
   "source": [
    "df_1h_5m.shape"
   ]
  },
  {
   "cell_type": "markdown",
   "metadata": {},
   "source": [
    "## 10 meter delay"
   ]
  },
  {
   "cell_type": "code",
   "execution_count": 25,
   "metadata": {},
   "outputs": [],
   "source": [
    "result_elsa_1h_10m = pd.read_excel('result/result_elsa_1h_10m.xlsx', index_col=0)  "
   ]
  },
  {
   "cell_type": "code",
   "execution_count": 26,
   "metadata": {},
   "outputs": [
    {
     "data": {
      "text/plain": [
       "(108, 4)"
      ]
     },
     "execution_count": 26,
     "metadata": {},
     "output_type": "execute_result"
    }
   ],
   "source": [
    "result_elsa_1h_10m.shape"
   ]
  },
  {
   "cell_type": "code",
   "execution_count": 27,
   "metadata": {},
   "outputs": [],
   "source": [
    "result_miranda_1h_10m = pd.read_excel('result/result_miranda_1h_10m.xlsx', index_col=0)  "
   ]
  },
  {
   "cell_type": "code",
   "execution_count": 28,
   "metadata": {},
   "outputs": [
    {
     "data": {
      "text/plain": [
       "(108, 4)"
      ]
     },
     "execution_count": 28,
     "metadata": {},
     "output_type": "execute_result"
    }
   ],
   "source": [
    "result_miranda_1h_10m.shape"
   ]
  },
  {
   "cell_type": "code",
   "execution_count": 29,
   "metadata": {},
   "outputs": [],
   "source": [
    "df_1h_10m = pd.merge(result_miranda_1h_10m, result_elsa_1h_10m, on=\"uuid\")"
   ]
  },
  {
   "cell_type": "code",
   "execution_count": 30,
   "metadata": {},
   "outputs": [
    {
     "data": {
      "text/html": [
       "<div>\n",
       "<style scoped>\n",
       "    .dataframe tbody tr th:only-of-type {\n",
       "        vertical-align: middle;\n",
       "    }\n",
       "\n",
       "    .dataframe tbody tr th {\n",
       "        vertical-align: top;\n",
       "    }\n",
       "\n",
       "    .dataframe thead th {\n",
       "        text-align: right;\n",
       "    }\n",
       "</style>\n",
       "<table border=\"1\" class=\"dataframe\">\n",
       "  <thead>\n",
       "    <tr style=\"text-align: right;\">\n",
       "      <th></th>\n",
       "      <th>connectionType_x</th>\n",
       "      <th>eventId_x</th>\n",
       "      <th>logType_x</th>\n",
       "      <th>timeStamp_x</th>\n",
       "      <th>connectionType_y</th>\n",
       "      <th>eventId_y</th>\n",
       "      <th>logType_y</th>\n",
       "      <th>timeStamp_y</th>\n",
       "    </tr>\n",
       "    <tr>\n",
       "      <th>uuid</th>\n",
       "      <th></th>\n",
       "      <th></th>\n",
       "      <th></th>\n",
       "      <th></th>\n",
       "      <th></th>\n",
       "      <th></th>\n",
       "      <th></th>\n",
       "      <th></th>\n",
       "    </tr>\n",
       "  </thead>\n",
       "  <tbody>\n",
       "    <tr>\n",
       "      <th>42cb7b73-1195-46ee-9ae7-85952c68c30f</th>\n",
       "      <td>0</td>\n",
       "      <td>0</td>\n",
       "      <td>0</td>\n",
       "      <td>1643095244813</td>\n",
       "      <td>0</td>\n",
       "      <td>1</td>\n",
       "      <td>0</td>\n",
       "      <td>1643095244136</td>\n",
       "    </tr>\n",
       "    <tr>\n",
       "      <th>6d7601a0-6842-4a42-8680-366fee4a7a44</th>\n",
       "      <td>0</td>\n",
       "      <td>0</td>\n",
       "      <td>0</td>\n",
       "      <td>1643095249830</td>\n",
       "      <td>0</td>\n",
       "      <td>1</td>\n",
       "      <td>0</td>\n",
       "      <td>1643095249114</td>\n",
       "    </tr>\n",
       "    <tr>\n",
       "      <th>73cfce3c-2630-45eb-9fcb-b8e0eae3b0de</th>\n",
       "      <td>0</td>\n",
       "      <td>0</td>\n",
       "      <td>0</td>\n",
       "      <td>1643095254848</td>\n",
       "      <td>0</td>\n",
       "      <td>1</td>\n",
       "      <td>0</td>\n",
       "      <td>1643095254077</td>\n",
       "    </tr>\n",
       "    <tr>\n",
       "      <th>31ec5ae4-e991-46e0-a69a-44295462638c</th>\n",
       "      <td>0</td>\n",
       "      <td>0</td>\n",
       "      <td>0</td>\n",
       "      <td>1643095259881</td>\n",
       "      <td>0</td>\n",
       "      <td>1</td>\n",
       "      <td>0</td>\n",
       "      <td>1643095259166</td>\n",
       "    </tr>\n",
       "    <tr>\n",
       "      <th>4f934999-8e4a-427b-a8bc-41512acd81c9</th>\n",
       "      <td>0</td>\n",
       "      <td>0</td>\n",
       "      <td>0</td>\n",
       "      <td>1643095264916</td>\n",
       "      <td>0</td>\n",
       "      <td>1</td>\n",
       "      <td>0</td>\n",
       "      <td>1643095264147</td>\n",
       "    </tr>\n",
       "  </tbody>\n",
       "</table>\n",
       "</div>"
      ],
      "text/plain": [
       "                                      connectionType_x  eventId_x  logType_x  \\\n",
       "uuid                                                                           \n",
       "42cb7b73-1195-46ee-9ae7-85952c68c30f                 0          0          0   \n",
       "6d7601a0-6842-4a42-8680-366fee4a7a44                 0          0          0   \n",
       "73cfce3c-2630-45eb-9fcb-b8e0eae3b0de                 0          0          0   \n",
       "31ec5ae4-e991-46e0-a69a-44295462638c                 0          0          0   \n",
       "4f934999-8e4a-427b-a8bc-41512acd81c9                 0          0          0   \n",
       "\n",
       "                                        timeStamp_x  connectionType_y  \\\n",
       "uuid                                                                    \n",
       "42cb7b73-1195-46ee-9ae7-85952c68c30f  1643095244813                 0   \n",
       "6d7601a0-6842-4a42-8680-366fee4a7a44  1643095249830                 0   \n",
       "73cfce3c-2630-45eb-9fcb-b8e0eae3b0de  1643095254848                 0   \n",
       "31ec5ae4-e991-46e0-a69a-44295462638c  1643095259881                 0   \n",
       "4f934999-8e4a-427b-a8bc-41512acd81c9  1643095264916                 0   \n",
       "\n",
       "                                      eventId_y  logType_y    timeStamp_y  \n",
       "uuid                                                                       \n",
       "42cb7b73-1195-46ee-9ae7-85952c68c30f          1          0  1643095244136  \n",
       "6d7601a0-6842-4a42-8680-366fee4a7a44          1          0  1643095249114  \n",
       "73cfce3c-2630-45eb-9fcb-b8e0eae3b0de          1          0  1643095254077  \n",
       "31ec5ae4-e991-46e0-a69a-44295462638c          1          0  1643095259166  \n",
       "4f934999-8e4a-427b-a8bc-41512acd81c9          1          0  1643095264147  "
      ]
     },
     "execution_count": 30,
     "metadata": {},
     "output_type": "execute_result"
    }
   ],
   "source": [
    "df_1h_10m.head()"
   ]
  },
  {
   "cell_type": "code",
   "execution_count": 31,
   "metadata": {},
   "outputs": [],
   "source": [
    "df_1h_10m['timeStamp_x'] = df_1h_10m['timeStamp_x'] + 264"
   ]
  },
  {
   "cell_type": "code",
   "execution_count": 32,
   "metadata": {},
   "outputs": [],
   "source": [
    "df_1h_10m['timeStamp_y'] = df_1h_10m['timeStamp_y'] + 1141"
   ]
  },
  {
   "cell_type": "code",
   "execution_count": 33,
   "metadata": {},
   "outputs": [],
   "source": [
    "df_1h_10m['delay'] = df_1h_10m['timeStamp_y'] - df_1h_10m['timeStamp_x']"
   ]
  },
  {
   "cell_type": "code",
   "execution_count": 34,
   "metadata": {},
   "outputs": [
    {
     "data": {
      "text/plain": [
       "126.5"
      ]
     },
     "execution_count": 34,
     "metadata": {},
     "output_type": "execute_result"
    }
   ],
   "source": [
    "df_1h_10m['delay'].median()"
   ]
  },
  {
   "cell_type": "code",
   "execution_count": 35,
   "metadata": {},
   "outputs": [
    {
     "data": {
      "text/plain": [
       "(108, 9)"
      ]
     },
     "execution_count": 35,
     "metadata": {},
     "output_type": "execute_result"
    }
   ],
   "source": [
    "df_1h_10m.shape"
   ]
  },
  {
   "cell_type": "markdown",
   "metadata": {},
   "source": [
    "## Plot"
   ]
  },
  {
   "cell_type": "code",
   "execution_count": 36,
   "metadata": {},
   "outputs": [
    {
     "data": {
      "image/png": "[encoded data removed]",
      "text/plain": [
       "<Figure size 432x360 with 1 Axes>"
      ]
     },
     "metadata": {
      "needs_background": "light"
     },
     "output_type": "display_data"
    }
   ],
   "source": [
    "columns = [df_1h_1m['delay'], df_1h_5m['delay'], df_1h_10m['delay'] ]\n",
    "labels = ['1','5','10']\n",
    "\n",
    "fig, ax = plt.subplots()\n",
    "bplot1 = ax.boxplot(columns, \n",
    "            vert=True,  # vertical box alignment\n",
    "            patch_artist=False,  # fill with color\n",
    "            showfliers=False,\n",
    "            labels=labels)\n",
    "\n",
    "ax.set_ylabel('delay (ms)', fontsize=20)\n",
    "ax.set_xlabel('distance (m)', fontsize=20)\n",
    "\n",
    "\n",
    "# fill with colors\n",
    "# colors = ['lightgreen', 'lightblue', 'lightred']\n",
    "# for bplot in (bplot1, ):\n",
    "#     for patch, color in zip(bplot['boxes'], colors):\n",
    "#         patch.set_facecolor(color)\n",
    " \n",
    "fig.set_size_inches(6, 5)\n",
    "\n",
    "plt.savefig('plots/figure_eval_1_1.png', dpi=300, bbox_inches=None, pad_inches=1,)\n",
    "plt.show()\n"
   ]
  },
  {
   "cell_type": "code",
   "execution_count": null,
   "metadata": {},
   "outputs": [],
   "source": []
  },
  {
   "cell_type": "markdown",
   "metadata": {},
   "source": [
    "# Delay vs Distance"
   ]
  },
  {
   "cell_type": "code",
   "execution_count": 37,
   "metadata": {},
   "outputs": [],
   "source": [
    "result_elsa_2h_10m = pd.read_excel('result/result_elsa_2h_10m.xlsx', index_col=0)  "
   ]
  },
  {
   "cell_type": "code",
   "execution_count": 38,
   "metadata": {},
   "outputs": [
    {
     "data": {
      "text/plain": [
       "(116, 5)"
      ]
     },
     "execution_count": 38,
     "metadata": {},
     "output_type": "execute_result"
    }
   ],
   "source": [
    "result_elsa_2h_10m.shape"
   ]
  },
  {
   "cell_type": "code",
   "execution_count": 39,
   "metadata": {},
   "outputs": [],
   "source": [
    "result_miranda_2h_10m = pd.read_excel('result/result_miranda_2h_10m.xlsx', index_col=0)  "
   ]
  },
  {
   "cell_type": "code",
   "execution_count": 40,
   "metadata": {},
   "outputs": [
    {
     "data": {
      "text/plain": [
       "(116, 5)"
      ]
     },
     "execution_count": 40,
     "metadata": {},
     "output_type": "execute_result"
    }
   ],
   "source": [
    "result_miranda_2h_10m.shape"
   ]
  },
  {
   "cell_type": "code",
   "execution_count": 41,
   "metadata": {},
   "outputs": [],
   "source": [
    "df_2h_10m = pd.merge(result_miranda_2h_10m, result_elsa_2h_10m, on=\"uuid\")"
   ]
  },
  {
   "cell_type": "code",
   "execution_count": 42,
   "metadata": {},
   "outputs": [
    {
     "data": {
      "text/plain": [
       "(116, 9)"
      ]
     },
     "execution_count": 42,
     "metadata": {},
     "output_type": "execute_result"
    }
   ],
   "source": [
    "df_2h_10m.shape"
   ]
  },
  {
   "cell_type": "code",
   "execution_count": 43,
   "metadata": {},
   "outputs": [
    {
     "data": {
      "text/html": [
       "<div>\n",
       "<style scoped>\n",
       "    .dataframe tbody tr th:only-of-type {\n",
       "        vertical-align: middle;\n",
       "    }\n",
       "\n",
       "    .dataframe tbody tr th {\n",
       "        vertical-align: top;\n",
       "    }\n",
       "\n",
       "    .dataframe thead th {\n",
       "        text-align: right;\n",
       "    }\n",
       "</style>\n",
       "<table border=\"1\" class=\"dataframe\">\n",
       "  <thead>\n",
       "    <tr style=\"text-align: right;\">\n",
       "      <th></th>\n",
       "      <th>uuid</th>\n",
       "      <th>connectionType_x</th>\n",
       "      <th>eventId_x</th>\n",
       "      <th>logType_x</th>\n",
       "      <th>timeStamp_x</th>\n",
       "      <th>connectionType_y</th>\n",
       "      <th>eventId_y</th>\n",
       "      <th>logType_y</th>\n",
       "      <th>timeStamp_y</th>\n",
       "    </tr>\n",
       "  </thead>\n",
       "  <tbody>\n",
       "    <tr>\n",
       "      <th>0</th>\n",
       "      <td>894b8489-4d34-4e47-b95c-ecc182b8fe32</td>\n",
       "      <td>0</td>\n",
       "      <td>0</td>\n",
       "      <td>2</td>\n",
       "      <td>1643199866957</td>\n",
       "      <td>0</td>\n",
       "      <td>2</td>\n",
       "      <td>2</td>\n",
       "      <td>1643199867863</td>\n",
       "    </tr>\n",
       "    <tr>\n",
       "      <th>1</th>\n",
       "      <td>e311e2aa-ab98-4a0d-804f-7732a8c7b4a4</td>\n",
       "      <td>0</td>\n",
       "      <td>0</td>\n",
       "      <td>2</td>\n",
       "      <td>1643199871967</td>\n",
       "      <td>0</td>\n",
       "      <td>2</td>\n",
       "      <td>2</td>\n",
       "      <td>1643199872435</td>\n",
       "    </tr>\n",
       "    <tr>\n",
       "      <th>2</th>\n",
       "      <td>b316b6e6-e9d2-4262-815c-20b9412dd456</td>\n",
       "      <td>0</td>\n",
       "      <td>0</td>\n",
       "      <td>2</td>\n",
       "      <td>1643199876973</td>\n",
       "      <td>0</td>\n",
       "      <td>2</td>\n",
       "      <td>2</td>\n",
       "      <td>1643199878246</td>\n",
       "    </tr>\n",
       "    <tr>\n",
       "      <th>3</th>\n",
       "      <td>5728894d-065d-47d0-896c-d6891dbf07c1</td>\n",
       "      <td>0</td>\n",
       "      <td>0</td>\n",
       "      <td>0</td>\n",
       "      <td>1643199882018</td>\n",
       "      <td>0</td>\n",
       "      <td>1</td>\n",
       "      <td>0</td>\n",
       "      <td>1643199882190</td>\n",
       "    </tr>\n",
       "    <tr>\n",
       "      <th>4</th>\n",
       "      <td>6bcbedd5-abe1-4b76-b61a-c9e35d192790</td>\n",
       "      <td>0</td>\n",
       "      <td>0</td>\n",
       "      <td>0</td>\n",
       "      <td>1643199887048</td>\n",
       "      <td>0</td>\n",
       "      <td>1</td>\n",
       "      <td>0</td>\n",
       "      <td>1643199887627</td>\n",
       "    </tr>\n",
       "    <tr>\n",
       "      <th>5</th>\n",
       "      <td>4ca55377-9278-4acb-919d-9adad3fed0ac</td>\n",
       "      <td>0</td>\n",
       "      <td>0</td>\n",
       "      <td>0</td>\n",
       "      <td>1643199892078</td>\n",
       "      <td>0</td>\n",
       "      <td>1</td>\n",
       "      <td>0</td>\n",
       "      <td>1643199892211</td>\n",
       "    </tr>\n",
       "    <tr>\n",
       "      <th>6</th>\n",
       "      <td>350129f5-dbc0-4c7b-adc7-dbda13578195</td>\n",
       "      <td>0</td>\n",
       "      <td>0</td>\n",
       "      <td>0</td>\n",
       "      <td>1643199897107</td>\n",
       "      <td>0</td>\n",
       "      <td>1</td>\n",
       "      <td>0</td>\n",
       "      <td>1643199897771</td>\n",
       "    </tr>\n",
       "    <tr>\n",
       "      <th>7</th>\n",
       "      <td>22ccf659-3b05-4ebb-a39d-c834eb46d9b6</td>\n",
       "      <td>0</td>\n",
       "      <td>0</td>\n",
       "      <td>0</td>\n",
       "      <td>1643199902134</td>\n",
       "      <td>0</td>\n",
       "      <td>1</td>\n",
       "      <td>0</td>\n",
       "      <td>1643199902400</td>\n",
       "    </tr>\n",
       "    <tr>\n",
       "      <th>8</th>\n",
       "      <td>140467f2-374c-46d1-8e4b-8adfa914a4c6</td>\n",
       "      <td>0</td>\n",
       "      <td>0</td>\n",
       "      <td>0</td>\n",
       "      <td>1643199907164</td>\n",
       "      <td>0</td>\n",
       "      <td>1</td>\n",
       "      <td>0</td>\n",
       "      <td>1643199907479</td>\n",
       "    </tr>\n",
       "    <tr>\n",
       "      <th>9</th>\n",
       "      <td>889072e1-6285-45f9-8272-ef0d31e0c4a7</td>\n",
       "      <td>0</td>\n",
       "      <td>0</td>\n",
       "      <td>0</td>\n",
       "      <td>1643199912192</td>\n",
       "      <td>0</td>\n",
       "      <td>1</td>\n",
       "      <td>0</td>\n",
       "      <td>1643199912733</td>\n",
       "    </tr>\n",
       "  </tbody>\n",
       "</table>\n",
       "</div>"
      ],
      "text/plain": [
       "                                   uuid  connectionType_x  eventId_x  \\\n",
       "0  894b8489-4d34-4e47-b95c-ecc182b8fe32                 0          0   \n",
       "1  e311e2aa-ab98-4a0d-804f-7732a8c7b4a4                 0          0   \n",
       "2  b316b6e6-e9d2-4262-815c-20b9412dd456                 0          0   \n",
       "3  5728894d-065d-47d0-896c-d6891dbf07c1                 0          0   \n",
       "4  6bcbedd5-abe1-4b76-b61a-c9e35d192790                 0          0   \n",
       "5  4ca55377-9278-4acb-919d-9adad3fed0ac                 0          0   \n",
       "6  350129f5-dbc0-4c7b-adc7-dbda13578195                 0          0   \n",
       "7  22ccf659-3b05-4ebb-a39d-c834eb46d9b6                 0          0   \n",
       "8  140467f2-374c-46d1-8e4b-8adfa914a4c6                 0          0   \n",
       "9  889072e1-6285-45f9-8272-ef0d31e0c4a7                 0          0   \n",
       "\n",
       "   logType_x    timeStamp_x  connectionType_y  eventId_y  logType_y  \\\n",
       "0          2  1643199866957                 0          2          2   \n",
       "1          2  1643199871967                 0          2          2   \n",
       "2          2  1643199876973                 0          2          2   \n",
       "3          0  1643199882018                 0          1          0   \n",
       "4          0  1643199887048                 0          1          0   \n",
       "5          0  1643199892078                 0          1          0   \n",
       "6          0  1643199897107                 0          1          0   \n",
       "7          0  1643199902134                 0          1          0   \n",
       "8          0  1643199907164                 0          1          0   \n",
       "9          0  1643199912192                 0          1          0   \n",
       "\n",
       "     timeStamp_y  \n",
       "0  1643199867863  \n",
       "1  1643199872435  \n",
       "2  1643199878246  \n",
       "3  1643199882190  \n",
       "4  1643199887627  \n",
       "5  1643199892211  \n",
       "6  1643199897771  \n",
       "7  1643199902400  \n",
       "8  1643199907479  \n",
       "9  1643199912733  "
      ]
     },
     "execution_count": 43,
     "metadata": {},
     "output_type": "execute_result"
    }
   ],
   "source": [
    "df_2h_10m.head(10)"
   ]
  },
  {
   "cell_type": "code",
   "execution_count": 44,
   "metadata": {},
   "outputs": [],
   "source": [
    "df_2h_10m['timeStamp_x'] = df_2h_10m['timeStamp_x'] + 443"
   ]
  },
  {
   "cell_type": "code",
   "execution_count": 45,
   "metadata": {},
   "outputs": [],
   "source": [
    "df_2h_10m['timeStamp_y'] = df_2h_10m['timeStamp_y'] + 347"
   ]
  },
  {
   "cell_type": "code",
   "execution_count": 46,
   "metadata": {},
   "outputs": [],
   "source": [
    "df_2h_10m['delay'] = df_2h_10m['timeStamp_y'] - df_2h_10m['timeStamp_x']"
   ]
  },
  {
   "cell_type": "code",
   "execution_count": 47,
   "metadata": {},
   "outputs": [
    {
     "data": {
      "text/plain": [
       "336.0"
      ]
     },
     "execution_count": 47,
     "metadata": {},
     "output_type": "execute_result"
    }
   ],
   "source": [
    "df_2h_10m['delay'].median()"
   ]
  },
  {
   "cell_type": "code",
   "execution_count": 48,
   "metadata": {},
   "outputs": [
    {
     "data": {
      "text/plain": [
       "0     810\n",
       "1     372\n",
       "2    1177\n",
       "3      76\n",
       "4     483\n",
       "5      37\n",
       "6     568\n",
       "7     170\n",
       "8     219\n",
       "9     445\n",
       "Name: delay, dtype: int64"
      ]
     },
     "execution_count": 48,
     "metadata": {},
     "output_type": "execute_result"
    }
   ],
   "source": [
    "df_2h_10m['delay'].head(10)"
   ]
  },
  {
   "cell_type": "code",
   "execution_count": null,
   "metadata": {},
   "outputs": [],
   "source": []
  },
  {
   "cell_type": "markdown",
   "metadata": {},
   "source": [
    "## 2 hop indoor"
   ]
  },
  {
   "cell_type": "code",
   "execution_count": 50,
   "metadata": {},
   "outputs": [],
   "source": [
    "result_elsa_2h_10m_in = pd.read_excel('result/result_elsa_2h_10m_in.xlsx', index_col=0)  "
   ]
  },
  {
   "cell_type": "code",
   "execution_count": 51,
   "metadata": {},
   "outputs": [
    {
     "data": {
      "text/plain": [
       "(97, 5)"
      ]
     },
     "execution_count": 51,
     "metadata": {},
     "output_type": "execute_result"
    }
   ],
   "source": [
    "result_elsa_2h_10m_in.shape"
   ]
  },
  {
   "cell_type": "code",
   "execution_count": 52,
   "metadata": {},
   "outputs": [],
   "source": [
    "result_miranda_2h_10m_in = pd.read_excel('result/result_miranda_2h_10m_in.xlsx', index_col=0)  "
   ]
  },
  {
   "cell_type": "code",
   "execution_count": 53,
   "metadata": {},
   "outputs": [
    {
     "data": {
      "text/plain": [
       "(97, 5)"
      ]
     },
     "execution_count": 53,
     "metadata": {},
     "output_type": "execute_result"
    }
   ],
   "source": [
    "result_miranda_2h_10m_in.shape"
   ]
  },
  {
   "cell_type": "code",
   "execution_count": 55,
   "metadata": {},
   "outputs": [],
   "source": [
    "df_2h_10m_in = pd.merge(result_miranda_2h_10m_in, result_elsa_2h_10m_in, on=\"uuid\")"
   ]
  },
  {
   "cell_type": "code",
   "execution_count": 58,
   "metadata": {},
   "outputs": [
    {
     "data": {
      "text/plain": [
       "(97, 9)"
      ]
     },
     "execution_count": 58,
     "metadata": {},
     "output_type": "execute_result"
    }
   ],
   "source": [
    "df_2h_10m_in.shape"
   ]
  },
  {
   "cell_type": "code",
   "execution_count": 59,
   "metadata": {},
   "outputs": [
    {
     "data": {
      "text/html": [
       "<div>\n",
       "<style scoped>\n",
       "    .dataframe tbody tr th:only-of-type {\n",
       "        vertical-align: middle;\n",
       "    }\n",
       "\n",
       "    .dataframe tbody tr th {\n",
       "        vertical-align: top;\n",
       "    }\n",
       "\n",
       "    .dataframe thead th {\n",
       "        text-align: right;\n",
       "    }\n",
       "</style>\n",
       "<table border=\"1\" class=\"dataframe\">\n",
       "  <thead>\n",
       "    <tr style=\"text-align: right;\">\n",
       "      <th></th>\n",
       "      <th>uuid</th>\n",
       "      <th>connectionType_x</th>\n",
       "      <th>eventId_x</th>\n",
       "      <th>logType_x</th>\n",
       "      <th>timeStamp_x</th>\n",
       "      <th>connectionType_y</th>\n",
       "      <th>eventId_y</th>\n",
       "      <th>logType_y</th>\n",
       "      <th>timeStamp_y</th>\n",
       "    </tr>\n",
       "  </thead>\n",
       "  <tbody>\n",
       "    <tr>\n",
       "      <th>0</th>\n",
       "      <td>033e5862-b0d1-40e4-8209-4dee7df83518</td>\n",
       "      <td>0</td>\n",
       "      <td>0</td>\n",
       "      <td>2</td>\n",
       "      <td>1643215223285</td>\n",
       "      <td>0</td>\n",
       "      <td>2</td>\n",
       "      <td>2</td>\n",
       "      <td>1643215224576</td>\n",
       "    </tr>\n",
       "    <tr>\n",
       "      <th>1</th>\n",
       "      <td>2d957850-db17-4769-ae26-977ce71465bc</td>\n",
       "      <td>0</td>\n",
       "      <td>0</td>\n",
       "      <td>2</td>\n",
       "      <td>1643215228293</td>\n",
       "      <td>0</td>\n",
       "      <td>2</td>\n",
       "      <td>2</td>\n",
       "      <td>1643215229960</td>\n",
       "    </tr>\n",
       "    <tr>\n",
       "      <th>2</th>\n",
       "      <td>be67aa0e-0f8a-45ea-a640-af77f7811a89</td>\n",
       "      <td>0</td>\n",
       "      <td>0</td>\n",
       "      <td>2</td>\n",
       "      <td>1643215233299</td>\n",
       "      <td>0</td>\n",
       "      <td>2</td>\n",
       "      <td>2</td>\n",
       "      <td>1643215234024</td>\n",
       "    </tr>\n",
       "    <tr>\n",
       "      <th>3</th>\n",
       "      <td>e5d65bc1-6a3b-42d2-b7bf-a805ebc716c4</td>\n",
       "      <td>0</td>\n",
       "      <td>0</td>\n",
       "      <td>2</td>\n",
       "      <td>1643215238306</td>\n",
       "      <td>0</td>\n",
       "      <td>2</td>\n",
       "      <td>2</td>\n",
       "      <td>1643215239919</td>\n",
       "    </tr>\n",
       "    <tr>\n",
       "      <th>4</th>\n",
       "      <td>1d7564cb-72cc-415b-91f0-f58047050efa</td>\n",
       "      <td>0</td>\n",
       "      <td>0</td>\n",
       "      <td>2</td>\n",
       "      <td>1643215243315</td>\n",
       "      <td>0</td>\n",
       "      <td>2</td>\n",
       "      <td>2</td>\n",
       "      <td>1643215243952</td>\n",
       "    </tr>\n",
       "    <tr>\n",
       "      <th>5</th>\n",
       "      <td>c89153b0-e4c5-4c04-a3f8-415a0dd9472a</td>\n",
       "      <td>0</td>\n",
       "      <td>0</td>\n",
       "      <td>2</td>\n",
       "      <td>1643215248322</td>\n",
       "      <td>0</td>\n",
       "      <td>2</td>\n",
       "      <td>2</td>\n",
       "      <td>1643215250314</td>\n",
       "    </tr>\n",
       "    <tr>\n",
       "      <th>6</th>\n",
       "      <td>7745acab-58cb-49bd-849e-7c32006d3084</td>\n",
       "      <td>0</td>\n",
       "      <td>0</td>\n",
       "      <td>2</td>\n",
       "      <td>1643215253328</td>\n",
       "      <td>0</td>\n",
       "      <td>2</td>\n",
       "      <td>2</td>\n",
       "      <td>1643215254229</td>\n",
       "    </tr>\n",
       "    <tr>\n",
       "      <th>7</th>\n",
       "      <td>727c4918-be64-4e26-a281-dc3bb1280005</td>\n",
       "      <td>0</td>\n",
       "      <td>0</td>\n",
       "      <td>2</td>\n",
       "      <td>1643215258339</td>\n",
       "      <td>0</td>\n",
       "      <td>2</td>\n",
       "      <td>2</td>\n",
       "      <td>1643215259720</td>\n",
       "    </tr>\n",
       "    <tr>\n",
       "      <th>8</th>\n",
       "      <td>166af58b-3527-4ece-8496-b981c0dc84db</td>\n",
       "      <td>0</td>\n",
       "      <td>0</td>\n",
       "      <td>2</td>\n",
       "      <td>1643215263347</td>\n",
       "      <td>0</td>\n",
       "      <td>2</td>\n",
       "      <td>2</td>\n",
       "      <td>1643215263925</td>\n",
       "    </tr>\n",
       "    <tr>\n",
       "      <th>9</th>\n",
       "      <td>eda8dfed-c032-416d-ba46-1a0763ea8510</td>\n",
       "      <td>0</td>\n",
       "      <td>0</td>\n",
       "      <td>2</td>\n",
       "      <td>1643215268358</td>\n",
       "      <td>0</td>\n",
       "      <td>2</td>\n",
       "      <td>2</td>\n",
       "      <td>1643215271104</td>\n",
       "    </tr>\n",
       "  </tbody>\n",
       "</table>\n",
       "</div>"
      ],
      "text/plain": [
       "                                   uuid  connectionType_x  eventId_x  \\\n",
       "0  033e5862-b0d1-40e4-8209-4dee7df83518                 0          0   \n",
       "1  2d957850-db17-4769-ae26-977ce71465bc                 0          0   \n",
       "2  be67aa0e-0f8a-45ea-a640-af77f7811a89                 0          0   \n",
       "3  e5d65bc1-6a3b-42d2-b7bf-a805ebc716c4                 0          0   \n",
       "4  1d7564cb-72cc-415b-91f0-f58047050efa                 0          0   \n",
       "5  c89153b0-e4c5-4c04-a3f8-415a0dd9472a                 0          0   \n",
       "6  7745acab-58cb-49bd-849e-7c32006d3084                 0          0   \n",
       "7  727c4918-be64-4e26-a281-dc3bb1280005                 0          0   \n",
       "8  166af58b-3527-4ece-8496-b981c0dc84db                 0          0   \n",
       "9  eda8dfed-c032-416d-ba46-1a0763ea8510                 0          0   \n",
       "\n",
       "   logType_x    timeStamp_x  connectionType_y  eventId_y  logType_y  \\\n",
       "0          2  1643215223285                 0          2          2   \n",
       "1          2  1643215228293                 0          2          2   \n",
       "2          2  1643215233299                 0          2          2   \n",
       "3          2  1643215238306                 0          2          2   \n",
       "4          2  1643215243315                 0          2          2   \n",
       "5          2  1643215248322                 0          2          2   \n",
       "6          2  1643215253328                 0          2          2   \n",
       "7          2  1643215258339                 0          2          2   \n",
       "8          2  1643215263347                 0          2          2   \n",
       "9          2  1643215268358                 0          2          2   \n",
       "\n",
       "     timeStamp_y  \n",
       "0  1643215224576  \n",
       "1  1643215229960  \n",
       "2  1643215234024  \n",
       "3  1643215239919  \n",
       "4  1643215243952  \n",
       "5  1643215250314  \n",
       "6  1643215254229  \n",
       "7  1643215259720  \n",
       "8  1643215263925  \n",
       "9  1643215271104  "
      ]
     },
     "execution_count": 59,
     "metadata": {},
     "output_type": "execute_result"
    }
   ],
   "source": [
    "df_2h_10m_in.head(10)"
   ]
  },
  {
   "cell_type": "code",
   "execution_count": 60,
   "metadata": {},
   "outputs": [],
   "source": [
    "df_2h_10m_in['timeStamp_x'] = df_2h_10m_in['timeStamp_x'] + 452"
   ]
  },
  {
   "cell_type": "code",
   "execution_count": 61,
   "metadata": {},
   "outputs": [],
   "source": [
    "df_2h_10m_in['timeStamp_y'] = df_2h_10m_in['timeStamp_y'] + 348"
   ]
  },
  {
   "cell_type": "code",
   "execution_count": 62,
   "metadata": {},
   "outputs": [],
   "source": [
    "df_2h_10m_in['delay'] = df_2h_10m_in['timeStamp_y'] - df_2h_10m_in['timeStamp_x']"
   ]
  },
  {
   "cell_type": "code",
   "execution_count": 64,
   "metadata": {},
   "outputs": [
    {
     "data": {
      "text/plain": [
       "908.0"
      ]
     },
     "execution_count": 64,
     "metadata": {},
     "output_type": "execute_result"
    }
   ],
   "source": [
    "df_2h_10m_in['delay'].median()"
   ]
  },
  {
   "cell_type": "code",
   "execution_count": 73,
   "metadata": {},
   "outputs": [
    {
     "data": {
      "text/plain": [
       "0     1187\n",
       "1     1563\n",
       "2      621\n",
       "3     1509\n",
       "4      533\n",
       "      ... \n",
       "92     409\n",
       "93    1156\n",
       "94     410\n",
       "95    1613\n",
       "96     436\n",
       "Name: delay, Length: 97, dtype: int64"
      ]
     },
     "execution_count": 73,
     "metadata": {},
     "output_type": "execute_result"
    }
   ],
   "source": [
    "df_2h_10m_in['delay']"
   ]
  },
  {
   "cell_type": "code",
   "execution_count": 70,
   "metadata": {},
   "outputs": [
    {
     "data": {
      "image/png": "[encoded data removed]",
      "text/plain": [
       "<Figure size 432x360 with 1 Axes>"
      ]
     },
     "metadata": {
      "needs_background": "light"
     },
     "output_type": "display_data"
    }
   ],
   "source": [
    "columns = [df_1h_10m['delay'], df_2h_10m_in['delay'], ]\n",
    "labels = ['1','2 (indoor)']\n",
    "\n",
    "fig, ax = plt.subplots()\n",
    "bplot1 = ax.boxplot(columns, \n",
    "            vert=True,  # vertical box alignment\n",
    "            patch_artist=False,  # fill with color\n",
    "            showfliers=False,\n",
    "            labels=labels)\n",
    "\n",
    "ax.set_ylabel('delay (ms)', fontsize=20)\n",
    "ax.set_xlabel('hop count', fontsize=20)\n",
    "\n",
    "\n",
    "# fill with colors\n",
    "# colors = ['lightgreen', 'lightblue', 'lightred']\n",
    "# for bplot in (bplot1, ):\n",
    "#     for patch, color in zip(bplot['boxes'], colors):\n",
    "#         patch.set_facecolor(color)\n",
    " \n",
    "fig.set_size_inches(6, 5)\n",
    "\n",
    "plt.savefig('plots/figure_eval_2.png', dpi=300, bbox_inches=None, pad_inches=1,)\n",
    "plt.show()"
   ]
  },
  {
   "cell_type": "code",
   "execution_count": null,
   "metadata": {},
   "outputs": [],
   "source": []
  },
  {
   "cell_type": "code",
   "execution_count": null,
   "metadata": {},
   "outputs": [],
   "source": []
  },
  {
   "cell_type": "code",
   "execution_count": null,
   "metadata": {},
   "outputs": [],
   "source": []
  },
  {
   "cell_type": "code",
   "execution_count": null,
   "metadata": {},
   "outputs": [],
   "source": []
  },
  {
   "cell_type": "code",
   "execution_count": null,
   "metadata": {},
   "outputs": [],
   "source": []
  },
  {
   "cell_type": "code",
   "execution_count": null,
   "metadata": {},
   "outputs": [],
   "source": []
  },
  {
   "cell_type": "code",
   "execution_count": null,
   "metadata": {},
   "outputs": [],
   "source": []
  },
  {
   "cell_type": "code",
   "execution_count": null,
   "metadata": {},
   "outputs": [],
   "source": []
  },
  {
   "cell_type": "code",
   "execution_count": null,
   "metadata": {},
   "outputs": [],
   "source": []
  },
  {
   "cell_type": "code",
   "execution_count": null,
   "metadata": {},
   "outputs": [],
   "source": []
  },
  {
   "cell_type": "code",
   "execution_count": null,
   "metadata": {},
   "outputs": [],
   "source": []
  },
  {
   "cell_type": "code",
   "execution_count": null,
   "metadata": {},
   "outputs": [],
   "source": []
  },
  {
   "cell_type": "code",
   "execution_count": null,
   "metadata": {},
   "outputs": [],
   "source": []
  },
  {
   "cell_type": "code",
   "execution_count": null,
   "metadata": {},
   "outputs": [],
   "source": []
  },
  {
   "cell_type": "code",
   "execution_count": null,
   "metadata": {},
   "outputs": [],
   "source": []
  },
  {
   "cell_type": "code",
   "execution_count": null,
   "metadata": {},
   "outputs": [],
   "source": []
  },
  {
   "cell_type": "code",
   "execution_count": null,
   "metadata": {},
   "outputs": [],
   "source": []
  },
  {
   "cell_type": "code",
   "execution_count": null,
   "metadata": {},
   "outputs": [],
   "source": []
  },
  {
   "cell_type": "code",
   "execution_count": null,
   "metadata": {},
   "outputs": [],
   "source": []
  },
  {
   "cell_type": "code",
   "execution_count": null,
   "metadata": {},
   "outputs": [],
   "source": []
  },
  {
   "cell_type": "code",
   "execution_count": null,
   "metadata": {},
   "outputs": [],
   "source": []
  }
 ],
 "metadata": {
  "kernelspec": {
   "display_name": "Python 3",
   "language": "python",
   "name": "python3"
  },
  "language_info": {
   "codemirror_mode": {
    "name": "ipython",
    "version": 3
   },
   "file_extension": ".py",
   "mimetype": "text/x-python",
   "name": "python",
   "nbconvert_exporter": "python",
   "pygments_lexer": "ipython3",
   "version": "3.8.3"
  }
 },
 "nbformat": 4,
 "nbformat_minor": 4
}
