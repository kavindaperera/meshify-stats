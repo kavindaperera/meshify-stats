{
 "cells": [
  {
   "cell_type": "code",
   "execution_count": 2,
   "metadata": {},
   "outputs": [],
   "source": [
    "import pandas as pd\n",
    "import numpy as np\n",
    "from matplotlib import pyplot as plt\n",
    "from matplotlib.ticker import FormatStrFormatter"
   ]
  },
  {
   "cell_type": "code",
   "execution_count": 192,
   "metadata": {},
   "outputs": [],
   "source": [
    "connection_delay_1 = [15.336, 20.064, 17.467, 19.747, 20.762, 14.676, 23.109, 15.079, 21.228, 21.365]\n",
    "connection_delay_2 = [0]\n",
    "connection_delay_3 = [0]"
   ]
  },
  {
   "cell_type": "code",
   "execution_count": 193,
   "metadata": {},
   "outputs": [
    {
     "data": {
      "image/png": "[encoded data removed]",
      "text/plain": [
       "<Figure size 432x288 with 1 Axes>"
      ]
     },
     "metadata": {
      "needs_background": "light"
     },
     "output_type": "display_data"
    }
   ],
   "source": [
    "columns = [connection_delay_1, connection_delay_2, connection_delay_3]\n",
    "\n",
    "fig, ax = plt.subplots()\n",
    "ax.boxplot(columns)\n",
    "plt.xticks([1, 2, 3], [\"Bluetooth 5 - Bluetooth 5\", \"Bluetooth 5 - Bluetooth 4\", \"Bluetooth 4 - Bluetooth 4\"], rotation=10)\n",
    "ax.set_ylabel('time(seconds)')\n",
    "ax.set_xlabel('Bluetooth Versions')\n",
    "plt.show()"
   ]
  },
  {
   "cell_type": "markdown",
   "metadata": {},
   "source": [
    "# Single-Hop Delay vs Distance"
   ]
  },
  {
   "cell_type": "markdown",
   "metadata": {},
   "source": [
    "## 1 meter delay"
   ]
  },
  {
   "cell_type": "code",
   "execution_count": 354,
   "metadata": {},
   "outputs": [],
   "source": [
    "result_elsa_1h_1m = pd.read_excel('result/result_elsa_1h_1m_2.xlsx', index_col=0)  "
   ]
  },
  {
   "cell_type": "code",
   "execution_count": 355,
   "metadata": {},
   "outputs": [],
   "source": [
    "result_miranda_1h_1m = pd.read_excel('result/result_miranda_1h_1m_2.xlsx', index_col=0)  "
   ]
  },
  {
   "cell_type": "code",
   "execution_count": 356,
   "metadata": {},
   "outputs": [],
   "source": [
    "df_1h_1m = pd.merge(result_miranda_1h_1m, result_elsa_1h_1m, on=\"uuid\")"
   ]
  },
  {
   "cell_type": "code",
   "execution_count": 357,
   "metadata": {},
   "outputs": [
    {
     "data": {
      "text/html": [
       "<div>\n",
       "<style scoped>\n",
       "    .dataframe tbody tr th:only-of-type {\n",
       "        vertical-align: middle;\n",
       "    }\n",
       "\n",
       "    .dataframe tbody tr th {\n",
       "        vertical-align: top;\n",
       "    }\n",
       "\n",
       "    .dataframe thead th {\n",
       "        text-align: right;\n",
       "    }\n",
       "</style>\n",
       "<table border=\"1\" class=\"dataframe\">\n",
       "  <thead>\n",
       "    <tr style=\"text-align: right;\">\n",
       "      <th></th>\n",
       "      <th>connectionType_x</th>\n",
       "      <th>eventId_x</th>\n",
       "      <th>logType_x</th>\n",
       "      <th>timeStamp_x</th>\n",
       "      <th>connectionType_y</th>\n",
       "      <th>eventId_y</th>\n",
       "      <th>logType_y</th>\n",
       "      <th>timeStamp_y</th>\n",
       "    </tr>\n",
       "    <tr>\n",
       "      <th>uuid</th>\n",
       "      <th></th>\n",
       "      <th></th>\n",
       "      <th></th>\n",
       "      <th></th>\n",
       "      <th></th>\n",
       "      <th></th>\n",
       "      <th></th>\n",
       "      <th></th>\n",
       "    </tr>\n",
       "  </thead>\n",
       "  <tbody>\n",
       "    <tr>\n",
       "      <th>3d835cc9-a156-400a-bc04-a810347b1cda</th>\n",
       "      <td>0</td>\n",
       "      <td>0</td>\n",
       "      <td>0</td>\n",
       "      <td>1643093779254</td>\n",
       "      <td>0</td>\n",
       "      <td>1</td>\n",
       "      <td>0</td>\n",
       "      <td>1643093778705</td>\n",
       "    </tr>\n",
       "    <tr>\n",
       "      <th>d00d4b84-bfc2-4b44-9160-f7e064193769</th>\n",
       "      <td>0</td>\n",
       "      <td>0</td>\n",
       "      <td>0</td>\n",
       "      <td>1643093784287</td>\n",
       "      <td>0</td>\n",
       "      <td>1</td>\n",
       "      <td>0</td>\n",
       "      <td>1643093783499</td>\n",
       "    </tr>\n",
       "    <tr>\n",
       "      <th>7a75acd5-763b-4242-b128-c82ed863a9f6</th>\n",
       "      <td>0</td>\n",
       "      <td>0</td>\n",
       "      <td>0</td>\n",
       "      <td>1643093789323</td>\n",
       "      <td>0</td>\n",
       "      <td>1</td>\n",
       "      <td>0</td>\n",
       "      <td>1643093788586</td>\n",
       "    </tr>\n",
       "    <tr>\n",
       "      <th>d3d5fcd8-f77a-4ffa-98c0-c20ee7241602</th>\n",
       "      <td>0</td>\n",
       "      <td>0</td>\n",
       "      <td>0</td>\n",
       "      <td>1643093794362</td>\n",
       "      <td>0</td>\n",
       "      <td>1</td>\n",
       "      <td>0</td>\n",
       "      <td>1643093793611</td>\n",
       "    </tr>\n",
       "    <tr>\n",
       "      <th>66730337-5945-40e7-9898-f014de133653</th>\n",
       "      <td>0</td>\n",
       "      <td>0</td>\n",
       "      <td>0</td>\n",
       "      <td>1643093799400</td>\n",
       "      <td>0</td>\n",
       "      <td>1</td>\n",
       "      <td>0</td>\n",
       "      <td>1643093798668</td>\n",
       "    </tr>\n",
       "  </tbody>\n",
       "</table>\n",
       "</div>"
      ],
      "text/plain": [
       "                                      connectionType_x  eventId_x  logType_x  \\\n",
       "uuid                                                                           \n",
       "3d835cc9-a156-400a-bc04-a810347b1cda                 0          0          0   \n",
       "d00d4b84-bfc2-4b44-9160-f7e064193769                 0          0          0   \n",
       "7a75acd5-763b-4242-b128-c82ed863a9f6                 0          0          0   \n",
       "d3d5fcd8-f77a-4ffa-98c0-c20ee7241602                 0          0          0   \n",
       "66730337-5945-40e7-9898-f014de133653                 0          0          0   \n",
       "\n",
       "                                        timeStamp_x  connectionType_y  \\\n",
       "uuid                                                                    \n",
       "3d835cc9-a156-400a-bc04-a810347b1cda  1643093779254                 0   \n",
       "d00d4b84-bfc2-4b44-9160-f7e064193769  1643093784287                 0   \n",
       "7a75acd5-763b-4242-b128-c82ed863a9f6  1643093789323                 0   \n",
       "d3d5fcd8-f77a-4ffa-98c0-c20ee7241602  1643093794362                 0   \n",
       "66730337-5945-40e7-9898-f014de133653  1643093799400                 0   \n",
       "\n",
       "                                      eventId_y  logType_y    timeStamp_y  \n",
       "uuid                                                                       \n",
       "3d835cc9-a156-400a-bc04-a810347b1cda          1          0  1643093778705  \n",
       "d00d4b84-bfc2-4b44-9160-f7e064193769          1          0  1643093783499  \n",
       "7a75acd5-763b-4242-b128-c82ed863a9f6          1          0  1643093788586  \n",
       "d3d5fcd8-f77a-4ffa-98c0-c20ee7241602          1          0  1643093793611  \n",
       "66730337-5945-40e7-9898-f014de133653          1          0  1643093798668  "
      ]
     },
     "execution_count": 357,
     "metadata": {},
     "output_type": "execute_result"
    }
   ],
   "source": [
    "df_1h_1m.head()"
   ]
  },
  {
   "cell_type": "code",
   "execution_count": 358,
   "metadata": {},
   "outputs": [
    {
     "data": {
      "text/plain": [
       "(109, 8)"
      ]
     },
     "execution_count": 358,
     "metadata": {},
     "output_type": "execute_result"
    }
   ],
   "source": [
    "df_1h_1m.shape"
   ]
  },
  {
   "cell_type": "code",
   "execution_count": 359,
   "metadata": {},
   "outputs": [],
   "source": [
    "df_1h_1m['timeStamp_x'] = df_1h_1m['timeStamp_x'] + 264"
   ]
  },
  {
   "cell_type": "code",
   "execution_count": 360,
   "metadata": {},
   "outputs": [],
   "source": [
    "df_1h_1m['timeStamp_y'] = df_1h_1m['timeStamp_y'] + 1087"
   ]
  },
  {
   "cell_type": "code",
   "execution_count": 361,
   "metadata": {},
   "outputs": [],
   "source": [
    "df_1h_1m['delay'] = df_1h_1m['timeStamp_y'] - df_1h_1m['timeStamp_x']"
   ]
  },
  {
   "cell_type": "code",
   "execution_count": 362,
   "metadata": {},
   "outputs": [
    {
     "data": {
      "text/plain": [
       "86.0"
      ]
     },
     "execution_count": 362,
     "metadata": {},
     "output_type": "execute_result"
    }
   ],
   "source": [
    "df_1h_1m['delay'].median()"
   ]
  },
  {
   "cell_type": "code",
   "execution_count": 363,
   "metadata": {},
   "outputs": [
    {
     "data": {
      "text/plain": [
       "(109, 9)"
      ]
     },
     "execution_count": 363,
     "metadata": {},
     "output_type": "execute_result"
    }
   ],
   "source": [
    "df_1h_1m.shape"
   ]
  },
  {
   "cell_type": "markdown",
   "metadata": {},
   "source": [
    "## 5 meter delay"
   ]
  },
  {
   "cell_type": "code",
   "execution_count": 364,
   "metadata": {},
   "outputs": [],
   "source": [
    "result_elsa_1h_5m = pd.read_excel('result/result_elsa_1h_5m.xlsx', index_col=0)  "
   ]
  },
  {
   "cell_type": "code",
   "execution_count": 365,
   "metadata": {},
   "outputs": [
    {
     "data": {
      "text/plain": [
       "(110, 4)"
      ]
     },
     "execution_count": 365,
     "metadata": {},
     "output_type": "execute_result"
    }
   ],
   "source": [
    "result_elsa_1h_5m.shape"
   ]
  },
  {
   "cell_type": "code",
   "execution_count": 366,
   "metadata": {},
   "outputs": [],
   "source": [
    "result_miranda_1h_5m = pd.read_excel('result/result_miranda_1h_5m.xlsx', index_col=0)  "
   ]
  },
  {
   "cell_type": "code",
   "execution_count": 367,
   "metadata": {},
   "outputs": [
    {
     "data": {
      "text/plain": [
       "(110, 4)"
      ]
     },
     "execution_count": 367,
     "metadata": {},
     "output_type": "execute_result"
    }
   ],
   "source": [
    "result_miranda_1h_5m.shape"
   ]
  },
  {
   "cell_type": "code",
   "execution_count": 368,
   "metadata": {},
   "outputs": [],
   "source": [
    "df_1h_5m = pd.merge(result_miranda_1h_5m, result_elsa_1h_5m, on=\"uuid\")"
   ]
  },
  {
   "cell_type": "code",
   "execution_count": 369,
   "metadata": {},
   "outputs": [
    {
     "data": {
      "text/html": [
       "<div>\n",
       "<style scoped>\n",
       "    .dataframe tbody tr th:only-of-type {\n",
       "        vertical-align: middle;\n",
       "    }\n",
       "\n",
       "    .dataframe tbody tr th {\n",
       "        vertical-align: top;\n",
       "    }\n",
       "\n",
       "    .dataframe thead th {\n",
       "        text-align: right;\n",
       "    }\n",
       "</style>\n",
       "<table border=\"1\" class=\"dataframe\">\n",
       "  <thead>\n",
       "    <tr style=\"text-align: right;\">\n",
       "      <th></th>\n",
       "      <th>connectionType_x</th>\n",
       "      <th>eventId_x</th>\n",
       "      <th>logType_x</th>\n",
       "      <th>timeStamp_x</th>\n",
       "      <th>connectionType_y</th>\n",
       "      <th>eventId_y</th>\n",
       "      <th>logType_y</th>\n",
       "      <th>timeStamp_y</th>\n",
       "    </tr>\n",
       "    <tr>\n",
       "      <th>uuid</th>\n",
       "      <th></th>\n",
       "      <th></th>\n",
       "      <th></th>\n",
       "      <th></th>\n",
       "      <th></th>\n",
       "      <th></th>\n",
       "      <th></th>\n",
       "      <th></th>\n",
       "    </tr>\n",
       "  </thead>\n",
       "  <tbody>\n",
       "    <tr>\n",
       "      <th>ed27fdba-72f2-4aa1-be52-9de247ea5de1</th>\n",
       "      <td>0</td>\n",
       "      <td>0</td>\n",
       "      <td>0</td>\n",
       "      <td>1643092451748</td>\n",
       "      <td>0</td>\n",
       "      <td>1</td>\n",
       "      <td>0</td>\n",
       "      <td>1643092451021</td>\n",
       "    </tr>\n",
       "    <tr>\n",
       "      <th>f3ff84ef-cab0-40b4-b4d8-368310824554</th>\n",
       "      <td>0</td>\n",
       "      <td>0</td>\n",
       "      <td>0</td>\n",
       "      <td>1643092456782</td>\n",
       "      <td>0</td>\n",
       "      <td>1</td>\n",
       "      <td>0</td>\n",
       "      <td>1643092456032</td>\n",
       "    </tr>\n",
       "    <tr>\n",
       "      <th>d13bbbe0-d4e1-4cc7-8496-a97ee3e0f09f</th>\n",
       "      <td>0</td>\n",
       "      <td>0</td>\n",
       "      <td>0</td>\n",
       "      <td>1643092461819</td>\n",
       "      <td>0</td>\n",
       "      <td>1</td>\n",
       "      <td>0</td>\n",
       "      <td>1643092461068</td>\n",
       "    </tr>\n",
       "    <tr>\n",
       "      <th>fcf9da3a-4c5f-4467-93dc-ebbfd57ab479</th>\n",
       "      <td>0</td>\n",
       "      <td>0</td>\n",
       "      <td>0</td>\n",
       "      <td>1643092466853</td>\n",
       "      <td>0</td>\n",
       "      <td>1</td>\n",
       "      <td>0</td>\n",
       "      <td>1643092466101</td>\n",
       "    </tr>\n",
       "    <tr>\n",
       "      <th>355613d0-8f9d-491f-bd4a-328df37c55f6</th>\n",
       "      <td>0</td>\n",
       "      <td>0</td>\n",
       "      <td>0</td>\n",
       "      <td>1643092471884</td>\n",
       "      <td>0</td>\n",
       "      <td>1</td>\n",
       "      <td>0</td>\n",
       "      <td>1643092471096</td>\n",
       "    </tr>\n",
       "  </tbody>\n",
       "</table>\n",
       "</div>"
      ],
      "text/plain": [
       "                                      connectionType_x  eventId_x  logType_x  \\\n",
       "uuid                                                                           \n",
       "ed27fdba-72f2-4aa1-be52-9de247ea5de1                 0          0          0   \n",
       "f3ff84ef-cab0-40b4-b4d8-368310824554                 0          0          0   \n",
       "d13bbbe0-d4e1-4cc7-8496-a97ee3e0f09f                 0          0          0   \n",
       "fcf9da3a-4c5f-4467-93dc-ebbfd57ab479                 0          0          0   \n",
       "355613d0-8f9d-491f-bd4a-328df37c55f6                 0          0          0   \n",
       "\n",
       "                                        timeStamp_x  connectionType_y  \\\n",
       "uuid                                                                    \n",
       "ed27fdba-72f2-4aa1-be52-9de247ea5de1  1643092451748                 0   \n",
       "f3ff84ef-cab0-40b4-b4d8-368310824554  1643092456782                 0   \n",
       "d13bbbe0-d4e1-4cc7-8496-a97ee3e0f09f  1643092461819                 0   \n",
       "fcf9da3a-4c5f-4467-93dc-ebbfd57ab479  1643092466853                 0   \n",
       "355613d0-8f9d-491f-bd4a-328df37c55f6  1643092471884                 0   \n",
       "\n",
       "                                      eventId_y  logType_y    timeStamp_y  \n",
       "uuid                                                                       \n",
       "ed27fdba-72f2-4aa1-be52-9de247ea5de1          1          0  1643092451021  \n",
       "f3ff84ef-cab0-40b4-b4d8-368310824554          1          0  1643092456032  \n",
       "d13bbbe0-d4e1-4cc7-8496-a97ee3e0f09f          1          0  1643092461068  \n",
       "fcf9da3a-4c5f-4467-93dc-ebbfd57ab479          1          0  1643092466101  \n",
       "355613d0-8f9d-491f-bd4a-328df37c55f6          1          0  1643092471096  "
      ]
     },
     "execution_count": 369,
     "metadata": {},
     "output_type": "execute_result"
    }
   ],
   "source": [
    "df_1h_5m.head()"
   ]
  },
  {
   "cell_type": "code",
   "execution_count": 370,
   "metadata": {},
   "outputs": [],
   "source": [
    "df_1h_5m['timeStamp_x'] = df_1h_5m['timeStamp_x'] + 249"
   ]
  },
  {
   "cell_type": "code",
   "execution_count": 371,
   "metadata": {},
   "outputs": [],
   "source": [
    "df_1h_5m['timeStamp_y'] = df_1h_5m['timeStamp_y'] + 1108"
   ]
  },
  {
   "cell_type": "code",
   "execution_count": 372,
   "metadata": {},
   "outputs": [],
   "source": [
    "df_1h_5m['delay'] = df_1h_5m['timeStamp_y'] - df_1h_5m['timeStamp_x']"
   ]
  },
  {
   "cell_type": "code",
   "execution_count": 373,
   "metadata": {},
   "outputs": [
    {
     "data": {
      "text/plain": [
       "110.0"
      ]
     },
     "execution_count": 373,
     "metadata": {},
     "output_type": "execute_result"
    }
   ],
   "source": [
    "df_1h_5m['delay'].median()"
   ]
  },
  {
   "cell_type": "code",
   "execution_count": 374,
   "metadata": {},
   "outputs": [
    {
     "data": {
      "text/plain": [
       "(110, 9)"
      ]
     },
     "execution_count": 374,
     "metadata": {},
     "output_type": "execute_result"
    }
   ],
   "source": [
    "df_1h_5m.shape"
   ]
  },
  {
   "cell_type": "markdown",
   "metadata": {},
   "source": [
    "## 10 meter delay"
   ]
  },
  {
   "cell_type": "code",
   "execution_count": 375,
   "metadata": {},
   "outputs": [],
   "source": [
    "result_elsa_1h_10m = pd.read_excel('result/result_elsa_1h_10m.xlsx', index_col=0)  "
   ]
  },
  {
   "cell_type": "code",
   "execution_count": 376,
   "metadata": {},
   "outputs": [
    {
     "data": {
      "text/plain": [
       "(108, 4)"
      ]
     },
     "execution_count": 376,
     "metadata": {},
     "output_type": "execute_result"
    }
   ],
   "source": [
    "result_elsa_1h_10m.shape"
   ]
  },
  {
   "cell_type": "code",
   "execution_count": 377,
   "metadata": {},
   "outputs": [],
   "source": [
    "result_miranda_1h_10m = pd.read_excel('result/result_miranda_1h_10m.xlsx', index_col=0)  "
   ]
  },
  {
   "cell_type": "code",
   "execution_count": 378,
   "metadata": {},
   "outputs": [
    {
     "data": {
      "text/plain": [
       "(108, 4)"
      ]
     },
     "execution_count": 378,
     "metadata": {},
     "output_type": "execute_result"
    }
   ],
   "source": [
    "result_miranda_1h_10m.shape"
   ]
  },
  {
   "cell_type": "code",
   "execution_count": 379,
   "metadata": {},
   "outputs": [],
   "source": [
    "df_1h_10m = pd.merge(result_miranda_1h_10m, result_elsa_1h_10m, on=\"uuid\")"
   ]
  },
  {
   "cell_type": "code",
   "execution_count": 380,
   "metadata": {},
   "outputs": [
    {
     "data": {
      "text/html": [
       "<div>\n",
       "<style scoped>\n",
       "    .dataframe tbody tr th:only-of-type {\n",
       "        vertical-align: middle;\n",
       "    }\n",
       "\n",
       "    .dataframe tbody tr th {\n",
       "        vertical-align: top;\n",
       "    }\n",
       "\n",
       "    .dataframe thead th {\n",
       "        text-align: right;\n",
       "    }\n",
       "</style>\n",
       "<table border=\"1\" class=\"dataframe\">\n",
       "  <thead>\n",
       "    <tr style=\"text-align: right;\">\n",
       "      <th></th>\n",
       "      <th>connectionType_x</th>\n",
       "      <th>eventId_x</th>\n",
       "      <th>logType_x</th>\n",
       "      <th>timeStamp_x</th>\n",
       "      <th>connectionType_y</th>\n",
       "      <th>eventId_y</th>\n",
       "      <th>logType_y</th>\n",
       "      <th>timeStamp_y</th>\n",
       "    </tr>\n",
       "    <tr>\n",
       "      <th>uuid</th>\n",
       "      <th></th>\n",
       "      <th></th>\n",
       "      <th></th>\n",
       "      <th></th>\n",
       "      <th></th>\n",
       "      <th></th>\n",
       "      <th></th>\n",
       "      <th></th>\n",
       "    </tr>\n",
       "  </thead>\n",
       "  <tbody>\n",
       "    <tr>\n",
       "      <th>42cb7b73-1195-46ee-9ae7-85952c68c30f</th>\n",
       "      <td>0</td>\n",
       "      <td>0</td>\n",
       "      <td>0</td>\n",
       "      <td>1643095244813</td>\n",
       "      <td>0</td>\n",
       "      <td>1</td>\n",
       "      <td>0</td>\n",
       "      <td>1643095244136</td>\n",
       "    </tr>\n",
       "    <tr>\n",
       "      <th>6d7601a0-6842-4a42-8680-366fee4a7a44</th>\n",
       "      <td>0</td>\n",
       "      <td>0</td>\n",
       "      <td>0</td>\n",
       "      <td>1643095249830</td>\n",
       "      <td>0</td>\n",
       "      <td>1</td>\n",
       "      <td>0</td>\n",
       "      <td>1643095249114</td>\n",
       "    </tr>\n",
       "    <tr>\n",
       "      <th>73cfce3c-2630-45eb-9fcb-b8e0eae3b0de</th>\n",
       "      <td>0</td>\n",
       "      <td>0</td>\n",
       "      <td>0</td>\n",
       "      <td>1643095254848</td>\n",
       "      <td>0</td>\n",
       "      <td>1</td>\n",
       "      <td>0</td>\n",
       "      <td>1643095254077</td>\n",
       "    </tr>\n",
       "    <tr>\n",
       "      <th>31ec5ae4-e991-46e0-a69a-44295462638c</th>\n",
       "      <td>0</td>\n",
       "      <td>0</td>\n",
       "      <td>0</td>\n",
       "      <td>1643095259881</td>\n",
       "      <td>0</td>\n",
       "      <td>1</td>\n",
       "      <td>0</td>\n",
       "      <td>1643095259166</td>\n",
       "    </tr>\n",
       "    <tr>\n",
       "      <th>4f934999-8e4a-427b-a8bc-41512acd81c9</th>\n",
       "      <td>0</td>\n",
       "      <td>0</td>\n",
       "      <td>0</td>\n",
       "      <td>1643095264916</td>\n",
       "      <td>0</td>\n",
       "      <td>1</td>\n",
       "      <td>0</td>\n",
       "      <td>1643095264147</td>\n",
       "    </tr>\n",
       "  </tbody>\n",
       "</table>\n",
       "</div>"
      ],
      "text/plain": [
       "                                      connectionType_x  eventId_x  logType_x  \\\n",
       "uuid                                                                           \n",
       "42cb7b73-1195-46ee-9ae7-85952c68c30f                 0          0          0   \n",
       "6d7601a0-6842-4a42-8680-366fee4a7a44                 0          0          0   \n",
       "73cfce3c-2630-45eb-9fcb-b8e0eae3b0de                 0          0          0   \n",
       "31ec5ae4-e991-46e0-a69a-44295462638c                 0          0          0   \n",
       "4f934999-8e4a-427b-a8bc-41512acd81c9                 0          0          0   \n",
       "\n",
       "                                        timeStamp_x  connectionType_y  \\\n",
       "uuid                                                                    \n",
       "42cb7b73-1195-46ee-9ae7-85952c68c30f  1643095244813                 0   \n",
       "6d7601a0-6842-4a42-8680-366fee4a7a44  1643095249830                 0   \n",
       "73cfce3c-2630-45eb-9fcb-b8e0eae3b0de  1643095254848                 0   \n",
       "31ec5ae4-e991-46e0-a69a-44295462638c  1643095259881                 0   \n",
       "4f934999-8e4a-427b-a8bc-41512acd81c9  1643095264916                 0   \n",
       "\n",
       "                                      eventId_y  logType_y    timeStamp_y  \n",
       "uuid                                                                       \n",
       "42cb7b73-1195-46ee-9ae7-85952c68c30f          1          0  1643095244136  \n",
       "6d7601a0-6842-4a42-8680-366fee4a7a44          1          0  1643095249114  \n",
       "73cfce3c-2630-45eb-9fcb-b8e0eae3b0de          1          0  1643095254077  \n",
       "31ec5ae4-e991-46e0-a69a-44295462638c          1          0  1643095259166  \n",
       "4f934999-8e4a-427b-a8bc-41512acd81c9          1          0  1643095264147  "
      ]
     },
     "execution_count": 380,
     "metadata": {},
     "output_type": "execute_result"
    }
   ],
   "source": [
    "df_1h_10m.head()"
   ]
  },
  {
   "cell_type": "code",
   "execution_count": 381,
   "metadata": {},
   "outputs": [],
   "source": [
    "df_1h_10m['timeStamp_x'] = df_1h_10m['timeStamp_x'] + 264"
   ]
  },
  {
   "cell_type": "code",
   "execution_count": 382,
   "metadata": {},
   "outputs": [],
   "source": [
    "df_1h_10m['timeStamp_y'] = df_1h_10m['timeStamp_y'] + 1141"
   ]
  },
  {
   "cell_type": "code",
   "execution_count": 383,
   "metadata": {},
   "outputs": [],
   "source": [
    "df_1h_10m['delay'] = df_1h_10m['timeStamp_y'] - df_1h_10m['timeStamp_x']"
   ]
  },
  {
   "cell_type": "code",
   "execution_count": 384,
   "metadata": {},
   "outputs": [
    {
     "data": {
      "text/plain": [
       "126.5"
      ]
     },
     "execution_count": 384,
     "metadata": {},
     "output_type": "execute_result"
    }
   ],
   "source": [
    "df_1h_10m['delay'].median()"
   ]
  },
  {
   "cell_type": "code",
   "execution_count": 385,
   "metadata": {},
   "outputs": [
    {
     "data": {
      "text/plain": [
       "(108, 9)"
      ]
     },
     "execution_count": 385,
     "metadata": {},
     "output_type": "execute_result"
    }
   ],
   "source": [
    "df_1h_10m.shape"
   ]
  },
  {
   "cell_type": "markdown",
   "metadata": {},
   "source": [
    "## Plot"
   ]
  },
  {
   "cell_type": "code",
   "execution_count": 389,
   "metadata": {},
   "outputs": [
    {
     "data": {
      "image/png": "[encoded data removed]",
      "text/plain": [
       "<Figure size 432x288 with 1 Axes>"
      ]
     },
     "metadata": {
      "needs_background": "light"
     },
     "output_type": "display_data"
    }
   ],
   "source": [
    "columns = [df_1h_1m['delay'], df_1h_5m['delay'], df_1h_10m['delay'] ]\n",
    "labels = ['1','5','10']\n",
    "\n",
    "fig, ax = plt.subplots()\n",
    "bplot1 = ax.boxplot(columns, \n",
    "            vert=True,  # vertical box alignment\n",
    "            patch_artist=False,  # fill with color\n",
    "            showfliers=False,\n",
    "            showmeans=True,\n",
    "            labels=labels)\n",
    "\n",
    "ax.set_ylabel('delay (ms)')\n",
    "ax.set_xlabel('distance (m)')\n",
    "\n",
    "\n",
    "# fill with colors\n",
    "# colors = ['lightgreen', 'lightblue', 'lightred']\n",
    "# for bplot in (bplot1, ):\n",
    "#     for patch, color in zip(bplot['boxes'], colors):\n",
    "#         patch.set_facecolor(color)\n",
    "plt.savefig('plots/single-hop-delay-plot.png', dpi=300,)\n",
    "plt.show()\n"
   ]
  },
  {
   "cell_type": "code",
   "execution_count": null,
   "metadata": {},
   "outputs": [],
   "source": []
  },
  {
   "cell_type": "code",
   "execution_count": null,
   "metadata": {},
   "outputs": [],
   "source": []
  },
  {
   "cell_type": "code",
   "execution_count": null,
   "metadata": {},
   "outputs": [],
   "source": []
  },
  {
   "cell_type": "code",
   "execution_count": null,
   "metadata": {},
   "outputs": [],
   "source": []
  },
  {
   "cell_type": "code",
   "execution_count": null,
   "metadata": {},
   "outputs": [],
   "source": []
  },
  {
   "cell_type": "code",
   "execution_count": null,
   "metadata": {},
   "outputs": [],
   "source": []
  },
  {
   "cell_type": "code",
   "execution_count": null,
   "metadata": {},
   "outputs": [],
   "source": []
  },
  {
   "cell_type": "code",
   "execution_count": null,
   "metadata": {},
   "outputs": [],
   "source": []
  },
  {
   "cell_type": "code",
   "execution_count": null,
   "metadata": {},
   "outputs": [],
   "source": []
  },
  {
   "cell_type": "code",
   "execution_count": null,
   "metadata": {},
   "outputs": [],
   "source": []
  },
  {
   "cell_type": "code",
   "execution_count": null,
   "metadata": {},
   "outputs": [],
   "source": []
  }
 ],
 "metadata": {
  "kernelspec": {
   "display_name": "Python 3",
   "language": "python",
   "name": "python3"
  },
  "language_info": {
   "codemirror_mode": {
    "name": "ipython",
    "version": 3
   },
   "file_extension": ".py",
   "mimetype": "text/x-python",
   "name": "python",
   "nbconvert_exporter": "python",
   "pygments_lexer": "ipython3",
   "version": "3.8.3"
  }
 },
 "nbformat": 4,
 "nbformat_minor": 4
}
