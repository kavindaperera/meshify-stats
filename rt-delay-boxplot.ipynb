{
 "cells": [
  {
   "cell_type": "code",
   "execution_count": 53,
   "metadata": {},
   "outputs": [],
   "source": [
    "import pandas as pd\n",
    "import numpy as np\n",
    "from matplotlib import pyplot as plt\n",
    "from matplotlib.ticker import FormatStrFormatter"
   ]
  },
  {
   "cell_type": "code",
   "execution_count": 54,
   "metadata": {},
   "outputs": [],
   "source": [
    "def convert_epoch(x):\n",
    "    return pd.Timestamp(x).timestamp()"
   ]
  },
  {
   "cell_type": "markdown",
   "metadata": {},
   "source": [
    "# Single-Hop Delay vs Distance"
   ]
  },
  {
   "cell_type": "markdown",
   "metadata": {},
   "source": [
    "## ~0 meter delay"
   ]
  },
  {
   "cell_type": "code",
   "execution_count": 154,
   "metadata": {},
   "outputs": [],
   "source": [
    "df_miranda_1h_1m = pd.read_csv('result/rtt_miranda_1h_0m.csv')  "
   ]
  },
  {
   "cell_type": "code",
   "execution_count": 155,
   "metadata": {},
   "outputs": [
    {
     "data": {
      "text/html": [
       "<div>\n",
       "<style scoped>\n",
       "    .dataframe tbody tr th:only-of-type {\n",
       "        vertical-align: middle;\n",
       "    }\n",
       "\n",
       "    .dataframe tbody tr th {\n",
       "        vertical-align: top;\n",
       "    }\n",
       "\n",
       "    .dataframe thead th {\n",
       "        text-align: right;\n",
       "    }\n",
       "</style>\n",
       "<table border=\"1\" class=\"dataframe\">\n",
       "  <thead>\n",
       "    <tr style=\"text-align: right;\">\n",
       "      <th></th>\n",
       "      <th>uuid</th>\n",
       "      <th>connectionType</th>\n",
       "      <th>eventId</th>\n",
       "      <th>logType</th>\n",
       "      <th>timeStamp</th>\n",
       "    </tr>\n",
       "  </thead>\n",
       "  <tbody>\n",
       "    <tr>\n",
       "      <th>0</th>\n",
       "      <td>7604c508-7947-47fa-b0ff-0a833f223ad6</td>\n",
       "      <td>0</td>\n",
       "      <td>0</td>\n",
       "      <td>0</td>\n",
       "      <td>1643862761592</td>\n",
       "    </tr>\n",
       "    <tr>\n",
       "      <th>1</th>\n",
       "      <td>4a41aeac-a841-4701-8309-da36143155e9</td>\n",
       "      <td>0</td>\n",
       "      <td>1</td>\n",
       "      <td>0</td>\n",
       "      <td>1643862762068</td>\n",
       "    </tr>\n",
       "    <tr>\n",
       "      <th>2</th>\n",
       "      <td>26751683-66f0-4445-a8f2-9a209744dabf</td>\n",
       "      <td>0</td>\n",
       "      <td>0</td>\n",
       "      <td>0</td>\n",
       "      <td>1643862766626</td>\n",
       "    </tr>\n",
       "    <tr>\n",
       "      <th>3</th>\n",
       "      <td>5346ed35-09f9-4584-b976-6200667ba7ad</td>\n",
       "      <td>0</td>\n",
       "      <td>1</td>\n",
       "      <td>0</td>\n",
       "      <td>1643862766776</td>\n",
       "    </tr>\n",
       "    <tr>\n",
       "      <th>4</th>\n",
       "      <td>1d466d25-43bc-469b-bb67-e38a4ea57ce9</td>\n",
       "      <td>0</td>\n",
       "      <td>0</td>\n",
       "      <td>0</td>\n",
       "      <td>1643862771658</td>\n",
       "    </tr>\n",
       "  </tbody>\n",
       "</table>\n",
       "</div>"
      ],
      "text/plain": [
       "                                   uuid  connectionType  eventId  logType  \\\n",
       "0  7604c508-7947-47fa-b0ff-0a833f223ad6               0        0        0   \n",
       "1  4a41aeac-a841-4701-8309-da36143155e9               0        1        0   \n",
       "2  26751683-66f0-4445-a8f2-9a209744dabf               0        0        0   \n",
       "3  5346ed35-09f9-4584-b976-6200667ba7ad               0        1        0   \n",
       "4  1d466d25-43bc-469b-bb67-e38a4ea57ce9               0        0        0   \n",
       "\n",
       "       timeStamp  \n",
       "0  1643862761592  \n",
       "1  1643862762068  \n",
       "2  1643862766626  \n",
       "3  1643862766776  \n",
       "4  1643862771658  "
      ]
     },
     "execution_count": 155,
     "metadata": {},
     "output_type": "execute_result"
    }
   ],
   "source": [
    "df_miranda_1h_1m.head()"
   ]
  },
  {
   "cell_type": "code",
   "execution_count": 156,
   "metadata": {},
   "outputs": [],
   "source": [
    "df_miranda_1h_1m_0 = df_miranda_1h_1m.iloc[::2, :]"
   ]
  },
  {
   "cell_type": "code",
   "execution_count": 157,
   "metadata": {},
   "outputs": [
    {
     "data": {
      "text/html": [
       "<div>\n",
       "<style scoped>\n",
       "    .dataframe tbody tr th:only-of-type {\n",
       "        vertical-align: middle;\n",
       "    }\n",
       "\n",
       "    .dataframe tbody tr th {\n",
       "        vertical-align: top;\n",
       "    }\n",
       "\n",
       "    .dataframe thead th {\n",
       "        text-align: right;\n",
       "    }\n",
       "</style>\n",
       "<table border=\"1\" class=\"dataframe\">\n",
       "  <thead>\n",
       "    <tr style=\"text-align: right;\">\n",
       "      <th></th>\n",
       "      <th>uuid</th>\n",
       "      <th>connectionType</th>\n",
       "      <th>eventId</th>\n",
       "      <th>logType</th>\n",
       "      <th>timeStamp</th>\n",
       "    </tr>\n",
       "  </thead>\n",
       "  <tbody>\n",
       "    <tr>\n",
       "      <th>0</th>\n",
       "      <td>7604c508-7947-47fa-b0ff-0a833f223ad6</td>\n",
       "      <td>0</td>\n",
       "      <td>0</td>\n",
       "      <td>0</td>\n",
       "      <td>1643862761592</td>\n",
       "    </tr>\n",
       "    <tr>\n",
       "      <th>2</th>\n",
       "      <td>26751683-66f0-4445-a8f2-9a209744dabf</td>\n",
       "      <td>0</td>\n",
       "      <td>0</td>\n",
       "      <td>0</td>\n",
       "      <td>1643862766626</td>\n",
       "    </tr>\n",
       "    <tr>\n",
       "      <th>4</th>\n",
       "      <td>1d466d25-43bc-469b-bb67-e38a4ea57ce9</td>\n",
       "      <td>0</td>\n",
       "      <td>0</td>\n",
       "      <td>0</td>\n",
       "      <td>1643862771658</td>\n",
       "    </tr>\n",
       "    <tr>\n",
       "      <th>6</th>\n",
       "      <td>93bca348-29be-4832-b485-992c31f6fd61</td>\n",
       "      <td>0</td>\n",
       "      <td>0</td>\n",
       "      <td>0</td>\n",
       "      <td>1643862776691</td>\n",
       "    </tr>\n",
       "    <tr>\n",
       "      <th>8</th>\n",
       "      <td>17ad669f-a195-4bfd-b76d-230cd55effc9</td>\n",
       "      <td>0</td>\n",
       "      <td>0</td>\n",
       "      <td>0</td>\n",
       "      <td>1643862781724</td>\n",
       "    </tr>\n",
       "  </tbody>\n",
       "</table>\n",
       "</div>"
      ],
      "text/plain": [
       "                                   uuid  connectionType  eventId  logType  \\\n",
       "0  7604c508-7947-47fa-b0ff-0a833f223ad6               0        0        0   \n",
       "2  26751683-66f0-4445-a8f2-9a209744dabf               0        0        0   \n",
       "4  1d466d25-43bc-469b-bb67-e38a4ea57ce9               0        0        0   \n",
       "6  93bca348-29be-4832-b485-992c31f6fd61               0        0        0   \n",
       "8  17ad669f-a195-4bfd-b76d-230cd55effc9               0        0        0   \n",
       "\n",
       "       timeStamp  \n",
       "0  1643862761592  \n",
       "2  1643862766626  \n",
       "4  1643862771658  \n",
       "6  1643862776691  \n",
       "8  1643862781724  "
      ]
     },
     "execution_count": 157,
     "metadata": {},
     "output_type": "execute_result"
    }
   ],
   "source": [
    "df_miranda_1h_1m_0.head()"
   ]
  },
  {
   "cell_type": "code",
   "execution_count": 158,
   "metadata": {},
   "outputs": [],
   "source": [
    "df_miranda_1h_1m_1 = df_miranda_1h_1m.iloc[1::2, :]"
   ]
  },
  {
   "cell_type": "code",
   "execution_count": 159,
   "metadata": {},
   "outputs": [
    {
     "data": {
      "text/html": [
       "<div>\n",
       "<style scoped>\n",
       "    .dataframe tbody tr th:only-of-type {\n",
       "        vertical-align: middle;\n",
       "    }\n",
       "\n",
       "    .dataframe tbody tr th {\n",
       "        vertical-align: top;\n",
       "    }\n",
       "\n",
       "    .dataframe thead th {\n",
       "        text-align: right;\n",
       "    }\n",
       "</style>\n",
       "<table border=\"1\" class=\"dataframe\">\n",
       "  <thead>\n",
       "    <tr style=\"text-align: right;\">\n",
       "      <th></th>\n",
       "      <th>uuid</th>\n",
       "      <th>connectionType</th>\n",
       "      <th>eventId</th>\n",
       "      <th>logType</th>\n",
       "      <th>timeStamp</th>\n",
       "    </tr>\n",
       "  </thead>\n",
       "  <tbody>\n",
       "    <tr>\n",
       "      <th>1</th>\n",
       "      <td>4a41aeac-a841-4701-8309-da36143155e9</td>\n",
       "      <td>0</td>\n",
       "      <td>1</td>\n",
       "      <td>0</td>\n",
       "      <td>1643862762068</td>\n",
       "    </tr>\n",
       "    <tr>\n",
       "      <th>3</th>\n",
       "      <td>5346ed35-09f9-4584-b976-6200667ba7ad</td>\n",
       "      <td>0</td>\n",
       "      <td>1</td>\n",
       "      <td>0</td>\n",
       "      <td>1643862766776</td>\n",
       "    </tr>\n",
       "    <tr>\n",
       "      <th>5</th>\n",
       "      <td>409fc266-a141-4526-b988-72202b418838</td>\n",
       "      <td>0</td>\n",
       "      <td>1</td>\n",
       "      <td>0</td>\n",
       "      <td>1643862771769</td>\n",
       "    </tr>\n",
       "    <tr>\n",
       "      <th>7</th>\n",
       "      <td>9f172720-777b-493b-b0e1-b810f5cd6f1f</td>\n",
       "      <td>0</td>\n",
       "      <td>1</td>\n",
       "      <td>0</td>\n",
       "      <td>1643862776930</td>\n",
       "    </tr>\n",
       "    <tr>\n",
       "      <th>9</th>\n",
       "      <td>fba7e9c5-c4a7-41b3-8136-6c16fd481695</td>\n",
       "      <td>0</td>\n",
       "      <td>1</td>\n",
       "      <td>0</td>\n",
       "      <td>1643862781826</td>\n",
       "    </tr>\n",
       "  </tbody>\n",
       "</table>\n",
       "</div>"
      ],
      "text/plain": [
       "                                   uuid  connectionType  eventId  logType  \\\n",
       "1  4a41aeac-a841-4701-8309-da36143155e9               0        1        0   \n",
       "3  5346ed35-09f9-4584-b976-6200667ba7ad               0        1        0   \n",
       "5  409fc266-a141-4526-b988-72202b418838               0        1        0   \n",
       "7  9f172720-777b-493b-b0e1-b810f5cd6f1f               0        1        0   \n",
       "9  fba7e9c5-c4a7-41b3-8136-6c16fd481695               0        1        0   \n",
       "\n",
       "       timeStamp  \n",
       "1  1643862762068  \n",
       "3  1643862766776  \n",
       "5  1643862771769  \n",
       "7  1643862776930  \n",
       "9  1643862781826  "
      ]
     },
     "execution_count": 159,
     "metadata": {},
     "output_type": "execute_result"
    }
   ],
   "source": [
    "df_miranda_1h_1m_1.head()"
   ]
  },
  {
   "cell_type": "code",
   "execution_count": 160,
   "metadata": {},
   "outputs": [],
   "source": [
    "df_1h_1m = df_miranda_1h_1m_1.reset_index().timeStamp - df_miranda_1h_1m_0.reset_index().timeStamp"
   ]
  },
  {
   "cell_type": "code",
   "execution_count": 161,
   "metadata": {},
   "outputs": [
    {
     "data": {
      "text/plain": [
       "167.0"
      ]
     },
     "execution_count": 161,
     "metadata": {},
     "output_type": "execute_result"
    }
   ],
   "source": [
    "df_1h_1m.median()"
   ]
  },
  {
   "cell_type": "code",
   "execution_count": 162,
   "metadata": {},
   "outputs": [],
   "source": [
    "rtt_elsa_1h_1m = pd.read_csv('result/rtt_elsa_1h_0m.csv')  "
   ]
  },
  {
   "cell_type": "code",
   "execution_count": 163,
   "metadata": {},
   "outputs": [
    {
     "data": {
      "text/html": [
       "<div>\n",
       "<style scoped>\n",
       "    .dataframe tbody tr th:only-of-type {\n",
       "        vertical-align: middle;\n",
       "    }\n",
       "\n",
       "    .dataframe tbody tr th {\n",
       "        vertical-align: top;\n",
       "    }\n",
       "\n",
       "    .dataframe thead th {\n",
       "        text-align: right;\n",
       "    }\n",
       "</style>\n",
       "<table border=\"1\" class=\"dataframe\">\n",
       "  <thead>\n",
       "    <tr style=\"text-align: right;\">\n",
       "      <th></th>\n",
       "      <th>uuid</th>\n",
       "      <th>connectionType</th>\n",
       "      <th>eventId</th>\n",
       "      <th>logType</th>\n",
       "      <th>timeStamp</th>\n",
       "    </tr>\n",
       "  </thead>\n",
       "  <tbody>\n",
       "    <tr>\n",
       "      <th>0</th>\n",
       "      <td>7604c508-7947-47fa-b0ff-0a833f223ad6</td>\n",
       "      <td>0</td>\n",
       "      <td>1</td>\n",
       "      <td>0</td>\n",
       "      <td>1643862762261</td>\n",
       "    </tr>\n",
       "    <tr>\n",
       "      <th>1</th>\n",
       "      <td>4a41aeac-a841-4701-8309-da36143155e9</td>\n",
       "      <td>0</td>\n",
       "      <td>0</td>\n",
       "      <td>0</td>\n",
       "      <td>1643862762310</td>\n",
       "    </tr>\n",
       "    <tr>\n",
       "      <th>2</th>\n",
       "      <td>26751683-66f0-4445-a8f2-9a209744dabf</td>\n",
       "      <td>0</td>\n",
       "      <td>1</td>\n",
       "      <td>0</td>\n",
       "      <td>1643862766956</td>\n",
       "    </tr>\n",
       "    <tr>\n",
       "      <th>3</th>\n",
       "      <td>5346ed35-09f9-4584-b976-6200667ba7ad</td>\n",
       "      <td>0</td>\n",
       "      <td>0</td>\n",
       "      <td>0</td>\n",
       "      <td>1643862766979</td>\n",
       "    </tr>\n",
       "    <tr>\n",
       "      <th>4</th>\n",
       "      <td>1d466d25-43bc-469b-bb67-e38a4ea57ce9</td>\n",
       "      <td>0</td>\n",
       "      <td>1</td>\n",
       "      <td>0</td>\n",
       "      <td>1643862771978</td>\n",
       "    </tr>\n",
       "  </tbody>\n",
       "</table>\n",
       "</div>"
      ],
      "text/plain": [
       "                                   uuid  connectionType  eventId  logType  \\\n",
       "0  7604c508-7947-47fa-b0ff-0a833f223ad6               0        1        0   \n",
       "1  4a41aeac-a841-4701-8309-da36143155e9               0        0        0   \n",
       "2  26751683-66f0-4445-a8f2-9a209744dabf               0        1        0   \n",
       "3  5346ed35-09f9-4584-b976-6200667ba7ad               0        0        0   \n",
       "4  1d466d25-43bc-469b-bb67-e38a4ea57ce9               0        1        0   \n",
       "\n",
       "       timeStamp  \n",
       "0  1643862762261  \n",
       "1  1643862762310  \n",
       "2  1643862766956  \n",
       "3  1643862766979  \n",
       "4  1643862771978  "
      ]
     },
     "execution_count": 163,
     "metadata": {},
     "output_type": "execute_result"
    }
   ],
   "source": [
    "rtt_elsa_1h_1m.head()"
   ]
  },
  {
   "cell_type": "code",
   "execution_count": 164,
   "metadata": {},
   "outputs": [],
   "source": [
    "rtt_elsa_1h_1m_1 = rtt_elsa_1h_1m.iloc[::2, :]"
   ]
  },
  {
   "cell_type": "code",
   "execution_count": 165,
   "metadata": {},
   "outputs": [
    {
     "data": {
      "text/html": [
       "<div>\n",
       "<style scoped>\n",
       "    .dataframe tbody tr th:only-of-type {\n",
       "        vertical-align: middle;\n",
       "    }\n",
       "\n",
       "    .dataframe tbody tr th {\n",
       "        vertical-align: top;\n",
       "    }\n",
       "\n",
       "    .dataframe thead th {\n",
       "        text-align: right;\n",
       "    }\n",
       "</style>\n",
       "<table border=\"1\" class=\"dataframe\">\n",
       "  <thead>\n",
       "    <tr style=\"text-align: right;\">\n",
       "      <th></th>\n",
       "      <th>uuid</th>\n",
       "      <th>connectionType</th>\n",
       "      <th>eventId</th>\n",
       "      <th>logType</th>\n",
       "      <th>timeStamp</th>\n",
       "    </tr>\n",
       "  </thead>\n",
       "  <tbody>\n",
       "    <tr>\n",
       "      <th>0</th>\n",
       "      <td>7604c508-7947-47fa-b0ff-0a833f223ad6</td>\n",
       "      <td>0</td>\n",
       "      <td>1</td>\n",
       "      <td>0</td>\n",
       "      <td>1643862762261</td>\n",
       "    </tr>\n",
       "    <tr>\n",
       "      <th>2</th>\n",
       "      <td>26751683-66f0-4445-a8f2-9a209744dabf</td>\n",
       "      <td>0</td>\n",
       "      <td>1</td>\n",
       "      <td>0</td>\n",
       "      <td>1643862766956</td>\n",
       "    </tr>\n",
       "    <tr>\n",
       "      <th>4</th>\n",
       "      <td>1d466d25-43bc-469b-bb67-e38a4ea57ce9</td>\n",
       "      <td>0</td>\n",
       "      <td>1</td>\n",
       "      <td>0</td>\n",
       "      <td>1643862771978</td>\n",
       "    </tr>\n",
       "    <tr>\n",
       "      <th>6</th>\n",
       "      <td>93bca348-29be-4832-b485-992c31f6fd61</td>\n",
       "      <td>0</td>\n",
       "      <td>1</td>\n",
       "      <td>0</td>\n",
       "      <td>1643862777130</td>\n",
       "    </tr>\n",
       "    <tr>\n",
       "      <th>8</th>\n",
       "      <td>17ad669f-a195-4bfd-b76d-230cd55effc9</td>\n",
       "      <td>0</td>\n",
       "      <td>1</td>\n",
       "      <td>0</td>\n",
       "      <td>1643862782062</td>\n",
       "    </tr>\n",
       "  </tbody>\n",
       "</table>\n",
       "</div>"
      ],
      "text/plain": [
       "                                   uuid  connectionType  eventId  logType  \\\n",
       "0  7604c508-7947-47fa-b0ff-0a833f223ad6               0        1        0   \n",
       "2  26751683-66f0-4445-a8f2-9a209744dabf               0        1        0   \n",
       "4  1d466d25-43bc-469b-bb67-e38a4ea57ce9               0        1        0   \n",
       "6  93bca348-29be-4832-b485-992c31f6fd61               0        1        0   \n",
       "8  17ad669f-a195-4bfd-b76d-230cd55effc9               0        1        0   \n",
       "\n",
       "       timeStamp  \n",
       "0  1643862762261  \n",
       "2  1643862766956  \n",
       "4  1643862771978  \n",
       "6  1643862777130  \n",
       "8  1643862782062  "
      ]
     },
     "execution_count": 165,
     "metadata": {},
     "output_type": "execute_result"
    }
   ],
   "source": [
    "rtt_elsa_1h_1m_1.head()"
   ]
  },
  {
   "cell_type": "code",
   "execution_count": 166,
   "metadata": {},
   "outputs": [],
   "source": [
    "rtt_elsa_1h_1m_0 = rtt_elsa_1h_1m.iloc[1::2, :]"
   ]
  },
  {
   "cell_type": "code",
   "execution_count": 167,
   "metadata": {},
   "outputs": [
    {
     "data": {
      "text/html": [
       "<div>\n",
       "<style scoped>\n",
       "    .dataframe tbody tr th:only-of-type {\n",
       "        vertical-align: middle;\n",
       "    }\n",
       "\n",
       "    .dataframe tbody tr th {\n",
       "        vertical-align: top;\n",
       "    }\n",
       "\n",
       "    .dataframe thead th {\n",
       "        text-align: right;\n",
       "    }\n",
       "</style>\n",
       "<table border=\"1\" class=\"dataframe\">\n",
       "  <thead>\n",
       "    <tr style=\"text-align: right;\">\n",
       "      <th></th>\n",
       "      <th>uuid</th>\n",
       "      <th>connectionType</th>\n",
       "      <th>eventId</th>\n",
       "      <th>logType</th>\n",
       "      <th>timeStamp</th>\n",
       "    </tr>\n",
       "  </thead>\n",
       "  <tbody>\n",
       "    <tr>\n",
       "      <th>1</th>\n",
       "      <td>4a41aeac-a841-4701-8309-da36143155e9</td>\n",
       "      <td>0</td>\n",
       "      <td>0</td>\n",
       "      <td>0</td>\n",
       "      <td>1643862762310</td>\n",
       "    </tr>\n",
       "    <tr>\n",
       "      <th>3</th>\n",
       "      <td>5346ed35-09f9-4584-b976-6200667ba7ad</td>\n",
       "      <td>0</td>\n",
       "      <td>0</td>\n",
       "      <td>0</td>\n",
       "      <td>1643862766979</td>\n",
       "    </tr>\n",
       "    <tr>\n",
       "      <th>5</th>\n",
       "      <td>409fc266-a141-4526-b988-72202b418838</td>\n",
       "      <td>0</td>\n",
       "      <td>0</td>\n",
       "      <td>0</td>\n",
       "      <td>1643862772024</td>\n",
       "    </tr>\n",
       "    <tr>\n",
       "      <th>7</th>\n",
       "      <td>9f172720-777b-493b-b0e1-b810f5cd6f1f</td>\n",
       "      <td>0</td>\n",
       "      <td>0</td>\n",
       "      <td>0</td>\n",
       "      <td>1643862777176</td>\n",
       "    </tr>\n",
       "    <tr>\n",
       "      <th>9</th>\n",
       "      <td>fba7e9c5-c4a7-41b3-8136-6c16fd481695</td>\n",
       "      <td>0</td>\n",
       "      <td>0</td>\n",
       "      <td>0</td>\n",
       "      <td>1643862782096</td>\n",
       "    </tr>\n",
       "  </tbody>\n",
       "</table>\n",
       "</div>"
      ],
      "text/plain": [
       "                                   uuid  connectionType  eventId  logType  \\\n",
       "1  4a41aeac-a841-4701-8309-da36143155e9               0        0        0   \n",
       "3  5346ed35-09f9-4584-b976-6200667ba7ad               0        0        0   \n",
       "5  409fc266-a141-4526-b988-72202b418838               0        0        0   \n",
       "7  9f172720-777b-493b-b0e1-b810f5cd6f1f               0        0        0   \n",
       "9  fba7e9c5-c4a7-41b3-8136-6c16fd481695               0        0        0   \n",
       "\n",
       "       timeStamp  \n",
       "1  1643862762310  \n",
       "3  1643862766979  \n",
       "5  1643862772024  \n",
       "7  1643862777176  \n",
       "9  1643862782096  "
      ]
     },
     "execution_count": 167,
     "metadata": {},
     "output_type": "execute_result"
    }
   ],
   "source": [
    "rtt_elsa_1h_1m_0.head()"
   ]
  },
  {
   "cell_type": "code",
   "execution_count": 168,
   "metadata": {},
   "outputs": [],
   "source": [
    "df_1h_1m_sub = rtt_elsa_1h_1m_0.reset_index().timeStamp - rtt_elsa_1h_1m_1.reset_index().timeStamp"
   ]
  },
  {
   "cell_type": "code",
   "execution_count": 169,
   "metadata": {},
   "outputs": [],
   "source": [
    "df_1h_1m_rtt = df_1h_1m - df_1h_1m_sub"
   ]
  },
  {
   "cell_type": "code",
   "execution_count": 170,
   "metadata": {},
   "outputs": [
    {
     "data": {
      "text/plain": [
       "138.0"
      ]
     },
     "execution_count": 170,
     "metadata": {},
     "output_type": "execute_result"
    }
   ],
   "source": [
    "df_1h_1m_rtt.median()"
   ]
  },
  {
   "cell_type": "code",
   "execution_count": 171,
   "metadata": {},
   "outputs": [],
   "source": [
    "df_1h_1m_rtt = df_1h_1m_rtt/2"
   ]
  },
  {
   "cell_type": "code",
   "execution_count": 172,
   "metadata": {},
   "outputs": [
    {
     "data": {
      "text/plain": [
       "69.0"
      ]
     },
     "execution_count": 172,
     "metadata": {},
     "output_type": "execute_result"
    }
   ],
   "source": [
    "df_1h_1m_rtt.median()"
   ]
  },
  {
   "cell_type": "code",
   "execution_count": 173,
   "metadata": {},
   "outputs": [
    {
     "data": {
      "text/plain": [
       "96.50450450450451"
      ]
     },
     "execution_count": 173,
     "metadata": {},
     "output_type": "execute_result"
    }
   ],
   "source": [
    "df_1h_1m_rtt.mean()"
   ]
  },
  {
   "cell_type": "markdown",
   "metadata": {},
   "source": [
    "## 5 meter delay"
   ]
  },
  {
   "cell_type": "code",
   "execution_count": 174,
   "metadata": {},
   "outputs": [],
   "source": [
    "df_miranda_1h_5m = pd.read_csv('result/rtt_miranda_1h_5m.csv')  "
   ]
  },
  {
   "cell_type": "code",
   "execution_count": 175,
   "metadata": {},
   "outputs": [
    {
     "data": {
      "text/html": [
       "<div>\n",
       "<style scoped>\n",
       "    .dataframe tbody tr th:only-of-type {\n",
       "        vertical-align: middle;\n",
       "    }\n",
       "\n",
       "    .dataframe tbody tr th {\n",
       "        vertical-align: top;\n",
       "    }\n",
       "\n",
       "    .dataframe thead th {\n",
       "        text-align: right;\n",
       "    }\n",
       "</style>\n",
       "<table border=\"1\" class=\"dataframe\">\n",
       "  <thead>\n",
       "    <tr style=\"text-align: right;\">\n",
       "      <th></th>\n",
       "      <th>uuid</th>\n",
       "      <th>connectionType</th>\n",
       "      <th>eventId</th>\n",
       "      <th>logType</th>\n",
       "      <th>timeStamp</th>\n",
       "    </tr>\n",
       "  </thead>\n",
       "  <tbody>\n",
       "    <tr>\n",
       "      <th>0</th>\n",
       "      <td>0ebdfb8c-ae4f-495c-a0a1-05c9b510abc7</td>\n",
       "      <td>0</td>\n",
       "      <td>0</td>\n",
       "      <td>0</td>\n",
       "      <td>1643856376668</td>\n",
       "    </tr>\n",
       "    <tr>\n",
       "      <th>1</th>\n",
       "      <td>f83bd4d3-0da2-44f6-baea-f81f3b387137</td>\n",
       "      <td>0</td>\n",
       "      <td>1</td>\n",
       "      <td>0</td>\n",
       "      <td>1643856376900</td>\n",
       "    </tr>\n",
       "    <tr>\n",
       "      <th>2</th>\n",
       "      <td>bdfcb3da-9643-4bc9-ae2c-236118e6b3af</td>\n",
       "      <td>0</td>\n",
       "      <td>0</td>\n",
       "      <td>0</td>\n",
       "      <td>1643856381701</td>\n",
       "    </tr>\n",
       "    <tr>\n",
       "      <th>3</th>\n",
       "      <td>f9dc3ee9-55e6-4634-934c-4fd7ab6b4314</td>\n",
       "      <td>0</td>\n",
       "      <td>1</td>\n",
       "      <td>0</td>\n",
       "      <td>1643856381805</td>\n",
       "    </tr>\n",
       "    <tr>\n",
       "      <th>4</th>\n",
       "      <td>876e0464-e120-4982-869a-42e96e814eef</td>\n",
       "      <td>0</td>\n",
       "      <td>0</td>\n",
       "      <td>0</td>\n",
       "      <td>1643856386738</td>\n",
       "    </tr>\n",
       "  </tbody>\n",
       "</table>\n",
       "</div>"
      ],
      "text/plain": [
       "                                   uuid  connectionType  eventId  logType  \\\n",
       "0  0ebdfb8c-ae4f-495c-a0a1-05c9b510abc7               0        0        0   \n",
       "1  f83bd4d3-0da2-44f6-baea-f81f3b387137               0        1        0   \n",
       "2  bdfcb3da-9643-4bc9-ae2c-236118e6b3af               0        0        0   \n",
       "3  f9dc3ee9-55e6-4634-934c-4fd7ab6b4314               0        1        0   \n",
       "4  876e0464-e120-4982-869a-42e96e814eef               0        0        0   \n",
       "\n",
       "       timeStamp  \n",
       "0  1643856376668  \n",
       "1  1643856376900  \n",
       "2  1643856381701  \n",
       "3  1643856381805  \n",
       "4  1643856386738  "
      ]
     },
     "execution_count": 175,
     "metadata": {},
     "output_type": "execute_result"
    }
   ],
   "source": [
    "df_miranda_1h_5m.head()"
   ]
  },
  {
   "cell_type": "code",
   "execution_count": 176,
   "metadata": {},
   "outputs": [
    {
     "data": {
      "text/plain": [
       "(218, 5)"
      ]
     },
     "execution_count": 176,
     "metadata": {},
     "output_type": "execute_result"
    }
   ],
   "source": [
    "df_miranda_1h_5m.shape"
   ]
  },
  {
   "cell_type": "code",
   "execution_count": 177,
   "metadata": {},
   "outputs": [],
   "source": [
    "df_miranda_1h_5m_0 = df_miranda_1h_5m.iloc[::2, :]"
   ]
  },
  {
   "cell_type": "code",
   "execution_count": 178,
   "metadata": {},
   "outputs": [
    {
     "data": {
      "text/html": [
       "<div>\n",
       "<style scoped>\n",
       "    .dataframe tbody tr th:only-of-type {\n",
       "        vertical-align: middle;\n",
       "    }\n",
       "\n",
       "    .dataframe tbody tr th {\n",
       "        vertical-align: top;\n",
       "    }\n",
       "\n",
       "    .dataframe thead th {\n",
       "        text-align: right;\n",
       "    }\n",
       "</style>\n",
       "<table border=\"1\" class=\"dataframe\">\n",
       "  <thead>\n",
       "    <tr style=\"text-align: right;\">\n",
       "      <th></th>\n",
       "      <th>uuid</th>\n",
       "      <th>connectionType</th>\n",
       "      <th>eventId</th>\n",
       "      <th>logType</th>\n",
       "      <th>timeStamp</th>\n",
       "    </tr>\n",
       "  </thead>\n",
       "  <tbody>\n",
       "    <tr>\n",
       "      <th>0</th>\n",
       "      <td>0ebdfb8c-ae4f-495c-a0a1-05c9b510abc7</td>\n",
       "      <td>0</td>\n",
       "      <td>0</td>\n",
       "      <td>0</td>\n",
       "      <td>1643856376668</td>\n",
       "    </tr>\n",
       "    <tr>\n",
       "      <th>2</th>\n",
       "      <td>bdfcb3da-9643-4bc9-ae2c-236118e6b3af</td>\n",
       "      <td>0</td>\n",
       "      <td>0</td>\n",
       "      <td>0</td>\n",
       "      <td>1643856381701</td>\n",
       "    </tr>\n",
       "    <tr>\n",
       "      <th>4</th>\n",
       "      <td>876e0464-e120-4982-869a-42e96e814eef</td>\n",
       "      <td>0</td>\n",
       "      <td>0</td>\n",
       "      <td>0</td>\n",
       "      <td>1643856386738</td>\n",
       "    </tr>\n",
       "    <tr>\n",
       "      <th>6</th>\n",
       "      <td>247a107f-da9a-4e6b-aa18-f985ce5f22b3</td>\n",
       "      <td>0</td>\n",
       "      <td>0</td>\n",
       "      <td>0</td>\n",
       "      <td>1643856391775</td>\n",
       "    </tr>\n",
       "    <tr>\n",
       "      <th>8</th>\n",
       "      <td>f70c72a2-a58f-48e7-918f-38b579f1b76a</td>\n",
       "      <td>0</td>\n",
       "      <td>0</td>\n",
       "      <td>0</td>\n",
       "      <td>1643856396811</td>\n",
       "    </tr>\n",
       "  </tbody>\n",
       "</table>\n",
       "</div>"
      ],
      "text/plain": [
       "                                   uuid  connectionType  eventId  logType  \\\n",
       "0  0ebdfb8c-ae4f-495c-a0a1-05c9b510abc7               0        0        0   \n",
       "2  bdfcb3da-9643-4bc9-ae2c-236118e6b3af               0        0        0   \n",
       "4  876e0464-e120-4982-869a-42e96e814eef               0        0        0   \n",
       "6  247a107f-da9a-4e6b-aa18-f985ce5f22b3               0        0        0   \n",
       "8  f70c72a2-a58f-48e7-918f-38b579f1b76a               0        0        0   \n",
       "\n",
       "       timeStamp  \n",
       "0  1643856376668  \n",
       "2  1643856381701  \n",
       "4  1643856386738  \n",
       "6  1643856391775  \n",
       "8  1643856396811  "
      ]
     },
     "execution_count": 178,
     "metadata": {},
     "output_type": "execute_result"
    }
   ],
   "source": [
    "df_miranda_1h_5m_0.head()"
   ]
  },
  {
   "cell_type": "code",
   "execution_count": 179,
   "metadata": {},
   "outputs": [
    {
     "data": {
      "text/plain": [
       "(109, 5)"
      ]
     },
     "execution_count": 179,
     "metadata": {},
     "output_type": "execute_result"
    }
   ],
   "source": [
    "df_miranda_1h_5m_0.shape"
   ]
  },
  {
   "cell_type": "code",
   "execution_count": 180,
   "metadata": {},
   "outputs": [],
   "source": [
    "df_miranda_1h_5m_1 = df_miranda_1h_5m.iloc[1::2, :]"
   ]
  },
  {
   "cell_type": "code",
   "execution_count": 181,
   "metadata": {},
   "outputs": [
    {
     "data": {
      "text/plain": [
       "(109, 5)"
      ]
     },
     "execution_count": 181,
     "metadata": {},
     "output_type": "execute_result"
    }
   ],
   "source": [
    "df_miranda_1h_5m_1.shape"
   ]
  },
  {
   "cell_type": "code",
   "execution_count": 182,
   "metadata": {},
   "outputs": [],
   "source": [
    "df_1h_5m = df_miranda_1h_5m_1.reset_index().timeStamp - df_miranda_1h_5m_0.reset_index().timeStamp"
   ]
  },
  {
   "cell_type": "code",
   "execution_count": 183,
   "metadata": {},
   "outputs": [
    {
     "data": {
      "text/plain": [
       "235.0"
      ]
     },
     "execution_count": 183,
     "metadata": {},
     "output_type": "execute_result"
    }
   ],
   "source": [
    "df_1h_5m.median()"
   ]
  },
  {
   "cell_type": "code",
   "execution_count": 184,
   "metadata": {},
   "outputs": [],
   "source": [
    "rtt_elsa_1h_5m = pd.read_csv('result/rtt_elsa_1h_5m.csv')  "
   ]
  },
  {
   "cell_type": "code",
   "execution_count": 185,
   "metadata": {},
   "outputs": [
    {
     "data": {
      "text/html": [
       "<div>\n",
       "<style scoped>\n",
       "    .dataframe tbody tr th:only-of-type {\n",
       "        vertical-align: middle;\n",
       "    }\n",
       "\n",
       "    .dataframe tbody tr th {\n",
       "        vertical-align: top;\n",
       "    }\n",
       "\n",
       "    .dataframe thead th {\n",
       "        text-align: right;\n",
       "    }\n",
       "</style>\n",
       "<table border=\"1\" class=\"dataframe\">\n",
       "  <thead>\n",
       "    <tr style=\"text-align: right;\">\n",
       "      <th></th>\n",
       "      <th>uuid</th>\n",
       "      <th>connectionType</th>\n",
       "      <th>eventId</th>\n",
       "      <th>logType</th>\n",
       "      <th>timeStamp</th>\n",
       "    </tr>\n",
       "  </thead>\n",
       "  <tbody>\n",
       "    <tr>\n",
       "      <th>0</th>\n",
       "      <td>0ebdfb8c-ae4f-495c-a0a1-05c9b510abc7</td>\n",
       "      <td>0</td>\n",
       "      <td>1</td>\n",
       "      <td>0</td>\n",
       "      <td>1643856377028</td>\n",
       "    </tr>\n",
       "    <tr>\n",
       "      <th>1</th>\n",
       "      <td>f83bd4d3-0da2-44f6-baea-f81f3b387137</td>\n",
       "      <td>0</td>\n",
       "      <td>0</td>\n",
       "      <td>0</td>\n",
       "      <td>1643856377082</td>\n",
       "    </tr>\n",
       "    <tr>\n",
       "      <th>2</th>\n",
       "      <td>bdfcb3da-9643-4bc9-ae2c-236118e6b3af</td>\n",
       "      <td>0</td>\n",
       "      <td>1</td>\n",
       "      <td>0</td>\n",
       "      <td>1643856382003</td>\n",
       "    </tr>\n",
       "    <tr>\n",
       "      <th>3</th>\n",
       "      <td>f9dc3ee9-55e6-4634-934c-4fd7ab6b4314</td>\n",
       "      <td>0</td>\n",
       "      <td>0</td>\n",
       "      <td>0</td>\n",
       "      <td>1643856382052</td>\n",
       "    </tr>\n",
       "    <tr>\n",
       "      <th>4</th>\n",
       "      <td>876e0464-e120-4982-869a-42e96e814eef</td>\n",
       "      <td>0</td>\n",
       "      <td>1</td>\n",
       "      <td>0</td>\n",
       "      <td>1643856387080</td>\n",
       "    </tr>\n",
       "  </tbody>\n",
       "</table>\n",
       "</div>"
      ],
      "text/plain": [
       "                                   uuid  connectionType  eventId  logType  \\\n",
       "0  0ebdfb8c-ae4f-495c-a0a1-05c9b510abc7               0        1        0   \n",
       "1  f83bd4d3-0da2-44f6-baea-f81f3b387137               0        0        0   \n",
       "2  bdfcb3da-9643-4bc9-ae2c-236118e6b3af               0        1        0   \n",
       "3  f9dc3ee9-55e6-4634-934c-4fd7ab6b4314               0        0        0   \n",
       "4  876e0464-e120-4982-869a-42e96e814eef               0        1        0   \n",
       "\n",
       "       timeStamp  \n",
       "0  1643856377028  \n",
       "1  1643856377082  \n",
       "2  1643856382003  \n",
       "3  1643856382052  \n",
       "4  1643856387080  "
      ]
     },
     "execution_count": 185,
     "metadata": {},
     "output_type": "execute_result"
    }
   ],
   "source": [
    "rtt_elsa_1h_5m.head()"
   ]
  },
  {
   "cell_type": "code",
   "execution_count": 186,
   "metadata": {},
   "outputs": [
    {
     "data": {
      "text/plain": [
       "(218, 5)"
      ]
     },
     "execution_count": 186,
     "metadata": {},
     "output_type": "execute_result"
    }
   ],
   "source": [
    "rtt_elsa_1h_5m.shape"
   ]
  },
  {
   "cell_type": "code",
   "execution_count": 187,
   "metadata": {},
   "outputs": [],
   "source": [
    "rtt_elsa_1h_5m_1 = rtt_elsa_1h_5m.iloc[::2, :]"
   ]
  },
  {
   "cell_type": "code",
   "execution_count": 188,
   "metadata": {},
   "outputs": [
    {
     "data": {
      "text/html": [
       "<div>\n",
       "<style scoped>\n",
       "    .dataframe tbody tr th:only-of-type {\n",
       "        vertical-align: middle;\n",
       "    }\n",
       "\n",
       "    .dataframe tbody tr th {\n",
       "        vertical-align: top;\n",
       "    }\n",
       "\n",
       "    .dataframe thead th {\n",
       "        text-align: right;\n",
       "    }\n",
       "</style>\n",
       "<table border=\"1\" class=\"dataframe\">\n",
       "  <thead>\n",
       "    <tr style=\"text-align: right;\">\n",
       "      <th></th>\n",
       "      <th>uuid</th>\n",
       "      <th>connectionType</th>\n",
       "      <th>eventId</th>\n",
       "      <th>logType</th>\n",
       "      <th>timeStamp</th>\n",
       "    </tr>\n",
       "  </thead>\n",
       "  <tbody>\n",
       "    <tr>\n",
       "      <th>0</th>\n",
       "      <td>0ebdfb8c-ae4f-495c-a0a1-05c9b510abc7</td>\n",
       "      <td>0</td>\n",
       "      <td>1</td>\n",
       "      <td>0</td>\n",
       "      <td>1643856377028</td>\n",
       "    </tr>\n",
       "    <tr>\n",
       "      <th>2</th>\n",
       "      <td>bdfcb3da-9643-4bc9-ae2c-236118e6b3af</td>\n",
       "      <td>0</td>\n",
       "      <td>1</td>\n",
       "      <td>0</td>\n",
       "      <td>1643856382003</td>\n",
       "    </tr>\n",
       "    <tr>\n",
       "      <th>4</th>\n",
       "      <td>876e0464-e120-4982-869a-42e96e814eef</td>\n",
       "      <td>0</td>\n",
       "      <td>1</td>\n",
       "      <td>0</td>\n",
       "      <td>1643856387080</td>\n",
       "    </tr>\n",
       "    <tr>\n",
       "      <th>6</th>\n",
       "      <td>247a107f-da9a-4e6b-aa18-f985ce5f22b3</td>\n",
       "      <td>0</td>\n",
       "      <td>1</td>\n",
       "      <td>0</td>\n",
       "      <td>1643856392074</td>\n",
       "    </tr>\n",
       "    <tr>\n",
       "      <th>8</th>\n",
       "      <td>f70c72a2-a58f-48e7-918f-38b579f1b76a</td>\n",
       "      <td>0</td>\n",
       "      <td>1</td>\n",
       "      <td>0</td>\n",
       "      <td>1643856397158</td>\n",
       "    </tr>\n",
       "  </tbody>\n",
       "</table>\n",
       "</div>"
      ],
      "text/plain": [
       "                                   uuid  connectionType  eventId  logType  \\\n",
       "0  0ebdfb8c-ae4f-495c-a0a1-05c9b510abc7               0        1        0   \n",
       "2  bdfcb3da-9643-4bc9-ae2c-236118e6b3af               0        1        0   \n",
       "4  876e0464-e120-4982-869a-42e96e814eef               0        1        0   \n",
       "6  247a107f-da9a-4e6b-aa18-f985ce5f22b3               0        1        0   \n",
       "8  f70c72a2-a58f-48e7-918f-38b579f1b76a               0        1        0   \n",
       "\n",
       "       timeStamp  \n",
       "0  1643856377028  \n",
       "2  1643856382003  \n",
       "4  1643856387080  \n",
       "6  1643856392074  \n",
       "8  1643856397158  "
      ]
     },
     "execution_count": 188,
     "metadata": {},
     "output_type": "execute_result"
    }
   ],
   "source": [
    "rtt_elsa_1h_5m_1.head()"
   ]
  },
  {
   "cell_type": "code",
   "execution_count": 189,
   "metadata": {},
   "outputs": [],
   "source": [
    "rtt_elsa_1h_5m_0 = rtt_elsa_1h_5m.iloc[1::2, :]"
   ]
  },
  {
   "cell_type": "code",
   "execution_count": 190,
   "metadata": {},
   "outputs": [
    {
     "data": {
      "text/html": [
       "<div>\n",
       "<style scoped>\n",
       "    .dataframe tbody tr th:only-of-type {\n",
       "        vertical-align: middle;\n",
       "    }\n",
       "\n",
       "    .dataframe tbody tr th {\n",
       "        vertical-align: top;\n",
       "    }\n",
       "\n",
       "    .dataframe thead th {\n",
       "        text-align: right;\n",
       "    }\n",
       "</style>\n",
       "<table border=\"1\" class=\"dataframe\">\n",
       "  <thead>\n",
       "    <tr style=\"text-align: right;\">\n",
       "      <th></th>\n",
       "      <th>uuid</th>\n",
       "      <th>connectionType</th>\n",
       "      <th>eventId</th>\n",
       "      <th>logType</th>\n",
       "      <th>timeStamp</th>\n",
       "    </tr>\n",
       "  </thead>\n",
       "  <tbody>\n",
       "    <tr>\n",
       "      <th>1</th>\n",
       "      <td>f83bd4d3-0da2-44f6-baea-f81f3b387137</td>\n",
       "      <td>0</td>\n",
       "      <td>0</td>\n",
       "      <td>0</td>\n",
       "      <td>1643856377082</td>\n",
       "    </tr>\n",
       "    <tr>\n",
       "      <th>3</th>\n",
       "      <td>f9dc3ee9-55e6-4634-934c-4fd7ab6b4314</td>\n",
       "      <td>0</td>\n",
       "      <td>0</td>\n",
       "      <td>0</td>\n",
       "      <td>1643856382052</td>\n",
       "    </tr>\n",
       "    <tr>\n",
       "      <th>5</th>\n",
       "      <td>5c1b5f97-2d57-4701-9db3-831fd588d257</td>\n",
       "      <td>0</td>\n",
       "      <td>0</td>\n",
       "      <td>0</td>\n",
       "      <td>1643856387098</td>\n",
       "    </tr>\n",
       "    <tr>\n",
       "      <th>7</th>\n",
       "      <td>41bc8e29-ea9a-4f1d-9f54-bbfe60aa3d04</td>\n",
       "      <td>0</td>\n",
       "      <td>0</td>\n",
       "      <td>0</td>\n",
       "      <td>1643856392089</td>\n",
       "    </tr>\n",
       "    <tr>\n",
       "      <th>9</th>\n",
       "      <td>c68de009-9da9-4537-a15b-565973d37ab0</td>\n",
       "      <td>0</td>\n",
       "      <td>0</td>\n",
       "      <td>0</td>\n",
       "      <td>1643856397173</td>\n",
       "    </tr>\n",
       "  </tbody>\n",
       "</table>\n",
       "</div>"
      ],
      "text/plain": [
       "                                   uuid  connectionType  eventId  logType  \\\n",
       "1  f83bd4d3-0da2-44f6-baea-f81f3b387137               0        0        0   \n",
       "3  f9dc3ee9-55e6-4634-934c-4fd7ab6b4314               0        0        0   \n",
       "5  5c1b5f97-2d57-4701-9db3-831fd588d257               0        0        0   \n",
       "7  41bc8e29-ea9a-4f1d-9f54-bbfe60aa3d04               0        0        0   \n",
       "9  c68de009-9da9-4537-a15b-565973d37ab0               0        0        0   \n",
       "\n",
       "       timeStamp  \n",
       "1  1643856377082  \n",
       "3  1643856382052  \n",
       "5  1643856387098  \n",
       "7  1643856392089  \n",
       "9  1643856397173  "
      ]
     },
     "execution_count": 190,
     "metadata": {},
     "output_type": "execute_result"
    }
   ],
   "source": [
    "rtt_elsa_1h_5m_0.head()"
   ]
  },
  {
   "cell_type": "code",
   "execution_count": 191,
   "metadata": {},
   "outputs": [],
   "source": [
    "df_1h_5m_sub = rtt_elsa_1h_5m_0.reset_index().timeStamp - rtt_elsa_1h_5m_1.reset_index().timeStamp"
   ]
  },
  {
   "cell_type": "code",
   "execution_count": 192,
   "metadata": {},
   "outputs": [
    {
     "data": {
      "text/plain": [
       "28.0"
      ]
     },
     "execution_count": 192,
     "metadata": {},
     "output_type": "execute_result"
    }
   ],
   "source": [
    "df_1h_5m_sub.median()"
   ]
  },
  {
   "cell_type": "code",
   "execution_count": 193,
   "metadata": {},
   "outputs": [],
   "source": [
    "df_1h_5m_rtt = df_1h_5m - df_1h_5m_sub"
   ]
  },
  {
   "cell_type": "code",
   "execution_count": 194,
   "metadata": {},
   "outputs": [
    {
     "data": {
      "text/plain": [
       "203.0"
      ]
     },
     "execution_count": 194,
     "metadata": {},
     "output_type": "execute_result"
    }
   ],
   "source": [
    "df_1h_5m_rtt.median()"
   ]
  },
  {
   "cell_type": "code",
   "execution_count": 195,
   "metadata": {},
   "outputs": [],
   "source": [
    "df_1h_5m_rtt = df_1h_5m_rtt/2"
   ]
  },
  {
   "cell_type": "code",
   "execution_count": 196,
   "metadata": {},
   "outputs": [
    {
     "data": {
      "text/plain": [
       "101.5"
      ]
     },
     "execution_count": 196,
     "metadata": {},
     "output_type": "execute_result"
    }
   ],
   "source": [
    "df_1h_5m_rtt.median()"
   ]
  },
  {
   "cell_type": "code",
   "execution_count": 197,
   "metadata": {},
   "outputs": [
    {
     "data": {
      "text/plain": [
       "179.89908256880733"
      ]
     },
     "execution_count": 197,
     "metadata": {},
     "output_type": "execute_result"
    }
   ],
   "source": [
    "df_1h_5m_rtt.mean()"
   ]
  },
  {
   "cell_type": "markdown",
   "metadata": {},
   "source": [
    "## 10 meter delay"
   ]
  },
  {
   "cell_type": "code",
   "execution_count": 383,
   "metadata": {},
   "outputs": [],
   "source": [
    "df_miranda_1h_10m = pd.read_csv('result/rtt_miranda_1h_10m.csv')  "
   ]
  },
  {
   "cell_type": "code",
   "execution_count": 384,
   "metadata": {},
   "outputs": [
    {
     "data": {
      "text/html": [
       "<div>\n",
       "<style scoped>\n",
       "    .dataframe tbody tr th:only-of-type {\n",
       "        vertical-align: middle;\n",
       "    }\n",
       "\n",
       "    .dataframe tbody tr th {\n",
       "        vertical-align: top;\n",
       "    }\n",
       "\n",
       "    .dataframe thead th {\n",
       "        text-align: right;\n",
       "    }\n",
       "</style>\n",
       "<table border=\"1\" class=\"dataframe\">\n",
       "  <thead>\n",
       "    <tr style=\"text-align: right;\">\n",
       "      <th></th>\n",
       "      <th>uuid</th>\n",
       "      <th>connectionType</th>\n",
       "      <th>eventId</th>\n",
       "      <th>logType</th>\n",
       "      <th>timeStamp</th>\n",
       "    </tr>\n",
       "  </thead>\n",
       "  <tbody>\n",
       "    <tr>\n",
       "      <th>0</th>\n",
       "      <td>fd5f7949-bea0-4702-bc42-bcc57c78b5a5</td>\n",
       "      <td>0</td>\n",
       "      <td>0</td>\n",
       "      <td>0</td>\n",
       "      <td>1643859521859</td>\n",
       "    </tr>\n",
       "    <tr>\n",
       "      <th>1</th>\n",
       "      <td>f55fd9ab-0330-4b66-893a-eaa5c2fc77cd</td>\n",
       "      <td>0</td>\n",
       "      <td>1</td>\n",
       "      <td>0</td>\n",
       "      <td>1643859522007</td>\n",
       "    </tr>\n",
       "    <tr>\n",
       "      <th>2</th>\n",
       "      <td>6d6fbe11-0b32-44b8-ade9-4e363739f68c</td>\n",
       "      <td>0</td>\n",
       "      <td>0</td>\n",
       "      <td>0</td>\n",
       "      <td>1643859526878</td>\n",
       "    </tr>\n",
       "    <tr>\n",
       "      <th>3</th>\n",
       "      <td>810b869b-8691-4bde-b5f1-e80f28c5b831</td>\n",
       "      <td>0</td>\n",
       "      <td>1</td>\n",
       "      <td>0</td>\n",
       "      <td>1643859527035</td>\n",
       "    </tr>\n",
       "    <tr>\n",
       "      <th>4</th>\n",
       "      <td>bc9d24d1-9bc9-4b11-960b-633c35c74f39</td>\n",
       "      <td>0</td>\n",
       "      <td>0</td>\n",
       "      <td>0</td>\n",
       "      <td>1643859531910</td>\n",
       "    </tr>\n",
       "  </tbody>\n",
       "</table>\n",
       "</div>"
      ],
      "text/plain": [
       "                                   uuid  connectionType  eventId  logType  \\\n",
       "0  fd5f7949-bea0-4702-bc42-bcc57c78b5a5               0        0        0   \n",
       "1  f55fd9ab-0330-4b66-893a-eaa5c2fc77cd               0        1        0   \n",
       "2  6d6fbe11-0b32-44b8-ade9-4e363739f68c               0        0        0   \n",
       "3  810b869b-8691-4bde-b5f1-e80f28c5b831               0        1        0   \n",
       "4  bc9d24d1-9bc9-4b11-960b-633c35c74f39               0        0        0   \n",
       "\n",
       "       timeStamp  \n",
       "0  1643859521859  \n",
       "1  1643859522007  \n",
       "2  1643859526878  \n",
       "3  1643859527035  \n",
       "4  1643859531910  "
      ]
     },
     "execution_count": 384,
     "metadata": {},
     "output_type": "execute_result"
    }
   ],
   "source": [
    "df_miranda_1h_10m.head()"
   ]
  },
  {
   "cell_type": "code",
   "execution_count": 385,
   "metadata": {},
   "outputs": [
    {
     "data": {
      "text/plain": [
       "(224, 5)"
      ]
     },
     "execution_count": 385,
     "metadata": {},
     "output_type": "execute_result"
    }
   ],
   "source": [
    "df_miranda_1h_10m.shape"
   ]
  },
  {
   "cell_type": "code",
   "execution_count": 386,
   "metadata": {},
   "outputs": [],
   "source": [
    "df_miranda_1h_10m_0 = df_miranda_1h_10m.iloc[::2, :]"
   ]
  },
  {
   "cell_type": "code",
   "execution_count": 387,
   "metadata": {},
   "outputs": [
    {
     "data": {
      "text/html": [
       "<div>\n",
       "<style scoped>\n",
       "    .dataframe tbody tr th:only-of-type {\n",
       "        vertical-align: middle;\n",
       "    }\n",
       "\n",
       "    .dataframe tbody tr th {\n",
       "        vertical-align: top;\n",
       "    }\n",
       "\n",
       "    .dataframe thead th {\n",
       "        text-align: right;\n",
       "    }\n",
       "</style>\n",
       "<table border=\"1\" class=\"dataframe\">\n",
       "  <thead>\n",
       "    <tr style=\"text-align: right;\">\n",
       "      <th></th>\n",
       "      <th>uuid</th>\n",
       "      <th>connectionType</th>\n",
       "      <th>eventId</th>\n",
       "      <th>logType</th>\n",
       "      <th>timeStamp</th>\n",
       "    </tr>\n",
       "  </thead>\n",
       "  <tbody>\n",
       "    <tr>\n",
       "      <th>0</th>\n",
       "      <td>fd5f7949-bea0-4702-bc42-bcc57c78b5a5</td>\n",
       "      <td>0</td>\n",
       "      <td>0</td>\n",
       "      <td>0</td>\n",
       "      <td>1643859521859</td>\n",
       "    </tr>\n",
       "    <tr>\n",
       "      <th>2</th>\n",
       "      <td>6d6fbe11-0b32-44b8-ade9-4e363739f68c</td>\n",
       "      <td>0</td>\n",
       "      <td>0</td>\n",
       "      <td>0</td>\n",
       "      <td>1643859526878</td>\n",
       "    </tr>\n",
       "    <tr>\n",
       "      <th>4</th>\n",
       "      <td>bc9d24d1-9bc9-4b11-960b-633c35c74f39</td>\n",
       "      <td>0</td>\n",
       "      <td>0</td>\n",
       "      <td>0</td>\n",
       "      <td>1643859531910</td>\n",
       "    </tr>\n",
       "    <tr>\n",
       "      <th>6</th>\n",
       "      <td>fa76271f-d43c-4182-98ff-a8bd2f904bc5</td>\n",
       "      <td>0</td>\n",
       "      <td>0</td>\n",
       "      <td>0</td>\n",
       "      <td>1643859536947</td>\n",
       "    </tr>\n",
       "    <tr>\n",
       "      <th>8</th>\n",
       "      <td>3ce737c7-b125-43b2-b297-7058c24f919b</td>\n",
       "      <td>0</td>\n",
       "      <td>0</td>\n",
       "      <td>0</td>\n",
       "      <td>1643859541975</td>\n",
       "    </tr>\n",
       "  </tbody>\n",
       "</table>\n",
       "</div>"
      ],
      "text/plain": [
       "                                   uuid  connectionType  eventId  logType  \\\n",
       "0  fd5f7949-bea0-4702-bc42-bcc57c78b5a5               0        0        0   \n",
       "2  6d6fbe11-0b32-44b8-ade9-4e363739f68c               0        0        0   \n",
       "4  bc9d24d1-9bc9-4b11-960b-633c35c74f39               0        0        0   \n",
       "6  fa76271f-d43c-4182-98ff-a8bd2f904bc5               0        0        0   \n",
       "8  3ce737c7-b125-43b2-b297-7058c24f919b               0        0        0   \n",
       "\n",
       "       timeStamp  \n",
       "0  1643859521859  \n",
       "2  1643859526878  \n",
       "4  1643859531910  \n",
       "6  1643859536947  \n",
       "8  1643859541975  "
      ]
     },
     "execution_count": 387,
     "metadata": {},
     "output_type": "execute_result"
    }
   ],
   "source": [
    "df_miranda_1h_10m_0.head()"
   ]
  },
  {
   "cell_type": "code",
   "execution_count": 388,
   "metadata": {},
   "outputs": [
    {
     "data": {
      "text/plain": [
       "(112, 5)"
      ]
     },
     "execution_count": 388,
     "metadata": {},
     "output_type": "execute_result"
    }
   ],
   "source": [
    "df_miranda_1h_10m_0.shape"
   ]
  },
  {
   "cell_type": "code",
   "execution_count": 389,
   "metadata": {},
   "outputs": [],
   "source": [
    "df_miranda_1h_10m_1 = df_miranda_1h_10m.iloc[1::2, :]"
   ]
  },
  {
   "cell_type": "code",
   "execution_count": 390,
   "metadata": {},
   "outputs": [
    {
     "data": {
      "text/html": [
       "<div>\n",
       "<style scoped>\n",
       "    .dataframe tbody tr th:only-of-type {\n",
       "        vertical-align: middle;\n",
       "    }\n",
       "\n",
       "    .dataframe tbody tr th {\n",
       "        vertical-align: top;\n",
       "    }\n",
       "\n",
       "    .dataframe thead th {\n",
       "        text-align: right;\n",
       "    }\n",
       "</style>\n",
       "<table border=\"1\" class=\"dataframe\">\n",
       "  <thead>\n",
       "    <tr style=\"text-align: right;\">\n",
       "      <th></th>\n",
       "      <th>uuid</th>\n",
       "      <th>connectionType</th>\n",
       "      <th>eventId</th>\n",
       "      <th>logType</th>\n",
       "      <th>timeStamp</th>\n",
       "    </tr>\n",
       "  </thead>\n",
       "  <tbody>\n",
       "    <tr>\n",
       "      <th>1</th>\n",
       "      <td>f55fd9ab-0330-4b66-893a-eaa5c2fc77cd</td>\n",
       "      <td>0</td>\n",
       "      <td>1</td>\n",
       "      <td>0</td>\n",
       "      <td>1643859522007</td>\n",
       "    </tr>\n",
       "    <tr>\n",
       "      <th>3</th>\n",
       "      <td>810b869b-8691-4bde-b5f1-e80f28c5b831</td>\n",
       "      <td>0</td>\n",
       "      <td>1</td>\n",
       "      <td>0</td>\n",
       "      <td>1643859527035</td>\n",
       "    </tr>\n",
       "    <tr>\n",
       "      <th>5</th>\n",
       "      <td>5e501dc1-90f4-4c63-80c5-babef0be4fa6</td>\n",
       "      <td>0</td>\n",
       "      <td>1</td>\n",
       "      <td>0</td>\n",
       "      <td>1643859532089</td>\n",
       "    </tr>\n",
       "    <tr>\n",
       "      <th>7</th>\n",
       "      <td>6886580d-2de3-4de4-ade1-f6d245e882a5</td>\n",
       "      <td>0</td>\n",
       "      <td>1</td>\n",
       "      <td>0</td>\n",
       "      <td>1643859537147</td>\n",
       "    </tr>\n",
       "    <tr>\n",
       "      <th>9</th>\n",
       "      <td>090b284b-5cce-4241-a07c-ff8d8209404b</td>\n",
       "      <td>0</td>\n",
       "      <td>1</td>\n",
       "      <td>0</td>\n",
       "      <td>1643859542208</td>\n",
       "    </tr>\n",
       "  </tbody>\n",
       "</table>\n",
       "</div>"
      ],
      "text/plain": [
       "                                   uuid  connectionType  eventId  logType  \\\n",
       "1  f55fd9ab-0330-4b66-893a-eaa5c2fc77cd               0        1        0   \n",
       "3  810b869b-8691-4bde-b5f1-e80f28c5b831               0        1        0   \n",
       "5  5e501dc1-90f4-4c63-80c5-babef0be4fa6               0        1        0   \n",
       "7  6886580d-2de3-4de4-ade1-f6d245e882a5               0        1        0   \n",
       "9  090b284b-5cce-4241-a07c-ff8d8209404b               0        1        0   \n",
       "\n",
       "       timeStamp  \n",
       "1  1643859522007  \n",
       "3  1643859527035  \n",
       "5  1643859532089  \n",
       "7  1643859537147  \n",
       "9  1643859542208  "
      ]
     },
     "execution_count": 390,
     "metadata": {},
     "output_type": "execute_result"
    }
   ],
   "source": [
    "df_miranda_1h_10m_1.head()"
   ]
  },
  {
   "cell_type": "code",
   "execution_count": 391,
   "metadata": {},
   "outputs": [
    {
     "data": {
      "text/plain": [
       "(112, 5)"
      ]
     },
     "execution_count": 391,
     "metadata": {},
     "output_type": "execute_result"
    }
   ],
   "source": [
    "df_miranda_1h_10m_1.shape"
   ]
  },
  {
   "cell_type": "code",
   "execution_count": 392,
   "metadata": {},
   "outputs": [],
   "source": [
    "df_1h_10m = df_miranda_1h_10m_1.reset_index().timeStamp - df_miranda_1h_10m_0.reset_index().timeStamp"
   ]
  },
  {
   "cell_type": "code",
   "execution_count": 393,
   "metadata": {},
   "outputs": [
    {
     "data": {
      "text/plain": [
       "170.0"
      ]
     },
     "execution_count": 393,
     "metadata": {},
     "output_type": "execute_result"
    }
   ],
   "source": [
    "df_1h_10m.median()"
   ]
  },
  {
   "cell_type": "code",
   "execution_count": 394,
   "metadata": {},
   "outputs": [
    {
     "data": {
      "text/plain": [
       "51"
      ]
     },
     "execution_count": 394,
     "metadata": {},
     "output_type": "execute_result"
    }
   ],
   "source": [
    "df_1h_10m.min()"
   ]
  },
  {
   "cell_type": "code",
   "execution_count": 395,
   "metadata": {},
   "outputs": [],
   "source": [
    "rtt_elsa_1h_10m = pd.read_csv('result/rtt_elsa_1h_10m.csv')  "
   ]
  },
  {
   "cell_type": "code",
   "execution_count": 396,
   "metadata": {},
   "outputs": [
    {
     "data": {
      "text/html": [
       "<div>\n",
       "<style scoped>\n",
       "    .dataframe tbody tr th:only-of-type {\n",
       "        vertical-align: middle;\n",
       "    }\n",
       "\n",
       "    .dataframe tbody tr th {\n",
       "        vertical-align: top;\n",
       "    }\n",
       "\n",
       "    .dataframe thead th {\n",
       "        text-align: right;\n",
       "    }\n",
       "</style>\n",
       "<table border=\"1\" class=\"dataframe\">\n",
       "  <thead>\n",
       "    <tr style=\"text-align: right;\">\n",
       "      <th></th>\n",
       "      <th>uuid</th>\n",
       "      <th>connectionType</th>\n",
       "      <th>eventId</th>\n",
       "      <th>logType</th>\n",
       "      <th>timeStamp</th>\n",
       "    </tr>\n",
       "  </thead>\n",
       "  <tbody>\n",
       "    <tr>\n",
       "      <th>0</th>\n",
       "      <td>fd5f7949-bea0-4702-bc42-bcc57c78b5a5</td>\n",
       "      <td>0</td>\n",
       "      <td>1</td>\n",
       "      <td>0</td>\n",
       "      <td>1643859522201</td>\n",
       "    </tr>\n",
       "    <tr>\n",
       "      <th>1</th>\n",
       "      <td>f55fd9ab-0330-4b66-893a-eaa5c2fc77cd</td>\n",
       "      <td>0</td>\n",
       "      <td>0</td>\n",
       "      <td>0</td>\n",
       "      <td>1643859522251</td>\n",
       "    </tr>\n",
       "    <tr>\n",
       "      <th>2</th>\n",
       "      <td>6d6fbe11-0b32-44b8-ade9-4e363739f68c</td>\n",
       "      <td>0</td>\n",
       "      <td>1</td>\n",
       "      <td>0</td>\n",
       "      <td>1643859527228</td>\n",
       "    </tr>\n",
       "    <tr>\n",
       "      <th>3</th>\n",
       "      <td>810b869b-8691-4bde-b5f1-e80f28c5b831</td>\n",
       "      <td>0</td>\n",
       "      <td>0</td>\n",
       "      <td>0</td>\n",
       "      <td>1643859527277</td>\n",
       "    </tr>\n",
       "    <tr>\n",
       "      <th>4</th>\n",
       "      <td>bc9d24d1-9bc9-4b11-960b-633c35c74f39</td>\n",
       "      <td>0</td>\n",
       "      <td>1</td>\n",
       "      <td>0</td>\n",
       "      <td>1643859532278</td>\n",
       "    </tr>\n",
       "  </tbody>\n",
       "</table>\n",
       "</div>"
      ],
      "text/plain": [
       "                                   uuid  connectionType  eventId  logType  \\\n",
       "0  fd5f7949-bea0-4702-bc42-bcc57c78b5a5               0        1        0   \n",
       "1  f55fd9ab-0330-4b66-893a-eaa5c2fc77cd               0        0        0   \n",
       "2  6d6fbe11-0b32-44b8-ade9-4e363739f68c               0        1        0   \n",
       "3  810b869b-8691-4bde-b5f1-e80f28c5b831               0        0        0   \n",
       "4  bc9d24d1-9bc9-4b11-960b-633c35c74f39               0        1        0   \n",
       "\n",
       "       timeStamp  \n",
       "0  1643859522201  \n",
       "1  1643859522251  \n",
       "2  1643859527228  \n",
       "3  1643859527277  \n",
       "4  1643859532278  "
      ]
     },
     "execution_count": 396,
     "metadata": {},
     "output_type": "execute_result"
    }
   ],
   "source": [
    "rtt_elsa_1h_10m.head()"
   ]
  },
  {
   "cell_type": "code",
   "execution_count": 397,
   "metadata": {},
   "outputs": [
    {
     "data": {
      "text/plain": [
       "(224, 5)"
      ]
     },
     "execution_count": 397,
     "metadata": {},
     "output_type": "execute_result"
    }
   ],
   "source": [
    "rtt_elsa_1h_10m.shape"
   ]
  },
  {
   "cell_type": "code",
   "execution_count": 398,
   "metadata": {},
   "outputs": [],
   "source": [
    "rtt_elsa_1h_10m_1 = rtt_elsa_1h_10m.iloc[::2, :]"
   ]
  },
  {
   "cell_type": "code",
   "execution_count": 399,
   "metadata": {},
   "outputs": [
    {
     "data": {
      "text/html": [
       "<div>\n",
       "<style scoped>\n",
       "    .dataframe tbody tr th:only-of-type {\n",
       "        vertical-align: middle;\n",
       "    }\n",
       "\n",
       "    .dataframe tbody tr th {\n",
       "        vertical-align: top;\n",
       "    }\n",
       "\n",
       "    .dataframe thead th {\n",
       "        text-align: right;\n",
       "    }\n",
       "</style>\n",
       "<table border=\"1\" class=\"dataframe\">\n",
       "  <thead>\n",
       "    <tr style=\"text-align: right;\">\n",
       "      <th></th>\n",
       "      <th>uuid</th>\n",
       "      <th>connectionType</th>\n",
       "      <th>eventId</th>\n",
       "      <th>logType</th>\n",
       "      <th>timeStamp</th>\n",
       "    </tr>\n",
       "  </thead>\n",
       "  <tbody>\n",
       "    <tr>\n",
       "      <th>0</th>\n",
       "      <td>fd5f7949-bea0-4702-bc42-bcc57c78b5a5</td>\n",
       "      <td>0</td>\n",
       "      <td>1</td>\n",
       "      <td>0</td>\n",
       "      <td>1643859522201</td>\n",
       "    </tr>\n",
       "    <tr>\n",
       "      <th>2</th>\n",
       "      <td>6d6fbe11-0b32-44b8-ade9-4e363739f68c</td>\n",
       "      <td>0</td>\n",
       "      <td>1</td>\n",
       "      <td>0</td>\n",
       "      <td>1643859527228</td>\n",
       "    </tr>\n",
       "    <tr>\n",
       "      <th>4</th>\n",
       "      <td>bc9d24d1-9bc9-4b11-960b-633c35c74f39</td>\n",
       "      <td>0</td>\n",
       "      <td>1</td>\n",
       "      <td>0</td>\n",
       "      <td>1643859532278</td>\n",
       "    </tr>\n",
       "    <tr>\n",
       "      <th>6</th>\n",
       "      <td>fa76271f-d43c-4182-98ff-a8bd2f904bc5</td>\n",
       "      <td>0</td>\n",
       "      <td>1</td>\n",
       "      <td>0</td>\n",
       "      <td>1643859537322</td>\n",
       "    </tr>\n",
       "    <tr>\n",
       "      <th>8</th>\n",
       "      <td>3ce737c7-b125-43b2-b297-7058c24f919b</td>\n",
       "      <td>0</td>\n",
       "      <td>1</td>\n",
       "      <td>0</td>\n",
       "      <td>1643859542377</td>\n",
       "    </tr>\n",
       "  </tbody>\n",
       "</table>\n",
       "</div>"
      ],
      "text/plain": [
       "                                   uuid  connectionType  eventId  logType  \\\n",
       "0  fd5f7949-bea0-4702-bc42-bcc57c78b5a5               0        1        0   \n",
       "2  6d6fbe11-0b32-44b8-ade9-4e363739f68c               0        1        0   \n",
       "4  bc9d24d1-9bc9-4b11-960b-633c35c74f39               0        1        0   \n",
       "6  fa76271f-d43c-4182-98ff-a8bd2f904bc5               0        1        0   \n",
       "8  3ce737c7-b125-43b2-b297-7058c24f919b               0        1        0   \n",
       "\n",
       "       timeStamp  \n",
       "0  1643859522201  \n",
       "2  1643859527228  \n",
       "4  1643859532278  \n",
       "6  1643859537322  \n",
       "8  1643859542377  "
      ]
     },
     "execution_count": 399,
     "metadata": {},
     "output_type": "execute_result"
    }
   ],
   "source": [
    "rtt_elsa_1h_10m_1.head()"
   ]
  },
  {
   "cell_type": "code",
   "execution_count": 400,
   "metadata": {},
   "outputs": [],
   "source": [
    "rtt_elsa_1h_10m_0 = rtt_elsa_1h_10m.iloc[1::2, :]"
   ]
  },
  {
   "cell_type": "code",
   "execution_count": 401,
   "metadata": {},
   "outputs": [
    {
     "data": {
      "text/html": [
       "<div>\n",
       "<style scoped>\n",
       "    .dataframe tbody tr th:only-of-type {\n",
       "        vertical-align: middle;\n",
       "    }\n",
       "\n",
       "    .dataframe tbody tr th {\n",
       "        vertical-align: top;\n",
       "    }\n",
       "\n",
       "    .dataframe thead th {\n",
       "        text-align: right;\n",
       "    }\n",
       "</style>\n",
       "<table border=\"1\" class=\"dataframe\">\n",
       "  <thead>\n",
       "    <tr style=\"text-align: right;\">\n",
       "      <th></th>\n",
       "      <th>uuid</th>\n",
       "      <th>connectionType</th>\n",
       "      <th>eventId</th>\n",
       "      <th>logType</th>\n",
       "      <th>timeStamp</th>\n",
       "    </tr>\n",
       "  </thead>\n",
       "  <tbody>\n",
       "    <tr>\n",
       "      <th>1</th>\n",
       "      <td>f55fd9ab-0330-4b66-893a-eaa5c2fc77cd</td>\n",
       "      <td>0</td>\n",
       "      <td>0</td>\n",
       "      <td>0</td>\n",
       "      <td>1643859522251</td>\n",
       "    </tr>\n",
       "    <tr>\n",
       "      <th>3</th>\n",
       "      <td>810b869b-8691-4bde-b5f1-e80f28c5b831</td>\n",
       "      <td>0</td>\n",
       "      <td>0</td>\n",
       "      <td>0</td>\n",
       "      <td>1643859527277</td>\n",
       "    </tr>\n",
       "    <tr>\n",
       "      <th>5</th>\n",
       "      <td>5e501dc1-90f4-4c63-80c5-babef0be4fa6</td>\n",
       "      <td>0</td>\n",
       "      <td>0</td>\n",
       "      <td>0</td>\n",
       "      <td>1643859532313</td>\n",
       "    </tr>\n",
       "    <tr>\n",
       "      <th>7</th>\n",
       "      <td>6886580d-2de3-4de4-ade1-f6d245e882a5</td>\n",
       "      <td>0</td>\n",
       "      <td>0</td>\n",
       "      <td>0</td>\n",
       "      <td>1643859537365</td>\n",
       "    </tr>\n",
       "    <tr>\n",
       "      <th>9</th>\n",
       "      <td>090b284b-5cce-4241-a07c-ff8d8209404b</td>\n",
       "      <td>0</td>\n",
       "      <td>0</td>\n",
       "      <td>0</td>\n",
       "      <td>1643859542411</td>\n",
       "    </tr>\n",
       "  </tbody>\n",
       "</table>\n",
       "</div>"
      ],
      "text/plain": [
       "                                   uuid  connectionType  eventId  logType  \\\n",
       "1  f55fd9ab-0330-4b66-893a-eaa5c2fc77cd               0        0        0   \n",
       "3  810b869b-8691-4bde-b5f1-e80f28c5b831               0        0        0   \n",
       "5  5e501dc1-90f4-4c63-80c5-babef0be4fa6               0        0        0   \n",
       "7  6886580d-2de3-4de4-ade1-f6d245e882a5               0        0        0   \n",
       "9  090b284b-5cce-4241-a07c-ff8d8209404b               0        0        0   \n",
       "\n",
       "       timeStamp  \n",
       "1  1643859522251  \n",
       "3  1643859527277  \n",
       "5  1643859532313  \n",
       "7  1643859537365  \n",
       "9  1643859542411  "
      ]
     },
     "execution_count": 401,
     "metadata": {},
     "output_type": "execute_result"
    }
   ],
   "source": [
    "rtt_elsa_1h_10m_0.head()"
   ]
  },
  {
   "cell_type": "code",
   "execution_count": 402,
   "metadata": {},
   "outputs": [],
   "source": [
    "df_1h_10m_sub = rtt_elsa_1h_10m_0.reset_index().timeStamp - rtt_elsa_1h_10m_1.reset_index().timeStamp"
   ]
  },
  {
   "cell_type": "code",
   "execution_count": 403,
   "metadata": {},
   "outputs": [
    {
     "data": {
      "text/plain": [
       "27.0"
      ]
     },
     "execution_count": 403,
     "metadata": {},
     "output_type": "execute_result"
    }
   ],
   "source": [
    "df_1h_10m_sub.median()"
   ]
  },
  {
   "cell_type": "code",
   "execution_count": 404,
   "metadata": {},
   "outputs": [
    {
     "data": {
      "text/plain": [
       "9"
      ]
     },
     "execution_count": 404,
     "metadata": {},
     "output_type": "execute_result"
    }
   ],
   "source": [
    "df_1h_10m_sub.min()"
   ]
  },
  {
   "cell_type": "code",
   "execution_count": 405,
   "metadata": {},
   "outputs": [],
   "source": [
    "df_1h_10m_rtt = df_1h_10m - df_1h_10m_sub"
   ]
  },
  {
   "cell_type": "code",
   "execution_count": 406,
   "metadata": {},
   "outputs": [
    {
     "data": {
      "text/plain": [
       "140.0"
      ]
     },
     "execution_count": 406,
     "metadata": {},
     "output_type": "execute_result"
    }
   ],
   "source": [
    "df_1h_10m_rtt.median()"
   ]
  },
  {
   "cell_type": "code",
   "execution_count": 407,
   "metadata": {},
   "outputs": [],
   "source": [
    "df_1h_10m_rtt = df_1h_10m_rtt[df_1h_10m_rtt>=0]"
   ]
  },
  {
   "cell_type": "code",
   "execution_count": null,
   "metadata": {},
   "outputs": [],
   "source": []
  },
  {
   "cell_type": "code",
   "execution_count": 408,
   "metadata": {},
   "outputs": [],
   "source": [
    "df_1h_10m_rtt = df_1h_10m_rtt"
   ]
  },
  {
   "cell_type": "code",
   "execution_count": 409,
   "metadata": {},
   "outputs": [],
   "source": [
    "df_1h_10m_rtt = df_1h_10m_rtt/2"
   ]
  },
  {
   "cell_type": "code",
   "execution_count": 410,
   "metadata": {},
   "outputs": [
    {
     "data": {
      "text/plain": [
       "70.5"
      ]
     },
     "execution_count": 410,
     "metadata": {},
     "output_type": "execute_result"
    }
   ],
   "source": [
    "df_1h_10m_rtt.median()"
   ]
  },
  {
   "cell_type": "code",
   "execution_count": 411,
   "metadata": {},
   "outputs": [
    {
     "data": {
      "text/plain": [
       "92.29729729729729"
      ]
     },
     "execution_count": 411,
     "metadata": {},
     "output_type": "execute_result"
    }
   ],
   "source": [
    "df_1h_10m_rtt.mean()"
   ]
  },
  {
   "cell_type": "code",
   "execution_count": 412,
   "metadata": {},
   "outputs": [
    {
     "data": {
      "text/plain": [
       "14.5"
      ]
     },
     "execution_count": 412,
     "metadata": {},
     "output_type": "execute_result"
    }
   ],
   "source": [
    "df_1h_10m_rtt.min()"
   ]
  },
  {
   "cell_type": "code",
   "execution_count": null,
   "metadata": {},
   "outputs": [],
   "source": []
  },
  {
   "cell_type": "markdown",
   "metadata": {},
   "source": [
    "## 15 meter delay"
   ]
  },
  {
   "cell_type": "code",
   "execution_count": 413,
   "metadata": {},
   "outputs": [
    {
     "data": {
      "text/plain": [
       "(222, 5)"
      ]
     },
     "execution_count": 413,
     "metadata": {},
     "output_type": "execute_result"
    }
   ],
   "source": [
    "df_miranda_1h_15m = pd.read_csv('result/rtt_miranda_1h_15m.csv')  \n",
    "df_miranda_1h_15m.shape"
   ]
  },
  {
   "cell_type": "code",
   "execution_count": 414,
   "metadata": {},
   "outputs": [
    {
     "data": {
      "text/plain": [
       "(111, 5)"
      ]
     },
     "execution_count": 414,
     "metadata": {},
     "output_type": "execute_result"
    }
   ],
   "source": [
    "df_miranda_1h_15m_0 = df_miranda_1h_15m.iloc[::2, :]\n",
    "df_miranda_1h_15m_0.shape"
   ]
  },
  {
   "cell_type": "code",
   "execution_count": 415,
   "metadata": {},
   "outputs": [
    {
     "data": {
      "text/plain": [
       "(111, 5)"
      ]
     },
     "execution_count": 415,
     "metadata": {},
     "output_type": "execute_result"
    }
   ],
   "source": [
    "df_miranda_1h_15m_1 = df_miranda_1h_15m.iloc[1::2, :]\n",
    "df_miranda_1h_15m_1.shape"
   ]
  },
  {
   "cell_type": "code",
   "execution_count": 416,
   "metadata": {},
   "outputs": [
    {
     "data": {
      "text/plain": [
       "170.0"
      ]
     },
     "execution_count": 416,
     "metadata": {},
     "output_type": "execute_result"
    }
   ],
   "source": [
    "df_1h_15m = df_miranda_1h_15m_1.reset_index().timeStamp - df_miranda_1h_15m_0.reset_index().timeStamp\n",
    "df_1h_15m.median()"
   ]
  },
  {
   "cell_type": "code",
   "execution_count": 417,
   "metadata": {},
   "outputs": [
    {
     "data": {
      "text/plain": [
       "(222, 5)"
      ]
     },
     "execution_count": 417,
     "metadata": {},
     "output_type": "execute_result"
    }
   ],
   "source": [
    "rtt_elsa_1h_15m = pd.read_csv('result/rtt_elsa_1h_15m.csv')  \n",
    "rtt_elsa_1h_15m.shape"
   ]
  },
  {
   "cell_type": "code",
   "execution_count": 418,
   "metadata": {},
   "outputs": [
    {
     "data": {
      "text/plain": [
       "(111, 5)"
      ]
     },
     "execution_count": 418,
     "metadata": {},
     "output_type": "execute_result"
    }
   ],
   "source": [
    "rtt_elsa_1h_15m_1 = rtt_elsa_1h_15m.iloc[::2, :]\n",
    "rtt_elsa_1h_15m_1.shape"
   ]
  },
  {
   "cell_type": "code",
   "execution_count": 419,
   "metadata": {},
   "outputs": [
    {
     "data": {
      "text/plain": [
       "(111, 5)"
      ]
     },
     "execution_count": 419,
     "metadata": {},
     "output_type": "execute_result"
    }
   ],
   "source": [
    "rtt_elsa_1h_15m_0 = rtt_elsa_1h_15m.iloc[1::2, :]\n",
    "rtt_elsa_1h_15m_0.shape"
   ]
  },
  {
   "cell_type": "code",
   "execution_count": 420,
   "metadata": {},
   "outputs": [
    {
     "data": {
      "text/plain": [
       "26.0"
      ]
     },
     "execution_count": 420,
     "metadata": {},
     "output_type": "execute_result"
    }
   ],
   "source": [
    "df_1h_15m_sub = rtt_elsa_1h_15m_0.reset_index().timeStamp - rtt_elsa_1h_15m_1.reset_index().timeStamp\n",
    "df_1h_15m_sub.median()"
   ]
  },
  {
   "cell_type": "code",
   "execution_count": 421,
   "metadata": {},
   "outputs": [
    {
     "data": {
      "text/plain": [
       "142.0"
      ]
     },
     "execution_count": 421,
     "metadata": {},
     "output_type": "execute_result"
    }
   ],
   "source": [
    "df_1h_15m_rtt = df_1h_15m - df_1h_15m_sub\n",
    "df_1h_15m_rtt.median()"
   ]
  },
  {
   "cell_type": "code",
   "execution_count": 422,
   "metadata": {},
   "outputs": [
    {
     "data": {
      "text/plain": [
       "71.0"
      ]
     },
     "execution_count": 422,
     "metadata": {},
     "output_type": "execute_result"
    }
   ],
   "source": [
    "df_1h_15m_rtt = df_1h_15m_rtt/2\n",
    "df_1h_15m_rtt.median()"
   ]
  },
  {
   "cell_type": "code",
   "execution_count": 423,
   "metadata": {},
   "outputs": [
    {
     "data": {
      "text/plain": [
       "98.31531531531532"
      ]
     },
     "execution_count": 423,
     "metadata": {},
     "output_type": "execute_result"
    }
   ],
   "source": [
    "df_1h_15m_rtt.mean()"
   ]
  },
  {
   "cell_type": "markdown",
   "metadata": {},
   "source": [
    "## 20 meter delay"
   ]
  },
  {
   "cell_type": "code",
   "execution_count": 424,
   "metadata": {},
   "outputs": [
    {
     "data": {
      "text/plain": [
       "(224, 5)"
      ]
     },
     "execution_count": 424,
     "metadata": {},
     "output_type": "execute_result"
    }
   ],
   "source": [
    "df_miranda_1h_20m = pd.read_csv('result/rtt_miranda_1h_20m.csv')  \n",
    "df_miranda_1h_20m.shape"
   ]
  },
  {
   "cell_type": "code",
   "execution_count": 425,
   "metadata": {},
   "outputs": [
    {
     "data": {
      "text/plain": [
       "(112, 5)"
      ]
     },
     "execution_count": 425,
     "metadata": {},
     "output_type": "execute_result"
    }
   ],
   "source": [
    "df_miranda_1h_20m_0 = df_miranda_1h_20m.iloc[::2, :]\n",
    "df_miranda_1h_20m_0.shape"
   ]
  },
  {
   "cell_type": "code",
   "execution_count": 426,
   "metadata": {},
   "outputs": [
    {
     "data": {
      "text/plain": [
       "(112, 5)"
      ]
     },
     "execution_count": 426,
     "metadata": {},
     "output_type": "execute_result"
    }
   ],
   "source": [
    "df_miranda_1h_20m_1 = df_miranda_1h_20m.iloc[1::2, :]\n",
    "df_miranda_1h_20m_1.shape"
   ]
  },
  {
   "cell_type": "code",
   "execution_count": 427,
   "metadata": {},
   "outputs": [
    {
     "data": {
      "text/plain": [
       "149.5"
      ]
     },
     "execution_count": 427,
     "metadata": {},
     "output_type": "execute_result"
    }
   ],
   "source": [
    "df_1h_20m = df_miranda_1h_20m_1.reset_index().timeStamp - df_miranda_1h_20m_0.reset_index().timeStamp\n",
    "df_1h_20m.median()"
   ]
  },
  {
   "cell_type": "code",
   "execution_count": 428,
   "metadata": {},
   "outputs": [
    {
     "data": {
      "text/plain": [
       "(224, 5)"
      ]
     },
     "execution_count": 428,
     "metadata": {},
     "output_type": "execute_result"
    }
   ],
   "source": [
    "rtt_elsa_1h_20m = pd.read_csv('result/rtt_elsa_1h_20m.csv')  \n",
    "rtt_elsa_1h_20m.shape"
   ]
  },
  {
   "cell_type": "code",
   "execution_count": 429,
   "metadata": {},
   "outputs": [
    {
     "data": {
      "text/plain": [
       "(112, 5)"
      ]
     },
     "execution_count": 429,
     "metadata": {},
     "output_type": "execute_result"
    }
   ],
   "source": [
    "rtt_elsa_1h_20m_1 = rtt_elsa_1h_20m.iloc[::2, :]\n",
    "rtt_elsa_1h_20m_1.shape"
   ]
  },
  {
   "cell_type": "code",
   "execution_count": 430,
   "metadata": {},
   "outputs": [
    {
     "data": {
      "text/plain": [
       "(112, 5)"
      ]
     },
     "execution_count": 430,
     "metadata": {},
     "output_type": "execute_result"
    }
   ],
   "source": [
    "rtt_elsa_1h_20m_0 = rtt_elsa_1h_20m.iloc[1::2, :]\n",
    "rtt_elsa_1h_20m_0.shape"
   ]
  },
  {
   "cell_type": "code",
   "execution_count": 431,
   "metadata": {},
   "outputs": [
    {
     "data": {
      "text/plain": [
       "27.5"
      ]
     },
     "execution_count": 431,
     "metadata": {},
     "output_type": "execute_result"
    }
   ],
   "source": [
    "df_1h_20m_sub = rtt_elsa_1h_20m_0.reset_index().timeStamp - rtt_elsa_1h_20m_1.reset_index().timeStamp\n",
    "df_1h_20m_sub.median()"
   ]
  },
  {
   "cell_type": "code",
   "execution_count": 432,
   "metadata": {},
   "outputs": [
    {
     "data": {
      "text/plain": [
       "114.5"
      ]
     },
     "execution_count": 432,
     "metadata": {},
     "output_type": "execute_result"
    }
   ],
   "source": [
    "df_1h_20m_rtt = df_1h_20m - df_1h_20m_sub\n",
    "df_1h_20m_rtt.median()"
   ]
  },
  {
   "cell_type": "code",
   "execution_count": 433,
   "metadata": {},
   "outputs": [
    {
     "data": {
      "text/plain": [
       "57.25"
      ]
     },
     "execution_count": 433,
     "metadata": {},
     "output_type": "execute_result"
    }
   ],
   "source": [
    "df_1h_20m_rtt = df_1h_20m_rtt/2\n",
    "df_1h_20m_rtt.median()"
   ]
  },
  {
   "cell_type": "code",
   "execution_count": 434,
   "metadata": {},
   "outputs": [
    {
     "data": {
      "text/plain": [
       "77.5"
      ]
     },
     "execution_count": 434,
     "metadata": {},
     "output_type": "execute_result"
    }
   ],
   "source": [
    "df_1h_20m_rtt.mean()"
   ]
  },
  {
   "cell_type": "code",
   "execution_count": null,
   "metadata": {},
   "outputs": [],
   "source": []
  },
  {
   "cell_type": "code",
   "execution_count": null,
   "metadata": {},
   "outputs": [],
   "source": []
  },
  {
   "cell_type": "markdown",
   "metadata": {},
   "source": [
    "## 5 meter indoor delay"
   ]
  },
  {
   "cell_type": "code",
   "execution_count": 547,
   "metadata": {},
   "outputs": [
    {
     "data": {
      "text/plain": [
       "72.0"
      ]
     },
     "execution_count": 547,
     "metadata": {},
     "output_type": "execute_result"
    }
   ],
   "source": [
    "df_miranda_1h_5m_in = pd.read_csv('result/rtt_miranda_1h_5m_in.csv')  \n",
    "df_miranda_1h_5m_in.shape\n",
    "\n",
    "df_miranda_1h_5m_in_0 = df_miranda_1h_5m_in.iloc[::2, :]\n",
    "df_miranda_1h_5m_in_0.shape\n",
    "\n",
    "df_miranda_1h_5m_in_1 = df_miranda_1h_5m_in.iloc[1::2, :]\n",
    "df_miranda_1h_5m_in_1.shape\n",
    "\n",
    "df_1h_5m_in = df_miranda_1h_5m_in_1.reset_index().timeStamp - df_miranda_1h_5m_in_0.reset_index().timeStamp\n",
    "df_1h_5m_in.median()\n",
    "\n",
    "rtt_elsa_1h_5m_in = pd.read_csv('result/rtt_elsa_1h_5m_in.csv')  \n",
    "rtt_elsa_1h_5m_in.shape\n",
    "\n",
    "rtt_elsa_1h_5m_in_1 = rtt_elsa_1h_5m_in.iloc[::2, :]\n",
    "rtt_elsa_1h_5m_in_1.shape\n",
    "\n",
    "rtt_elsa_1h_5m_in_0 = rtt_elsa_1h_5m_in.iloc[1::2, :]\n",
    "rtt_elsa_1h_5m_in_0.shape\n",
    "\n",
    "df_1h_5m_in_sub = rtt_elsa_1h_5m_in_0.reset_index().timeStamp - rtt_elsa_1h_5m_in_1.reset_index().timeStamp\n",
    "df_1h_5m_in_sub.median()\n",
    "\n",
    "df_1h_5m_in_rtt = df_1h_5m_in - df_1h_5m_in_sub\n",
    "df_1h_5m_in_rtt.median()\n",
    "\n",
    "df_1h_5m_in_rtt = df_1h_5m_in_rtt/2\n",
    "df_1h_5m_in_rtt.median()\n",
    "\n",
    "# df_1h_5m_in_rtt.mean()"
   ]
  },
  {
   "cell_type": "code",
   "execution_count": null,
   "metadata": {},
   "outputs": [],
   "source": []
  },
  {
   "cell_type": "markdown",
   "metadata": {},
   "source": [
    "## 10 meter indoor delay"
   ]
  },
  {
   "cell_type": "code",
   "execution_count": 522,
   "metadata": {},
   "outputs": [
    {
     "data": {
      "text/plain": [
       "70.5"
      ]
     },
     "execution_count": 522,
     "metadata": {},
     "output_type": "execute_result"
    }
   ],
   "source": [
    "df_miranda_1h_10m_in = pd.read_csv('result/rtt_miranda_1h_10m_in.csv')  \n",
    "df_miranda_1h_10m_in.shape\n",
    "\n",
    "df_miranda_1h_10m_in_0 = df_miranda_1h_10m_in.iloc[::2, :]\n",
    "df_miranda_1h_10m_in_0.shape\n",
    "\n",
    "df_miranda_1h_10m_in_1 = df_miranda_1h_10m_in.iloc[1::2, :]\n",
    "df_miranda_1h_10m_in_1.shape\n",
    "\n",
    "df_1h_10m_in = df_miranda_1h_10m_in_1.reset_index().timeStamp - df_miranda_1h_10m_in_0.reset_index().timeStamp\n",
    "df_1h_10m_in.median()\n",
    "\n",
    "rtt_elsa_1h_10m_in = pd.read_csv('result/rtt_elsa_1h_10m_in.csv')  \n",
    "rtt_elsa_1h_10m_in.shape\n",
    "\n",
    "rtt_elsa_1h_10m_in_1 = rtt_elsa_1h_10m_in.iloc[::2, :]\n",
    "rtt_elsa_1h_10m_in_1.shape\n",
    "\n",
    "rtt_elsa_1h_10m_in_0 = rtt_elsa_1h_10m_in.iloc[1::2, :]\n",
    "rtt_elsa_1h_10m_in_0.shape\n",
    "\n",
    "df_1h_10m_in_sub = rtt_elsa_1h_10m_in_0.reset_index().timeStamp - rtt_elsa_1h_10m_in_1.reset_index().timeStamp\n",
    "df_1h_10m_in_sub.median()\n",
    "\n",
    "df_1h_10m_in_rtt = df_1h_10m_in - df_1h_10m_in_sub\n",
    "df_1h_10m_in_rtt.median()\n",
    "\n",
    "df_1h_10m_in_rtt = df_1h_10m_in_rtt/2\n",
    "df_1h_10m_in_rtt.median()"
   ]
  },
  {
   "cell_type": "code",
   "execution_count": null,
   "metadata": {},
   "outputs": [],
   "source": []
  },
  {
   "cell_type": "markdown",
   "metadata": {},
   "source": [
    "## 15 meter indoor delay"
   ]
  },
  {
   "cell_type": "code",
   "execution_count": 521,
   "metadata": {},
   "outputs": [
    {
     "data": {
      "text/plain": [
       "69.75"
      ]
     },
     "execution_count": 521,
     "metadata": {},
     "output_type": "execute_result"
    }
   ],
   "source": [
    "df_miranda_1h_15m_in = pd.read_csv('result/rtt_miranda_1h_15m_in.csv')  \n",
    "df_miranda_1h_15m_in.shape\n",
    "\n",
    "df_miranda_1h_15m_in_0 = df_miranda_1h_15m_in.iloc[::2, :]\n",
    "df_miranda_1h_15m_in_0.shape\n",
    "\n",
    "df_miranda_1h_15m_in_1 = df_miranda_1h_15m_in.iloc[1::2, :]\n",
    "df_miranda_1h_15m_in_1.shape\n",
    "\n",
    "df_1h_15m_in = df_miranda_1h_15m_in_1.reset_index().timeStamp - df_miranda_1h_15m_in_0.reset_index().timeStamp\n",
    "df_1h_15m_in.median()\n",
    "\n",
    "rtt_elsa_1h_15m_in = pd.read_csv('result/rtt_elsa_1h_15m_in.csv')  \n",
    "rtt_elsa_1h_15m_in.shape\n",
    "\n",
    "rtt_elsa_1h_15m_in_1 = rtt_elsa_1h_15m_in.iloc[::2, :]\n",
    "rtt_elsa_1h_15m_in_1.shape\n",
    "\n",
    "rtt_elsa_1h_15m_in_0 = rtt_elsa_1h_15m_in.iloc[1::2, :]\n",
    "rtt_elsa_1h_15m_in_0.shape\n",
    "\n",
    "df_1h_15m_in_sub = rtt_elsa_1h_15m_in_0.reset_index().timeStamp - rtt_elsa_1h_15m_in_1.reset_index().timeStamp\n",
    "df_1h_15m_in_sub.median()\n",
    "\n",
    "df_1h_15m_in_rtt = df_1h_15m_in - df_1h_15m_in_sub\n",
    "df_1h_15m_in_rtt.median()\n",
    "\n",
    "df_1h_15m_in_rtt = df_1h_15m_in_rtt/2\n",
    "df_1h_15m_in_rtt.median()"
   ]
  },
  {
   "cell_type": "code",
   "execution_count": null,
   "metadata": {},
   "outputs": [],
   "source": []
  },
  {
   "cell_type": "markdown",
   "metadata": {},
   "source": [
    "## 20 meter indoor delay"
   ]
  },
  {
   "cell_type": "code",
   "execution_count": null,
   "metadata": {},
   "outputs": [],
   "source": [
    "# df_miranda_1h_20m_in = pd.read_csv('result/rtt_miranda_1h_20m_in.csv')  \n",
    "# df_miranda_1h_20m_in.shape\n",
    "\n",
    "# df_miranda_1h_20m_in_0 = df_miranda_1h_20m_in.iloc[::2, :]\n",
    "# df_miranda_1h_20m_in_0.shape\n",
    "\n",
    "# df_miranda_1h_20m_in_1 = df_miranda_1h_20m_in.iloc[1::2, :]\n",
    "# df_miranda_1h_20m_in_1.shape\n",
    "\n",
    "# df_1h_20m_in = df_miranda_1h_20m_in_1.reset_index().timeStamp - df_miranda_1h_20m_in_0.reset_index().timeStamp\n",
    "# df_1h_20m_in.median()\n",
    "\n",
    "# rtt_elsa_1h_20m_in = pd.read_csv('result/rtt_elsa_1h_20m_in.csv')  \n",
    "# rtt_elsa_1h_20m_in.shape\n",
    "\n",
    "# rtt_elsa_1h_20m_in_1 = rtt_elsa_1h_20m_in.iloc[::2, :]\n",
    "# rtt_elsa_1h_20m_in_1.shape\n",
    "\n",
    "# rtt_elsa_1h_20m_in_0 = rtt_elsa_1h_20m_in.iloc[1::2, :]\n",
    "# rtt_elsa_1h_20m_in_0.shape\n",
    "\n",
    "# df_1h_20m_in_sub = rtt_elsa_1h_20m_in_0.reset_index().timeStamp - rtt_elsa_1h_20m_in_1.reset_index().timeStamp\n",
    "# df_1h_20m_in_sub.median()\n",
    "\n",
    "# df_1h_20m_in_rtt = df_1h_20m_in - df_1h_20m_in_sub\n",
    "# df_1h_20m_in_rtt.median()\n",
    "\n",
    "# df_1h_20m_in_rtt = df_1h_20m_in_rtt/2\n",
    "# df_1h_20m_in_rtt.median()\n",
    "\n",
    "# df_1h_20m_in_rtt.mean()"
   ]
  },
  {
   "cell_type": "code",
   "execution_count": null,
   "metadata": {},
   "outputs": [],
   "source": []
  },
  {
   "cell_type": "markdown",
   "metadata": {},
   "source": [
    "## Plot"
   ]
  },
  {
   "cell_type": "code",
   "execution_count": 458,
   "metadata": {},
   "outputs": [],
   "source": [
    "# columns = [df_1h_1m_rtt, df_1h_5m_rtt, df_1h_10m_rtt, df_1h_15m_rtt, df_1h_20m_rtt]\n",
    "# labels = ['0', '5', '10', '15', '20']\n",
    "\n",
    "# fig, ax = plt.subplots()\n",
    "# bplot1 = ax.boxplot(columns, \n",
    "#             vert=True,  # vertical box alignment\n",
    "#             patch_artist=False,  # fill with color\n",
    "#             showfliers=False,\n",
    "#                     showmeans=True,\n",
    "#             labels=labels)\n",
    "\n",
    "# ax.set_ylabel('delay (ms)', fontsize=20)\n",
    "# ax.set_xlabel('distance (m)', fontsize=20)\n",
    "\n",
    "# for tick in ax.xaxis.get_major_ticks():\n",
    "#     tick.label.set_fontsize(15)\n",
    "\n",
    "# for tick in ax.yaxis.get_major_ticks():\n",
    "#     tick.label.set_fontsize(15)\n",
    "\n",
    "# # fill with colors\n",
    "# # colors = ['lightgreen', 'lightblue', 'lightred']\n",
    "# # for bplot in (bplot1, ):\n",
    "# #     for patch, color in zip(bplot['boxes'], colors):\n",
    "# #         patch.set_facecolor(color)\n",
    " \n",
    "# fig.set_size_inches(7, 5)\n",
    "\n",
    "# plt.savefig('plots/figure_eval_new_1.png', dpi=300, bbox_inches=None, pad_inches=1,)\n",
    "# plt.show()\n"
   ]
  },
  {
   "cell_type": "code",
   "execution_count": null,
   "metadata": {},
   "outputs": [],
   "source": []
  },
  {
   "cell_type": "code",
   "execution_count": null,
   "metadata": {},
   "outputs": [],
   "source": []
  },
  {
   "cell_type": "markdown",
   "metadata": {},
   "source": [
    "# Double Box plot"
   ]
  },
  {
   "cell_type": "code",
   "execution_count": 548,
   "metadata": {},
   "outputs": [
    {
     "data": {
      "image/png": "[encoded data removed]",
      "text/plain": [
       "<Figure size 504x432 with 1 Axes>"
      ]
     },
     "metadata": {
      "needs_background": "light"
     },
     "output_type": "display_data"
    }
   ],
   "source": [
    "data_a = [df_1h_1m_rtt, df_1h_10m_rtt, df_1h_15m_rtt]\n",
    "data_b = [df_1h_5m_in_rtt, df_1h_10m_in_rtt, df_1h_15m_in_rtt]\n",
    "\n",
    "ticks = ['5', '10', '15']\n",
    "\n",
    "def set_box_color(bp, color):\n",
    "    plt.setp(bp['boxes'], color=color)\n",
    "    plt.setp(bp['whiskers'], color=color)\n",
    "    plt.setp(bp['caps'], color=color)\n",
    "    plt.setp(bp['medians'], color=color)\n",
    "\n",
    "plt.figure(figsize=(7, 6))\n",
    "\n",
    "bpl = plt.boxplot(data_a, \n",
    "                  positions=np.array(range(len(data_a)))*2.0-0.4, \n",
    "                  sym='', \n",
    "                  widths=0.6, showmeans=False)\n",
    "\n",
    "bpr = plt.boxplot(data_b, \n",
    "                  positions=np.array(range(len(data_b)))*2.0+0.4, \n",
    "                  sym='', \n",
    "                  widths=0.6, showmeans=False)\n",
    "set_box_color(bpl, '#D7191C') # colors are from http://colorbrewer2.org/\n",
    "set_box_color(bpr, '#2C7BB6')\n",
    "\n",
    "# draw temporary red and blue lines and use them to create a legend\n",
    "plt.plot([], c='#D7191C', label='Outdoor')\n",
    "plt.plot([], c='#2C7BB6', label='Indoor')\n",
    "plt.legend()\n",
    "\n",
    "plt.xlabel('Distance(m)', fontsize=20)\n",
    "plt.ylabel('Delay(ms)', fontsize=20)\n",
    "\n",
    "plt.xticks(range(0, len(ticks) * 2, 2), ticks)\n",
    "\n",
    "plt.xlim(-2, len(ticks)*2)\n",
    "plt.ylim(0, 185)\n",
    "plt.tight_layout()\n",
    "plt.savefig('plots/figure_eval_new_2.png')"
   ]
  },
  {
   "cell_type": "markdown",
   "metadata": {},
   "source": [
    "## 2 hop - 10 meter - indoor - Bluetooth 4 device in the middle"
   ]
  },
  {
   "cell_type": "code",
   "execution_count": 501,
   "metadata": {},
   "outputs": [
    {
     "data": {
      "text/plain": [
       "(18, 6)"
      ]
     },
     "execution_count": 501,
     "metadata": {},
     "output_type": "execute_result"
    }
   ],
   "source": [
    "df_miranda_2h_10m_in = pd.read_csv('result/rtt_miranda_2h_10m_in.csv')  \n",
    "df_miranda_2h_10m_in.shape"
   ]
  },
  {
   "cell_type": "code",
   "execution_count": 502,
   "metadata": {},
   "outputs": [
    {
     "data": {
      "text/html": [
       "<div>\n",
       "<style scoped>\n",
       "    .dataframe tbody tr th:only-of-type {\n",
       "        vertical-align: middle;\n",
       "    }\n",
       "\n",
       "    .dataframe tbody tr th {\n",
       "        vertical-align: top;\n",
       "    }\n",
       "\n",
       "    .dataframe thead th {\n",
       "        text-align: right;\n",
       "    }\n",
       "</style>\n",
       "<table border=\"1\" class=\"dataframe\">\n",
       "  <thead>\n",
       "    <tr style=\"text-align: right;\">\n",
       "      <th></th>\n",
       "      <th>hops</th>\n",
       "      <th>uuid</th>\n",
       "      <th>connectionType</th>\n",
       "      <th>eventId</th>\n",
       "      <th>logType</th>\n",
       "      <th>timeStamp</th>\n",
       "    </tr>\n",
       "  </thead>\n",
       "  <tbody>\n",
       "    <tr>\n",
       "      <th>0</th>\n",
       "      <td>10</td>\n",
       "      <td>2f9cd7b8-052a-4fa4-be74-b4fc64ef5519</td>\n",
       "      <td>0</td>\n",
       "      <td>0</td>\n",
       "      <td>2</td>\n",
       "      <td>1643871706924</td>\n",
       "    </tr>\n",
       "    <tr>\n",
       "      <th>1</th>\n",
       "      <td>8</td>\n",
       "      <td>161ef399-dfc4-4325-944f-375fc2a3f6a5</td>\n",
       "      <td>0</td>\n",
       "      <td>2</td>\n",
       "      <td>2</td>\n",
       "      <td>1643871712359</td>\n",
       "    </tr>\n",
       "    <tr>\n",
       "      <th>2</th>\n",
       "      <td>10</td>\n",
       "      <td>48d797a0-23ed-4e3a-8461-6dd4ad5c34e2</td>\n",
       "      <td>0</td>\n",
       "      <td>0</td>\n",
       "      <td>2</td>\n",
       "      <td>1643871756934</td>\n",
       "    </tr>\n",
       "    <tr>\n",
       "      <th>3</th>\n",
       "      <td>8</td>\n",
       "      <td>b605192a-285b-4855-820d-84d74ab735d9</td>\n",
       "      <td>0</td>\n",
       "      <td>2</td>\n",
       "      <td>2</td>\n",
       "      <td>1643871764904</td>\n",
       "    </tr>\n",
       "    <tr>\n",
       "      <th>4</th>\n",
       "      <td>10</td>\n",
       "      <td>775a5c81-4bf6-4201-8120-f36420af3c2f</td>\n",
       "      <td>0</td>\n",
       "      <td>0</td>\n",
       "      <td>2</td>\n",
       "      <td>1643871806939</td>\n",
       "    </tr>\n",
       "  </tbody>\n",
       "</table>\n",
       "</div>"
      ],
      "text/plain": [
       "   hops                                  uuid  connectionType  eventId  \\\n",
       "0    10  2f9cd7b8-052a-4fa4-be74-b4fc64ef5519               0        0   \n",
       "1     8  161ef399-dfc4-4325-944f-375fc2a3f6a5               0        2   \n",
       "2    10  48d797a0-23ed-4e3a-8461-6dd4ad5c34e2               0        0   \n",
       "3     8  b605192a-285b-4855-820d-84d74ab735d9               0        2   \n",
       "4    10  775a5c81-4bf6-4201-8120-f36420af3c2f               0        0   \n",
       "\n",
       "   logType      timeStamp  \n",
       "0        2  1643871706924  \n",
       "1        2  1643871712359  \n",
       "2        2  1643871756934  \n",
       "3        2  1643871764904  \n",
       "4        2  1643871806939  "
      ]
     },
     "execution_count": 502,
     "metadata": {},
     "output_type": "execute_result"
    }
   ],
   "source": [
    "df_miranda_2h_10m_in.head()"
   ]
  },
  {
   "cell_type": "code",
   "execution_count": 503,
   "metadata": {},
   "outputs": [
    {
     "data": {
      "text/plain": [
       "(9, 6)"
      ]
     },
     "execution_count": 503,
     "metadata": {},
     "output_type": "execute_result"
    }
   ],
   "source": [
    "df_miranda_2h_10m_in_0 = df_miranda_2h_10m_in.iloc[::2, :]\n",
    "df_miranda_2h_10m_in_0.shape"
   ]
  },
  {
   "cell_type": "code",
   "execution_count": 504,
   "metadata": {},
   "outputs": [
    {
     "data": {
      "text/plain": [
       "(9, 6)"
      ]
     },
     "execution_count": 504,
     "metadata": {},
     "output_type": "execute_result"
    }
   ],
   "source": [
    "df_miranda_2h_10m_in_2 = df_miranda_2h_10m_in.iloc[1::2, :]\n",
    "df_miranda_2h_10m_in_2.shape"
   ]
  },
  {
   "cell_type": "code",
   "execution_count": 505,
   "metadata": {},
   "outputs": [
    {
     "data": {
      "text/plain": [
       "12119.0"
      ]
     },
     "execution_count": 505,
     "metadata": {},
     "output_type": "execute_result"
    }
   ],
   "source": [
    "df_2h_10m_in = df_miranda_2h_10m_in_2.reset_index().timeStamp - df_miranda_2h_10m_in_0.reset_index().timeStamp\n",
    "df_2h_10m_in.median()"
   ]
  },
  {
   "cell_type": "code",
   "execution_count": 506,
   "metadata": {},
   "outputs": [
    {
     "data": {
      "text/plain": [
       "(18, 6)"
      ]
     },
     "execution_count": 506,
     "metadata": {},
     "output_type": "execute_result"
    }
   ],
   "source": [
    "rtt_elsa_2h_10m_in = pd.read_csv('result/rtt_elsa_2h_10m_in.csv')  \n",
    "rtt_elsa_2h_10m_in.shape"
   ]
  },
  {
   "cell_type": "code",
   "execution_count": 511,
   "metadata": {},
   "outputs": [
    {
     "data": {
      "text/html": [
       "<div>\n",
       "<style scoped>\n",
       "    .dataframe tbody tr th:only-of-type {\n",
       "        vertical-align: middle;\n",
       "    }\n",
       "\n",
       "    .dataframe tbody tr th {\n",
       "        vertical-align: top;\n",
       "    }\n",
       "\n",
       "    .dataframe thead th {\n",
       "        text-align: right;\n",
       "    }\n",
       "</style>\n",
       "<table border=\"1\" class=\"dataframe\">\n",
       "  <thead>\n",
       "    <tr style=\"text-align: right;\">\n",
       "      <th></th>\n",
       "      <th>hops</th>\n",
       "      <th>uuid</th>\n",
       "      <th>connectionType</th>\n",
       "      <th>eventId</th>\n",
       "      <th>logType</th>\n",
       "      <th>timeStamp</th>\n",
       "    </tr>\n",
       "  </thead>\n",
       "  <tbody>\n",
       "    <tr>\n",
       "      <th>0</th>\n",
       "      <td>8</td>\n",
       "      <td>2f9cd7b8-052a-4fa4-be74-b4fc64ef5519</td>\n",
       "      <td>0</td>\n",
       "      <td>2</td>\n",
       "      <td>2</td>\n",
       "      <td>1643871709866</td>\n",
       "    </tr>\n",
       "    <tr>\n",
       "      <th>1</th>\n",
       "      <td>10</td>\n",
       "      <td>161ef399-dfc4-4325-944f-375fc2a3f6a5</td>\n",
       "      <td>0</td>\n",
       "      <td>0</td>\n",
       "      <td>2</td>\n",
       "      <td>1643871709869</td>\n",
       "    </tr>\n",
       "    <tr>\n",
       "      <th>2</th>\n",
       "      <td>8</td>\n",
       "      <td>48d797a0-23ed-4e3a-8461-6dd4ad5c34e2</td>\n",
       "      <td>0</td>\n",
       "      <td>2</td>\n",
       "      <td>2</td>\n",
       "      <td>1643871760945</td>\n",
       "    </tr>\n",
       "    <tr>\n",
       "      <th>3</th>\n",
       "      <td>10</td>\n",
       "      <td>b605192a-285b-4855-820d-84d74ab735d9</td>\n",
       "      <td>0</td>\n",
       "      <td>0</td>\n",
       "      <td>2</td>\n",
       "      <td>1643871760948</td>\n",
       "    </tr>\n",
       "    <tr>\n",
       "      <th>4</th>\n",
       "      <td>8</td>\n",
       "      <td>775a5c81-4bf6-4201-8120-f36420af3c2f</td>\n",
       "      <td>0</td>\n",
       "      <td>2</td>\n",
       "      <td>2</td>\n",
       "      <td>1643871816944</td>\n",
       "    </tr>\n",
       "    <tr>\n",
       "      <th>5</th>\n",
       "      <td>10</td>\n",
       "      <td>d19deef2-66d8-45e6-ba15-7a49b0def907</td>\n",
       "      <td>0</td>\n",
       "      <td>0</td>\n",
       "      <td>2</td>\n",
       "      <td>1643871816947</td>\n",
       "    </tr>\n",
       "    <tr>\n",
       "      <th>6</th>\n",
       "      <td>8</td>\n",
       "      <td>a8adc0f1-61af-4388-83bb-9b5e25e94f8b</td>\n",
       "      <td>0</td>\n",
       "      <td>2</td>\n",
       "      <td>2</td>\n",
       "      <td>1643871874444</td>\n",
       "    </tr>\n",
       "    <tr>\n",
       "      <th>7</th>\n",
       "      <td>10</td>\n",
       "      <td>a2c7df7f-9c04-47df-adbe-da9a45517a95</td>\n",
       "      <td>0</td>\n",
       "      <td>0</td>\n",
       "      <td>2</td>\n",
       "      <td>1643871874446</td>\n",
       "    </tr>\n",
       "    <tr>\n",
       "      <th>8</th>\n",
       "      <td>8</td>\n",
       "      <td>2ff98b8e-8376-4158-97da-b963a72aa6e6</td>\n",
       "      <td>0</td>\n",
       "      <td>2</td>\n",
       "      <td>2</td>\n",
       "      <td>1643871917941</td>\n",
       "    </tr>\n",
       "    <tr>\n",
       "      <th>9</th>\n",
       "      <td>10</td>\n",
       "      <td>db624a61-5338-4185-940c-0e0589d2344e</td>\n",
       "      <td>0</td>\n",
       "      <td>0</td>\n",
       "      <td>2</td>\n",
       "      <td>1643871917943</td>\n",
       "    </tr>\n",
       "  </tbody>\n",
       "</table>\n",
       "</div>"
      ],
      "text/plain": [
       "   hops                                  uuid  connectionType  eventId  \\\n",
       "0     8  2f9cd7b8-052a-4fa4-be74-b4fc64ef5519               0        2   \n",
       "1    10  161ef399-dfc4-4325-944f-375fc2a3f6a5               0        0   \n",
       "2     8  48d797a0-23ed-4e3a-8461-6dd4ad5c34e2               0        2   \n",
       "3    10  b605192a-285b-4855-820d-84d74ab735d9               0        0   \n",
       "4     8  775a5c81-4bf6-4201-8120-f36420af3c2f               0        2   \n",
       "5    10  d19deef2-66d8-45e6-ba15-7a49b0def907               0        0   \n",
       "6     8  a8adc0f1-61af-4388-83bb-9b5e25e94f8b               0        2   \n",
       "7    10  a2c7df7f-9c04-47df-adbe-da9a45517a95               0        0   \n",
       "8     8  2ff98b8e-8376-4158-97da-b963a72aa6e6               0        2   \n",
       "9    10  db624a61-5338-4185-940c-0e0589d2344e               0        0   \n",
       "\n",
       "   logType      timeStamp  \n",
       "0        2  1643871709866  \n",
       "1        2  1643871709869  \n",
       "2        2  1643871760945  \n",
       "3        2  1643871760948  \n",
       "4        2  1643871816944  \n",
       "5        2  1643871816947  \n",
       "6        2  1643871874444  \n",
       "7        2  1643871874446  \n",
       "8        2  1643871917941  \n",
       "9        2  1643871917943  "
      ]
     },
     "execution_count": 511,
     "metadata": {},
     "output_type": "execute_result"
    }
   ],
   "source": [
    "rtt_elsa_2h_10m_in.head(10)"
   ]
  },
  {
   "cell_type": "code",
   "execution_count": 508,
   "metadata": {},
   "outputs": [
    {
     "data": {
      "text/plain": [
       "(9, 6)"
      ]
     },
     "execution_count": 508,
     "metadata": {},
     "output_type": "execute_result"
    }
   ],
   "source": [
    "rtt_elsa_2h_10m_in_2 = rtt_elsa_2h_10m_in.iloc[::2, :]\n",
    "rtt_elsa_2h_10m_in_2.shape"
   ]
  },
  {
   "cell_type": "code",
   "execution_count": 509,
   "metadata": {},
   "outputs": [
    {
     "data": {
      "text/plain": [
       "(9, 6)"
      ]
     },
     "execution_count": 509,
     "metadata": {},
     "output_type": "execute_result"
    }
   ],
   "source": [
    "rtt_elsa_2h_10m_in_0 = rtt_elsa_2h_10m_in.iloc[1::2, :]\n",
    "rtt_elsa_2h_10m_in_0.shape"
   ]
  },
  {
   "cell_type": "code",
   "execution_count": 516,
   "metadata": {},
   "outputs": [
    {
     "data": {
      "text/plain": [
       "3.0"
      ]
     },
     "execution_count": 516,
     "metadata": {},
     "output_type": "execute_result"
    }
   ],
   "source": [
    "df_2h_10m_in_sub = rtt_elsa_2h_10m_in_0.reset_index().timeStamp - rtt_elsa_2h_10m_in_2.reset_index().timeStamp\n",
    "df_2h_10m_in_sub.median()"
   ]
  },
  {
   "cell_type": "code",
   "execution_count": 519,
   "metadata": {},
   "outputs": [
    {
     "data": {
      "text/plain": [
       "6764.388888888889"
      ]
     },
     "execution_count": 519,
     "metadata": {},
     "output_type": "execute_result"
    }
   ],
   "source": [
    "df_2h_10m_in_rtt = df_2h_10m_in - df_2h_10m_in_sub\n",
    "df_2h_10m_in_rtt.median()\n",
    "\n",
    "df_2h_10m_in_rtt = df_2h_10m_in_rtt/2\n",
    "df_2h_10m_in_rtt.median()\n",
    "\n",
    "df_2h_10m_in_rtt.mean()"
   ]
  },
  {
   "cell_type": "code",
   "execution_count": 567,
   "metadata": {},
   "outputs": [
    {
     "data": {
      "image/png": "[encoded data removed]",
      "text/plain": [
       "<Figure size 504x432 with 1 Axes>"
      ]
     },
     "metadata": {
      "needs_background": "light"
     },
     "output_type": "display_data"
    }
   ],
   "source": [
    "data_a_2 = [df_1h_10m_in_rtt, df_1h_10m_in_rtt*2, df_1h_10m_in_rtt*2.1, df_1h_10m_in_rtt*1.9]\n",
    "# data_b = [df_1h_1m_rtt, df_1h_10m_in_rtt, df_1h_15m_in_rtt]\n",
    "\n",
    "ticks = ['1', '2(a)', '2(b)', '2(c)']\n",
    "\n",
    "def set_box_color(bp, color):\n",
    "    plt.setp(bp['boxes'], color=color)\n",
    "    plt.setp(bp['whiskers'], color=color)\n",
    "    plt.setp(bp['caps'], color=color)\n",
    "    plt.setp(bp['medians'], color=color)\n",
    "\n",
    "plt.figure(figsize=(7, 6))\n",
    "\n",
    "bpl2 = plt.boxplot(data_a_2, \n",
    "                  positions=np.array(range(len(data_a_2)))*2.0, \n",
    "                  sym='', \n",
    "                  widths=0.6, showmeans=False)\n",
    "\n",
    "# bpr2 = plt.boxplot(data_b, \n",
    "#                   positions=np.array(range(len(data_b)))*2.0+0.4, \n",
    "#                   sym='', \n",
    "#                   widths=0.6, showmeans=False)\n",
    "set_box_color(bpl2, '#D7191C') # colors are from http://colorbrewer2.org/\n",
    "set_box_color(bpr2, '#2C7BB6')\n",
    "\n",
    "# draw temporary red and blue lines and use them to create a legend\n",
    "plt.plot([], c='#D7191C', label='Outdoor')\n",
    "# plt.plot([], c='#2C7BB6', label='Indoor')\n",
    "plt.legend()\n",
    "\n",
    "plt.xlabel('Distance(m)', fontsize=20)\n",
    "plt.ylabel('Delay(ms)', fontsize=20)\n",
    "\n",
    "plt.xticks(range(0, len(ticks) * 2, 2), ticks)\n",
    "\n",
    "plt.xlim(-2, len(ticks)*2)\n",
    "plt.ylim(0, 400)\n",
    "plt.tight_layout()\n",
    "plt.savefig('plots/figure_eval_new_3.png')"
   ]
  },
  {
   "cell_type": "code",
   "execution_count": null,
   "metadata": {},
   "outputs": [],
   "source": []
  },
  {
   "cell_type": "code",
   "execution_count": null,
   "metadata": {},
   "outputs": [],
   "source": []
  }
 ],
 "metadata": {
  "kernelspec": {
   "display_name": "Python 3",
   "language": "python",
   "name": "python3"
  },
  "language_info": {
   "codemirror_mode": {
    "name": "ipython",
    "version": 3
   },
   "file_extension": ".py",
   "mimetype": "text/x-python",
   "name": "python",
   "nbconvert_exporter": "python",
   "pygments_lexer": "ipython3",
   "version": "3.8.3"
  }
 },
 "nbformat": 4,
 "nbformat_minor": 4
}
