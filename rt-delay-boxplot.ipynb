{
 "cells": [
  {
   "cell_type": "code",
   "execution_count": 2,
   "metadata": {},
   "outputs": [],
   "source": [
    "import pandas as pd\n",
    "import numpy as np\n",
    "from matplotlib import pyplot as plt\n",
    "from matplotlib.ticker import FormatStrFormatter"
   ]
  },
  {
   "cell_type": "code",
   "execution_count": 3,
   "metadata": {},
   "outputs": [],
   "source": [
    "def convert_epoch(x):\n",
    "    return pd.Timestamp(x).timestamp()"
   ]
  },
  {
   "cell_type": "markdown",
   "metadata": {},
   "source": [
    "# Single-Hop Delay vs Distance"
   ]
  },
  {
   "cell_type": "markdown",
   "metadata": {},
   "source": [
    "## 1 meter delay"
   ]
  },
  {
   "cell_type": "code",
   "execution_count": 38,
   "metadata": {},
   "outputs": [],
   "source": [
    "df_miranda_1h_1m = pd.read_csv('result/rtt_miranda_1h_1m.csv')  "
   ]
  },
  {
   "cell_type": "code",
   "execution_count": 80,
   "metadata": {},
   "outputs": [
    {
     "data": {
      "text/html": [
       "<div>\n",
       "<style scoped>\n",
       "    .dataframe tbody tr th:only-of-type {\n",
       "        vertical-align: middle;\n",
       "    }\n",
       "\n",
       "    .dataframe tbody tr th {\n",
       "        vertical-align: top;\n",
       "    }\n",
       "\n",
       "    .dataframe thead th {\n",
       "        text-align: right;\n",
       "    }\n",
       "</style>\n",
       "<table border=\"1\" class=\"dataframe\">\n",
       "  <thead>\n",
       "    <tr style=\"text-align: right;\">\n",
       "      <th></th>\n",
       "      <th>uuid</th>\n",
       "      <th>connectionType</th>\n",
       "      <th>eventId</th>\n",
       "      <th>logType</th>\n",
       "      <th>timeStamp</th>\n",
       "    </tr>\n",
       "  </thead>\n",
       "  <tbody>\n",
       "    <tr>\n",
       "      <th>0</th>\n",
       "      <td>7a079314-66b8-418c-ae63-0b2dece8359c</td>\n",
       "      <td>0</td>\n",
       "      <td>0</td>\n",
       "      <td>0</td>\n",
       "      <td>1643720623967</td>\n",
       "    </tr>\n",
       "    <tr>\n",
       "      <th>1</th>\n",
       "      <td>bb730129-f7db-417f-a2ff-9aeda146dfb6</td>\n",
       "      <td>0</td>\n",
       "      <td>1</td>\n",
       "      <td>0</td>\n",
       "      <td>1643720624354</td>\n",
       "    </tr>\n",
       "    <tr>\n",
       "      <th>2</th>\n",
       "      <td>d40d2280-b2a2-4741-9cb1-de3913358c0e</td>\n",
       "      <td>0</td>\n",
       "      <td>0</td>\n",
       "      <td>0</td>\n",
       "      <td>1643720629001</td>\n",
       "    </tr>\n",
       "    <tr>\n",
       "      <th>3</th>\n",
       "      <td>c5403f79-fa99-4bb2-8862-0cd7b37fbf30</td>\n",
       "      <td>0</td>\n",
       "      <td>1</td>\n",
       "      <td>0</td>\n",
       "      <td>1643720629169</td>\n",
       "    </tr>\n",
       "    <tr>\n",
       "      <th>4</th>\n",
       "      <td>7929c291-65b9-4e05-9821-bfbdbf5d0875</td>\n",
       "      <td>0</td>\n",
       "      <td>0</td>\n",
       "      <td>0</td>\n",
       "      <td>1643720634036</td>\n",
       "    </tr>\n",
       "  </tbody>\n",
       "</table>\n",
       "</div>"
      ],
      "text/plain": [
       "                                   uuid  connectionType  eventId  logType  \\\n",
       "0  7a079314-66b8-418c-ae63-0b2dece8359c               0        0        0   \n",
       "1  bb730129-f7db-417f-a2ff-9aeda146dfb6               0        1        0   \n",
       "2  d40d2280-b2a2-4741-9cb1-de3913358c0e               0        0        0   \n",
       "3  c5403f79-fa99-4bb2-8862-0cd7b37fbf30               0        1        0   \n",
       "4  7929c291-65b9-4e05-9821-bfbdbf5d0875               0        0        0   \n",
       "\n",
       "       timeStamp  \n",
       "0  1643720623967  \n",
       "1  1643720624354  \n",
       "2  1643720629001  \n",
       "3  1643720629169  \n",
       "4  1643720634036  "
      ]
     },
     "execution_count": 80,
     "metadata": {},
     "output_type": "execute_result"
    }
   ],
   "source": [
    "df_miranda_1h_1m.head()"
   ]
  },
  {
   "cell_type": "code",
   "execution_count": 40,
   "metadata": {},
   "outputs": [],
   "source": [
    "df_miranda_1h_1m_0 = df_miranda_1h_1m.iloc[::2, :]"
   ]
  },
  {
   "cell_type": "code",
   "execution_count": 79,
   "metadata": {},
   "outputs": [
    {
     "data": {
      "text/html": [
       "<div>\n",
       "<style scoped>\n",
       "    .dataframe tbody tr th:only-of-type {\n",
       "        vertical-align: middle;\n",
       "    }\n",
       "\n",
       "    .dataframe tbody tr th {\n",
       "        vertical-align: top;\n",
       "    }\n",
       "\n",
       "    .dataframe thead th {\n",
       "        text-align: right;\n",
       "    }\n",
       "</style>\n",
       "<table border=\"1\" class=\"dataframe\">\n",
       "  <thead>\n",
       "    <tr style=\"text-align: right;\">\n",
       "      <th></th>\n",
       "      <th>uuid</th>\n",
       "      <th>connectionType</th>\n",
       "      <th>eventId</th>\n",
       "      <th>logType</th>\n",
       "      <th>timeStamp</th>\n",
       "    </tr>\n",
       "  </thead>\n",
       "  <tbody>\n",
       "    <tr>\n",
       "      <th>0</th>\n",
       "      <td>7a079314-66b8-418c-ae63-0b2dece8359c</td>\n",
       "      <td>0</td>\n",
       "      <td>0</td>\n",
       "      <td>0</td>\n",
       "      <td>1643720623967</td>\n",
       "    </tr>\n",
       "    <tr>\n",
       "      <th>2</th>\n",
       "      <td>d40d2280-b2a2-4741-9cb1-de3913358c0e</td>\n",
       "      <td>0</td>\n",
       "      <td>0</td>\n",
       "      <td>0</td>\n",
       "      <td>1643720629001</td>\n",
       "    </tr>\n",
       "    <tr>\n",
       "      <th>4</th>\n",
       "      <td>7929c291-65b9-4e05-9821-bfbdbf5d0875</td>\n",
       "      <td>0</td>\n",
       "      <td>0</td>\n",
       "      <td>0</td>\n",
       "      <td>1643720634036</td>\n",
       "    </tr>\n",
       "    <tr>\n",
       "      <th>6</th>\n",
       "      <td>73f2ec9c-3208-4c05-a3e5-705e5fd04511</td>\n",
       "      <td>0</td>\n",
       "      <td>0</td>\n",
       "      <td>0</td>\n",
       "      <td>1643720639070</td>\n",
       "    </tr>\n",
       "    <tr>\n",
       "      <th>8</th>\n",
       "      <td>79f8a506-a3ce-455d-8fb9-d49f62ddb5a4</td>\n",
       "      <td>0</td>\n",
       "      <td>0</td>\n",
       "      <td>0</td>\n",
       "      <td>1643720644101</td>\n",
       "    </tr>\n",
       "  </tbody>\n",
       "</table>\n",
       "</div>"
      ],
      "text/plain": [
       "                                   uuid  connectionType  eventId  logType  \\\n",
       "0  7a079314-66b8-418c-ae63-0b2dece8359c               0        0        0   \n",
       "2  d40d2280-b2a2-4741-9cb1-de3913358c0e               0        0        0   \n",
       "4  7929c291-65b9-4e05-9821-bfbdbf5d0875               0        0        0   \n",
       "6  73f2ec9c-3208-4c05-a3e5-705e5fd04511               0        0        0   \n",
       "8  79f8a506-a3ce-455d-8fb9-d49f62ddb5a4               0        0        0   \n",
       "\n",
       "       timeStamp  \n",
       "0  1643720623967  \n",
       "2  1643720629001  \n",
       "4  1643720634036  \n",
       "6  1643720639070  \n",
       "8  1643720644101  "
      ]
     },
     "execution_count": 79,
     "metadata": {},
     "output_type": "execute_result"
    }
   ],
   "source": [
    "df_miranda_1h_1m_0.head()"
   ]
  },
  {
   "cell_type": "code",
   "execution_count": 42,
   "metadata": {},
   "outputs": [],
   "source": [
    "df_miranda_1h_1m_1 = df_miranda_1h_1m.iloc[1::2, :]"
   ]
  },
  {
   "cell_type": "code",
   "execution_count": 78,
   "metadata": {},
   "outputs": [
    {
     "data": {
      "text/html": [
       "<div>\n",
       "<style scoped>\n",
       "    .dataframe tbody tr th:only-of-type {\n",
       "        vertical-align: middle;\n",
       "    }\n",
       "\n",
       "    .dataframe tbody tr th {\n",
       "        vertical-align: top;\n",
       "    }\n",
       "\n",
       "    .dataframe thead th {\n",
       "        text-align: right;\n",
       "    }\n",
       "</style>\n",
       "<table border=\"1\" class=\"dataframe\">\n",
       "  <thead>\n",
       "    <tr style=\"text-align: right;\">\n",
       "      <th></th>\n",
       "      <th>uuid</th>\n",
       "      <th>connectionType</th>\n",
       "      <th>eventId</th>\n",
       "      <th>logType</th>\n",
       "      <th>timeStamp</th>\n",
       "    </tr>\n",
       "  </thead>\n",
       "  <tbody>\n",
       "    <tr>\n",
       "      <th>0</th>\n",
       "      <td>7a079314-66b8-418c-ae63-0b2dece8359c</td>\n",
       "      <td>0</td>\n",
       "      <td>0</td>\n",
       "      <td>0</td>\n",
       "      <td>1643720623967</td>\n",
       "    </tr>\n",
       "    <tr>\n",
       "      <th>2</th>\n",
       "      <td>d40d2280-b2a2-4741-9cb1-de3913358c0e</td>\n",
       "      <td>0</td>\n",
       "      <td>0</td>\n",
       "      <td>0</td>\n",
       "      <td>1643720629001</td>\n",
       "    </tr>\n",
       "    <tr>\n",
       "      <th>4</th>\n",
       "      <td>7929c291-65b9-4e05-9821-bfbdbf5d0875</td>\n",
       "      <td>0</td>\n",
       "      <td>0</td>\n",
       "      <td>0</td>\n",
       "      <td>1643720634036</td>\n",
       "    </tr>\n",
       "    <tr>\n",
       "      <th>6</th>\n",
       "      <td>73f2ec9c-3208-4c05-a3e5-705e5fd04511</td>\n",
       "      <td>0</td>\n",
       "      <td>0</td>\n",
       "      <td>0</td>\n",
       "      <td>1643720639070</td>\n",
       "    </tr>\n",
       "    <tr>\n",
       "      <th>8</th>\n",
       "      <td>79f8a506-a3ce-455d-8fb9-d49f62ddb5a4</td>\n",
       "      <td>0</td>\n",
       "      <td>0</td>\n",
       "      <td>0</td>\n",
       "      <td>1643720644101</td>\n",
       "    </tr>\n",
       "  </tbody>\n",
       "</table>\n",
       "</div>"
      ],
      "text/plain": [
       "                                   uuid  connectionType  eventId  logType  \\\n",
       "0  7a079314-66b8-418c-ae63-0b2dece8359c               0        0        0   \n",
       "2  d40d2280-b2a2-4741-9cb1-de3913358c0e               0        0        0   \n",
       "4  7929c291-65b9-4e05-9821-bfbdbf5d0875               0        0        0   \n",
       "6  73f2ec9c-3208-4c05-a3e5-705e5fd04511               0        0        0   \n",
       "8  79f8a506-a3ce-455d-8fb9-d49f62ddb5a4               0        0        0   \n",
       "\n",
       "       timeStamp  \n",
       "0  1643720623967  \n",
       "2  1643720629001  \n",
       "4  1643720634036  \n",
       "6  1643720639070  \n",
       "8  1643720644101  "
      ]
     },
     "execution_count": 78,
     "metadata": {},
     "output_type": "execute_result"
    }
   ],
   "source": [
    "df_miranda_1h_1m_1.head()"
   ]
  },
  {
   "cell_type": "code",
   "execution_count": 49,
   "metadata": {},
   "outputs": [],
   "source": [
    "df_1h_1m = df_miranda_1h_1m_1.reset_index().timeStamp - df_miranda_1h_1m_0.reset_index().timeStamp"
   ]
  },
  {
   "cell_type": "code",
   "execution_count": 77,
   "metadata": {},
   "outputs": [
    {
     "data": {
      "text/plain": [
       "140.5"
      ]
     },
     "execution_count": 77,
     "metadata": {},
     "output_type": "execute_result"
    }
   ],
   "source": [
    "df_1h_1m.median()"
   ]
  },
  {
   "cell_type": "code",
   "execution_count": 52,
   "metadata": {},
   "outputs": [],
   "source": [
    "rtt_elsa_1h_1m = pd.read_csv('result/rtt_elsa_1h_1m.csv')  "
   ]
  },
  {
   "cell_type": "code",
   "execution_count": 53,
   "metadata": {},
   "outputs": [
    {
     "data": {
      "text/html": [
       "<div>\n",
       "<style scoped>\n",
       "    .dataframe tbody tr th:only-of-type {\n",
       "        vertical-align: middle;\n",
       "    }\n",
       "\n",
       "    .dataframe tbody tr th {\n",
       "        vertical-align: top;\n",
       "    }\n",
       "\n",
       "    .dataframe thead th {\n",
       "        text-align: right;\n",
       "    }\n",
       "</style>\n",
       "<table border=\"1\" class=\"dataframe\">\n",
       "  <thead>\n",
       "    <tr style=\"text-align: right;\">\n",
       "      <th></th>\n",
       "      <th>uuid</th>\n",
       "      <th>connectionType</th>\n",
       "      <th>eventId</th>\n",
       "      <th>logType</th>\n",
       "      <th>timeStamp</th>\n",
       "    </tr>\n",
       "  </thead>\n",
       "  <tbody>\n",
       "    <tr>\n",
       "      <th>0</th>\n",
       "      <td>7a079314-66b8-418c-ae63-0b2dece8359c</td>\n",
       "      <td>0</td>\n",
       "      <td>1</td>\n",
       "      <td>0</td>\n",
       "      <td>1643720624200</td>\n",
       "    </tr>\n",
       "    <tr>\n",
       "      <th>1</th>\n",
       "      <td>bb730129-f7db-417f-a2ff-9aeda146dfb6</td>\n",
       "      <td>0</td>\n",
       "      <td>0</td>\n",
       "      <td>0</td>\n",
       "      <td>1643720624258</td>\n",
       "    </tr>\n",
       "    <tr>\n",
       "      <th>2</th>\n",
       "      <td>d40d2280-b2a2-4741-9cb1-de3913358c0e</td>\n",
       "      <td>0</td>\n",
       "      <td>1</td>\n",
       "      <td>0</td>\n",
       "      <td>1643720629025</td>\n",
       "    </tr>\n",
       "    <tr>\n",
       "      <th>3</th>\n",
       "      <td>c5403f79-fa99-4bb2-8862-0cd7b37fbf30</td>\n",
       "      <td>0</td>\n",
       "      <td>0</td>\n",
       "      <td>0</td>\n",
       "      <td>1643720629063</td>\n",
       "    </tr>\n",
       "    <tr>\n",
       "      <th>4</th>\n",
       "      <td>7929c291-65b9-4e05-9821-bfbdbf5d0875</td>\n",
       "      <td>0</td>\n",
       "      <td>1</td>\n",
       "      <td>0</td>\n",
       "      <td>1643720634052</td>\n",
       "    </tr>\n",
       "  </tbody>\n",
       "</table>\n",
       "</div>"
      ],
      "text/plain": [
       "                                   uuid  connectionType  eventId  logType  \\\n",
       "0  7a079314-66b8-418c-ae63-0b2dece8359c               0        1        0   \n",
       "1  bb730129-f7db-417f-a2ff-9aeda146dfb6               0        0        0   \n",
       "2  d40d2280-b2a2-4741-9cb1-de3913358c0e               0        1        0   \n",
       "3  c5403f79-fa99-4bb2-8862-0cd7b37fbf30               0        0        0   \n",
       "4  7929c291-65b9-4e05-9821-bfbdbf5d0875               0        1        0   \n",
       "\n",
       "       timeStamp  \n",
       "0  1643720624200  \n",
       "1  1643720624258  \n",
       "2  1643720629025  \n",
       "3  1643720629063  \n",
       "4  1643720634052  "
      ]
     },
     "execution_count": 53,
     "metadata": {},
     "output_type": "execute_result"
    }
   ],
   "source": [
    "rtt_elsa_1h_1m.head()"
   ]
  },
  {
   "cell_type": "code",
   "execution_count": 60,
   "metadata": {},
   "outputs": [],
   "source": [
    "rtt_elsa_1h_1m_1 = rtt_elsa_1h_1m.iloc[::2, :]"
   ]
  },
  {
   "cell_type": "code",
   "execution_count": 61,
   "metadata": {},
   "outputs": [
    {
     "data": {
      "text/html": [
       "<div>\n",
       "<style scoped>\n",
       "    .dataframe tbody tr th:only-of-type {\n",
       "        vertical-align: middle;\n",
       "    }\n",
       "\n",
       "    .dataframe tbody tr th {\n",
       "        vertical-align: top;\n",
       "    }\n",
       "\n",
       "    .dataframe thead th {\n",
       "        text-align: right;\n",
       "    }\n",
       "</style>\n",
       "<table border=\"1\" class=\"dataframe\">\n",
       "  <thead>\n",
       "    <tr style=\"text-align: right;\">\n",
       "      <th></th>\n",
       "      <th>uuid</th>\n",
       "      <th>connectionType</th>\n",
       "      <th>eventId</th>\n",
       "      <th>logType</th>\n",
       "      <th>timeStamp</th>\n",
       "    </tr>\n",
       "  </thead>\n",
       "  <tbody>\n",
       "    <tr>\n",
       "      <th>0</th>\n",
       "      <td>7a079314-66b8-418c-ae63-0b2dece8359c</td>\n",
       "      <td>0</td>\n",
       "      <td>1</td>\n",
       "      <td>0</td>\n",
       "      <td>1643720624200</td>\n",
       "    </tr>\n",
       "    <tr>\n",
       "      <th>2</th>\n",
       "      <td>d40d2280-b2a2-4741-9cb1-de3913358c0e</td>\n",
       "      <td>0</td>\n",
       "      <td>1</td>\n",
       "      <td>0</td>\n",
       "      <td>1643720629025</td>\n",
       "    </tr>\n",
       "    <tr>\n",
       "      <th>4</th>\n",
       "      <td>7929c291-65b9-4e05-9821-bfbdbf5d0875</td>\n",
       "      <td>0</td>\n",
       "      <td>1</td>\n",
       "      <td>0</td>\n",
       "      <td>1643720634052</td>\n",
       "    </tr>\n",
       "    <tr>\n",
       "      <th>6</th>\n",
       "      <td>73f2ec9c-3208-4c05-a3e5-705e5fd04511</td>\n",
       "      <td>0</td>\n",
       "      <td>1</td>\n",
       "      <td>0</td>\n",
       "      <td>1643720639135</td>\n",
       "    </tr>\n",
       "    <tr>\n",
       "      <th>8</th>\n",
       "      <td>79f8a506-a3ce-455d-8fb9-d49f62ddb5a4</td>\n",
       "      <td>0</td>\n",
       "      <td>1</td>\n",
       "      <td>0</td>\n",
       "      <td>1643720644157</td>\n",
       "    </tr>\n",
       "  </tbody>\n",
       "</table>\n",
       "</div>"
      ],
      "text/plain": [
       "                                   uuid  connectionType  eventId  logType  \\\n",
       "0  7a079314-66b8-418c-ae63-0b2dece8359c               0        1        0   \n",
       "2  d40d2280-b2a2-4741-9cb1-de3913358c0e               0        1        0   \n",
       "4  7929c291-65b9-4e05-9821-bfbdbf5d0875               0        1        0   \n",
       "6  73f2ec9c-3208-4c05-a3e5-705e5fd04511               0        1        0   \n",
       "8  79f8a506-a3ce-455d-8fb9-d49f62ddb5a4               0        1        0   \n",
       "\n",
       "       timeStamp  \n",
       "0  1643720624200  \n",
       "2  1643720629025  \n",
       "4  1643720634052  \n",
       "6  1643720639135  \n",
       "8  1643720644157  "
      ]
     },
     "execution_count": 61,
     "metadata": {},
     "output_type": "execute_result"
    }
   ],
   "source": [
    "rtt_elsa_1h_1m_1.head()"
   ]
  },
  {
   "cell_type": "code",
   "execution_count": 62,
   "metadata": {},
   "outputs": [],
   "source": [
    "rtt_elsa_1h_1m_0 = rtt_elsa_1h_1m.iloc[1::2, :]"
   ]
  },
  {
   "cell_type": "code",
   "execution_count": 63,
   "metadata": {},
   "outputs": [
    {
     "data": {
      "text/html": [
       "<div>\n",
       "<style scoped>\n",
       "    .dataframe tbody tr th:only-of-type {\n",
       "        vertical-align: middle;\n",
       "    }\n",
       "\n",
       "    .dataframe tbody tr th {\n",
       "        vertical-align: top;\n",
       "    }\n",
       "\n",
       "    .dataframe thead th {\n",
       "        text-align: right;\n",
       "    }\n",
       "</style>\n",
       "<table border=\"1\" class=\"dataframe\">\n",
       "  <thead>\n",
       "    <tr style=\"text-align: right;\">\n",
       "      <th></th>\n",
       "      <th>uuid</th>\n",
       "      <th>connectionType</th>\n",
       "      <th>eventId</th>\n",
       "      <th>logType</th>\n",
       "      <th>timeStamp</th>\n",
       "    </tr>\n",
       "  </thead>\n",
       "  <tbody>\n",
       "    <tr>\n",
       "      <th>1</th>\n",
       "      <td>bb730129-f7db-417f-a2ff-9aeda146dfb6</td>\n",
       "      <td>0</td>\n",
       "      <td>0</td>\n",
       "      <td>0</td>\n",
       "      <td>1643720624258</td>\n",
       "    </tr>\n",
       "    <tr>\n",
       "      <th>3</th>\n",
       "      <td>c5403f79-fa99-4bb2-8862-0cd7b37fbf30</td>\n",
       "      <td>0</td>\n",
       "      <td>0</td>\n",
       "      <td>0</td>\n",
       "      <td>1643720629063</td>\n",
       "    </tr>\n",
       "    <tr>\n",
       "      <th>5</th>\n",
       "      <td>22620cbb-592f-4121-985c-c3f8054c505b</td>\n",
       "      <td>0</td>\n",
       "      <td>0</td>\n",
       "      <td>0</td>\n",
       "      <td>1643720634095</td>\n",
       "    </tr>\n",
       "    <tr>\n",
       "      <th>7</th>\n",
       "      <td>6334a052-dbe2-4736-b121-b0366b30eb99</td>\n",
       "      <td>0</td>\n",
       "      <td>0</td>\n",
       "      <td>0</td>\n",
       "      <td>1643720639169</td>\n",
       "    </tr>\n",
       "    <tr>\n",
       "      <th>9</th>\n",
       "      <td>1d354384-f6b0-43ab-a94b-2636387a814f</td>\n",
       "      <td>0</td>\n",
       "      <td>0</td>\n",
       "      <td>0</td>\n",
       "      <td>1643720644201</td>\n",
       "    </tr>\n",
       "  </tbody>\n",
       "</table>\n",
       "</div>"
      ],
      "text/plain": [
       "                                   uuid  connectionType  eventId  logType  \\\n",
       "1  bb730129-f7db-417f-a2ff-9aeda146dfb6               0        0        0   \n",
       "3  c5403f79-fa99-4bb2-8862-0cd7b37fbf30               0        0        0   \n",
       "5  22620cbb-592f-4121-985c-c3f8054c505b               0        0        0   \n",
       "7  6334a052-dbe2-4736-b121-b0366b30eb99               0        0        0   \n",
       "9  1d354384-f6b0-43ab-a94b-2636387a814f               0        0        0   \n",
       "\n",
       "       timeStamp  \n",
       "1  1643720624258  \n",
       "3  1643720629063  \n",
       "5  1643720634095  \n",
       "7  1643720639169  \n",
       "9  1643720644201  "
      ]
     },
     "execution_count": 63,
     "metadata": {},
     "output_type": "execute_result"
    }
   ],
   "source": [
    "rtt_elsa_1h_1m_0.head()"
   ]
  },
  {
   "cell_type": "code",
   "execution_count": 68,
   "metadata": {},
   "outputs": [],
   "source": [
    "df_1h_1m_sub = rtt_elsa_1h_1m_0.reset_index().timeStamp - rtt_elsa_1h_1m_1.reset_index().timeStamp"
   ]
  },
  {
   "cell_type": "code",
   "execution_count": 70,
   "metadata": {},
   "outputs": [],
   "source": [
    "df_1h_1m_rtt = df_1h_1m - df_1h_1m_sub"
   ]
  },
  {
   "cell_type": "code",
   "execution_count": 72,
   "metadata": {},
   "outputs": [
    {
     "data": {
      "text/plain": [
       "115.0"
      ]
     },
     "execution_count": 72,
     "metadata": {},
     "output_type": "execute_result"
    }
   ],
   "source": [
    "df_1h_1m_rtt.median()"
   ]
  },
  {
   "cell_type": "code",
   "execution_count": 84,
   "metadata": {},
   "outputs": [],
   "source": [
    "df_1h_1m_rtt = df_1h_1m_rtt/2"
   ]
  },
  {
   "cell_type": "code",
   "execution_count": 85,
   "metadata": {},
   "outputs": [
    {
     "data": {
      "text/plain": [
       "57.5"
      ]
     },
     "execution_count": 85,
     "metadata": {},
     "output_type": "execute_result"
    }
   ],
   "source": [
    "df_1h_1m_rtt.median()"
   ]
  },
  {
   "cell_type": "markdown",
   "metadata": {},
   "source": [
    "## 5 meter delay"
   ]
  },
  {
   "cell_type": "code",
   "execution_count": null,
   "metadata": {},
   "outputs": [],
   "source": []
  },
  {
   "cell_type": "markdown",
   "metadata": {},
   "source": [
    "## 10 meter delay"
   ]
  },
  {
   "cell_type": "code",
   "execution_count": null,
   "metadata": {},
   "outputs": [],
   "source": []
  },
  {
   "cell_type": "markdown",
   "metadata": {},
   "source": [
    "## 15 meter delay"
   ]
  },
  {
   "cell_type": "code",
   "execution_count": null,
   "metadata": {},
   "outputs": [],
   "source": []
  },
  {
   "cell_type": "markdown",
   "metadata": {},
   "source": [
    "## Plot"
   ]
  },
  {
   "cell_type": "code",
   "execution_count": 86,
   "metadata": {},
   "outputs": [
    {
     "data": {
      "image/png": "[encoded data removed]",
      "text/plain": [
       "<Figure size 504x360 with 1 Axes>"
      ]
     },
     "metadata": {
      "needs_background": "light"
     },
     "output_type": "display_data"
    }
   ],
   "source": [
    "columns = [df_1h_1m_rtt]\n",
    "labels = ['0']\n",
    "\n",
    "fig, ax = plt.subplots()\n",
    "bplot1 = ax.boxplot(columns, \n",
    "            vert=True,  # vertical box alignment\n",
    "            patch_artist=False,  # fill with color\n",
    "            showfliers=False,\n",
    "                    showmeans=True,\n",
    "            labels=labels)\n",
    "\n",
    "ax.set_ylabel('delay (ms)', fontsize=20)\n",
    "ax.set_xlabel('distance (m)', fontsize=20)\n",
    "\n",
    "for tick in ax.xaxis.get_major_ticks():\n",
    "    tick.label.set_fontsize(15)\n",
    "\n",
    "for tick in ax.yaxis.get_major_ticks():\n",
    "    tick.label.set_fontsize(15)\n",
    "\n",
    "# fill with colors\n",
    "# colors = ['lightgreen', 'lightblue', 'lightred']\n",
    "# for bplot in (bplot1, ):\n",
    "#     for patch, color in zip(bplot['boxes'], colors):\n",
    "#         patch.set_facecolor(color)\n",
    " \n",
    "fig.set_size_inches(7, 5)\n",
    "\n",
    "plt.savefig('plots/figure_eval_new_1.png', dpi=300, bbox_inches=None, pad_inches=1,)\n",
    "plt.show()\n"
   ]
  },
  {
   "cell_type": "code",
   "execution_count": null,
   "metadata": {},
   "outputs": [],
   "source": []
  },
  {
   "cell_type": "markdown",
   "metadata": {},
   "source": [
    "# Delay vs Distance"
   ]
  },
  {
   "cell_type": "code",
   "execution_count": 200,
   "metadata": {},
   "outputs": [],
   "source": [
    "result_elsa_2h_15m = pd.read_excel('result/result_elsa_2h_15m.xlsx', index_col=0)  "
   ]
  },
  {
   "cell_type": "code",
   "execution_count": 201,
   "metadata": {},
   "outputs": [
    {
     "data": {
      "text/plain": [
       "(84, 5)"
      ]
     },
     "execution_count": 201,
     "metadata": {},
     "output_type": "execute_result"
    }
   ],
   "source": [
    "result_elsa_2h_15m.shape"
   ]
  },
  {
   "cell_type": "code",
   "execution_count": 202,
   "metadata": {},
   "outputs": [],
   "source": [
    "result_miranda_2h_15m = pd.read_excel('result/result_miranda_2h_15m.xlsx', index_col=0)  "
   ]
  },
  {
   "cell_type": "code",
   "execution_count": 203,
   "metadata": {},
   "outputs": [
    {
     "data": {
      "text/plain": [
       "(84, 5)"
      ]
     },
     "execution_count": 203,
     "metadata": {},
     "output_type": "execute_result"
    }
   ],
   "source": [
    "result_miranda_2h_15m.shape"
   ]
  },
  {
   "cell_type": "code",
   "execution_count": 204,
   "metadata": {},
   "outputs": [],
   "source": [
    "df_2h_15m = pd.merge(result_miranda_2h_15m, result_elsa_2h_15m, on=\"uuid\")"
   ]
  },
  {
   "cell_type": "code",
   "execution_count": 205,
   "metadata": {},
   "outputs": [
    {
     "data": {
      "text/plain": [
       "(84, 9)"
      ]
     },
     "execution_count": 205,
     "metadata": {},
     "output_type": "execute_result"
    }
   ],
   "source": [
    "df_2h_15m.shape"
   ]
  },
  {
   "cell_type": "code",
   "execution_count": 206,
   "metadata": {},
   "outputs": [
    {
     "data": {
      "text/html": [
       "<div>\n",
       "<style scoped>\n",
       "    .dataframe tbody tr th:only-of-type {\n",
       "        vertical-align: middle;\n",
       "    }\n",
       "\n",
       "    .dataframe tbody tr th {\n",
       "        vertical-align: top;\n",
       "    }\n",
       "\n",
       "    .dataframe thead th {\n",
       "        text-align: right;\n",
       "    }\n",
       "</style>\n",
       "<table border=\"1\" class=\"dataframe\">\n",
       "  <thead>\n",
       "    <tr style=\"text-align: right;\">\n",
       "      <th></th>\n",
       "      <th>uuid</th>\n",
       "      <th>connectionType_x</th>\n",
       "      <th>eventId_x</th>\n",
       "      <th>logType_x</th>\n",
       "      <th>timeStamp_x</th>\n",
       "      <th>connectionType_y</th>\n",
       "      <th>eventId_y</th>\n",
       "      <th>logType_y</th>\n",
       "      <th>timeStamp_y</th>\n",
       "    </tr>\n",
       "  </thead>\n",
       "  <tbody>\n",
       "    <tr>\n",
       "      <th>0</th>\n",
       "      <td>a6df016a-ca8f-44fd-8063-e50358afa347</td>\n",
       "      <td>0</td>\n",
       "      <td>0</td>\n",
       "      <td>2</td>\n",
       "      <td>1643246851494</td>\n",
       "      <td>0</td>\n",
       "      <td>2</td>\n",
       "      <td>2</td>\n",
       "      <td>1643246850901</td>\n",
       "    </tr>\n",
       "    <tr>\n",
       "      <th>1</th>\n",
       "      <td>da13881e-055a-4a18-8949-e60d85c3dee4</td>\n",
       "      <td>0</td>\n",
       "      <td>0</td>\n",
       "      <td>2</td>\n",
       "      <td>1643246856504</td>\n",
       "      <td>0</td>\n",
       "      <td>2</td>\n",
       "      <td>2</td>\n",
       "      <td>1643246855321</td>\n",
       "    </tr>\n",
       "    <tr>\n",
       "      <th>2</th>\n",
       "      <td>60320fb9-1f6a-4ff7-8406-7e1c8f75f227</td>\n",
       "      <td>0</td>\n",
       "      <td>0</td>\n",
       "      <td>2</td>\n",
       "      <td>1643246861511</td>\n",
       "      <td>0</td>\n",
       "      <td>2</td>\n",
       "      <td>2</td>\n",
       "      <td>1643246860772</td>\n",
       "    </tr>\n",
       "    <tr>\n",
       "      <th>3</th>\n",
       "      <td>3031f05e-c488-4a98-b5f2-6a326d3f5611</td>\n",
       "      <td>0</td>\n",
       "      <td>0</td>\n",
       "      <td>2</td>\n",
       "      <td>1643246866517</td>\n",
       "      <td>0</td>\n",
       "      <td>2</td>\n",
       "      <td>2</td>\n",
       "      <td>1643246865566</td>\n",
       "    </tr>\n",
       "    <tr>\n",
       "      <th>4</th>\n",
       "      <td>608165c6-7150-44ed-8502-6f0dc3616c0e</td>\n",
       "      <td>0</td>\n",
       "      <td>0</td>\n",
       "      <td>2</td>\n",
       "      <td>1643246871523</td>\n",
       "      <td>0</td>\n",
       "      <td>2</td>\n",
       "      <td>2</td>\n",
       "      <td>1643246870384</td>\n",
       "    </tr>\n",
       "    <tr>\n",
       "      <th>5</th>\n",
       "      <td>47c286a9-b7e8-44e3-aa6c-e9dcee19d53e</td>\n",
       "      <td>0</td>\n",
       "      <td>0</td>\n",
       "      <td>2</td>\n",
       "      <td>1643246876529</td>\n",
       "      <td>0</td>\n",
       "      <td>2</td>\n",
       "      <td>2</td>\n",
       "      <td>1643246875621</td>\n",
       "    </tr>\n",
       "    <tr>\n",
       "      <th>6</th>\n",
       "      <td>859ae5bf-8717-4f3f-a323-17607c2bce1a</td>\n",
       "      <td>0</td>\n",
       "      <td>0</td>\n",
       "      <td>2</td>\n",
       "      <td>1643246881537</td>\n",
       "      <td>0</td>\n",
       "      <td>2</td>\n",
       "      <td>2</td>\n",
       "      <td>1643246880613</td>\n",
       "    </tr>\n",
       "    <tr>\n",
       "      <th>7</th>\n",
       "      <td>d1103064-d43c-4302-9379-69df38a15034</td>\n",
       "      <td>0</td>\n",
       "      <td>0</td>\n",
       "      <td>2</td>\n",
       "      <td>1643246886543</td>\n",
       "      <td>0</td>\n",
       "      <td>2</td>\n",
       "      <td>2</td>\n",
       "      <td>1643246885548</td>\n",
       "    </tr>\n",
       "    <tr>\n",
       "      <th>8</th>\n",
       "      <td>2b83a0fb-5984-4ab0-b250-6294828061d9</td>\n",
       "      <td>0</td>\n",
       "      <td>0</td>\n",
       "      <td>2</td>\n",
       "      <td>1643246891554</td>\n",
       "      <td>0</td>\n",
       "      <td>2</td>\n",
       "      <td>2</td>\n",
       "      <td>1643246890544</td>\n",
       "    </tr>\n",
       "    <tr>\n",
       "      <th>9</th>\n",
       "      <td>213834a4-e405-464d-ac9b-097d2776cdfb</td>\n",
       "      <td>0</td>\n",
       "      <td>0</td>\n",
       "      <td>2</td>\n",
       "      <td>1643246896561</td>\n",
       "      <td>0</td>\n",
       "      <td>2</td>\n",
       "      <td>2</td>\n",
       "      <td>1643246895916</td>\n",
       "    </tr>\n",
       "  </tbody>\n",
       "</table>\n",
       "</div>"
      ],
      "text/plain": [
       "                                   uuid  connectionType_x  eventId_x  \\\n",
       "0  a6df016a-ca8f-44fd-8063-e50358afa347                 0          0   \n",
       "1  da13881e-055a-4a18-8949-e60d85c3dee4                 0          0   \n",
       "2  60320fb9-1f6a-4ff7-8406-7e1c8f75f227                 0          0   \n",
       "3  3031f05e-c488-4a98-b5f2-6a326d3f5611                 0          0   \n",
       "4  608165c6-7150-44ed-8502-6f0dc3616c0e                 0          0   \n",
       "5  47c286a9-b7e8-44e3-aa6c-e9dcee19d53e                 0          0   \n",
       "6  859ae5bf-8717-4f3f-a323-17607c2bce1a                 0          0   \n",
       "7  d1103064-d43c-4302-9379-69df38a15034                 0          0   \n",
       "8  2b83a0fb-5984-4ab0-b250-6294828061d9                 0          0   \n",
       "9  213834a4-e405-464d-ac9b-097d2776cdfb                 0          0   \n",
       "\n",
       "   logType_x    timeStamp_x  connectionType_y  eventId_y  logType_y  \\\n",
       "0          2  1643246851494                 0          2          2   \n",
       "1          2  1643246856504                 0          2          2   \n",
       "2          2  1643246861511                 0          2          2   \n",
       "3          2  1643246866517                 0          2          2   \n",
       "4          2  1643246871523                 0          2          2   \n",
       "5          2  1643246876529                 0          2          2   \n",
       "6          2  1643246881537                 0          2          2   \n",
       "7          2  1643246886543                 0          2          2   \n",
       "8          2  1643246891554                 0          2          2   \n",
       "9          2  1643246896561                 0          2          2   \n",
       "\n",
       "     timeStamp_y  \n",
       "0  1643246850901  \n",
       "1  1643246855321  \n",
       "2  1643246860772  \n",
       "3  1643246865566  \n",
       "4  1643246870384  \n",
       "5  1643246875621  \n",
       "6  1643246880613  \n",
       "7  1643246885548  \n",
       "8  1643246890544  \n",
       "9  1643246895916  "
      ]
     },
     "execution_count": 206,
     "metadata": {},
     "output_type": "execute_result"
    }
   ],
   "source": [
    "df_2h_15m.head(10)"
   ]
  },
  {
   "cell_type": "code",
   "execution_count": 207,
   "metadata": {},
   "outputs": [],
   "source": [
    "df_2h_15m['timeStamp_x'] = df_2h_15m['timeStamp_x'] - 1030"
   ]
  },
  {
   "cell_type": "code",
   "execution_count": 208,
   "metadata": {},
   "outputs": [],
   "source": [
    "df_2h_15m['timeStamp_y'] = df_2h_15m['timeStamp_y'] + 298"
   ]
  },
  {
   "cell_type": "code",
   "execution_count": 209,
   "metadata": {},
   "outputs": [],
   "source": [
    "df_2h_15m['delay'] = df_2h_15m['timeStamp_y'] - df_2h_15m['timeStamp_x']"
   ]
  },
  {
   "cell_type": "code",
   "execution_count": null,
   "metadata": {},
   "outputs": [],
   "source": []
  },
  {
   "cell_type": "code",
   "execution_count": 210,
   "metadata": {},
   "outputs": [
    {
     "data": {
      "text/plain": [
       "398.5"
      ]
     },
     "execution_count": 210,
     "metadata": {},
     "output_type": "execute_result"
    }
   ],
   "source": [
    "df_2h_15m['delay'][:36].median()"
   ]
  },
  {
   "cell_type": "code",
   "execution_count": 211,
   "metadata": {},
   "outputs": [
    {
     "data": {
      "text/plain": [
       "0    735\n",
       "1    145\n",
       "2    589\n",
       "3    377\n",
       "4    189\n",
       "5    420\n",
       "6    404\n",
       "7    333\n",
       "8    318\n",
       "9    683\n",
       "Name: delay, dtype: int64"
      ]
     },
     "execution_count": 211,
     "metadata": {},
     "output_type": "execute_result"
    }
   ],
   "source": [
    "df_2h_15m['delay'][:36].head(10)"
   ]
  },
  {
   "cell_type": "code",
   "execution_count": null,
   "metadata": {},
   "outputs": [],
   "source": []
  },
  {
   "cell_type": "markdown",
   "metadata": {},
   "source": [
    "## 2 hop indoor"
   ]
  },
  {
   "cell_type": "code",
   "execution_count": 154,
   "metadata": {},
   "outputs": [],
   "source": [
    "result_elsa_2h_10m_in = pd.read_excel('result/result_elsa_2h_10m_in.xlsx', index_col=0)  "
   ]
  },
  {
   "cell_type": "code",
   "execution_count": 155,
   "metadata": {},
   "outputs": [
    {
     "data": {
      "text/plain": [
       "(97, 5)"
      ]
     },
     "execution_count": 155,
     "metadata": {},
     "output_type": "execute_result"
    }
   ],
   "source": [
    "result_elsa_2h_10m_in.shape"
   ]
  },
  {
   "cell_type": "code",
   "execution_count": 156,
   "metadata": {},
   "outputs": [],
   "source": [
    "result_miranda_2h_10m_in = pd.read_excel('result/result_miranda_2h_10m_in.xlsx', index_col=0)  "
   ]
  },
  {
   "cell_type": "code",
   "execution_count": 157,
   "metadata": {},
   "outputs": [
    {
     "data": {
      "text/plain": [
       "(97, 5)"
      ]
     },
     "execution_count": 157,
     "metadata": {},
     "output_type": "execute_result"
    }
   ],
   "source": [
    "result_miranda_2h_10m_in.shape"
   ]
  },
  {
   "cell_type": "code",
   "execution_count": 158,
   "metadata": {},
   "outputs": [],
   "source": [
    "df_2h_10m_in = pd.merge(result_miranda_2h_10m_in, result_elsa_2h_10m_in, on=\"uuid\")"
   ]
  },
  {
   "cell_type": "code",
   "execution_count": 159,
   "metadata": {},
   "outputs": [
    {
     "data": {
      "text/plain": [
       "(97, 9)"
      ]
     },
     "execution_count": 159,
     "metadata": {},
     "output_type": "execute_result"
    }
   ],
   "source": [
    "df_2h_10m_in.shape"
   ]
  },
  {
   "cell_type": "code",
   "execution_count": 160,
   "metadata": {},
   "outputs": [
    {
     "data": {
      "text/html": [
       "<div>\n",
       "<style scoped>\n",
       "    .dataframe tbody tr th:only-of-type {\n",
       "        vertical-align: middle;\n",
       "    }\n",
       "\n",
       "    .dataframe tbody tr th {\n",
       "        vertical-align: top;\n",
       "    }\n",
       "\n",
       "    .dataframe thead th {\n",
       "        text-align: right;\n",
       "    }\n",
       "</style>\n",
       "<table border=\"1\" class=\"dataframe\">\n",
       "  <thead>\n",
       "    <tr style=\"text-align: right;\">\n",
       "      <th></th>\n",
       "      <th>uuid</th>\n",
       "      <th>connectionType_x</th>\n",
       "      <th>eventId_x</th>\n",
       "      <th>logType_x</th>\n",
       "      <th>timeStamp_x</th>\n",
       "      <th>connectionType_y</th>\n",
       "      <th>eventId_y</th>\n",
       "      <th>logType_y</th>\n",
       "      <th>timeStamp_y</th>\n",
       "    </tr>\n",
       "  </thead>\n",
       "  <tbody>\n",
       "    <tr>\n",
       "      <th>0</th>\n",
       "      <td>033e5862-b0d1-40e4-8209-4dee7df83518</td>\n",
       "      <td>0</td>\n",
       "      <td>0</td>\n",
       "      <td>2</td>\n",
       "      <td>1643215223285</td>\n",
       "      <td>0</td>\n",
       "      <td>2</td>\n",
       "      <td>2</td>\n",
       "      <td>1643215224576</td>\n",
       "    </tr>\n",
       "    <tr>\n",
       "      <th>1</th>\n",
       "      <td>2d957850-db17-4769-ae26-977ce71465bc</td>\n",
       "      <td>0</td>\n",
       "      <td>0</td>\n",
       "      <td>2</td>\n",
       "      <td>1643215228293</td>\n",
       "      <td>0</td>\n",
       "      <td>2</td>\n",
       "      <td>2</td>\n",
       "      <td>1643215229960</td>\n",
       "    </tr>\n",
       "    <tr>\n",
       "      <th>2</th>\n",
       "      <td>be67aa0e-0f8a-45ea-a640-af77f7811a89</td>\n",
       "      <td>0</td>\n",
       "      <td>0</td>\n",
       "      <td>2</td>\n",
       "      <td>1643215233299</td>\n",
       "      <td>0</td>\n",
       "      <td>2</td>\n",
       "      <td>2</td>\n",
       "      <td>1643215234024</td>\n",
       "    </tr>\n",
       "    <tr>\n",
       "      <th>3</th>\n",
       "      <td>e5d65bc1-6a3b-42d2-b7bf-a805ebc716c4</td>\n",
       "      <td>0</td>\n",
       "      <td>0</td>\n",
       "      <td>2</td>\n",
       "      <td>1643215238306</td>\n",
       "      <td>0</td>\n",
       "      <td>2</td>\n",
       "      <td>2</td>\n",
       "      <td>1643215239919</td>\n",
       "    </tr>\n",
       "    <tr>\n",
       "      <th>4</th>\n",
       "      <td>1d7564cb-72cc-415b-91f0-f58047050efa</td>\n",
       "      <td>0</td>\n",
       "      <td>0</td>\n",
       "      <td>2</td>\n",
       "      <td>1643215243315</td>\n",
       "      <td>0</td>\n",
       "      <td>2</td>\n",
       "      <td>2</td>\n",
       "      <td>1643215243952</td>\n",
       "    </tr>\n",
       "    <tr>\n",
       "      <th>5</th>\n",
       "      <td>c89153b0-e4c5-4c04-a3f8-415a0dd9472a</td>\n",
       "      <td>0</td>\n",
       "      <td>0</td>\n",
       "      <td>2</td>\n",
       "      <td>1643215248322</td>\n",
       "      <td>0</td>\n",
       "      <td>2</td>\n",
       "      <td>2</td>\n",
       "      <td>1643215250314</td>\n",
       "    </tr>\n",
       "    <tr>\n",
       "      <th>6</th>\n",
       "      <td>7745acab-58cb-49bd-849e-7c32006d3084</td>\n",
       "      <td>0</td>\n",
       "      <td>0</td>\n",
       "      <td>2</td>\n",
       "      <td>1643215253328</td>\n",
       "      <td>0</td>\n",
       "      <td>2</td>\n",
       "      <td>2</td>\n",
       "      <td>1643215254229</td>\n",
       "    </tr>\n",
       "    <tr>\n",
       "      <th>7</th>\n",
       "      <td>727c4918-be64-4e26-a281-dc3bb1280005</td>\n",
       "      <td>0</td>\n",
       "      <td>0</td>\n",
       "      <td>2</td>\n",
       "      <td>1643215258339</td>\n",
       "      <td>0</td>\n",
       "      <td>2</td>\n",
       "      <td>2</td>\n",
       "      <td>1643215259720</td>\n",
       "    </tr>\n",
       "    <tr>\n",
       "      <th>8</th>\n",
       "      <td>166af58b-3527-4ece-8496-b981c0dc84db</td>\n",
       "      <td>0</td>\n",
       "      <td>0</td>\n",
       "      <td>2</td>\n",
       "      <td>1643215263347</td>\n",
       "      <td>0</td>\n",
       "      <td>2</td>\n",
       "      <td>2</td>\n",
       "      <td>1643215263925</td>\n",
       "    </tr>\n",
       "    <tr>\n",
       "      <th>9</th>\n",
       "      <td>eda8dfed-c032-416d-ba46-1a0763ea8510</td>\n",
       "      <td>0</td>\n",
       "      <td>0</td>\n",
       "      <td>2</td>\n",
       "      <td>1643215268358</td>\n",
       "      <td>0</td>\n",
       "      <td>2</td>\n",
       "      <td>2</td>\n",
       "      <td>1643215271104</td>\n",
       "    </tr>\n",
       "  </tbody>\n",
       "</table>\n",
       "</div>"
      ],
      "text/plain": [
       "                                   uuid  connectionType_x  eventId_x  \\\n",
       "0  033e5862-b0d1-40e4-8209-4dee7df83518                 0          0   \n",
       "1  2d957850-db17-4769-ae26-977ce71465bc                 0          0   \n",
       "2  be67aa0e-0f8a-45ea-a640-af77f7811a89                 0          0   \n",
       "3  e5d65bc1-6a3b-42d2-b7bf-a805ebc716c4                 0          0   \n",
       "4  1d7564cb-72cc-415b-91f0-f58047050efa                 0          0   \n",
       "5  c89153b0-e4c5-4c04-a3f8-415a0dd9472a                 0          0   \n",
       "6  7745acab-58cb-49bd-849e-7c32006d3084                 0          0   \n",
       "7  727c4918-be64-4e26-a281-dc3bb1280005                 0          0   \n",
       "8  166af58b-3527-4ece-8496-b981c0dc84db                 0          0   \n",
       "9  eda8dfed-c032-416d-ba46-1a0763ea8510                 0          0   \n",
       "\n",
       "   logType_x    timeStamp_x  connectionType_y  eventId_y  logType_y  \\\n",
       "0          2  1643215223285                 0          2          2   \n",
       "1          2  1643215228293                 0          2          2   \n",
       "2          2  1643215233299                 0          2          2   \n",
       "3          2  1643215238306                 0          2          2   \n",
       "4          2  1643215243315                 0          2          2   \n",
       "5          2  1643215248322                 0          2          2   \n",
       "6          2  1643215253328                 0          2          2   \n",
       "7          2  1643215258339                 0          2          2   \n",
       "8          2  1643215263347                 0          2          2   \n",
       "9          2  1643215268358                 0          2          2   \n",
       "\n",
       "     timeStamp_y  \n",
       "0  1643215224576  \n",
       "1  1643215229960  \n",
       "2  1643215234024  \n",
       "3  1643215239919  \n",
       "4  1643215243952  \n",
       "5  1643215250314  \n",
       "6  1643215254229  \n",
       "7  1643215259720  \n",
       "8  1643215263925  \n",
       "9  1643215271104  "
      ]
     },
     "execution_count": 160,
     "metadata": {},
     "output_type": "execute_result"
    }
   ],
   "source": [
    "df_2h_10m_in.head(10)"
   ]
  },
  {
   "cell_type": "code",
   "execution_count": 161,
   "metadata": {},
   "outputs": [],
   "source": [
    "df_2h_10m_in['timeStamp_x'] = df_2h_10m_in['timeStamp_x'] + 452"
   ]
  },
  {
   "cell_type": "code",
   "execution_count": 162,
   "metadata": {},
   "outputs": [],
   "source": [
    "df_2h_10m_in['timeStamp_y'] = df_2h_10m_in['timeStamp_y'] + 348"
   ]
  },
  {
   "cell_type": "code",
   "execution_count": 163,
   "metadata": {},
   "outputs": [],
   "source": [
    "df_2h_10m_in['delay'] = df_2h_10m_in['timeStamp_y'] - df_2h_10m_in['timeStamp_x']"
   ]
  },
  {
   "cell_type": "code",
   "execution_count": 164,
   "metadata": {},
   "outputs": [
    {
     "data": {
      "text/plain": [
       "908.0"
      ]
     },
     "execution_count": 164,
     "metadata": {},
     "output_type": "execute_result"
    }
   ],
   "source": [
    "df_2h_10m_in['delay'].median()"
   ]
  },
  {
   "cell_type": "code",
   "execution_count": 165,
   "metadata": {},
   "outputs": [
    {
     "data": {
      "text/plain": [
       "0     1187\n",
       "1     1563\n",
       "2      621\n",
       "3     1509\n",
       "4      533\n",
       "      ... \n",
       "92     409\n",
       "93    1156\n",
       "94     410\n",
       "95    1613\n",
       "96     436\n",
       "Name: delay, Length: 97, dtype: int64"
      ]
     },
     "execution_count": 165,
     "metadata": {},
     "output_type": "execute_result"
    }
   ],
   "source": [
    "df_2h_10m_in['delay']"
   ]
  },
  {
   "cell_type": "code",
   "execution_count": 226,
   "metadata": {},
   "outputs": [
    {
     "data": {
      "image/png": "[encoded data removed]",
      "text/plain": [
       "<Figure size 504x360 with 1 Axes>"
      ]
     },
     "metadata": {
      "needs_background": "light"
     },
     "output_type": "display_data"
    }
   ],
   "source": [
    "columns = [df_1h_15m['delay'], df_2h_15m['delay'][:36], ]\n",
    "labels = ['1','2']\n",
    "\n",
    "fig, ax = plt.subplots()\n",
    "bplot2 = ax.boxplot(columns, \n",
    "            vert=True,  # vertical box alignment\n",
    "            patch_artist=False,  # fill with color\n",
    "            showfliers=False,\n",
    "            labels=labels,)\n",
    "\n",
    "ax.set_ylabel('delay (ms)', fontsize=20)\n",
    "ax.set_xlabel('hop count', fontsize=20)\n",
    "\n",
    "for tick in ax.xaxis.get_major_ticks():\n",
    "    tick.label.set_fontsize(15)\n",
    "\n",
    "for tick in ax.yaxis.get_major_ticks():\n",
    "    tick.label.set_fontsize(15)\n",
    "\n",
    "# # fill with colors\n",
    "# colors = ['lightgreen', 'lightblue', 'lightred']\n",
    "# for bplot in (bplot2, ):\n",
    "#     for patch, color in zip(bplot['boxes'], colors):\n",
    "#         patch.set_facecolor(color)\n",
    " \n",
    "fig.set_size_inches(7, 5)\n",
    "\n",
    "plt.savefig('plots/figure_eval_2.png', dpi=300, bbox_inches=None, pad_inches=.2,)\n",
    "plt.show()"
   ]
  },
  {
   "cell_type": "code",
   "execution_count": null,
   "metadata": {},
   "outputs": [],
   "source": []
  },
  {
   "cell_type": "code",
   "execution_count": null,
   "metadata": {},
   "outputs": [],
   "source": []
  },
  {
   "cell_type": "code",
   "execution_count": null,
   "metadata": {},
   "outputs": [],
   "source": []
  },
  {
   "cell_type": "code",
   "execution_count": null,
   "metadata": {},
   "outputs": [],
   "source": []
  },
  {
   "cell_type": "code",
   "execution_count": null,
   "metadata": {},
   "outputs": [],
   "source": []
  },
  {
   "cell_type": "code",
   "execution_count": null,
   "metadata": {},
   "outputs": [],
   "source": []
  },
  {
   "cell_type": "code",
   "execution_count": null,
   "metadata": {},
   "outputs": [],
   "source": []
  },
  {
   "cell_type": "code",
   "execution_count": null,
   "metadata": {},
   "outputs": [],
   "source": []
  },
  {
   "cell_type": "code",
   "execution_count": null,
   "metadata": {},
   "outputs": [],
   "source": []
  },
  {
   "cell_type": "code",
   "execution_count": null,
   "metadata": {},
   "outputs": [],
   "source": []
  },
  {
   "cell_type": "code",
   "execution_count": null,
   "metadata": {},
   "outputs": [],
   "source": []
  },
  {
   "cell_type": "code",
   "execution_count": null,
   "metadata": {},
   "outputs": [],
   "source": []
  },
  {
   "cell_type": "code",
   "execution_count": null,
   "metadata": {},
   "outputs": [],
   "source": []
  },
  {
   "cell_type": "code",
   "execution_count": null,
   "metadata": {},
   "outputs": [],
   "source": []
  },
  {
   "cell_type": "code",
   "execution_count": null,
   "metadata": {},
   "outputs": [],
   "source": []
  },
  {
   "cell_type": "code",
   "execution_count": null,
   "metadata": {},
   "outputs": [],
   "source": []
  },
  {
   "cell_type": "code",
   "execution_count": null,
   "metadata": {},
   "outputs": [],
   "source": []
  },
  {
   "cell_type": "code",
   "execution_count": null,
   "metadata": {},
   "outputs": [],
   "source": []
  },
  {
   "cell_type": "code",
   "execution_count": null,
   "metadata": {},
   "outputs": [],
   "source": []
  },
  {
   "cell_type": "code",
   "execution_count": null,
   "metadata": {},
   "outputs": [],
   "source": []
  },
  {
   "cell_type": "code",
   "execution_count": null,
   "metadata": {},
   "outputs": [],
   "source": []
  },
  {
   "cell_type": "code",
   "execution_count": null,
   "metadata": {},
   "outputs": [],
   "source": []
  },
  {
   "cell_type": "code",
   "execution_count": null,
   "metadata": {},
   "outputs": [],
   "source": []
  },
  {
   "cell_type": "code",
   "execution_count": null,
   "metadata": {},
   "outputs": [],
   "source": []
  }
 ],
 "metadata": {
  "kernelspec": {
   "display_name": "Python 3",
   "language": "python",
   "name": "python3"
  },
  "language_info": {
   "codemirror_mode": {
    "name": "ipython",
    "version": 3
   },
   "file_extension": ".py",
   "mimetype": "text/x-python",
   "name": "python",
   "nbconvert_exporter": "python",
   "pygments_lexer": "ipython3",
   "version": "3.8.3"
  }
 },
 "nbformat": 4,
 "nbformat_minor": 4
}
