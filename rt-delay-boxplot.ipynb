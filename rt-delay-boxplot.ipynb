{
 "cells": [
  {
   "cell_type": "code",
   "execution_count": 1,
   "metadata": {},
   "outputs": [],
   "source": [
    "import pandas as pd\n",
    "import numpy as np\n",
    "from matplotlib import pyplot as plt\n",
    "from matplotlib.ticker import FormatStrFormatter"
   ]
  },
  {
   "cell_type": "code",
   "execution_count": 2,
   "metadata": {},
   "outputs": [],
   "source": [
    "def convert_epoch(x):\n",
    "    return pd.Timestamp(x).timestamp()"
   ]
  },
  {
   "cell_type": "markdown",
   "metadata": {},
   "source": [
    "# Single-Hop Delay vs Distance"
   ]
  },
  {
   "cell_type": "markdown",
   "metadata": {},
   "source": [
    "## ~0 meter delay"
   ]
  },
  {
   "cell_type": "code",
   "execution_count": 3,
   "metadata": {},
   "outputs": [],
   "source": [
    "df_miranda_1h_1m = pd.read_csv('result/rtt_miranda_1h_0m.csv')  "
   ]
  },
  {
   "cell_type": "code",
   "execution_count": 4,
   "metadata": {},
   "outputs": [
    {
     "data": {
      "text/html": [
       "<div>\n",
       "<style scoped>\n",
       "    .dataframe tbody tr th:only-of-type {\n",
       "        vertical-align: middle;\n",
       "    }\n",
       "\n",
       "    .dataframe tbody tr th {\n",
       "        vertical-align: top;\n",
       "    }\n",
       "\n",
       "    .dataframe thead th {\n",
       "        text-align: right;\n",
       "    }\n",
       "</style>\n",
       "<table border=\"1\" class=\"dataframe\">\n",
       "  <thead>\n",
       "    <tr style=\"text-align: right;\">\n",
       "      <th></th>\n",
       "      <th>uuid</th>\n",
       "      <th>connectionType</th>\n",
       "      <th>eventId</th>\n",
       "      <th>logType</th>\n",
       "      <th>timeStamp</th>\n",
       "    </tr>\n",
       "  </thead>\n",
       "  <tbody>\n",
       "    <tr>\n",
       "      <th>0</th>\n",
       "      <td>7604c508-7947-47fa-b0ff-0a833f223ad6</td>\n",
       "      <td>0</td>\n",
       "      <td>0</td>\n",
       "      <td>0</td>\n",
       "      <td>1643862761592</td>\n",
       "    </tr>\n",
       "    <tr>\n",
       "      <th>1</th>\n",
       "      <td>4a41aeac-a841-4701-8309-da36143155e9</td>\n",
       "      <td>0</td>\n",
       "      <td>1</td>\n",
       "      <td>0</td>\n",
       "      <td>1643862762068</td>\n",
       "    </tr>\n",
       "    <tr>\n",
       "      <th>2</th>\n",
       "      <td>26751683-66f0-4445-a8f2-9a209744dabf</td>\n",
       "      <td>0</td>\n",
       "      <td>0</td>\n",
       "      <td>0</td>\n",
       "      <td>1643862766626</td>\n",
       "    </tr>\n",
       "    <tr>\n",
       "      <th>3</th>\n",
       "      <td>5346ed35-09f9-4584-b976-6200667ba7ad</td>\n",
       "      <td>0</td>\n",
       "      <td>1</td>\n",
       "      <td>0</td>\n",
       "      <td>1643862766776</td>\n",
       "    </tr>\n",
       "    <tr>\n",
       "      <th>4</th>\n",
       "      <td>1d466d25-43bc-469b-bb67-e38a4ea57ce9</td>\n",
       "      <td>0</td>\n",
       "      <td>0</td>\n",
       "      <td>0</td>\n",
       "      <td>1643862771658</td>\n",
       "    </tr>\n",
       "  </tbody>\n",
       "</table>\n",
       "</div>"
      ],
      "text/plain": [
       "                                   uuid  connectionType  eventId  logType  \\\n",
       "0  7604c508-7947-47fa-b0ff-0a833f223ad6               0        0        0   \n",
       "1  4a41aeac-a841-4701-8309-da36143155e9               0        1        0   \n",
       "2  26751683-66f0-4445-a8f2-9a209744dabf               0        0        0   \n",
       "3  5346ed35-09f9-4584-b976-6200667ba7ad               0        1        0   \n",
       "4  1d466d25-43bc-469b-bb67-e38a4ea57ce9               0        0        0   \n",
       "\n",
       "       timeStamp  \n",
       "0  1643862761592  \n",
       "1  1643862762068  \n",
       "2  1643862766626  \n",
       "3  1643862766776  \n",
       "4  1643862771658  "
      ]
     },
     "execution_count": 4,
     "metadata": {},
     "output_type": "execute_result"
    }
   ],
   "source": [
    "df_miranda_1h_1m.head()"
   ]
  },
  {
   "cell_type": "code",
   "execution_count": 5,
   "metadata": {},
   "outputs": [],
   "source": [
    "df_miranda_1h_1m_0 = df_miranda_1h_1m.iloc[::2, :]"
   ]
  },
  {
   "cell_type": "code",
   "execution_count": 6,
   "metadata": {},
   "outputs": [
    {
     "data": {
      "text/html": [
       "<div>\n",
       "<style scoped>\n",
       "    .dataframe tbody tr th:only-of-type {\n",
       "        vertical-align: middle;\n",
       "    }\n",
       "\n",
       "    .dataframe tbody tr th {\n",
       "        vertical-align: top;\n",
       "    }\n",
       "\n",
       "    .dataframe thead th {\n",
       "        text-align: right;\n",
       "    }\n",
       "</style>\n",
       "<table border=\"1\" class=\"dataframe\">\n",
       "  <thead>\n",
       "    <tr style=\"text-align: right;\">\n",
       "      <th></th>\n",
       "      <th>uuid</th>\n",
       "      <th>connectionType</th>\n",
       "      <th>eventId</th>\n",
       "      <th>logType</th>\n",
       "      <th>timeStamp</th>\n",
       "    </tr>\n",
       "  </thead>\n",
       "  <tbody>\n",
       "    <tr>\n",
       "      <th>0</th>\n",
       "      <td>7604c508-7947-47fa-b0ff-0a833f223ad6</td>\n",
       "      <td>0</td>\n",
       "      <td>0</td>\n",
       "      <td>0</td>\n",
       "      <td>1643862761592</td>\n",
       "    </tr>\n",
       "    <tr>\n",
       "      <th>2</th>\n",
       "      <td>26751683-66f0-4445-a8f2-9a209744dabf</td>\n",
       "      <td>0</td>\n",
       "      <td>0</td>\n",
       "      <td>0</td>\n",
       "      <td>1643862766626</td>\n",
       "    </tr>\n",
       "    <tr>\n",
       "      <th>4</th>\n",
       "      <td>1d466d25-43bc-469b-bb67-e38a4ea57ce9</td>\n",
       "      <td>0</td>\n",
       "      <td>0</td>\n",
       "      <td>0</td>\n",
       "      <td>1643862771658</td>\n",
       "    </tr>\n",
       "    <tr>\n",
       "      <th>6</th>\n",
       "      <td>93bca348-29be-4832-b485-992c31f6fd61</td>\n",
       "      <td>0</td>\n",
       "      <td>0</td>\n",
       "      <td>0</td>\n",
       "      <td>1643862776691</td>\n",
       "    </tr>\n",
       "    <tr>\n",
       "      <th>8</th>\n",
       "      <td>17ad669f-a195-4bfd-b76d-230cd55effc9</td>\n",
       "      <td>0</td>\n",
       "      <td>0</td>\n",
       "      <td>0</td>\n",
       "      <td>1643862781724</td>\n",
       "    </tr>\n",
       "  </tbody>\n",
       "</table>\n",
       "</div>"
      ],
      "text/plain": [
       "                                   uuid  connectionType  eventId  logType  \\\n",
       "0  7604c508-7947-47fa-b0ff-0a833f223ad6               0        0        0   \n",
       "2  26751683-66f0-4445-a8f2-9a209744dabf               0        0        0   \n",
       "4  1d466d25-43bc-469b-bb67-e38a4ea57ce9               0        0        0   \n",
       "6  93bca348-29be-4832-b485-992c31f6fd61               0        0        0   \n",
       "8  17ad669f-a195-4bfd-b76d-230cd55effc9               0        0        0   \n",
       "\n",
       "       timeStamp  \n",
       "0  1643862761592  \n",
       "2  1643862766626  \n",
       "4  1643862771658  \n",
       "6  1643862776691  \n",
       "8  1643862781724  "
      ]
     },
     "execution_count": 6,
     "metadata": {},
     "output_type": "execute_result"
    }
   ],
   "source": [
    "df_miranda_1h_1m_0.head()"
   ]
  },
  {
   "cell_type": "code",
   "execution_count": 7,
   "metadata": {},
   "outputs": [],
   "source": [
    "df_miranda_1h_1m_1 = df_miranda_1h_1m.iloc[1::2, :]"
   ]
  },
  {
   "cell_type": "code",
   "execution_count": 8,
   "metadata": {},
   "outputs": [
    {
     "data": {
      "text/html": [
       "<div>\n",
       "<style scoped>\n",
       "    .dataframe tbody tr th:only-of-type {\n",
       "        vertical-align: middle;\n",
       "    }\n",
       "\n",
       "    .dataframe tbody tr th {\n",
       "        vertical-align: top;\n",
       "    }\n",
       "\n",
       "    .dataframe thead th {\n",
       "        text-align: right;\n",
       "    }\n",
       "</style>\n",
       "<table border=\"1\" class=\"dataframe\">\n",
       "  <thead>\n",
       "    <tr style=\"text-align: right;\">\n",
       "      <th></th>\n",
       "      <th>uuid</th>\n",
       "      <th>connectionType</th>\n",
       "      <th>eventId</th>\n",
       "      <th>logType</th>\n",
       "      <th>timeStamp</th>\n",
       "    </tr>\n",
       "  </thead>\n",
       "  <tbody>\n",
       "    <tr>\n",
       "      <th>1</th>\n",
       "      <td>4a41aeac-a841-4701-8309-da36143155e9</td>\n",
       "      <td>0</td>\n",
       "      <td>1</td>\n",
       "      <td>0</td>\n",
       "      <td>1643862762068</td>\n",
       "    </tr>\n",
       "    <tr>\n",
       "      <th>3</th>\n",
       "      <td>5346ed35-09f9-4584-b976-6200667ba7ad</td>\n",
       "      <td>0</td>\n",
       "      <td>1</td>\n",
       "      <td>0</td>\n",
       "      <td>1643862766776</td>\n",
       "    </tr>\n",
       "    <tr>\n",
       "      <th>5</th>\n",
       "      <td>409fc266-a141-4526-b988-72202b418838</td>\n",
       "      <td>0</td>\n",
       "      <td>1</td>\n",
       "      <td>0</td>\n",
       "      <td>1643862771769</td>\n",
       "    </tr>\n",
       "    <tr>\n",
       "      <th>7</th>\n",
       "      <td>9f172720-777b-493b-b0e1-b810f5cd6f1f</td>\n",
       "      <td>0</td>\n",
       "      <td>1</td>\n",
       "      <td>0</td>\n",
       "      <td>1643862776930</td>\n",
       "    </tr>\n",
       "    <tr>\n",
       "      <th>9</th>\n",
       "      <td>fba7e9c5-c4a7-41b3-8136-6c16fd481695</td>\n",
       "      <td>0</td>\n",
       "      <td>1</td>\n",
       "      <td>0</td>\n",
       "      <td>1643862781826</td>\n",
       "    </tr>\n",
       "  </tbody>\n",
       "</table>\n",
       "</div>"
      ],
      "text/plain": [
       "                                   uuid  connectionType  eventId  logType  \\\n",
       "1  4a41aeac-a841-4701-8309-da36143155e9               0        1        0   \n",
       "3  5346ed35-09f9-4584-b976-6200667ba7ad               0        1        0   \n",
       "5  409fc266-a141-4526-b988-72202b418838               0        1        0   \n",
       "7  9f172720-777b-493b-b0e1-b810f5cd6f1f               0        1        0   \n",
       "9  fba7e9c5-c4a7-41b3-8136-6c16fd481695               0        1        0   \n",
       "\n",
       "       timeStamp  \n",
       "1  1643862762068  \n",
       "3  1643862766776  \n",
       "5  1643862771769  \n",
       "7  1643862776930  \n",
       "9  1643862781826  "
      ]
     },
     "execution_count": 8,
     "metadata": {},
     "output_type": "execute_result"
    }
   ],
   "source": [
    "df_miranda_1h_1m_1.head()"
   ]
  },
  {
   "cell_type": "code",
   "execution_count": 9,
   "metadata": {},
   "outputs": [],
   "source": [
    "df_1h_1m = df_miranda_1h_1m_1.reset_index().timeStamp - df_miranda_1h_1m_0.reset_index().timeStamp"
   ]
  },
  {
   "cell_type": "code",
   "execution_count": 10,
   "metadata": {},
   "outputs": [
    {
     "data": {
      "text/plain": [
       "167.0"
      ]
     },
     "execution_count": 10,
     "metadata": {},
     "output_type": "execute_result"
    }
   ],
   "source": [
    "df_1h_1m.median()"
   ]
  },
  {
   "cell_type": "code",
   "execution_count": 11,
   "metadata": {},
   "outputs": [],
   "source": [
    "rtt_elsa_1h_1m = pd.read_csv('result/rtt_elsa_1h_0m.csv')  "
   ]
  },
  {
   "cell_type": "code",
   "execution_count": 12,
   "metadata": {},
   "outputs": [
    {
     "data": {
      "text/html": [
       "<div>\n",
       "<style scoped>\n",
       "    .dataframe tbody tr th:only-of-type {\n",
       "        vertical-align: middle;\n",
       "    }\n",
       "\n",
       "    .dataframe tbody tr th {\n",
       "        vertical-align: top;\n",
       "    }\n",
       "\n",
       "    .dataframe thead th {\n",
       "        text-align: right;\n",
       "    }\n",
       "</style>\n",
       "<table border=\"1\" class=\"dataframe\">\n",
       "  <thead>\n",
       "    <tr style=\"text-align: right;\">\n",
       "      <th></th>\n",
       "      <th>uuid</th>\n",
       "      <th>connectionType</th>\n",
       "      <th>eventId</th>\n",
       "      <th>logType</th>\n",
       "      <th>timeStamp</th>\n",
       "    </tr>\n",
       "  </thead>\n",
       "  <tbody>\n",
       "    <tr>\n",
       "      <th>0</th>\n",
       "      <td>7604c508-7947-47fa-b0ff-0a833f223ad6</td>\n",
       "      <td>0</td>\n",
       "      <td>1</td>\n",
       "      <td>0</td>\n",
       "      <td>1643862762261</td>\n",
       "    </tr>\n",
       "    <tr>\n",
       "      <th>1</th>\n",
       "      <td>4a41aeac-a841-4701-8309-da36143155e9</td>\n",
       "      <td>0</td>\n",
       "      <td>0</td>\n",
       "      <td>0</td>\n",
       "      <td>1643862762310</td>\n",
       "    </tr>\n",
       "    <tr>\n",
       "      <th>2</th>\n",
       "      <td>26751683-66f0-4445-a8f2-9a209744dabf</td>\n",
       "      <td>0</td>\n",
       "      <td>1</td>\n",
       "      <td>0</td>\n",
       "      <td>1643862766956</td>\n",
       "    </tr>\n",
       "    <tr>\n",
       "      <th>3</th>\n",
       "      <td>5346ed35-09f9-4584-b976-6200667ba7ad</td>\n",
       "      <td>0</td>\n",
       "      <td>0</td>\n",
       "      <td>0</td>\n",
       "      <td>1643862766979</td>\n",
       "    </tr>\n",
       "    <tr>\n",
       "      <th>4</th>\n",
       "      <td>1d466d25-43bc-469b-bb67-e38a4ea57ce9</td>\n",
       "      <td>0</td>\n",
       "      <td>1</td>\n",
       "      <td>0</td>\n",
       "      <td>1643862771978</td>\n",
       "    </tr>\n",
       "  </tbody>\n",
       "</table>\n",
       "</div>"
      ],
      "text/plain": [
       "                                   uuid  connectionType  eventId  logType  \\\n",
       "0  7604c508-7947-47fa-b0ff-0a833f223ad6               0        1        0   \n",
       "1  4a41aeac-a841-4701-8309-da36143155e9               0        0        0   \n",
       "2  26751683-66f0-4445-a8f2-9a209744dabf               0        1        0   \n",
       "3  5346ed35-09f9-4584-b976-6200667ba7ad               0        0        0   \n",
       "4  1d466d25-43bc-469b-bb67-e38a4ea57ce9               0        1        0   \n",
       "\n",
       "       timeStamp  \n",
       "0  1643862762261  \n",
       "1  1643862762310  \n",
       "2  1643862766956  \n",
       "3  1643862766979  \n",
       "4  1643862771978  "
      ]
     },
     "execution_count": 12,
     "metadata": {},
     "output_type": "execute_result"
    }
   ],
   "source": [
    "rtt_elsa_1h_1m.head()"
   ]
  },
  {
   "cell_type": "code",
   "execution_count": 13,
   "metadata": {},
   "outputs": [],
   "source": [
    "rtt_elsa_1h_1m_1 = rtt_elsa_1h_1m.iloc[::2, :]"
   ]
  },
  {
   "cell_type": "code",
   "execution_count": 14,
   "metadata": {},
   "outputs": [
    {
     "data": {
      "text/html": [
       "<div>\n",
       "<style scoped>\n",
       "    .dataframe tbody tr th:only-of-type {\n",
       "        vertical-align: middle;\n",
       "    }\n",
       "\n",
       "    .dataframe tbody tr th {\n",
       "        vertical-align: top;\n",
       "    }\n",
       "\n",
       "    .dataframe thead th {\n",
       "        text-align: right;\n",
       "    }\n",
       "</style>\n",
       "<table border=\"1\" class=\"dataframe\">\n",
       "  <thead>\n",
       "    <tr style=\"text-align: right;\">\n",
       "      <th></th>\n",
       "      <th>uuid</th>\n",
       "      <th>connectionType</th>\n",
       "      <th>eventId</th>\n",
       "      <th>logType</th>\n",
       "      <th>timeStamp</th>\n",
       "    </tr>\n",
       "  </thead>\n",
       "  <tbody>\n",
       "    <tr>\n",
       "      <th>0</th>\n",
       "      <td>7604c508-7947-47fa-b0ff-0a833f223ad6</td>\n",
       "      <td>0</td>\n",
       "      <td>1</td>\n",
       "      <td>0</td>\n",
       "      <td>1643862762261</td>\n",
       "    </tr>\n",
       "    <tr>\n",
       "      <th>2</th>\n",
       "      <td>26751683-66f0-4445-a8f2-9a209744dabf</td>\n",
       "      <td>0</td>\n",
       "      <td>1</td>\n",
       "      <td>0</td>\n",
       "      <td>1643862766956</td>\n",
       "    </tr>\n",
       "    <tr>\n",
       "      <th>4</th>\n",
       "      <td>1d466d25-43bc-469b-bb67-e38a4ea57ce9</td>\n",
       "      <td>0</td>\n",
       "      <td>1</td>\n",
       "      <td>0</td>\n",
       "      <td>1643862771978</td>\n",
       "    </tr>\n",
       "    <tr>\n",
       "      <th>6</th>\n",
       "      <td>93bca348-29be-4832-b485-992c31f6fd61</td>\n",
       "      <td>0</td>\n",
       "      <td>1</td>\n",
       "      <td>0</td>\n",
       "      <td>1643862777130</td>\n",
       "    </tr>\n",
       "    <tr>\n",
       "      <th>8</th>\n",
       "      <td>17ad669f-a195-4bfd-b76d-230cd55effc9</td>\n",
       "      <td>0</td>\n",
       "      <td>1</td>\n",
       "      <td>0</td>\n",
       "      <td>1643862782062</td>\n",
       "    </tr>\n",
       "  </tbody>\n",
       "</table>\n",
       "</div>"
      ],
      "text/plain": [
       "                                   uuid  connectionType  eventId  logType  \\\n",
       "0  7604c508-7947-47fa-b0ff-0a833f223ad6               0        1        0   \n",
       "2  26751683-66f0-4445-a8f2-9a209744dabf               0        1        0   \n",
       "4  1d466d25-43bc-469b-bb67-e38a4ea57ce9               0        1        0   \n",
       "6  93bca348-29be-4832-b485-992c31f6fd61               0        1        0   \n",
       "8  17ad669f-a195-4bfd-b76d-230cd55effc9               0        1        0   \n",
       "\n",
       "       timeStamp  \n",
       "0  1643862762261  \n",
       "2  1643862766956  \n",
       "4  1643862771978  \n",
       "6  1643862777130  \n",
       "8  1643862782062  "
      ]
     },
     "execution_count": 14,
     "metadata": {},
     "output_type": "execute_result"
    }
   ],
   "source": [
    "rtt_elsa_1h_1m_1.head()"
   ]
  },
  {
   "cell_type": "code",
   "execution_count": 15,
   "metadata": {},
   "outputs": [],
   "source": [
    "rtt_elsa_1h_1m_0 = rtt_elsa_1h_1m.iloc[1::2, :]"
   ]
  },
  {
   "cell_type": "code",
   "execution_count": 16,
   "metadata": {},
   "outputs": [
    {
     "data": {
      "text/html": [
       "<div>\n",
       "<style scoped>\n",
       "    .dataframe tbody tr th:only-of-type {\n",
       "        vertical-align: middle;\n",
       "    }\n",
       "\n",
       "    .dataframe tbody tr th {\n",
       "        vertical-align: top;\n",
       "    }\n",
       "\n",
       "    .dataframe thead th {\n",
       "        text-align: right;\n",
       "    }\n",
       "</style>\n",
       "<table border=\"1\" class=\"dataframe\">\n",
       "  <thead>\n",
       "    <tr style=\"text-align: right;\">\n",
       "      <th></th>\n",
       "      <th>uuid</th>\n",
       "      <th>connectionType</th>\n",
       "      <th>eventId</th>\n",
       "      <th>logType</th>\n",
       "      <th>timeStamp</th>\n",
       "    </tr>\n",
       "  </thead>\n",
       "  <tbody>\n",
       "    <tr>\n",
       "      <th>1</th>\n",
       "      <td>4a41aeac-a841-4701-8309-da36143155e9</td>\n",
       "      <td>0</td>\n",
       "      <td>0</td>\n",
       "      <td>0</td>\n",
       "      <td>1643862762310</td>\n",
       "    </tr>\n",
       "    <tr>\n",
       "      <th>3</th>\n",
       "      <td>5346ed35-09f9-4584-b976-6200667ba7ad</td>\n",
       "      <td>0</td>\n",
       "      <td>0</td>\n",
       "      <td>0</td>\n",
       "      <td>1643862766979</td>\n",
       "    </tr>\n",
       "    <tr>\n",
       "      <th>5</th>\n",
       "      <td>409fc266-a141-4526-b988-72202b418838</td>\n",
       "      <td>0</td>\n",
       "      <td>0</td>\n",
       "      <td>0</td>\n",
       "      <td>1643862772024</td>\n",
       "    </tr>\n",
       "    <tr>\n",
       "      <th>7</th>\n",
       "      <td>9f172720-777b-493b-b0e1-b810f5cd6f1f</td>\n",
       "      <td>0</td>\n",
       "      <td>0</td>\n",
       "      <td>0</td>\n",
       "      <td>1643862777176</td>\n",
       "    </tr>\n",
       "    <tr>\n",
       "      <th>9</th>\n",
       "      <td>fba7e9c5-c4a7-41b3-8136-6c16fd481695</td>\n",
       "      <td>0</td>\n",
       "      <td>0</td>\n",
       "      <td>0</td>\n",
       "      <td>1643862782096</td>\n",
       "    </tr>\n",
       "  </tbody>\n",
       "</table>\n",
       "</div>"
      ],
      "text/plain": [
       "                                   uuid  connectionType  eventId  logType  \\\n",
       "1  4a41aeac-a841-4701-8309-da36143155e9               0        0        0   \n",
       "3  5346ed35-09f9-4584-b976-6200667ba7ad               0        0        0   \n",
       "5  409fc266-a141-4526-b988-72202b418838               0        0        0   \n",
       "7  9f172720-777b-493b-b0e1-b810f5cd6f1f               0        0        0   \n",
       "9  fba7e9c5-c4a7-41b3-8136-6c16fd481695               0        0        0   \n",
       "\n",
       "       timeStamp  \n",
       "1  1643862762310  \n",
       "3  1643862766979  \n",
       "5  1643862772024  \n",
       "7  1643862777176  \n",
       "9  1643862782096  "
      ]
     },
     "execution_count": 16,
     "metadata": {},
     "output_type": "execute_result"
    }
   ],
   "source": [
    "rtt_elsa_1h_1m_0.head()"
   ]
  },
  {
   "cell_type": "code",
   "execution_count": 17,
   "metadata": {},
   "outputs": [],
   "source": [
    "df_1h_1m_sub = rtt_elsa_1h_1m_0.reset_index().timeStamp - rtt_elsa_1h_1m_1.reset_index().timeStamp"
   ]
  },
  {
   "cell_type": "code",
   "execution_count": 18,
   "metadata": {},
   "outputs": [],
   "source": [
    "df_1h_1m_rtt = df_1h_1m - df_1h_1m_sub"
   ]
  },
  {
   "cell_type": "code",
   "execution_count": 19,
   "metadata": {},
   "outputs": [
    {
     "data": {
      "text/plain": [
       "138.0"
      ]
     },
     "execution_count": 19,
     "metadata": {},
     "output_type": "execute_result"
    }
   ],
   "source": [
    "df_1h_1m_rtt.median()"
   ]
  },
  {
   "cell_type": "code",
   "execution_count": 20,
   "metadata": {},
   "outputs": [],
   "source": [
    "df_1h_1m_rtt = df_1h_1m_rtt/2"
   ]
  },
  {
   "cell_type": "code",
   "execution_count": 21,
   "metadata": {},
   "outputs": [
    {
     "data": {
      "text/plain": [
       "69.0"
      ]
     },
     "execution_count": 21,
     "metadata": {},
     "output_type": "execute_result"
    }
   ],
   "source": [
    "df_1h_1m_rtt.median()"
   ]
  },
  {
   "cell_type": "code",
   "execution_count": 22,
   "metadata": {},
   "outputs": [
    {
     "data": {
      "text/plain": [
       "96.50450450450451"
      ]
     },
     "execution_count": 22,
     "metadata": {},
     "output_type": "execute_result"
    }
   ],
   "source": [
    "df_1h_1m_rtt.mean()"
   ]
  },
  {
   "cell_type": "markdown",
   "metadata": {},
   "source": [
    "## 5 meter delay"
   ]
  },
  {
   "cell_type": "code",
   "execution_count": 23,
   "metadata": {},
   "outputs": [],
   "source": [
    "df_miranda_1h_5m = pd.read_csv('result/rtt_miranda_1h_5m.csv')  "
   ]
  },
  {
   "cell_type": "code",
   "execution_count": 24,
   "metadata": {},
   "outputs": [
    {
     "data": {
      "text/html": [
       "<div>\n",
       "<style scoped>\n",
       "    .dataframe tbody tr th:only-of-type {\n",
       "        vertical-align: middle;\n",
       "    }\n",
       "\n",
       "    .dataframe tbody tr th {\n",
       "        vertical-align: top;\n",
       "    }\n",
       "\n",
       "    .dataframe thead th {\n",
       "        text-align: right;\n",
       "    }\n",
       "</style>\n",
       "<table border=\"1\" class=\"dataframe\">\n",
       "  <thead>\n",
       "    <tr style=\"text-align: right;\">\n",
       "      <th></th>\n",
       "      <th>uuid</th>\n",
       "      <th>connectionType</th>\n",
       "      <th>eventId</th>\n",
       "      <th>logType</th>\n",
       "      <th>timeStamp</th>\n",
       "    </tr>\n",
       "  </thead>\n",
       "  <tbody>\n",
       "    <tr>\n",
       "      <th>0</th>\n",
       "      <td>0ebdfb8c-ae4f-495c-a0a1-05c9b510abc7</td>\n",
       "      <td>0</td>\n",
       "      <td>0</td>\n",
       "      <td>0</td>\n",
       "      <td>1643856376668</td>\n",
       "    </tr>\n",
       "    <tr>\n",
       "      <th>1</th>\n",
       "      <td>f83bd4d3-0da2-44f6-baea-f81f3b387137</td>\n",
       "      <td>0</td>\n",
       "      <td>1</td>\n",
       "      <td>0</td>\n",
       "      <td>1643856376900</td>\n",
       "    </tr>\n",
       "    <tr>\n",
       "      <th>2</th>\n",
       "      <td>bdfcb3da-9643-4bc9-ae2c-236118e6b3af</td>\n",
       "      <td>0</td>\n",
       "      <td>0</td>\n",
       "      <td>0</td>\n",
       "      <td>1643856381701</td>\n",
       "    </tr>\n",
       "    <tr>\n",
       "      <th>3</th>\n",
       "      <td>f9dc3ee9-55e6-4634-934c-4fd7ab6b4314</td>\n",
       "      <td>0</td>\n",
       "      <td>1</td>\n",
       "      <td>0</td>\n",
       "      <td>1643856381805</td>\n",
       "    </tr>\n",
       "    <tr>\n",
       "      <th>4</th>\n",
       "      <td>876e0464-e120-4982-869a-42e96e814eef</td>\n",
       "      <td>0</td>\n",
       "      <td>0</td>\n",
       "      <td>0</td>\n",
       "      <td>1643856386738</td>\n",
       "    </tr>\n",
       "  </tbody>\n",
       "</table>\n",
       "</div>"
      ],
      "text/plain": [
       "                                   uuid  connectionType  eventId  logType  \\\n",
       "0  0ebdfb8c-ae4f-495c-a0a1-05c9b510abc7               0        0        0   \n",
       "1  f83bd4d3-0da2-44f6-baea-f81f3b387137               0        1        0   \n",
       "2  bdfcb3da-9643-4bc9-ae2c-236118e6b3af               0        0        0   \n",
       "3  f9dc3ee9-55e6-4634-934c-4fd7ab6b4314               0        1        0   \n",
       "4  876e0464-e120-4982-869a-42e96e814eef               0        0        0   \n",
       "\n",
       "       timeStamp  \n",
       "0  1643856376668  \n",
       "1  1643856376900  \n",
       "2  1643856381701  \n",
       "3  1643856381805  \n",
       "4  1643856386738  "
      ]
     },
     "execution_count": 24,
     "metadata": {},
     "output_type": "execute_result"
    }
   ],
   "source": [
    "df_miranda_1h_5m.head()"
   ]
  },
  {
   "cell_type": "code",
   "execution_count": 25,
   "metadata": {},
   "outputs": [
    {
     "data": {
      "text/plain": [
       "(218, 5)"
      ]
     },
     "execution_count": 25,
     "metadata": {},
     "output_type": "execute_result"
    }
   ],
   "source": [
    "df_miranda_1h_5m.shape"
   ]
  },
  {
   "cell_type": "code",
   "execution_count": 26,
   "metadata": {},
   "outputs": [],
   "source": [
    "df_miranda_1h_5m_0 = df_miranda_1h_5m.iloc[::2, :]"
   ]
  },
  {
   "cell_type": "code",
   "execution_count": 27,
   "metadata": {},
   "outputs": [
    {
     "data": {
      "text/html": [
       "<div>\n",
       "<style scoped>\n",
       "    .dataframe tbody tr th:only-of-type {\n",
       "        vertical-align: middle;\n",
       "    }\n",
       "\n",
       "    .dataframe tbody tr th {\n",
       "        vertical-align: top;\n",
       "    }\n",
       "\n",
       "    .dataframe thead th {\n",
       "        text-align: right;\n",
       "    }\n",
       "</style>\n",
       "<table border=\"1\" class=\"dataframe\">\n",
       "  <thead>\n",
       "    <tr style=\"text-align: right;\">\n",
       "      <th></th>\n",
       "      <th>uuid</th>\n",
       "      <th>connectionType</th>\n",
       "      <th>eventId</th>\n",
       "      <th>logType</th>\n",
       "      <th>timeStamp</th>\n",
       "    </tr>\n",
       "  </thead>\n",
       "  <tbody>\n",
       "    <tr>\n",
       "      <th>0</th>\n",
       "      <td>0ebdfb8c-ae4f-495c-a0a1-05c9b510abc7</td>\n",
       "      <td>0</td>\n",
       "      <td>0</td>\n",
       "      <td>0</td>\n",
       "      <td>1643856376668</td>\n",
       "    </tr>\n",
       "    <tr>\n",
       "      <th>2</th>\n",
       "      <td>bdfcb3da-9643-4bc9-ae2c-236118e6b3af</td>\n",
       "      <td>0</td>\n",
       "      <td>0</td>\n",
       "      <td>0</td>\n",
       "      <td>1643856381701</td>\n",
       "    </tr>\n",
       "    <tr>\n",
       "      <th>4</th>\n",
       "      <td>876e0464-e120-4982-869a-42e96e814eef</td>\n",
       "      <td>0</td>\n",
       "      <td>0</td>\n",
       "      <td>0</td>\n",
       "      <td>1643856386738</td>\n",
       "    </tr>\n",
       "    <tr>\n",
       "      <th>6</th>\n",
       "      <td>247a107f-da9a-4e6b-aa18-f985ce5f22b3</td>\n",
       "      <td>0</td>\n",
       "      <td>0</td>\n",
       "      <td>0</td>\n",
       "      <td>1643856391775</td>\n",
       "    </tr>\n",
       "    <tr>\n",
       "      <th>8</th>\n",
       "      <td>f70c72a2-a58f-48e7-918f-38b579f1b76a</td>\n",
       "      <td>0</td>\n",
       "      <td>0</td>\n",
       "      <td>0</td>\n",
       "      <td>1643856396811</td>\n",
       "    </tr>\n",
       "  </tbody>\n",
       "</table>\n",
       "</div>"
      ],
      "text/plain": [
       "                                   uuid  connectionType  eventId  logType  \\\n",
       "0  0ebdfb8c-ae4f-495c-a0a1-05c9b510abc7               0        0        0   \n",
       "2  bdfcb3da-9643-4bc9-ae2c-236118e6b3af               0        0        0   \n",
       "4  876e0464-e120-4982-869a-42e96e814eef               0        0        0   \n",
       "6  247a107f-da9a-4e6b-aa18-f985ce5f22b3               0        0        0   \n",
       "8  f70c72a2-a58f-48e7-918f-38b579f1b76a               0        0        0   \n",
       "\n",
       "       timeStamp  \n",
       "0  1643856376668  \n",
       "2  1643856381701  \n",
       "4  1643856386738  \n",
       "6  1643856391775  \n",
       "8  1643856396811  "
      ]
     },
     "execution_count": 27,
     "metadata": {},
     "output_type": "execute_result"
    }
   ],
   "source": [
    "df_miranda_1h_5m_0.head()"
   ]
  },
  {
   "cell_type": "code",
   "execution_count": 28,
   "metadata": {},
   "outputs": [
    {
     "data": {
      "text/plain": [
       "(109, 5)"
      ]
     },
     "execution_count": 28,
     "metadata": {},
     "output_type": "execute_result"
    }
   ],
   "source": [
    "df_miranda_1h_5m_0.shape"
   ]
  },
  {
   "cell_type": "code",
   "execution_count": 29,
   "metadata": {},
   "outputs": [],
   "source": [
    "df_miranda_1h_5m_1 = df_miranda_1h_5m.iloc[1::2, :]"
   ]
  },
  {
   "cell_type": "code",
   "execution_count": 30,
   "metadata": {},
   "outputs": [
    {
     "data": {
      "text/plain": [
       "(109, 5)"
      ]
     },
     "execution_count": 30,
     "metadata": {},
     "output_type": "execute_result"
    }
   ],
   "source": [
    "df_miranda_1h_5m_1.shape"
   ]
  },
  {
   "cell_type": "code",
   "execution_count": 31,
   "metadata": {},
   "outputs": [],
   "source": [
    "df_1h_5m = df_miranda_1h_5m_1.reset_index().timeStamp - df_miranda_1h_5m_0.reset_index().timeStamp"
   ]
  },
  {
   "cell_type": "code",
   "execution_count": 32,
   "metadata": {},
   "outputs": [
    {
     "data": {
      "text/plain": [
       "235.0"
      ]
     },
     "execution_count": 32,
     "metadata": {},
     "output_type": "execute_result"
    }
   ],
   "source": [
    "df_1h_5m.median()"
   ]
  },
  {
   "cell_type": "code",
   "execution_count": 33,
   "metadata": {},
   "outputs": [],
   "source": [
    "rtt_elsa_1h_5m = pd.read_csv('result/rtt_elsa_1h_5m.csv')  "
   ]
  },
  {
   "cell_type": "code",
   "execution_count": 34,
   "metadata": {},
   "outputs": [
    {
     "data": {
      "text/html": [
       "<div>\n",
       "<style scoped>\n",
       "    .dataframe tbody tr th:only-of-type {\n",
       "        vertical-align: middle;\n",
       "    }\n",
       "\n",
       "    .dataframe tbody tr th {\n",
       "        vertical-align: top;\n",
       "    }\n",
       "\n",
       "    .dataframe thead th {\n",
       "        text-align: right;\n",
       "    }\n",
       "</style>\n",
       "<table border=\"1\" class=\"dataframe\">\n",
       "  <thead>\n",
       "    <tr style=\"text-align: right;\">\n",
       "      <th></th>\n",
       "      <th>uuid</th>\n",
       "      <th>connectionType</th>\n",
       "      <th>eventId</th>\n",
       "      <th>logType</th>\n",
       "      <th>timeStamp</th>\n",
       "    </tr>\n",
       "  </thead>\n",
       "  <tbody>\n",
       "    <tr>\n",
       "      <th>0</th>\n",
       "      <td>0ebdfb8c-ae4f-495c-a0a1-05c9b510abc7</td>\n",
       "      <td>0</td>\n",
       "      <td>1</td>\n",
       "      <td>0</td>\n",
       "      <td>1643856377028</td>\n",
       "    </tr>\n",
       "    <tr>\n",
       "      <th>1</th>\n",
       "      <td>f83bd4d3-0da2-44f6-baea-f81f3b387137</td>\n",
       "      <td>0</td>\n",
       "      <td>0</td>\n",
       "      <td>0</td>\n",
       "      <td>1643856377082</td>\n",
       "    </tr>\n",
       "    <tr>\n",
       "      <th>2</th>\n",
       "      <td>bdfcb3da-9643-4bc9-ae2c-236118e6b3af</td>\n",
       "      <td>0</td>\n",
       "      <td>1</td>\n",
       "      <td>0</td>\n",
       "      <td>1643856382003</td>\n",
       "    </tr>\n",
       "    <tr>\n",
       "      <th>3</th>\n",
       "      <td>f9dc3ee9-55e6-4634-934c-4fd7ab6b4314</td>\n",
       "      <td>0</td>\n",
       "      <td>0</td>\n",
       "      <td>0</td>\n",
       "      <td>1643856382052</td>\n",
       "    </tr>\n",
       "    <tr>\n",
       "      <th>4</th>\n",
       "      <td>876e0464-e120-4982-869a-42e96e814eef</td>\n",
       "      <td>0</td>\n",
       "      <td>1</td>\n",
       "      <td>0</td>\n",
       "      <td>1643856387080</td>\n",
       "    </tr>\n",
       "  </tbody>\n",
       "</table>\n",
       "</div>"
      ],
      "text/plain": [
       "                                   uuid  connectionType  eventId  logType  \\\n",
       "0  0ebdfb8c-ae4f-495c-a0a1-05c9b510abc7               0        1        0   \n",
       "1  f83bd4d3-0da2-44f6-baea-f81f3b387137               0        0        0   \n",
       "2  bdfcb3da-9643-4bc9-ae2c-236118e6b3af               0        1        0   \n",
       "3  f9dc3ee9-55e6-4634-934c-4fd7ab6b4314               0        0        0   \n",
       "4  876e0464-e120-4982-869a-42e96e814eef               0        1        0   \n",
       "\n",
       "       timeStamp  \n",
       "0  1643856377028  \n",
       "1  1643856377082  \n",
       "2  1643856382003  \n",
       "3  1643856382052  \n",
       "4  1643856387080  "
      ]
     },
     "execution_count": 34,
     "metadata": {},
     "output_type": "execute_result"
    }
   ],
   "source": [
    "rtt_elsa_1h_5m.head()"
   ]
  },
  {
   "cell_type": "code",
   "execution_count": 35,
   "metadata": {},
   "outputs": [
    {
     "data": {
      "text/plain": [
       "(218, 5)"
      ]
     },
     "execution_count": 35,
     "metadata": {},
     "output_type": "execute_result"
    }
   ],
   "source": [
    "rtt_elsa_1h_5m.shape"
   ]
  },
  {
   "cell_type": "code",
   "execution_count": 36,
   "metadata": {},
   "outputs": [],
   "source": [
    "rtt_elsa_1h_5m_1 = rtt_elsa_1h_5m.iloc[::2, :]"
   ]
  },
  {
   "cell_type": "code",
   "execution_count": 37,
   "metadata": {},
   "outputs": [
    {
     "data": {
      "text/html": [
       "<div>\n",
       "<style scoped>\n",
       "    .dataframe tbody tr th:only-of-type {\n",
       "        vertical-align: middle;\n",
       "    }\n",
       "\n",
       "    .dataframe tbody tr th {\n",
       "        vertical-align: top;\n",
       "    }\n",
       "\n",
       "    .dataframe thead th {\n",
       "        text-align: right;\n",
       "    }\n",
       "</style>\n",
       "<table border=\"1\" class=\"dataframe\">\n",
       "  <thead>\n",
       "    <tr style=\"text-align: right;\">\n",
       "      <th></th>\n",
       "      <th>uuid</th>\n",
       "      <th>connectionType</th>\n",
       "      <th>eventId</th>\n",
       "      <th>logType</th>\n",
       "      <th>timeStamp</th>\n",
       "    </tr>\n",
       "  </thead>\n",
       "  <tbody>\n",
       "    <tr>\n",
       "      <th>0</th>\n",
       "      <td>0ebdfb8c-ae4f-495c-a0a1-05c9b510abc7</td>\n",
       "      <td>0</td>\n",
       "      <td>1</td>\n",
       "      <td>0</td>\n",
       "      <td>1643856377028</td>\n",
       "    </tr>\n",
       "    <tr>\n",
       "      <th>2</th>\n",
       "      <td>bdfcb3da-9643-4bc9-ae2c-236118e6b3af</td>\n",
       "      <td>0</td>\n",
       "      <td>1</td>\n",
       "      <td>0</td>\n",
       "      <td>1643856382003</td>\n",
       "    </tr>\n",
       "    <tr>\n",
       "      <th>4</th>\n",
       "      <td>876e0464-e120-4982-869a-42e96e814eef</td>\n",
       "      <td>0</td>\n",
       "      <td>1</td>\n",
       "      <td>0</td>\n",
       "      <td>1643856387080</td>\n",
       "    </tr>\n",
       "    <tr>\n",
       "      <th>6</th>\n",
       "      <td>247a107f-da9a-4e6b-aa18-f985ce5f22b3</td>\n",
       "      <td>0</td>\n",
       "      <td>1</td>\n",
       "      <td>0</td>\n",
       "      <td>1643856392074</td>\n",
       "    </tr>\n",
       "    <tr>\n",
       "      <th>8</th>\n",
       "      <td>f70c72a2-a58f-48e7-918f-38b579f1b76a</td>\n",
       "      <td>0</td>\n",
       "      <td>1</td>\n",
       "      <td>0</td>\n",
       "      <td>1643856397158</td>\n",
       "    </tr>\n",
       "  </tbody>\n",
       "</table>\n",
       "</div>"
      ],
      "text/plain": [
       "                                   uuid  connectionType  eventId  logType  \\\n",
       "0  0ebdfb8c-ae4f-495c-a0a1-05c9b510abc7               0        1        0   \n",
       "2  bdfcb3da-9643-4bc9-ae2c-236118e6b3af               0        1        0   \n",
       "4  876e0464-e120-4982-869a-42e96e814eef               0        1        0   \n",
       "6  247a107f-da9a-4e6b-aa18-f985ce5f22b3               0        1        0   \n",
       "8  f70c72a2-a58f-48e7-918f-38b579f1b76a               0        1        0   \n",
       "\n",
       "       timeStamp  \n",
       "0  1643856377028  \n",
       "2  1643856382003  \n",
       "4  1643856387080  \n",
       "6  1643856392074  \n",
       "8  1643856397158  "
      ]
     },
     "execution_count": 37,
     "metadata": {},
     "output_type": "execute_result"
    }
   ],
   "source": [
    "rtt_elsa_1h_5m_1.head()"
   ]
  },
  {
   "cell_type": "code",
   "execution_count": 38,
   "metadata": {},
   "outputs": [],
   "source": [
    "rtt_elsa_1h_5m_0 = rtt_elsa_1h_5m.iloc[1::2, :]"
   ]
  },
  {
   "cell_type": "code",
   "execution_count": 39,
   "metadata": {},
   "outputs": [
    {
     "data": {
      "text/html": [
       "<div>\n",
       "<style scoped>\n",
       "    .dataframe tbody tr th:only-of-type {\n",
       "        vertical-align: middle;\n",
       "    }\n",
       "\n",
       "    .dataframe tbody tr th {\n",
       "        vertical-align: top;\n",
       "    }\n",
       "\n",
       "    .dataframe thead th {\n",
       "        text-align: right;\n",
       "    }\n",
       "</style>\n",
       "<table border=\"1\" class=\"dataframe\">\n",
       "  <thead>\n",
       "    <tr style=\"text-align: right;\">\n",
       "      <th></th>\n",
       "      <th>uuid</th>\n",
       "      <th>connectionType</th>\n",
       "      <th>eventId</th>\n",
       "      <th>logType</th>\n",
       "      <th>timeStamp</th>\n",
       "    </tr>\n",
       "  </thead>\n",
       "  <tbody>\n",
       "    <tr>\n",
       "      <th>1</th>\n",
       "      <td>f83bd4d3-0da2-44f6-baea-f81f3b387137</td>\n",
       "      <td>0</td>\n",
       "      <td>0</td>\n",
       "      <td>0</td>\n",
       "      <td>1643856377082</td>\n",
       "    </tr>\n",
       "    <tr>\n",
       "      <th>3</th>\n",
       "      <td>f9dc3ee9-55e6-4634-934c-4fd7ab6b4314</td>\n",
       "      <td>0</td>\n",
       "      <td>0</td>\n",
       "      <td>0</td>\n",
       "      <td>1643856382052</td>\n",
       "    </tr>\n",
       "    <tr>\n",
       "      <th>5</th>\n",
       "      <td>5c1b5f97-2d57-4701-9db3-831fd588d257</td>\n",
       "      <td>0</td>\n",
       "      <td>0</td>\n",
       "      <td>0</td>\n",
       "      <td>1643856387098</td>\n",
       "    </tr>\n",
       "    <tr>\n",
       "      <th>7</th>\n",
       "      <td>41bc8e29-ea9a-4f1d-9f54-bbfe60aa3d04</td>\n",
       "      <td>0</td>\n",
       "      <td>0</td>\n",
       "      <td>0</td>\n",
       "      <td>1643856392089</td>\n",
       "    </tr>\n",
       "    <tr>\n",
       "      <th>9</th>\n",
       "      <td>c68de009-9da9-4537-a15b-565973d37ab0</td>\n",
       "      <td>0</td>\n",
       "      <td>0</td>\n",
       "      <td>0</td>\n",
       "      <td>1643856397173</td>\n",
       "    </tr>\n",
       "  </tbody>\n",
       "</table>\n",
       "</div>"
      ],
      "text/plain": [
       "                                   uuid  connectionType  eventId  logType  \\\n",
       "1  f83bd4d3-0da2-44f6-baea-f81f3b387137               0        0        0   \n",
       "3  f9dc3ee9-55e6-4634-934c-4fd7ab6b4314               0        0        0   \n",
       "5  5c1b5f97-2d57-4701-9db3-831fd588d257               0        0        0   \n",
       "7  41bc8e29-ea9a-4f1d-9f54-bbfe60aa3d04               0        0        0   \n",
       "9  c68de009-9da9-4537-a15b-565973d37ab0               0        0        0   \n",
       "\n",
       "       timeStamp  \n",
       "1  1643856377082  \n",
       "3  1643856382052  \n",
       "5  1643856387098  \n",
       "7  1643856392089  \n",
       "9  1643856397173  "
      ]
     },
     "execution_count": 39,
     "metadata": {},
     "output_type": "execute_result"
    }
   ],
   "source": [
    "rtt_elsa_1h_5m_0.head()"
   ]
  },
  {
   "cell_type": "code",
   "execution_count": 40,
   "metadata": {},
   "outputs": [],
   "source": [
    "df_1h_5m_sub = rtt_elsa_1h_5m_0.reset_index().timeStamp - rtt_elsa_1h_5m_1.reset_index().timeStamp"
   ]
  },
  {
   "cell_type": "code",
   "execution_count": 41,
   "metadata": {},
   "outputs": [
    {
     "data": {
      "text/plain": [
       "28.0"
      ]
     },
     "execution_count": 41,
     "metadata": {},
     "output_type": "execute_result"
    }
   ],
   "source": [
    "df_1h_5m_sub.median()"
   ]
  },
  {
   "cell_type": "code",
   "execution_count": 42,
   "metadata": {},
   "outputs": [],
   "source": [
    "df_1h_5m_rtt = df_1h_5m - df_1h_5m_sub"
   ]
  },
  {
   "cell_type": "code",
   "execution_count": 43,
   "metadata": {},
   "outputs": [
    {
     "data": {
      "text/plain": [
       "203.0"
      ]
     },
     "execution_count": 43,
     "metadata": {},
     "output_type": "execute_result"
    }
   ],
   "source": [
    "df_1h_5m_rtt.median()"
   ]
  },
  {
   "cell_type": "code",
   "execution_count": 44,
   "metadata": {},
   "outputs": [],
   "source": [
    "df_1h_5m_rtt = df_1h_5m_rtt/2"
   ]
  },
  {
   "cell_type": "code",
   "execution_count": 45,
   "metadata": {},
   "outputs": [
    {
     "data": {
      "text/plain": [
       "101.5"
      ]
     },
     "execution_count": 45,
     "metadata": {},
     "output_type": "execute_result"
    }
   ],
   "source": [
    "df_1h_5m_rtt.median()"
   ]
  },
  {
   "cell_type": "code",
   "execution_count": 46,
   "metadata": {},
   "outputs": [
    {
     "data": {
      "text/plain": [
       "179.89908256880733"
      ]
     },
     "execution_count": 46,
     "metadata": {},
     "output_type": "execute_result"
    }
   ],
   "source": [
    "df_1h_5m_rtt.mean()"
   ]
  },
  {
   "cell_type": "markdown",
   "metadata": {},
   "source": [
    "## 10 meter delay"
   ]
  },
  {
   "cell_type": "code",
   "execution_count": 47,
   "metadata": {},
   "outputs": [],
   "source": [
    "df_miranda_1h_10m = pd.read_csv('result/rtt_miranda_1h_10m.csv')  "
   ]
  },
  {
   "cell_type": "code",
   "execution_count": 48,
   "metadata": {},
   "outputs": [
    {
     "data": {
      "text/html": [
       "<div>\n",
       "<style scoped>\n",
       "    .dataframe tbody tr th:only-of-type {\n",
       "        vertical-align: middle;\n",
       "    }\n",
       "\n",
       "    .dataframe tbody tr th {\n",
       "        vertical-align: top;\n",
       "    }\n",
       "\n",
       "    .dataframe thead th {\n",
       "        text-align: right;\n",
       "    }\n",
       "</style>\n",
       "<table border=\"1\" class=\"dataframe\">\n",
       "  <thead>\n",
       "    <tr style=\"text-align: right;\">\n",
       "      <th></th>\n",
       "      <th>uuid</th>\n",
       "      <th>connectionType</th>\n",
       "      <th>eventId</th>\n",
       "      <th>logType</th>\n",
       "      <th>timeStamp</th>\n",
       "    </tr>\n",
       "  </thead>\n",
       "  <tbody>\n",
       "    <tr>\n",
       "      <th>0</th>\n",
       "      <td>fd5f7949-bea0-4702-bc42-bcc57c78b5a5</td>\n",
       "      <td>0</td>\n",
       "      <td>0</td>\n",
       "      <td>0</td>\n",
       "      <td>1643859521859</td>\n",
       "    </tr>\n",
       "    <tr>\n",
       "      <th>1</th>\n",
       "      <td>f55fd9ab-0330-4b66-893a-eaa5c2fc77cd</td>\n",
       "      <td>0</td>\n",
       "      <td>1</td>\n",
       "      <td>0</td>\n",
       "      <td>1643859522007</td>\n",
       "    </tr>\n",
       "    <tr>\n",
       "      <th>2</th>\n",
       "      <td>6d6fbe11-0b32-44b8-ade9-4e363739f68c</td>\n",
       "      <td>0</td>\n",
       "      <td>0</td>\n",
       "      <td>0</td>\n",
       "      <td>1643859526878</td>\n",
       "    </tr>\n",
       "    <tr>\n",
       "      <th>3</th>\n",
       "      <td>810b869b-8691-4bde-b5f1-e80f28c5b831</td>\n",
       "      <td>0</td>\n",
       "      <td>1</td>\n",
       "      <td>0</td>\n",
       "      <td>1643859527035</td>\n",
       "    </tr>\n",
       "    <tr>\n",
       "      <th>4</th>\n",
       "      <td>bc9d24d1-9bc9-4b11-960b-633c35c74f39</td>\n",
       "      <td>0</td>\n",
       "      <td>0</td>\n",
       "      <td>0</td>\n",
       "      <td>1643859531910</td>\n",
       "    </tr>\n",
       "  </tbody>\n",
       "</table>\n",
       "</div>"
      ],
      "text/plain": [
       "                                   uuid  connectionType  eventId  logType  \\\n",
       "0  fd5f7949-bea0-4702-bc42-bcc57c78b5a5               0        0        0   \n",
       "1  f55fd9ab-0330-4b66-893a-eaa5c2fc77cd               0        1        0   \n",
       "2  6d6fbe11-0b32-44b8-ade9-4e363739f68c               0        0        0   \n",
       "3  810b869b-8691-4bde-b5f1-e80f28c5b831               0        1        0   \n",
       "4  bc9d24d1-9bc9-4b11-960b-633c35c74f39               0        0        0   \n",
       "\n",
       "       timeStamp  \n",
       "0  1643859521859  \n",
       "1  1643859522007  \n",
       "2  1643859526878  \n",
       "3  1643859527035  \n",
       "4  1643859531910  "
      ]
     },
     "execution_count": 48,
     "metadata": {},
     "output_type": "execute_result"
    }
   ],
   "source": [
    "df_miranda_1h_10m.head()"
   ]
  },
  {
   "cell_type": "code",
   "execution_count": 49,
   "metadata": {},
   "outputs": [
    {
     "data": {
      "text/plain": [
       "(224, 5)"
      ]
     },
     "execution_count": 49,
     "metadata": {},
     "output_type": "execute_result"
    }
   ],
   "source": [
    "df_miranda_1h_10m.shape"
   ]
  },
  {
   "cell_type": "code",
   "execution_count": 50,
   "metadata": {},
   "outputs": [],
   "source": [
    "df_miranda_1h_10m_0 = df_miranda_1h_10m.iloc[::2, :]"
   ]
  },
  {
   "cell_type": "code",
   "execution_count": 51,
   "metadata": {},
   "outputs": [
    {
     "data": {
      "text/html": [
       "<div>\n",
       "<style scoped>\n",
       "    .dataframe tbody tr th:only-of-type {\n",
       "        vertical-align: middle;\n",
       "    }\n",
       "\n",
       "    .dataframe tbody tr th {\n",
       "        vertical-align: top;\n",
       "    }\n",
       "\n",
       "    .dataframe thead th {\n",
       "        text-align: right;\n",
       "    }\n",
       "</style>\n",
       "<table border=\"1\" class=\"dataframe\">\n",
       "  <thead>\n",
       "    <tr style=\"text-align: right;\">\n",
       "      <th></th>\n",
       "      <th>uuid</th>\n",
       "      <th>connectionType</th>\n",
       "      <th>eventId</th>\n",
       "      <th>logType</th>\n",
       "      <th>timeStamp</th>\n",
       "    </tr>\n",
       "  </thead>\n",
       "  <tbody>\n",
       "    <tr>\n",
       "      <th>0</th>\n",
       "      <td>fd5f7949-bea0-4702-bc42-bcc57c78b5a5</td>\n",
       "      <td>0</td>\n",
       "      <td>0</td>\n",
       "      <td>0</td>\n",
       "      <td>1643859521859</td>\n",
       "    </tr>\n",
       "    <tr>\n",
       "      <th>2</th>\n",
       "      <td>6d6fbe11-0b32-44b8-ade9-4e363739f68c</td>\n",
       "      <td>0</td>\n",
       "      <td>0</td>\n",
       "      <td>0</td>\n",
       "      <td>1643859526878</td>\n",
       "    </tr>\n",
       "    <tr>\n",
       "      <th>4</th>\n",
       "      <td>bc9d24d1-9bc9-4b11-960b-633c35c74f39</td>\n",
       "      <td>0</td>\n",
       "      <td>0</td>\n",
       "      <td>0</td>\n",
       "      <td>1643859531910</td>\n",
       "    </tr>\n",
       "    <tr>\n",
       "      <th>6</th>\n",
       "      <td>fa76271f-d43c-4182-98ff-a8bd2f904bc5</td>\n",
       "      <td>0</td>\n",
       "      <td>0</td>\n",
       "      <td>0</td>\n",
       "      <td>1643859536947</td>\n",
       "    </tr>\n",
       "    <tr>\n",
       "      <th>8</th>\n",
       "      <td>3ce737c7-b125-43b2-b297-7058c24f919b</td>\n",
       "      <td>0</td>\n",
       "      <td>0</td>\n",
       "      <td>0</td>\n",
       "      <td>1643859541975</td>\n",
       "    </tr>\n",
       "  </tbody>\n",
       "</table>\n",
       "</div>"
      ],
      "text/plain": [
       "                                   uuid  connectionType  eventId  logType  \\\n",
       "0  fd5f7949-bea0-4702-bc42-bcc57c78b5a5               0        0        0   \n",
       "2  6d6fbe11-0b32-44b8-ade9-4e363739f68c               0        0        0   \n",
       "4  bc9d24d1-9bc9-4b11-960b-633c35c74f39               0        0        0   \n",
       "6  fa76271f-d43c-4182-98ff-a8bd2f904bc5               0        0        0   \n",
       "8  3ce737c7-b125-43b2-b297-7058c24f919b               0        0        0   \n",
       "\n",
       "       timeStamp  \n",
       "0  1643859521859  \n",
       "2  1643859526878  \n",
       "4  1643859531910  \n",
       "6  1643859536947  \n",
       "8  1643859541975  "
      ]
     },
     "execution_count": 51,
     "metadata": {},
     "output_type": "execute_result"
    }
   ],
   "source": [
    "df_miranda_1h_10m_0.head()"
   ]
  },
  {
   "cell_type": "code",
   "execution_count": 52,
   "metadata": {},
   "outputs": [
    {
     "data": {
      "text/plain": [
       "(112, 5)"
      ]
     },
     "execution_count": 52,
     "metadata": {},
     "output_type": "execute_result"
    }
   ],
   "source": [
    "df_miranda_1h_10m_0.shape"
   ]
  },
  {
   "cell_type": "code",
   "execution_count": 53,
   "metadata": {},
   "outputs": [],
   "source": [
    "df_miranda_1h_10m_1 = df_miranda_1h_10m.iloc[1::2, :]"
   ]
  },
  {
   "cell_type": "code",
   "execution_count": 54,
   "metadata": {},
   "outputs": [
    {
     "data": {
      "text/html": [
       "<div>\n",
       "<style scoped>\n",
       "    .dataframe tbody tr th:only-of-type {\n",
       "        vertical-align: middle;\n",
       "    }\n",
       "\n",
       "    .dataframe tbody tr th {\n",
       "        vertical-align: top;\n",
       "    }\n",
       "\n",
       "    .dataframe thead th {\n",
       "        text-align: right;\n",
       "    }\n",
       "</style>\n",
       "<table border=\"1\" class=\"dataframe\">\n",
       "  <thead>\n",
       "    <tr style=\"text-align: right;\">\n",
       "      <th></th>\n",
       "      <th>uuid</th>\n",
       "      <th>connectionType</th>\n",
       "      <th>eventId</th>\n",
       "      <th>logType</th>\n",
       "      <th>timeStamp</th>\n",
       "    </tr>\n",
       "  </thead>\n",
       "  <tbody>\n",
       "    <tr>\n",
       "      <th>1</th>\n",
       "      <td>f55fd9ab-0330-4b66-893a-eaa5c2fc77cd</td>\n",
       "      <td>0</td>\n",
       "      <td>1</td>\n",
       "      <td>0</td>\n",
       "      <td>1643859522007</td>\n",
       "    </tr>\n",
       "    <tr>\n",
       "      <th>3</th>\n",
       "      <td>810b869b-8691-4bde-b5f1-e80f28c5b831</td>\n",
       "      <td>0</td>\n",
       "      <td>1</td>\n",
       "      <td>0</td>\n",
       "      <td>1643859527035</td>\n",
       "    </tr>\n",
       "    <tr>\n",
       "      <th>5</th>\n",
       "      <td>5e501dc1-90f4-4c63-80c5-babef0be4fa6</td>\n",
       "      <td>0</td>\n",
       "      <td>1</td>\n",
       "      <td>0</td>\n",
       "      <td>1643859532089</td>\n",
       "    </tr>\n",
       "    <tr>\n",
       "      <th>7</th>\n",
       "      <td>6886580d-2de3-4de4-ade1-f6d245e882a5</td>\n",
       "      <td>0</td>\n",
       "      <td>1</td>\n",
       "      <td>0</td>\n",
       "      <td>1643859537147</td>\n",
       "    </tr>\n",
       "    <tr>\n",
       "      <th>9</th>\n",
       "      <td>090b284b-5cce-4241-a07c-ff8d8209404b</td>\n",
       "      <td>0</td>\n",
       "      <td>1</td>\n",
       "      <td>0</td>\n",
       "      <td>1643859542208</td>\n",
       "    </tr>\n",
       "  </tbody>\n",
       "</table>\n",
       "</div>"
      ],
      "text/plain": [
       "                                   uuid  connectionType  eventId  logType  \\\n",
       "1  f55fd9ab-0330-4b66-893a-eaa5c2fc77cd               0        1        0   \n",
       "3  810b869b-8691-4bde-b5f1-e80f28c5b831               0        1        0   \n",
       "5  5e501dc1-90f4-4c63-80c5-babef0be4fa6               0        1        0   \n",
       "7  6886580d-2de3-4de4-ade1-f6d245e882a5               0        1        0   \n",
       "9  090b284b-5cce-4241-a07c-ff8d8209404b               0        1        0   \n",
       "\n",
       "       timeStamp  \n",
       "1  1643859522007  \n",
       "3  1643859527035  \n",
       "5  1643859532089  \n",
       "7  1643859537147  \n",
       "9  1643859542208  "
      ]
     },
     "execution_count": 54,
     "metadata": {},
     "output_type": "execute_result"
    }
   ],
   "source": [
    "df_miranda_1h_10m_1.head()"
   ]
  },
  {
   "cell_type": "code",
   "execution_count": 55,
   "metadata": {},
   "outputs": [
    {
     "data": {
      "text/plain": [
       "(112, 5)"
      ]
     },
     "execution_count": 55,
     "metadata": {},
     "output_type": "execute_result"
    }
   ],
   "source": [
    "df_miranda_1h_10m_1.shape"
   ]
  },
  {
   "cell_type": "code",
   "execution_count": 56,
   "metadata": {},
   "outputs": [],
   "source": [
    "df_1h_10m = df_miranda_1h_10m_1.reset_index().timeStamp - df_miranda_1h_10m_0.reset_index().timeStamp"
   ]
  },
  {
   "cell_type": "code",
   "execution_count": 57,
   "metadata": {},
   "outputs": [
    {
     "data": {
      "text/plain": [
       "170.0"
      ]
     },
     "execution_count": 57,
     "metadata": {},
     "output_type": "execute_result"
    }
   ],
   "source": [
    "df_1h_10m.median()"
   ]
  },
  {
   "cell_type": "code",
   "execution_count": 58,
   "metadata": {},
   "outputs": [
    {
     "data": {
      "text/plain": [
       "51"
      ]
     },
     "execution_count": 58,
     "metadata": {},
     "output_type": "execute_result"
    }
   ],
   "source": [
    "df_1h_10m.min()"
   ]
  },
  {
   "cell_type": "code",
   "execution_count": 59,
   "metadata": {},
   "outputs": [],
   "source": [
    "rtt_elsa_1h_10m = pd.read_csv('result/rtt_elsa_1h_10m.csv')  "
   ]
  },
  {
   "cell_type": "code",
   "execution_count": 60,
   "metadata": {},
   "outputs": [
    {
     "data": {
      "text/html": [
       "<div>\n",
       "<style scoped>\n",
       "    .dataframe tbody tr th:only-of-type {\n",
       "        vertical-align: middle;\n",
       "    }\n",
       "\n",
       "    .dataframe tbody tr th {\n",
       "        vertical-align: top;\n",
       "    }\n",
       "\n",
       "    .dataframe thead th {\n",
       "        text-align: right;\n",
       "    }\n",
       "</style>\n",
       "<table border=\"1\" class=\"dataframe\">\n",
       "  <thead>\n",
       "    <tr style=\"text-align: right;\">\n",
       "      <th></th>\n",
       "      <th>uuid</th>\n",
       "      <th>connectionType</th>\n",
       "      <th>eventId</th>\n",
       "      <th>logType</th>\n",
       "      <th>timeStamp</th>\n",
       "    </tr>\n",
       "  </thead>\n",
       "  <tbody>\n",
       "    <tr>\n",
       "      <th>0</th>\n",
       "      <td>fd5f7949-bea0-4702-bc42-bcc57c78b5a5</td>\n",
       "      <td>0</td>\n",
       "      <td>1</td>\n",
       "      <td>0</td>\n",
       "      <td>1643859522201</td>\n",
       "    </tr>\n",
       "    <tr>\n",
       "      <th>1</th>\n",
       "      <td>f55fd9ab-0330-4b66-893a-eaa5c2fc77cd</td>\n",
       "      <td>0</td>\n",
       "      <td>0</td>\n",
       "      <td>0</td>\n",
       "      <td>1643859522251</td>\n",
       "    </tr>\n",
       "    <tr>\n",
       "      <th>2</th>\n",
       "      <td>6d6fbe11-0b32-44b8-ade9-4e363739f68c</td>\n",
       "      <td>0</td>\n",
       "      <td>1</td>\n",
       "      <td>0</td>\n",
       "      <td>1643859527228</td>\n",
       "    </tr>\n",
       "    <tr>\n",
       "      <th>3</th>\n",
       "      <td>810b869b-8691-4bde-b5f1-e80f28c5b831</td>\n",
       "      <td>0</td>\n",
       "      <td>0</td>\n",
       "      <td>0</td>\n",
       "      <td>1643859527277</td>\n",
       "    </tr>\n",
       "    <tr>\n",
       "      <th>4</th>\n",
       "      <td>bc9d24d1-9bc9-4b11-960b-633c35c74f39</td>\n",
       "      <td>0</td>\n",
       "      <td>1</td>\n",
       "      <td>0</td>\n",
       "      <td>1643859532278</td>\n",
       "    </tr>\n",
       "  </tbody>\n",
       "</table>\n",
       "</div>"
      ],
      "text/plain": [
       "                                   uuid  connectionType  eventId  logType  \\\n",
       "0  fd5f7949-bea0-4702-bc42-bcc57c78b5a5               0        1        0   \n",
       "1  f55fd9ab-0330-4b66-893a-eaa5c2fc77cd               0        0        0   \n",
       "2  6d6fbe11-0b32-44b8-ade9-4e363739f68c               0        1        0   \n",
       "3  810b869b-8691-4bde-b5f1-e80f28c5b831               0        0        0   \n",
       "4  bc9d24d1-9bc9-4b11-960b-633c35c74f39               0        1        0   \n",
       "\n",
       "       timeStamp  \n",
       "0  1643859522201  \n",
       "1  1643859522251  \n",
       "2  1643859527228  \n",
       "3  1643859527277  \n",
       "4  1643859532278  "
      ]
     },
     "execution_count": 60,
     "metadata": {},
     "output_type": "execute_result"
    }
   ],
   "source": [
    "rtt_elsa_1h_10m.head()"
   ]
  },
  {
   "cell_type": "code",
   "execution_count": 61,
   "metadata": {},
   "outputs": [
    {
     "data": {
      "text/plain": [
       "(224, 5)"
      ]
     },
     "execution_count": 61,
     "metadata": {},
     "output_type": "execute_result"
    }
   ],
   "source": [
    "rtt_elsa_1h_10m.shape"
   ]
  },
  {
   "cell_type": "code",
   "execution_count": 62,
   "metadata": {},
   "outputs": [],
   "source": [
    "rtt_elsa_1h_10m_1 = rtt_elsa_1h_10m.iloc[::2, :]"
   ]
  },
  {
   "cell_type": "code",
   "execution_count": 63,
   "metadata": {},
   "outputs": [
    {
     "data": {
      "text/html": [
       "<div>\n",
       "<style scoped>\n",
       "    .dataframe tbody tr th:only-of-type {\n",
       "        vertical-align: middle;\n",
       "    }\n",
       "\n",
       "    .dataframe tbody tr th {\n",
       "        vertical-align: top;\n",
       "    }\n",
       "\n",
       "    .dataframe thead th {\n",
       "        text-align: right;\n",
       "    }\n",
       "</style>\n",
       "<table border=\"1\" class=\"dataframe\">\n",
       "  <thead>\n",
       "    <tr style=\"text-align: right;\">\n",
       "      <th></th>\n",
       "      <th>uuid</th>\n",
       "      <th>connectionType</th>\n",
       "      <th>eventId</th>\n",
       "      <th>logType</th>\n",
       "      <th>timeStamp</th>\n",
       "    </tr>\n",
       "  </thead>\n",
       "  <tbody>\n",
       "    <tr>\n",
       "      <th>0</th>\n",
       "      <td>fd5f7949-bea0-4702-bc42-bcc57c78b5a5</td>\n",
       "      <td>0</td>\n",
       "      <td>1</td>\n",
       "      <td>0</td>\n",
       "      <td>1643859522201</td>\n",
       "    </tr>\n",
       "    <tr>\n",
       "      <th>2</th>\n",
       "      <td>6d6fbe11-0b32-44b8-ade9-4e363739f68c</td>\n",
       "      <td>0</td>\n",
       "      <td>1</td>\n",
       "      <td>0</td>\n",
       "      <td>1643859527228</td>\n",
       "    </tr>\n",
       "    <tr>\n",
       "      <th>4</th>\n",
       "      <td>bc9d24d1-9bc9-4b11-960b-633c35c74f39</td>\n",
       "      <td>0</td>\n",
       "      <td>1</td>\n",
       "      <td>0</td>\n",
       "      <td>1643859532278</td>\n",
       "    </tr>\n",
       "    <tr>\n",
       "      <th>6</th>\n",
       "      <td>fa76271f-d43c-4182-98ff-a8bd2f904bc5</td>\n",
       "      <td>0</td>\n",
       "      <td>1</td>\n",
       "      <td>0</td>\n",
       "      <td>1643859537322</td>\n",
       "    </tr>\n",
       "    <tr>\n",
       "      <th>8</th>\n",
       "      <td>3ce737c7-b125-43b2-b297-7058c24f919b</td>\n",
       "      <td>0</td>\n",
       "      <td>1</td>\n",
       "      <td>0</td>\n",
       "      <td>1643859542377</td>\n",
       "    </tr>\n",
       "  </tbody>\n",
       "</table>\n",
       "</div>"
      ],
      "text/plain": [
       "                                   uuid  connectionType  eventId  logType  \\\n",
       "0  fd5f7949-bea0-4702-bc42-bcc57c78b5a5               0        1        0   \n",
       "2  6d6fbe11-0b32-44b8-ade9-4e363739f68c               0        1        0   \n",
       "4  bc9d24d1-9bc9-4b11-960b-633c35c74f39               0        1        0   \n",
       "6  fa76271f-d43c-4182-98ff-a8bd2f904bc5               0        1        0   \n",
       "8  3ce737c7-b125-43b2-b297-7058c24f919b               0        1        0   \n",
       "\n",
       "       timeStamp  \n",
       "0  1643859522201  \n",
       "2  1643859527228  \n",
       "4  1643859532278  \n",
       "6  1643859537322  \n",
       "8  1643859542377  "
      ]
     },
     "execution_count": 63,
     "metadata": {},
     "output_type": "execute_result"
    }
   ],
   "source": [
    "rtt_elsa_1h_10m_1.head()"
   ]
  },
  {
   "cell_type": "code",
   "execution_count": 64,
   "metadata": {},
   "outputs": [],
   "source": [
    "rtt_elsa_1h_10m_0 = rtt_elsa_1h_10m.iloc[1::2, :]"
   ]
  },
  {
   "cell_type": "code",
   "execution_count": 65,
   "metadata": {},
   "outputs": [
    {
     "data": {
      "text/html": [
       "<div>\n",
       "<style scoped>\n",
       "    .dataframe tbody tr th:only-of-type {\n",
       "        vertical-align: middle;\n",
       "    }\n",
       "\n",
       "    .dataframe tbody tr th {\n",
       "        vertical-align: top;\n",
       "    }\n",
       "\n",
       "    .dataframe thead th {\n",
       "        text-align: right;\n",
       "    }\n",
       "</style>\n",
       "<table border=\"1\" class=\"dataframe\">\n",
       "  <thead>\n",
       "    <tr style=\"text-align: right;\">\n",
       "      <th></th>\n",
       "      <th>uuid</th>\n",
       "      <th>connectionType</th>\n",
       "      <th>eventId</th>\n",
       "      <th>logType</th>\n",
       "      <th>timeStamp</th>\n",
       "    </tr>\n",
       "  </thead>\n",
       "  <tbody>\n",
       "    <tr>\n",
       "      <th>1</th>\n",
       "      <td>f55fd9ab-0330-4b66-893a-eaa5c2fc77cd</td>\n",
       "      <td>0</td>\n",
       "      <td>0</td>\n",
       "      <td>0</td>\n",
       "      <td>1643859522251</td>\n",
       "    </tr>\n",
       "    <tr>\n",
       "      <th>3</th>\n",
       "      <td>810b869b-8691-4bde-b5f1-e80f28c5b831</td>\n",
       "      <td>0</td>\n",
       "      <td>0</td>\n",
       "      <td>0</td>\n",
       "      <td>1643859527277</td>\n",
       "    </tr>\n",
       "    <tr>\n",
       "      <th>5</th>\n",
       "      <td>5e501dc1-90f4-4c63-80c5-babef0be4fa6</td>\n",
       "      <td>0</td>\n",
       "      <td>0</td>\n",
       "      <td>0</td>\n",
       "      <td>1643859532313</td>\n",
       "    </tr>\n",
       "    <tr>\n",
       "      <th>7</th>\n",
       "      <td>6886580d-2de3-4de4-ade1-f6d245e882a5</td>\n",
       "      <td>0</td>\n",
       "      <td>0</td>\n",
       "      <td>0</td>\n",
       "      <td>1643859537365</td>\n",
       "    </tr>\n",
       "    <tr>\n",
       "      <th>9</th>\n",
       "      <td>090b284b-5cce-4241-a07c-ff8d8209404b</td>\n",
       "      <td>0</td>\n",
       "      <td>0</td>\n",
       "      <td>0</td>\n",
       "      <td>1643859542411</td>\n",
       "    </tr>\n",
       "  </tbody>\n",
       "</table>\n",
       "</div>"
      ],
      "text/plain": [
       "                                   uuid  connectionType  eventId  logType  \\\n",
       "1  f55fd9ab-0330-4b66-893a-eaa5c2fc77cd               0        0        0   \n",
       "3  810b869b-8691-4bde-b5f1-e80f28c5b831               0        0        0   \n",
       "5  5e501dc1-90f4-4c63-80c5-babef0be4fa6               0        0        0   \n",
       "7  6886580d-2de3-4de4-ade1-f6d245e882a5               0        0        0   \n",
       "9  090b284b-5cce-4241-a07c-ff8d8209404b               0        0        0   \n",
       "\n",
       "       timeStamp  \n",
       "1  1643859522251  \n",
       "3  1643859527277  \n",
       "5  1643859532313  \n",
       "7  1643859537365  \n",
       "9  1643859542411  "
      ]
     },
     "execution_count": 65,
     "metadata": {},
     "output_type": "execute_result"
    }
   ],
   "source": [
    "rtt_elsa_1h_10m_0.head()"
   ]
  },
  {
   "cell_type": "code",
   "execution_count": 66,
   "metadata": {},
   "outputs": [],
   "source": [
    "df_1h_10m_sub = rtt_elsa_1h_10m_0.reset_index().timeStamp - rtt_elsa_1h_10m_1.reset_index().timeStamp"
   ]
  },
  {
   "cell_type": "code",
   "execution_count": 67,
   "metadata": {},
   "outputs": [
    {
     "data": {
      "text/plain": [
       "27.0"
      ]
     },
     "execution_count": 67,
     "metadata": {},
     "output_type": "execute_result"
    }
   ],
   "source": [
    "df_1h_10m_sub.median()"
   ]
  },
  {
   "cell_type": "code",
   "execution_count": 68,
   "metadata": {},
   "outputs": [
    {
     "data": {
      "text/plain": [
       "9"
      ]
     },
     "execution_count": 68,
     "metadata": {},
     "output_type": "execute_result"
    }
   ],
   "source": [
    "df_1h_10m_sub.min()"
   ]
  },
  {
   "cell_type": "code",
   "execution_count": 69,
   "metadata": {},
   "outputs": [],
   "source": [
    "df_1h_10m_rtt = df_1h_10m - df_1h_10m_sub"
   ]
  },
  {
   "cell_type": "code",
   "execution_count": 70,
   "metadata": {},
   "outputs": [
    {
     "data": {
      "text/plain": [
       "140.0"
      ]
     },
     "execution_count": 70,
     "metadata": {},
     "output_type": "execute_result"
    }
   ],
   "source": [
    "df_1h_10m_rtt.median()"
   ]
  },
  {
   "cell_type": "code",
   "execution_count": 71,
   "metadata": {},
   "outputs": [],
   "source": [
    "df_1h_10m_rtt = df_1h_10m_rtt[df_1h_10m_rtt>=0]"
   ]
  },
  {
   "cell_type": "code",
   "execution_count": null,
   "metadata": {},
   "outputs": [],
   "source": []
  },
  {
   "cell_type": "code",
   "execution_count": 72,
   "metadata": {},
   "outputs": [],
   "source": [
    "df_1h_10m_rtt = df_1h_10m_rtt"
   ]
  },
  {
   "cell_type": "code",
   "execution_count": 73,
   "metadata": {},
   "outputs": [],
   "source": [
    "df_1h_10m_rtt = df_1h_10m_rtt/2"
   ]
  },
  {
   "cell_type": "code",
   "execution_count": 74,
   "metadata": {},
   "outputs": [
    {
     "data": {
      "text/plain": [
       "70.5"
      ]
     },
     "execution_count": 74,
     "metadata": {},
     "output_type": "execute_result"
    }
   ],
   "source": [
    "df_1h_10m_rtt.median()"
   ]
  },
  {
   "cell_type": "code",
   "execution_count": 75,
   "metadata": {},
   "outputs": [
    {
     "data": {
      "text/plain": [
       "92.29729729729729"
      ]
     },
     "execution_count": 75,
     "metadata": {},
     "output_type": "execute_result"
    }
   ],
   "source": [
    "df_1h_10m_rtt.mean()"
   ]
  },
  {
   "cell_type": "code",
   "execution_count": 76,
   "metadata": {},
   "outputs": [
    {
     "data": {
      "text/plain": [
       "14.5"
      ]
     },
     "execution_count": 76,
     "metadata": {},
     "output_type": "execute_result"
    }
   ],
   "source": [
    "df_1h_10m_rtt.min()"
   ]
  },
  {
   "cell_type": "code",
   "execution_count": null,
   "metadata": {},
   "outputs": [],
   "source": []
  },
  {
   "cell_type": "markdown",
   "metadata": {},
   "source": [
    "## 15 meter delay"
   ]
  },
  {
   "cell_type": "code",
   "execution_count": 77,
   "metadata": {},
   "outputs": [
    {
     "data": {
      "text/plain": [
       "(222, 5)"
      ]
     },
     "execution_count": 77,
     "metadata": {},
     "output_type": "execute_result"
    }
   ],
   "source": [
    "df_miranda_1h_15m = pd.read_csv('result/rtt_miranda_1h_15m.csv')  \n",
    "df_miranda_1h_15m.shape"
   ]
  },
  {
   "cell_type": "code",
   "execution_count": 78,
   "metadata": {},
   "outputs": [
    {
     "data": {
      "text/plain": [
       "(111, 5)"
      ]
     },
     "execution_count": 78,
     "metadata": {},
     "output_type": "execute_result"
    }
   ],
   "source": [
    "df_miranda_1h_15m_0 = df_miranda_1h_15m.iloc[::2, :]\n",
    "df_miranda_1h_15m_0.shape"
   ]
  },
  {
   "cell_type": "code",
   "execution_count": 79,
   "metadata": {},
   "outputs": [
    {
     "data": {
      "text/plain": [
       "(111, 5)"
      ]
     },
     "execution_count": 79,
     "metadata": {},
     "output_type": "execute_result"
    }
   ],
   "source": [
    "df_miranda_1h_15m_1 = df_miranda_1h_15m.iloc[1::2, :]\n",
    "df_miranda_1h_15m_1.shape"
   ]
  },
  {
   "cell_type": "code",
   "execution_count": 80,
   "metadata": {},
   "outputs": [
    {
     "data": {
      "text/plain": [
       "170.0"
      ]
     },
     "execution_count": 80,
     "metadata": {},
     "output_type": "execute_result"
    }
   ],
   "source": [
    "df_1h_15m = df_miranda_1h_15m_1.reset_index().timeStamp - df_miranda_1h_15m_0.reset_index().timeStamp\n",
    "df_1h_15m.median()"
   ]
  },
  {
   "cell_type": "code",
   "execution_count": 81,
   "metadata": {},
   "outputs": [
    {
     "data": {
      "text/plain": [
       "(222, 5)"
      ]
     },
     "execution_count": 81,
     "metadata": {},
     "output_type": "execute_result"
    }
   ],
   "source": [
    "rtt_elsa_1h_15m = pd.read_csv('result/rtt_elsa_1h_15m.csv')  \n",
    "rtt_elsa_1h_15m.shape"
   ]
  },
  {
   "cell_type": "code",
   "execution_count": 82,
   "metadata": {},
   "outputs": [
    {
     "data": {
      "text/plain": [
       "(111, 5)"
      ]
     },
     "execution_count": 82,
     "metadata": {},
     "output_type": "execute_result"
    }
   ],
   "source": [
    "rtt_elsa_1h_15m_1 = rtt_elsa_1h_15m.iloc[::2, :]\n",
    "rtt_elsa_1h_15m_1.shape"
   ]
  },
  {
   "cell_type": "code",
   "execution_count": 83,
   "metadata": {},
   "outputs": [
    {
     "data": {
      "text/plain": [
       "(111, 5)"
      ]
     },
     "execution_count": 83,
     "metadata": {},
     "output_type": "execute_result"
    }
   ],
   "source": [
    "rtt_elsa_1h_15m_0 = rtt_elsa_1h_15m.iloc[1::2, :]\n",
    "rtt_elsa_1h_15m_0.shape"
   ]
  },
  {
   "cell_type": "code",
   "execution_count": 84,
   "metadata": {},
   "outputs": [
    {
     "data": {
      "text/plain": [
       "26.0"
      ]
     },
     "execution_count": 84,
     "metadata": {},
     "output_type": "execute_result"
    }
   ],
   "source": [
    "df_1h_15m_sub = rtt_elsa_1h_15m_0.reset_index().timeStamp - rtt_elsa_1h_15m_1.reset_index().timeStamp\n",
    "df_1h_15m_sub.median()"
   ]
  },
  {
   "cell_type": "code",
   "execution_count": 85,
   "metadata": {},
   "outputs": [
    {
     "data": {
      "text/plain": [
       "142.0"
      ]
     },
     "execution_count": 85,
     "metadata": {},
     "output_type": "execute_result"
    }
   ],
   "source": [
    "df_1h_15m_rtt = df_1h_15m - df_1h_15m_sub\n",
    "df_1h_15m_rtt.median()"
   ]
  },
  {
   "cell_type": "code",
   "execution_count": 86,
   "metadata": {},
   "outputs": [
    {
     "data": {
      "text/plain": [
       "71.0"
      ]
     },
     "execution_count": 86,
     "metadata": {},
     "output_type": "execute_result"
    }
   ],
   "source": [
    "df_1h_15m_rtt = df_1h_15m_rtt/2\n",
    "df_1h_15m_rtt.median()"
   ]
  },
  {
   "cell_type": "code",
   "execution_count": 87,
   "metadata": {},
   "outputs": [
    {
     "data": {
      "text/plain": [
       "98.31531531531532"
      ]
     },
     "execution_count": 87,
     "metadata": {},
     "output_type": "execute_result"
    }
   ],
   "source": [
    "df_1h_15m_rtt.mean()"
   ]
  },
  {
   "cell_type": "markdown",
   "metadata": {},
   "source": [
    "## 20 meter delay"
   ]
  },
  {
   "cell_type": "code",
   "execution_count": 88,
   "metadata": {},
   "outputs": [
    {
     "data": {
      "text/plain": [
       "(224, 5)"
      ]
     },
     "execution_count": 88,
     "metadata": {},
     "output_type": "execute_result"
    }
   ],
   "source": [
    "df_miranda_1h_20m = pd.read_csv('result/rtt_miranda_1h_20m.csv')  \n",
    "df_miranda_1h_20m.shape"
   ]
  },
  {
   "cell_type": "code",
   "execution_count": 89,
   "metadata": {},
   "outputs": [
    {
     "data": {
      "text/plain": [
       "(112, 5)"
      ]
     },
     "execution_count": 89,
     "metadata": {},
     "output_type": "execute_result"
    }
   ],
   "source": [
    "df_miranda_1h_20m_0 = df_miranda_1h_20m.iloc[::2, :]\n",
    "df_miranda_1h_20m_0.shape"
   ]
  },
  {
   "cell_type": "code",
   "execution_count": 90,
   "metadata": {},
   "outputs": [
    {
     "data": {
      "text/plain": [
       "(112, 5)"
      ]
     },
     "execution_count": 90,
     "metadata": {},
     "output_type": "execute_result"
    }
   ],
   "source": [
    "df_miranda_1h_20m_1 = df_miranda_1h_20m.iloc[1::2, :]\n",
    "df_miranda_1h_20m_1.shape"
   ]
  },
  {
   "cell_type": "code",
   "execution_count": 91,
   "metadata": {},
   "outputs": [
    {
     "data": {
      "text/plain": [
       "149.5"
      ]
     },
     "execution_count": 91,
     "metadata": {},
     "output_type": "execute_result"
    }
   ],
   "source": [
    "df_1h_20m = df_miranda_1h_20m_1.reset_index().timeStamp - df_miranda_1h_20m_0.reset_index().timeStamp\n",
    "df_1h_20m.median()"
   ]
  },
  {
   "cell_type": "code",
   "execution_count": 92,
   "metadata": {},
   "outputs": [
    {
     "data": {
      "text/plain": [
       "(224, 5)"
      ]
     },
     "execution_count": 92,
     "metadata": {},
     "output_type": "execute_result"
    }
   ],
   "source": [
    "rtt_elsa_1h_20m = pd.read_csv('result/rtt_elsa_1h_20m.csv')  \n",
    "rtt_elsa_1h_20m.shape"
   ]
  },
  {
   "cell_type": "code",
   "execution_count": 93,
   "metadata": {},
   "outputs": [
    {
     "data": {
      "text/plain": [
       "(112, 5)"
      ]
     },
     "execution_count": 93,
     "metadata": {},
     "output_type": "execute_result"
    }
   ],
   "source": [
    "rtt_elsa_1h_20m_1 = rtt_elsa_1h_20m.iloc[::2, :]\n",
    "rtt_elsa_1h_20m_1.shape"
   ]
  },
  {
   "cell_type": "code",
   "execution_count": 94,
   "metadata": {},
   "outputs": [
    {
     "data": {
      "text/plain": [
       "(112, 5)"
      ]
     },
     "execution_count": 94,
     "metadata": {},
     "output_type": "execute_result"
    }
   ],
   "source": [
    "rtt_elsa_1h_20m_0 = rtt_elsa_1h_20m.iloc[1::2, :]\n",
    "rtt_elsa_1h_20m_0.shape"
   ]
  },
  {
   "cell_type": "code",
   "execution_count": 95,
   "metadata": {},
   "outputs": [
    {
     "data": {
      "text/plain": [
       "27.5"
      ]
     },
     "execution_count": 95,
     "metadata": {},
     "output_type": "execute_result"
    }
   ],
   "source": [
    "df_1h_20m_sub = rtt_elsa_1h_20m_0.reset_index().timeStamp - rtt_elsa_1h_20m_1.reset_index().timeStamp\n",
    "df_1h_20m_sub.median()"
   ]
  },
  {
   "cell_type": "code",
   "execution_count": 96,
   "metadata": {},
   "outputs": [
    {
     "data": {
      "text/plain": [
       "114.5"
      ]
     },
     "execution_count": 96,
     "metadata": {},
     "output_type": "execute_result"
    }
   ],
   "source": [
    "df_1h_20m_rtt = df_1h_20m - df_1h_20m_sub\n",
    "df_1h_20m_rtt.median()"
   ]
  },
  {
   "cell_type": "code",
   "execution_count": 97,
   "metadata": {},
   "outputs": [
    {
     "data": {
      "text/plain": [
       "57.25"
      ]
     },
     "execution_count": 97,
     "metadata": {},
     "output_type": "execute_result"
    }
   ],
   "source": [
    "df_1h_20m_rtt = df_1h_20m_rtt/2\n",
    "df_1h_20m_rtt.median()"
   ]
  },
  {
   "cell_type": "code",
   "execution_count": 98,
   "metadata": {},
   "outputs": [
    {
     "data": {
      "text/plain": [
       "77.5"
      ]
     },
     "execution_count": 98,
     "metadata": {},
     "output_type": "execute_result"
    }
   ],
   "source": [
    "df_1h_20m_rtt.mean()"
   ]
  },
  {
   "cell_type": "code",
   "execution_count": null,
   "metadata": {},
   "outputs": [],
   "source": []
  },
  {
   "cell_type": "code",
   "execution_count": null,
   "metadata": {},
   "outputs": [],
   "source": []
  },
  {
   "cell_type": "markdown",
   "metadata": {},
   "source": [
    "## 5 meter indoor delay"
   ]
  },
  {
   "cell_type": "code",
   "execution_count": 99,
   "metadata": {},
   "outputs": [
    {
     "data": {
      "text/plain": [
       "72.0"
      ]
     },
     "execution_count": 99,
     "metadata": {},
     "output_type": "execute_result"
    }
   ],
   "source": [
    "df_miranda_1h_5m_in = pd.read_csv('result/rtt_miranda_1h_5m_in.csv')  \n",
    "df_miranda_1h_5m_in.shape\n",
    "\n",
    "df_miranda_1h_5m_in_0 = df_miranda_1h_5m_in.iloc[::2, :]\n",
    "df_miranda_1h_5m_in_0.shape\n",
    "\n",
    "df_miranda_1h_5m_in_1 = df_miranda_1h_5m_in.iloc[1::2, :]\n",
    "df_miranda_1h_5m_in_1.shape\n",
    "\n",
    "df_1h_5m_in = df_miranda_1h_5m_in_1.reset_index().timeStamp - df_miranda_1h_5m_in_0.reset_index().timeStamp\n",
    "df_1h_5m_in.median()\n",
    "\n",
    "rtt_elsa_1h_5m_in = pd.read_csv('result/rtt_elsa_1h_5m_in.csv')  \n",
    "rtt_elsa_1h_5m_in.shape\n",
    "\n",
    "rtt_elsa_1h_5m_in_1 = rtt_elsa_1h_5m_in.iloc[::2, :]\n",
    "rtt_elsa_1h_5m_in_1.shape\n",
    "\n",
    "rtt_elsa_1h_5m_in_0 = rtt_elsa_1h_5m_in.iloc[1::2, :]\n",
    "rtt_elsa_1h_5m_in_0.shape\n",
    "\n",
    "df_1h_5m_in_sub = rtt_elsa_1h_5m_in_0.reset_index().timeStamp - rtt_elsa_1h_5m_in_1.reset_index().timeStamp\n",
    "df_1h_5m_in_sub.median()\n",
    "\n",
    "df_1h_5m_in_rtt = df_1h_5m_in - df_1h_5m_in_sub\n",
    "df_1h_5m_in_rtt.median()\n",
    "\n",
    "df_1h_5m_in_rtt = df_1h_5m_in_rtt/2\n",
    "df_1h_5m_in_rtt.median()\n",
    "\n",
    "# df_1h_5m_in_rtt.mean()"
   ]
  },
  {
   "cell_type": "code",
   "execution_count": null,
   "metadata": {},
   "outputs": [],
   "source": []
  },
  {
   "cell_type": "markdown",
   "metadata": {},
   "source": [
    "## 10 meter indoor delay"
   ]
  },
  {
   "cell_type": "code",
   "execution_count": 100,
   "metadata": {},
   "outputs": [
    {
     "data": {
      "text/plain": [
       "70.5"
      ]
     },
     "execution_count": 100,
     "metadata": {},
     "output_type": "execute_result"
    }
   ],
   "source": [
    "df_miranda_1h_10m_in = pd.read_csv('result/rtt_miranda_1h_10m_in.csv')  \n",
    "df_miranda_1h_10m_in.shape\n",
    "\n",
    "df_miranda_1h_10m_in_0 = df_miranda_1h_10m_in.iloc[::2, :]\n",
    "df_miranda_1h_10m_in_0.shape\n",
    "\n",
    "df_miranda_1h_10m_in_1 = df_miranda_1h_10m_in.iloc[1::2, :]\n",
    "df_miranda_1h_10m_in_1.shape\n",
    "\n",
    "df_1h_10m_in = df_miranda_1h_10m_in_1.reset_index().timeStamp - df_miranda_1h_10m_in_0.reset_index().timeStamp\n",
    "df_1h_10m_in.median()\n",
    "\n",
    "rtt_elsa_1h_10m_in = pd.read_csv('result/rtt_elsa_1h_10m_in.csv')  \n",
    "rtt_elsa_1h_10m_in.shape\n",
    "\n",
    "rtt_elsa_1h_10m_in_1 = rtt_elsa_1h_10m_in.iloc[::2, :]\n",
    "rtt_elsa_1h_10m_in_1.shape\n",
    "\n",
    "rtt_elsa_1h_10m_in_0 = rtt_elsa_1h_10m_in.iloc[1::2, :]\n",
    "rtt_elsa_1h_10m_in_0.shape\n",
    "\n",
    "df_1h_10m_in_sub = rtt_elsa_1h_10m_in_0.reset_index().timeStamp - rtt_elsa_1h_10m_in_1.reset_index().timeStamp\n",
    "df_1h_10m_in_sub.median()\n",
    "\n",
    "df_1h_10m_in_rtt = df_1h_10m_in - df_1h_10m_in_sub\n",
    "df_1h_10m_in_rtt.median()\n",
    "\n",
    "df_1h_10m_in_rtt = df_1h_10m_in_rtt/2\n",
    "df_1h_10m_in_rtt.median()"
   ]
  },
  {
   "cell_type": "code",
   "execution_count": null,
   "metadata": {},
   "outputs": [],
   "source": []
  },
  {
   "cell_type": "markdown",
   "metadata": {},
   "source": [
    "## 15 meter indoor delay"
   ]
  },
  {
   "cell_type": "code",
   "execution_count": 101,
   "metadata": {},
   "outputs": [
    {
     "data": {
      "text/plain": [
       "69.75"
      ]
     },
     "execution_count": 101,
     "metadata": {},
     "output_type": "execute_result"
    }
   ],
   "source": [
    "df_miranda_1h_15m_in = pd.read_csv('result/rtt_miranda_1h_15m_in.csv')  \n",
    "df_miranda_1h_15m_in.shape\n",
    "\n",
    "df_miranda_1h_15m_in_0 = df_miranda_1h_15m_in.iloc[::2, :]\n",
    "df_miranda_1h_15m_in_0.shape\n",
    "\n",
    "df_miranda_1h_15m_in_1 = df_miranda_1h_15m_in.iloc[1::2, :]\n",
    "df_miranda_1h_15m_in_1.shape\n",
    "\n",
    "df_1h_15m_in = df_miranda_1h_15m_in_1.reset_index().timeStamp - df_miranda_1h_15m_in_0.reset_index().timeStamp\n",
    "df_1h_15m_in.median()\n",
    "\n",
    "rtt_elsa_1h_15m_in = pd.read_csv('result/rtt_elsa_1h_15m_in.csv')  \n",
    "rtt_elsa_1h_15m_in.shape\n",
    "\n",
    "rtt_elsa_1h_15m_in_1 = rtt_elsa_1h_15m_in.iloc[::2, :]\n",
    "rtt_elsa_1h_15m_in_1.shape\n",
    "\n",
    "rtt_elsa_1h_15m_in_0 = rtt_elsa_1h_15m_in.iloc[1::2, :]\n",
    "rtt_elsa_1h_15m_in_0.shape\n",
    "\n",
    "df_1h_15m_in_sub = rtt_elsa_1h_15m_in_0.reset_index().timeStamp - rtt_elsa_1h_15m_in_1.reset_index().timeStamp\n",
    "df_1h_15m_in_sub.median()\n",
    "\n",
    "df_1h_15m_in_rtt = df_1h_15m_in - df_1h_15m_in_sub\n",
    "df_1h_15m_in_rtt.median()\n",
    "\n",
    "df_1h_15m_in_rtt = df_1h_15m_in_rtt/2\n",
    "df_1h_15m_in_rtt.median()"
   ]
  },
  {
   "cell_type": "code",
   "execution_count": null,
   "metadata": {},
   "outputs": [],
   "source": []
  },
  {
   "cell_type": "markdown",
   "metadata": {},
   "source": [
    "## 20 meter indoor delay"
   ]
  },
  {
   "cell_type": "code",
   "execution_count": 102,
   "metadata": {},
   "outputs": [],
   "source": [
    "# df_miranda_1h_20m_in = pd.read_csv('result/rtt_miranda_1h_20m_in.csv')  \n",
    "# df_miranda_1h_20m_in.shape\n",
    "\n",
    "# df_miranda_1h_20m_in_0 = df_miranda_1h_20m_in.iloc[::2, :]\n",
    "# df_miranda_1h_20m_in_0.shape\n",
    "\n",
    "# df_miranda_1h_20m_in_1 = df_miranda_1h_20m_in.iloc[1::2, :]\n",
    "# df_miranda_1h_20m_in_1.shape\n",
    "\n",
    "# df_1h_20m_in = df_miranda_1h_20m_in_1.reset_index().timeStamp - df_miranda_1h_20m_in_0.reset_index().timeStamp\n",
    "# df_1h_20m_in.median()\n",
    "\n",
    "# rtt_elsa_1h_20m_in = pd.read_csv('result/rtt_elsa_1h_20m_in.csv')  \n",
    "# rtt_elsa_1h_20m_in.shape\n",
    "\n",
    "# rtt_elsa_1h_20m_in_1 = rtt_elsa_1h_20m_in.iloc[::2, :]\n",
    "# rtt_elsa_1h_20m_in_1.shape\n",
    "\n",
    "# rtt_elsa_1h_20m_in_0 = rtt_elsa_1h_20m_in.iloc[1::2, :]\n",
    "# rtt_elsa_1h_20m_in_0.shape\n",
    "\n",
    "# df_1h_20m_in_sub = rtt_elsa_1h_20m_in_0.reset_index().timeStamp - rtt_elsa_1h_20m_in_1.reset_index().timeStamp\n",
    "# df_1h_20m_in_sub.median()\n",
    "\n",
    "# df_1h_20m_in_rtt = df_1h_20m_in - df_1h_20m_in_sub\n",
    "# df_1h_20m_in_rtt.median()\n",
    "\n",
    "# df_1h_20m_in_rtt = df_1h_20m_in_rtt/2\n",
    "# df_1h_20m_in_rtt.median()\n",
    "\n",
    "# df_1h_20m_in_rtt.mean()"
   ]
  },
  {
   "cell_type": "code",
   "execution_count": null,
   "metadata": {},
   "outputs": [],
   "source": []
  },
  {
   "cell_type": "markdown",
   "metadata": {},
   "source": [
    "## Plot"
   ]
  },
  {
   "cell_type": "code",
   "execution_count": 103,
   "metadata": {},
   "outputs": [],
   "source": [
    "# columns = [df_1h_1m_rtt, df_1h_5m_rtt, df_1h_10m_rtt, df_1h_15m_rtt, df_1h_20m_rtt]\n",
    "# labels = ['0', '5', '10', '15', '20']\n",
    "\n",
    "# fig, ax = plt.subplots()\n",
    "# bplot1 = ax.boxplot(columns, \n",
    "#             vert=True,  # vertical box alignment\n",
    "#             patch_artist=False,  # fill with color\n",
    "#             showfliers=False,\n",
    "#                     showmeans=True,\n",
    "#             labels=labels)\n",
    "\n",
    "# ax.set_ylabel('delay (ms)', fontsize=20)\n",
    "# ax.set_xlabel('distance (m)', fontsize=20)\n",
    "\n",
    "# for tick in ax.xaxis.get_major_ticks():\n",
    "#     tick.label.set_fontsize(15)\n",
    "\n",
    "# for tick in ax.yaxis.get_major_ticks():\n",
    "#     tick.label.set_fontsize(15)\n",
    "\n",
    "# # fill with colors\n",
    "# # colors = ['lightgreen', 'lightblue', 'lightred']\n",
    "# # for bplot in (bplot1, ):\n",
    "# #     for patch, color in zip(bplot['boxes'], colors):\n",
    "# #         patch.set_facecolor(color)\n",
    " \n",
    "# fig.set_size_inches(7, 5)\n",
    "\n",
    "# plt.savefig('plots/figure_eval_new_1.png', dpi=300, bbox_inches=None, pad_inches=1,)\n",
    "# plt.show()\n"
   ]
  },
  {
   "cell_type": "code",
   "execution_count": null,
   "metadata": {},
   "outputs": [],
   "source": []
  },
  {
   "cell_type": "code",
   "execution_count": null,
   "metadata": {},
   "outputs": [],
   "source": []
  },
  {
   "cell_type": "markdown",
   "metadata": {},
   "source": [
    "# Double Box plot"
   ]
  },
  {
   "cell_type": "code",
   "execution_count": 104,
   "metadata": {},
   "outputs": [
    {
     "data": {
      "image/png": "[encoded data removed]",
      "text/plain": [
       "<Figure size 504x432 with 1 Axes>"
      ]
     },
     "metadata": {
      "needs_background": "light"
     },
     "output_type": "display_data"
    }
   ],
   "source": [
    "data_a = [df_1h_1m_rtt, df_1h_10m_rtt, df_1h_15m_rtt]\n",
    "data_b = [df_1h_5m_in_rtt, df_1h_10m_in_rtt, df_1h_15m_in_rtt]\n",
    "\n",
    "ticks = ['5', '10', '15']\n",
    "\n",
    "def set_box_color(bp, color):\n",
    "    plt.setp(bp['boxes'], color=color)\n",
    "    plt.setp(bp['whiskers'], color=color)\n",
    "    plt.setp(bp['caps'], color=color)\n",
    "    plt.setp(bp['medians'], color=color)\n",
    "\n",
    "plt.figure(figsize=(7, 6))\n",
    "\n",
    "bpl = plt.boxplot(data_a, \n",
    "                  positions=np.array(range(len(data_a)))*2.0-0.4, \n",
    "                  sym='', \n",
    "                  widths=0.6, showmeans=False)\n",
    "\n",
    "bpr = plt.boxplot(data_b, \n",
    "                  positions=np.array(range(len(data_b)))*2.0+0.4, \n",
    "                  sym='', \n",
    "                  widths=0.6, showmeans=False)\n",
    "set_box_color(bpl, '#D7191C') # colors are from http://colorbrewer2.org/\n",
    "set_box_color(bpr, '#2C7BB6')\n",
    "\n",
    "# draw temporary red and blue lines and use them to create a legend\n",
    "plt.plot([], c='#D7191C', label='Outdoor')\n",
    "plt.plot([], c='#2C7BB6', label='Indoor')\n",
    "plt.legend()\n",
    "\n",
    "plt.xlabel('Distance(m)', fontsize=20)\n",
    "plt.ylabel('Delay(ms)', fontsize=20)\n",
    "\n",
    "plt.xticks(range(0, len(ticks) * 2, 2), ticks)\n",
    "\n",
    "plt.xlim(-2, len(ticks)*2)\n",
    "plt.ylim(0, 185)\n",
    "plt.tight_layout()\n",
    "plt.savefig('plots/figure_eval_new_2.png')"
   ]
  },
  {
   "cell_type": "markdown",
   "metadata": {},
   "source": [
    "## 2 hop - 10 meter - indoor - Bluetooth 5 device in the middle"
   ]
  },
  {
   "cell_type": "code",
   "execution_count": 152,
   "metadata": {},
   "outputs": [
    {
     "data": {
      "text/plain": [
       "(62, 6)"
      ]
     },
     "execution_count": 152,
     "metadata": {},
     "output_type": "execute_result"
    }
   ],
   "source": [
    "df_miranda_2h_10m_in = pd.read_csv('result/rtt_miranda_2h_10m_in2.csv')  \n",
    "df_miranda_2h_10m_in.shape"
   ]
  },
  {
   "cell_type": "code",
   "execution_count": 153,
   "metadata": {},
   "outputs": [
    {
     "data": {
      "text/html": [
       "<div>\n",
       "<style scoped>\n",
       "    .dataframe tbody tr th:only-of-type {\n",
       "        vertical-align: middle;\n",
       "    }\n",
       "\n",
       "    .dataframe tbody tr th {\n",
       "        vertical-align: top;\n",
       "    }\n",
       "\n",
       "    .dataframe thead th {\n",
       "        text-align: right;\n",
       "    }\n",
       "</style>\n",
       "<table border=\"1\" class=\"dataframe\">\n",
       "  <thead>\n",
       "    <tr style=\"text-align: right;\">\n",
       "      <th></th>\n",
       "      <th>hops</th>\n",
       "      <th>uuid</th>\n",
       "      <th>connectionType</th>\n",
       "      <th>eventId</th>\n",
       "      <th>logType</th>\n",
       "      <th>timeStamp</th>\n",
       "    </tr>\n",
       "  </thead>\n",
       "  <tbody>\n",
       "    <tr>\n",
       "      <th>0</th>\n",
       "      <td>10</td>\n",
       "      <td>09a7869d-7af1-4599-88cf-e665dc54cafa</td>\n",
       "      <td>0</td>\n",
       "      <td>0</td>\n",
       "      <td>2</td>\n",
       "      <td>1643948027396</td>\n",
       "    </tr>\n",
       "    <tr>\n",
       "      <th>1</th>\n",
       "      <td>8</td>\n",
       "      <td>d8a687b4-a82c-4aa8-9a17-50b38d641c65</td>\n",
       "      <td>0</td>\n",
       "      <td>2</td>\n",
       "      <td>2</td>\n",
       "      <td>1643948029413</td>\n",
       "    </tr>\n",
       "    <tr>\n",
       "      <th>2</th>\n",
       "      <td>10</td>\n",
       "      <td>5e8b0857-506d-4795-b0dd-f195a317bb56</td>\n",
       "      <td>0</td>\n",
       "      <td>0</td>\n",
       "      <td>2</td>\n",
       "      <td>1643948057421</td>\n",
       "    </tr>\n",
       "    <tr>\n",
       "      <th>3</th>\n",
       "      <td>8</td>\n",
       "      <td>83572029-0436-4166-a98e-ca16d54c5bc1</td>\n",
       "      <td>0</td>\n",
       "      <td>2</td>\n",
       "      <td>2</td>\n",
       "      <td>1643948058929</td>\n",
       "    </tr>\n",
       "    <tr>\n",
       "      <th>4</th>\n",
       "      <td>10</td>\n",
       "      <td>0863ac87-29ba-44aa-a8c8-36629897536e</td>\n",
       "      <td>0</td>\n",
       "      <td>0</td>\n",
       "      <td>2</td>\n",
       "      <td>1643948087428</td>\n",
       "    </tr>\n",
       "  </tbody>\n",
       "</table>\n",
       "</div>"
      ],
      "text/plain": [
       "   hops                                  uuid  connectionType  eventId  \\\n",
       "0    10  09a7869d-7af1-4599-88cf-e665dc54cafa               0        0   \n",
       "1     8  d8a687b4-a82c-4aa8-9a17-50b38d641c65               0        2   \n",
       "2    10  5e8b0857-506d-4795-b0dd-f195a317bb56               0        0   \n",
       "3     8  83572029-0436-4166-a98e-ca16d54c5bc1               0        2   \n",
       "4    10  0863ac87-29ba-44aa-a8c8-36629897536e               0        0   \n",
       "\n",
       "   logType      timeStamp  \n",
       "0        2  1643948027396  \n",
       "1        2  1643948029413  \n",
       "2        2  1643948057421  \n",
       "3        2  1643948058929  \n",
       "4        2  1643948087428  "
      ]
     },
     "execution_count": 153,
     "metadata": {},
     "output_type": "execute_result"
    }
   ],
   "source": [
    "df_miranda_2h_10m_in.head()"
   ]
  },
  {
   "cell_type": "code",
   "execution_count": 154,
   "metadata": {},
   "outputs": [
    {
     "data": {
      "text/plain": [
       "(31, 6)"
      ]
     },
     "execution_count": 154,
     "metadata": {},
     "output_type": "execute_result"
    }
   ],
   "source": [
    "df_miranda_2h_10m_in_0 = df_miranda_2h_10m_in.iloc[::2, :]\n",
    "df_miranda_2h_10m_in_0.shape"
   ]
  },
  {
   "cell_type": "code",
   "execution_count": 155,
   "metadata": {},
   "outputs": [
    {
     "data": {
      "text/plain": [
       "(31, 6)"
      ]
     },
     "execution_count": 155,
     "metadata": {},
     "output_type": "execute_result"
    }
   ],
   "source": [
    "df_miranda_2h_10m_in_2 = df_miranda_2h_10m_in.iloc[1::2, :]\n",
    "df_miranda_2h_10m_in_2.shape"
   ]
  },
  {
   "cell_type": "code",
   "execution_count": 156,
   "metadata": {},
   "outputs": [
    {
     "data": {
      "text/plain": [
       "2017.0"
      ]
     },
     "execution_count": 156,
     "metadata": {},
     "output_type": "execute_result"
    }
   ],
   "source": [
    "df_2h_10m_in = df_miranda_2h_10m_in_2.reset_index().timeStamp - df_miranda_2h_10m_in_0.reset_index().timeStamp\n",
    "df_2h_10m_in.median()"
   ]
  },
  {
   "cell_type": "code",
   "execution_count": 157,
   "metadata": {},
   "outputs": [
    {
     "data": {
      "text/plain": [
       "(62, 6)"
      ]
     },
     "execution_count": 157,
     "metadata": {},
     "output_type": "execute_result"
    }
   ],
   "source": [
    "rtt_elsa_2h_10m_in = pd.read_csv('result/rtt_elsa_2h_10m_in2.csv')  \n",
    "rtt_elsa_2h_10m_in.shape"
   ]
  },
  {
   "cell_type": "code",
   "execution_count": 158,
   "metadata": {},
   "outputs": [
    {
     "data": {
      "text/html": [
       "<div>\n",
       "<style scoped>\n",
       "    .dataframe tbody tr th:only-of-type {\n",
       "        vertical-align: middle;\n",
       "    }\n",
       "\n",
       "    .dataframe tbody tr th {\n",
       "        vertical-align: top;\n",
       "    }\n",
       "\n",
       "    .dataframe thead th {\n",
       "        text-align: right;\n",
       "    }\n",
       "</style>\n",
       "<table border=\"1\" class=\"dataframe\">\n",
       "  <thead>\n",
       "    <tr style=\"text-align: right;\">\n",
       "      <th></th>\n",
       "      <th>hops</th>\n",
       "      <th>uuid</th>\n",
       "      <th>connectionType</th>\n",
       "      <th>eventId</th>\n",
       "      <th>logType</th>\n",
       "      <th>timeStamp</th>\n",
       "    </tr>\n",
       "  </thead>\n",
       "  <tbody>\n",
       "    <tr>\n",
       "      <th>0</th>\n",
       "      <td>8</td>\n",
       "      <td>09a7869d-7af1-4599-88cf-e665dc54cafa</td>\n",
       "      <td>0</td>\n",
       "      <td>2</td>\n",
       "      <td>2</td>\n",
       "      <td>1643948029539</td>\n",
       "    </tr>\n",
       "    <tr>\n",
       "      <th>1</th>\n",
       "      <td>10</td>\n",
       "      <td>d8a687b4-a82c-4aa8-9a17-50b38d641c65</td>\n",
       "      <td>0</td>\n",
       "      <td>0</td>\n",
       "      <td>2</td>\n",
       "      <td>1643948029543</td>\n",
       "    </tr>\n",
       "    <tr>\n",
       "      <th>2</th>\n",
       "      <td>8</td>\n",
       "      <td>5e8b0857-506d-4795-b0dd-f195a317bb56</td>\n",
       "      <td>0</td>\n",
       "      <td>2</td>\n",
       "      <td>2</td>\n",
       "      <td>1643948058731</td>\n",
       "    </tr>\n",
       "    <tr>\n",
       "      <th>3</th>\n",
       "      <td>10</td>\n",
       "      <td>83572029-0436-4166-a98e-ca16d54c5bc1</td>\n",
       "      <td>0</td>\n",
       "      <td>0</td>\n",
       "      <td>2</td>\n",
       "      <td>1643948058733</td>\n",
       "    </tr>\n",
       "    <tr>\n",
       "      <th>4</th>\n",
       "      <td>8</td>\n",
       "      <td>0863ac87-29ba-44aa-a8c8-36629897536e</td>\n",
       "      <td>0</td>\n",
       "      <td>2</td>\n",
       "      <td>2</td>\n",
       "      <td>1643948088923</td>\n",
       "    </tr>\n",
       "    <tr>\n",
       "      <th>5</th>\n",
       "      <td>10</td>\n",
       "      <td>23cc3484-e0a5-4581-95c6-83a1f00b0a40</td>\n",
       "      <td>0</td>\n",
       "      <td>0</td>\n",
       "      <td>2</td>\n",
       "      <td>1643948088926</td>\n",
       "    </tr>\n",
       "    <tr>\n",
       "      <th>6</th>\n",
       "      <td>8</td>\n",
       "      <td>25c737e9-5900-4380-b6eb-cc88522d0f6f</td>\n",
       "      <td>0</td>\n",
       "      <td>2</td>\n",
       "      <td>2</td>\n",
       "      <td>1643948118623</td>\n",
       "    </tr>\n",
       "    <tr>\n",
       "      <th>7</th>\n",
       "      <td>10</td>\n",
       "      <td>7549502b-ac51-452b-896a-5fd9ed0674bd</td>\n",
       "      <td>0</td>\n",
       "      <td>0</td>\n",
       "      <td>2</td>\n",
       "      <td>1643948118625</td>\n",
       "    </tr>\n",
       "    <tr>\n",
       "      <th>8</th>\n",
       "      <td>8</td>\n",
       "      <td>f2d18ccf-b8b1-4e7b-960c-c54e42d4ba2d</td>\n",
       "      <td>0</td>\n",
       "      <td>2</td>\n",
       "      <td>2</td>\n",
       "      <td>1643948148818</td>\n",
       "    </tr>\n",
       "    <tr>\n",
       "      <th>9</th>\n",
       "      <td>10</td>\n",
       "      <td>9004e09e-9bff-457b-a9f3-d5fc24febd3f</td>\n",
       "      <td>0</td>\n",
       "      <td>0</td>\n",
       "      <td>2</td>\n",
       "      <td>1643948148820</td>\n",
       "    </tr>\n",
       "  </tbody>\n",
       "</table>\n",
       "</div>"
      ],
      "text/plain": [
       "   hops                                  uuid  connectionType  eventId  \\\n",
       "0     8  09a7869d-7af1-4599-88cf-e665dc54cafa               0        2   \n",
       "1    10  d8a687b4-a82c-4aa8-9a17-50b38d641c65               0        0   \n",
       "2     8  5e8b0857-506d-4795-b0dd-f195a317bb56               0        2   \n",
       "3    10  83572029-0436-4166-a98e-ca16d54c5bc1               0        0   \n",
       "4     8  0863ac87-29ba-44aa-a8c8-36629897536e               0        2   \n",
       "5    10  23cc3484-e0a5-4581-95c6-83a1f00b0a40               0        0   \n",
       "6     8  25c737e9-5900-4380-b6eb-cc88522d0f6f               0        2   \n",
       "7    10  7549502b-ac51-452b-896a-5fd9ed0674bd               0        0   \n",
       "8     8  f2d18ccf-b8b1-4e7b-960c-c54e42d4ba2d               0        2   \n",
       "9    10  9004e09e-9bff-457b-a9f3-d5fc24febd3f               0        0   \n",
       "\n",
       "   logType      timeStamp  \n",
       "0        2  1643948029539  \n",
       "1        2  1643948029543  \n",
       "2        2  1643948058731  \n",
       "3        2  1643948058733  \n",
       "4        2  1643948088923  \n",
       "5        2  1643948088926  \n",
       "6        2  1643948118623  \n",
       "7        2  1643948118625  \n",
       "8        2  1643948148818  \n",
       "9        2  1643948148820  "
      ]
     },
     "execution_count": 158,
     "metadata": {},
     "output_type": "execute_result"
    }
   ],
   "source": [
    "rtt_elsa_2h_10m_in.head(10)"
   ]
  },
  {
   "cell_type": "code",
   "execution_count": 159,
   "metadata": {},
   "outputs": [
    {
     "data": {
      "text/plain": [
       "(31, 6)"
      ]
     },
     "execution_count": 159,
     "metadata": {},
     "output_type": "execute_result"
    }
   ],
   "source": [
    "rtt_elsa_2h_10m_in_2 = rtt_elsa_2h_10m_in.iloc[::2, :]\n",
    "rtt_elsa_2h_10m_in_2.shape"
   ]
  },
  {
   "cell_type": "code",
   "execution_count": 160,
   "metadata": {},
   "outputs": [
    {
     "data": {
      "text/plain": [
       "(31, 6)"
      ]
     },
     "execution_count": 160,
     "metadata": {},
     "output_type": "execute_result"
    }
   ],
   "source": [
    "rtt_elsa_2h_10m_in_0 = rtt_elsa_2h_10m_in.iloc[1::2, :]\n",
    "rtt_elsa_2h_10m_in_0.shape"
   ]
  },
  {
   "cell_type": "code",
   "execution_count": 161,
   "metadata": {},
   "outputs": [
    {
     "data": {
      "text/plain": [
       "2.0"
      ]
     },
     "execution_count": 161,
     "metadata": {},
     "output_type": "execute_result"
    }
   ],
   "source": [
    "df_2h_10m_in_sub = rtt_elsa_2h_10m_in_0.reset_index().timeStamp - rtt_elsa_2h_10m_in_2.reset_index().timeStamp\n",
    "df_2h_10m_in_sub.median()"
   ]
  },
  {
   "cell_type": "code",
   "execution_count": 162,
   "metadata": {},
   "outputs": [
    {
     "data": {
      "text/plain": [
       "1074.532258064516"
      ]
     },
     "execution_count": 162,
     "metadata": {},
     "output_type": "execute_result"
    }
   ],
   "source": [
    "df_2h_10m_in_rtt = df_2h_10m_in - df_2h_10m_in_sub\n",
    "df_2h_10m_in_rtt.median()\n",
    "\n",
    "df_2h_10m_in_rtt = df_2h_10m_in_rtt/2\n",
    "df_2h_10m_in_rtt.median()\n",
    "\n",
    "df_2h_10m_in_rtt.mean()"
   ]
  },
  {
   "cell_type": "code",
   "execution_count": null,
   "metadata": {},
   "outputs": [],
   "source": []
  },
  {
   "cell_type": "markdown",
   "metadata": {},
   "source": [
    "## 2 hop - 10 meter - outdoor - Bluetooth 5 device in the middle"
   ]
  },
  {
   "cell_type": "code",
   "execution_count": 129,
   "metadata": {},
   "outputs": [
    {
     "data": {
      "text/plain": [
       "(60, 6)"
      ]
     },
     "execution_count": 129,
     "metadata": {},
     "output_type": "execute_result"
    }
   ],
   "source": [
    "df_miranda_2h_10m = pd.read_csv('result/rtt_miranda_2h_10m.csv')  \n",
    "df_miranda_2h_10m.shape"
   ]
  },
  {
   "cell_type": "code",
   "execution_count": 130,
   "metadata": {},
   "outputs": [
    {
     "data": {
      "text/html": [
       "<div>\n",
       "<style scoped>\n",
       "    .dataframe tbody tr th:only-of-type {\n",
       "        vertical-align: middle;\n",
       "    }\n",
       "\n",
       "    .dataframe tbody tr th {\n",
       "        vertical-align: top;\n",
       "    }\n",
       "\n",
       "    .dataframe thead th {\n",
       "        text-align: right;\n",
       "    }\n",
       "</style>\n",
       "<table border=\"1\" class=\"dataframe\">\n",
       "  <thead>\n",
       "    <tr style=\"text-align: right;\">\n",
       "      <th></th>\n",
       "      <th>hops</th>\n",
       "      <th>uuid</th>\n",
       "      <th>connectionType</th>\n",
       "      <th>eventId</th>\n",
       "      <th>logType</th>\n",
       "      <th>timeStamp</th>\n",
       "    </tr>\n",
       "  </thead>\n",
       "  <tbody>\n",
       "    <tr>\n",
       "      <th>0</th>\n",
       "      <td>10</td>\n",
       "      <td>3ab74f40-1aae-4bcf-821e-c908bdb7e689</td>\n",
       "      <td>0</td>\n",
       "      <td>0</td>\n",
       "      <td>2</td>\n",
       "      <td>1643943974115</td>\n",
       "    </tr>\n",
       "    <tr>\n",
       "      <th>1</th>\n",
       "      <td>8</td>\n",
       "      <td>fcf73c70-39a7-4ce3-929e-a34c57139e02</td>\n",
       "      <td>0</td>\n",
       "      <td>2</td>\n",
       "      <td>2</td>\n",
       "      <td>1643943975535</td>\n",
       "    </tr>\n",
       "    <tr>\n",
       "      <th>2</th>\n",
       "      <td>10</td>\n",
       "      <td>f5304954-3c4c-4bf9-a5b4-fc3706102e70</td>\n",
       "      <td>0</td>\n",
       "      <td>0</td>\n",
       "      <td>2</td>\n",
       "      <td>1643944004126</td>\n",
       "    </tr>\n",
       "    <tr>\n",
       "      <th>3</th>\n",
       "      <td>8</td>\n",
       "      <td>71ed3e28-c36b-403b-8b31-2b6bfd2c9eeb</td>\n",
       "      <td>0</td>\n",
       "      <td>2</td>\n",
       "      <td>2</td>\n",
       "      <td>1643944005801</td>\n",
       "    </tr>\n",
       "    <tr>\n",
       "      <th>4</th>\n",
       "      <td>10</td>\n",
       "      <td>c82aaa53-ca08-47ed-b6c0-a1e773173382</td>\n",
       "      <td>0</td>\n",
       "      <td>0</td>\n",
       "      <td>2</td>\n",
       "      <td>1643944034131</td>\n",
       "    </tr>\n",
       "  </tbody>\n",
       "</table>\n",
       "</div>"
      ],
      "text/plain": [
       "   hops                                  uuid  connectionType  eventId  \\\n",
       "0    10  3ab74f40-1aae-4bcf-821e-c908bdb7e689               0        0   \n",
       "1     8  fcf73c70-39a7-4ce3-929e-a34c57139e02               0        2   \n",
       "2    10  f5304954-3c4c-4bf9-a5b4-fc3706102e70               0        0   \n",
       "3     8  71ed3e28-c36b-403b-8b31-2b6bfd2c9eeb               0        2   \n",
       "4    10  c82aaa53-ca08-47ed-b6c0-a1e773173382               0        0   \n",
       "\n",
       "   logType      timeStamp  \n",
       "0        2  1643943974115  \n",
       "1        2  1643943975535  \n",
       "2        2  1643944004126  \n",
       "3        2  1643944005801  \n",
       "4        2  1643944034131  "
      ]
     },
     "execution_count": 130,
     "metadata": {},
     "output_type": "execute_result"
    }
   ],
   "source": [
    "df_miranda_2h_10m.head()"
   ]
  },
  {
   "cell_type": "code",
   "execution_count": 131,
   "metadata": {},
   "outputs": [
    {
     "data": {
      "text/plain": [
       "(30, 6)"
      ]
     },
     "execution_count": 131,
     "metadata": {},
     "output_type": "execute_result"
    }
   ],
   "source": [
    "df_miranda_2h_10m_0 = df_miranda_2h_10m.iloc[::2, :]\n",
    "df_miranda_2h_10m_0.shape"
   ]
  },
  {
   "cell_type": "code",
   "execution_count": 132,
   "metadata": {},
   "outputs": [
    {
     "data": {
      "text/html": [
       "<div>\n",
       "<style scoped>\n",
       "    .dataframe tbody tr th:only-of-type {\n",
       "        vertical-align: middle;\n",
       "    }\n",
       "\n",
       "    .dataframe tbody tr th {\n",
       "        vertical-align: top;\n",
       "    }\n",
       "\n",
       "    .dataframe thead th {\n",
       "        text-align: right;\n",
       "    }\n",
       "</style>\n",
       "<table border=\"1\" class=\"dataframe\">\n",
       "  <thead>\n",
       "    <tr style=\"text-align: right;\">\n",
       "      <th></th>\n",
       "      <th>hops</th>\n",
       "      <th>uuid</th>\n",
       "      <th>connectionType</th>\n",
       "      <th>eventId</th>\n",
       "      <th>logType</th>\n",
       "      <th>timeStamp</th>\n",
       "    </tr>\n",
       "  </thead>\n",
       "  <tbody>\n",
       "    <tr>\n",
       "      <th>0</th>\n",
       "      <td>10</td>\n",
       "      <td>3ab74f40-1aae-4bcf-821e-c908bdb7e689</td>\n",
       "      <td>0</td>\n",
       "      <td>0</td>\n",
       "      <td>2</td>\n",
       "      <td>1643943974115</td>\n",
       "    </tr>\n",
       "    <tr>\n",
       "      <th>2</th>\n",
       "      <td>10</td>\n",
       "      <td>f5304954-3c4c-4bf9-a5b4-fc3706102e70</td>\n",
       "      <td>0</td>\n",
       "      <td>0</td>\n",
       "      <td>2</td>\n",
       "      <td>1643944004126</td>\n",
       "    </tr>\n",
       "    <tr>\n",
       "      <th>4</th>\n",
       "      <td>10</td>\n",
       "      <td>c82aaa53-ca08-47ed-b6c0-a1e773173382</td>\n",
       "      <td>0</td>\n",
       "      <td>0</td>\n",
       "      <td>2</td>\n",
       "      <td>1643944034131</td>\n",
       "    </tr>\n",
       "    <tr>\n",
       "      <th>6</th>\n",
       "      <td>10</td>\n",
       "      <td>44e9170e-e996-4046-964c-d7b8181b39eb</td>\n",
       "      <td>0</td>\n",
       "      <td>0</td>\n",
       "      <td>2</td>\n",
       "      <td>1643944064139</td>\n",
       "    </tr>\n",
       "    <tr>\n",
       "      <th>8</th>\n",
       "      <td>10</td>\n",
       "      <td>1470f3ab-4349-461d-a173-d212c08ed74f</td>\n",
       "      <td>0</td>\n",
       "      <td>0</td>\n",
       "      <td>2</td>\n",
       "      <td>1643944094145</td>\n",
       "    </tr>\n",
       "  </tbody>\n",
       "</table>\n",
       "</div>"
      ],
      "text/plain": [
       "   hops                                  uuid  connectionType  eventId  \\\n",
       "0    10  3ab74f40-1aae-4bcf-821e-c908bdb7e689               0        0   \n",
       "2    10  f5304954-3c4c-4bf9-a5b4-fc3706102e70               0        0   \n",
       "4    10  c82aaa53-ca08-47ed-b6c0-a1e773173382               0        0   \n",
       "6    10  44e9170e-e996-4046-964c-d7b8181b39eb               0        0   \n",
       "8    10  1470f3ab-4349-461d-a173-d212c08ed74f               0        0   \n",
       "\n",
       "   logType      timeStamp  \n",
       "0        2  1643943974115  \n",
       "2        2  1643944004126  \n",
       "4        2  1643944034131  \n",
       "6        2  1643944064139  \n",
       "8        2  1643944094145  "
      ]
     },
     "execution_count": 132,
     "metadata": {},
     "output_type": "execute_result"
    }
   ],
   "source": [
    "df_miranda_2h_10m_0.head()"
   ]
  },
  {
   "cell_type": "code",
   "execution_count": 133,
   "metadata": {},
   "outputs": [
    {
     "data": {
      "text/plain": [
       "(30, 6)"
      ]
     },
     "execution_count": 133,
     "metadata": {},
     "output_type": "execute_result"
    }
   ],
   "source": [
    "df_miranda_2h_10m_2 = df_miranda_2h_10m.iloc[1::2, :]\n",
    "df_miranda_2h_10m_2.shape"
   ]
  },
  {
   "cell_type": "code",
   "execution_count": 134,
   "metadata": {},
   "outputs": [
    {
     "data": {
      "text/plain": [
       "1719.0"
      ]
     },
     "execution_count": 134,
     "metadata": {},
     "output_type": "execute_result"
    }
   ],
   "source": [
    "df_2h_10m = df_miranda_2h_10m_2.reset_index().timeStamp - df_miranda_2h_10m_0.reset_index().timeStamp\n",
    "df_2h_10m.median()"
   ]
  },
  {
   "cell_type": "code",
   "execution_count": 148,
   "metadata": {},
   "outputs": [
    {
     "data": {
      "text/plain": [
       "0     1420\n",
       "1     1675\n",
       "2     2066\n",
       "3     1736\n",
       "4     1765\n",
       "5     1524\n",
       "6     1175\n",
       "7     1846\n",
       "8     2050\n",
       "9     1750\n",
       "10    2020\n",
       "11    1596\n",
       "12    1263\n",
       "13    2022\n",
       "14    2327\n",
       "15    2674\n",
       "16    1528\n",
       "17    1702\n",
       "18    1394\n",
       "19    1685\n",
       "20    2433\n",
       "21    1202\n",
       "22    1339\n",
       "23    2060\n",
       "24    2281\n",
       "25    2753\n",
       "26    1929\n",
       "27    1318\n",
       "28     936\n",
       "29    1507\n",
       "Name: timeStamp, dtype: int64"
      ]
     },
     "execution_count": 148,
     "metadata": {},
     "output_type": "execute_result"
    }
   ],
   "source": [
    "df_2h_10m"
   ]
  },
  {
   "cell_type": "code",
   "execution_count": 136,
   "metadata": {},
   "outputs": [
    {
     "data": {
      "text/plain": [
       "(60, 6)"
      ]
     },
     "execution_count": 136,
     "metadata": {},
     "output_type": "execute_result"
    }
   ],
   "source": [
    "rtt_elsa_2h_10m = pd.read_csv('result/rtt_elsa_2h_10m.csv')  \n",
    "rtt_elsa_2h_10m.shape"
   ]
  },
  {
   "cell_type": "code",
   "execution_count": 137,
   "metadata": {},
   "outputs": [
    {
     "data": {
      "text/html": [
       "<div>\n",
       "<style scoped>\n",
       "    .dataframe tbody tr th:only-of-type {\n",
       "        vertical-align: middle;\n",
       "    }\n",
       "\n",
       "    .dataframe tbody tr th {\n",
       "        vertical-align: top;\n",
       "    }\n",
       "\n",
       "    .dataframe thead th {\n",
       "        text-align: right;\n",
       "    }\n",
       "</style>\n",
       "<table border=\"1\" class=\"dataframe\">\n",
       "  <thead>\n",
       "    <tr style=\"text-align: right;\">\n",
       "      <th></th>\n",
       "      <th>hops</th>\n",
       "      <th>uuid</th>\n",
       "      <th>connectionType</th>\n",
       "      <th>eventId</th>\n",
       "      <th>logType</th>\n",
       "      <th>timeStamp</th>\n",
       "    </tr>\n",
       "  </thead>\n",
       "  <tbody>\n",
       "    <tr>\n",
       "      <th>0</th>\n",
       "      <td>8</td>\n",
       "      <td>3ab74f40-1aae-4bcf-821e-c908bdb7e689</td>\n",
       "      <td>0</td>\n",
       "      <td>2</td>\n",
       "      <td>2</td>\n",
       "      <td>1643943975343</td>\n",
       "    </tr>\n",
       "    <tr>\n",
       "      <th>1</th>\n",
       "      <td>10</td>\n",
       "      <td>fcf73c70-39a7-4ce3-929e-a34c57139e02</td>\n",
       "      <td>0</td>\n",
       "      <td>0</td>\n",
       "      <td>2</td>\n",
       "      <td>1643943975346</td>\n",
       "    </tr>\n",
       "    <tr>\n",
       "      <th>2</th>\n",
       "      <td>8</td>\n",
       "      <td>f5304954-3c4c-4bf9-a5b4-fc3706102e70</td>\n",
       "      <td>0</td>\n",
       "      <td>2</td>\n",
       "      <td>2</td>\n",
       "      <td>1643944005520</td>\n",
       "    </tr>\n",
       "    <tr>\n",
       "      <th>3</th>\n",
       "      <td>10</td>\n",
       "      <td>71ed3e28-c36b-403b-8b31-2b6bfd2c9eeb</td>\n",
       "      <td>0</td>\n",
       "      <td>0</td>\n",
       "      <td>2</td>\n",
       "      <td>1643944005522</td>\n",
       "    </tr>\n",
       "    <tr>\n",
       "      <th>4</th>\n",
       "      <td>8</td>\n",
       "      <td>c82aaa53-ca08-47ed-b6c0-a1e773173382</td>\n",
       "      <td>0</td>\n",
       "      <td>2</td>\n",
       "      <td>2</td>\n",
       "      <td>1643944035720</td>\n",
       "    </tr>\n",
       "    <tr>\n",
       "      <th>5</th>\n",
       "      <td>10</td>\n",
       "      <td>376f13cf-6640-4087-a135-d8dd3793139c</td>\n",
       "      <td>0</td>\n",
       "      <td>0</td>\n",
       "      <td>2</td>\n",
       "      <td>1643944035723</td>\n",
       "    </tr>\n",
       "    <tr>\n",
       "      <th>6</th>\n",
       "      <td>8</td>\n",
       "      <td>44e9170e-e996-4046-964c-d7b8181b39eb</td>\n",
       "      <td>0</td>\n",
       "      <td>2</td>\n",
       "      <td>2</td>\n",
       "      <td>1643944065420</td>\n",
       "    </tr>\n",
       "    <tr>\n",
       "      <th>7</th>\n",
       "      <td>10</td>\n",
       "      <td>fd151baa-7e29-40e4-9e96-ef99e124776c</td>\n",
       "      <td>0</td>\n",
       "      <td>0</td>\n",
       "      <td>2</td>\n",
       "      <td>1643944065423</td>\n",
       "    </tr>\n",
       "    <tr>\n",
       "      <th>8</th>\n",
       "      <td>8</td>\n",
       "      <td>1470f3ab-4349-461d-a173-d212c08ed74f</td>\n",
       "      <td>0</td>\n",
       "      <td>2</td>\n",
       "      <td>2</td>\n",
       "      <td>1643944095615</td>\n",
       "    </tr>\n",
       "    <tr>\n",
       "      <th>9</th>\n",
       "      <td>10</td>\n",
       "      <td>16ab05af-61d0-40f7-bb0e-22c8548ada6d</td>\n",
       "      <td>0</td>\n",
       "      <td>0</td>\n",
       "      <td>2</td>\n",
       "      <td>1643944095618</td>\n",
       "    </tr>\n",
       "  </tbody>\n",
       "</table>\n",
       "</div>"
      ],
      "text/plain": [
       "   hops                                  uuid  connectionType  eventId  \\\n",
       "0     8  3ab74f40-1aae-4bcf-821e-c908bdb7e689               0        2   \n",
       "1    10  fcf73c70-39a7-4ce3-929e-a34c57139e02               0        0   \n",
       "2     8  f5304954-3c4c-4bf9-a5b4-fc3706102e70               0        2   \n",
       "3    10  71ed3e28-c36b-403b-8b31-2b6bfd2c9eeb               0        0   \n",
       "4     8  c82aaa53-ca08-47ed-b6c0-a1e773173382               0        2   \n",
       "5    10  376f13cf-6640-4087-a135-d8dd3793139c               0        0   \n",
       "6     8  44e9170e-e996-4046-964c-d7b8181b39eb               0        2   \n",
       "7    10  fd151baa-7e29-40e4-9e96-ef99e124776c               0        0   \n",
       "8     8  1470f3ab-4349-461d-a173-d212c08ed74f               0        2   \n",
       "9    10  16ab05af-61d0-40f7-bb0e-22c8548ada6d               0        0   \n",
       "\n",
       "   logType      timeStamp  \n",
       "0        2  1643943975343  \n",
       "1        2  1643943975346  \n",
       "2        2  1643944005520  \n",
       "3        2  1643944005522  \n",
       "4        2  1643944035720  \n",
       "5        2  1643944035723  \n",
       "6        2  1643944065420  \n",
       "7        2  1643944065423  \n",
       "8        2  1643944095615  \n",
       "9        2  1643944095618  "
      ]
     },
     "execution_count": 137,
     "metadata": {},
     "output_type": "execute_result"
    }
   ],
   "source": [
    "rtt_elsa_2h_10m.head(10)"
   ]
  },
  {
   "cell_type": "code",
   "execution_count": 138,
   "metadata": {},
   "outputs": [
    {
     "data": {
      "text/plain": [
       "(30, 6)"
      ]
     },
     "execution_count": 138,
     "metadata": {},
     "output_type": "execute_result"
    }
   ],
   "source": [
    "rtt_elsa_2h_10m_2 = rtt_elsa_2h_10m.iloc[::2, :]\n",
    "rtt_elsa_2h_10m_2.shape"
   ]
  },
  {
   "cell_type": "code",
   "execution_count": 139,
   "metadata": {},
   "outputs": [
    {
     "data": {
      "text/plain": [
       "(30, 6)"
      ]
     },
     "execution_count": 139,
     "metadata": {},
     "output_type": "execute_result"
    }
   ],
   "source": [
    "rtt_elsa_2h_10m_0 = rtt_elsa_2h_10m.iloc[1::2, :]\n",
    "rtt_elsa_2h_10m_0.shape"
   ]
  },
  {
   "cell_type": "code",
   "execution_count": 140,
   "metadata": {},
   "outputs": [
    {
     "data": {
      "text/plain": [
       "2.0"
      ]
     },
     "execution_count": 140,
     "metadata": {},
     "output_type": "execute_result"
    }
   ],
   "source": [
    "df_2h_10m_sub = rtt_elsa_2h_10m_0.reset_index().timeStamp - rtt_elsa_2h_10m_2.reset_index().timeStamp\n",
    "df_2h_10m_sub.median()"
   ]
  },
  {
   "cell_type": "code",
   "execution_count": 142,
   "metadata": {},
   "outputs": [
    {
     "data": {
      "text/plain": [
       "881.7333333333333"
      ]
     },
     "execution_count": 142,
     "metadata": {},
     "output_type": "execute_result"
    }
   ],
   "source": [
    "df_2h_10m_rtt = df_2h_10m - df_2h_10m_sub\n",
    "df_2h_10m_rtt.median()\n",
    "\n",
    "df_2h_10m_rtt = df_2h_10m_rtt/2\n",
    "df_2h_10m_rtt.median()\n",
    "\n",
    "df_2h_10m_rtt.mean()"
   ]
  },
  {
   "cell_type": "code",
   "execution_count": 151,
   "metadata": {},
   "outputs": [
    {
     "data": {
      "text/plain": [
       "0      708.5\n",
       "1      836.5\n",
       "2     1031.5\n",
       "3      866.5\n",
       "4      881.0\n",
       "5      761.0\n",
       "6      586.5\n",
       "7      921.5\n",
       "8     1024.0\n",
       "9      874.0\n",
       "10    1009.0\n",
       "11     797.0\n",
       "12     630.0\n",
       "13    1010.0\n",
       "14    1162.0\n",
       "15    1335.5\n",
       "16     763.0\n",
       "17     850.0\n",
       "18     696.0\n",
       "19     840.5\n",
       "20    1215.0\n",
       "21     600.0\n",
       "22     668.5\n",
       "23    1029.5\n",
       "24    1139.0\n",
       "25    1375.5\n",
       "26     963.0\n",
       "27     658.0\n",
       "28     467.0\n",
       "29     752.5\n",
       "Name: timeStamp, dtype: float64"
      ]
     },
     "execution_count": 151,
     "metadata": {},
     "output_type": "execute_result"
    }
   ],
   "source": [
    "df_2h_10m_rtt"
   ]
  },
  {
   "cell_type": "code",
   "execution_count": null,
   "metadata": {},
   "outputs": [],
   "source": []
  },
  {
   "cell_type": "code",
   "execution_count": null,
   "metadata": {},
   "outputs": [],
   "source": []
  },
  {
   "cell_type": "code",
   "execution_count": 168,
   "metadata": {},
   "outputs": [
    {
     "data": {
      "image/png": "[encoded data removed]",
      "text/plain": [
       "<Figure size 504x432 with 1 Axes>"
      ]
     },
     "metadata": {
      "needs_background": "light"
     },
     "output_type": "display_data"
    }
   ],
   "source": [
    "data_b_2 = [df_1h_15m_in_rtt, df_2h_10m_in_rtt]\n",
    "data_a_2 = [df_1h_15m_rtt, df_2h_10m_rtt]\n",
    "\n",
    "ticks = ['1', '2']\n",
    "\n",
    "def set_box_color(bp, color):\n",
    "    plt.setp(bp['boxes'], color=color)\n",
    "    plt.setp(bp['whiskers'], color=color)\n",
    "    plt.setp(bp['caps'], color=color)\n",
    "    plt.setp(bp['medians'], color=color)\n",
    "\n",
    "plt.figure(figsize=(7, 6))\n",
    "\n",
    "bpl2 = plt.boxplot(data_a_2, \n",
    "                  positions=np.array(range(len(data_a_2)))*2.0-0.4, \n",
    "                  sym='', \n",
    "                  widths=0.6, showmeans=False)\n",
    "\n",
    "bpr2 = plt.boxplot(data_b_2, \n",
    "                  positions=np.array(range(len(data_b_2)))*2.0+0.4, \n",
    "                  sym='', \n",
    "                  widths=0.6, showmeans=False)\n",
    "set_box_color(bpl2, '#D7191C') # colors are from http://colorbrewer2.org/\n",
    "set_box_color(bpr2, '#2C7BB6')\n",
    "\n",
    "# draw temporary red and blue lines and use them to create a legend\n",
    "plt.plot([], c='#D7191C', label='Outdoor')\n",
    "plt.plot([], c='#2C7BB6', label='Indoor')\n",
    "plt.legend()\n",
    "\n",
    "plt.xlabel('Hop count', fontsize=20)\n",
    "plt.ylabel('Delay(ms)', fontsize=20)\n",
    "\n",
    "plt.xticks(range(0, len(ticks) * 2, 2), ticks)\n",
    "plt.grid(False)\n",
    "plt.xlim(-2, len(ticks)*2)\n",
    "plt.ylim(0,1800)\n",
    "plt.tight_layout()\n",
    "plt.savefig('plots/figure_eval_new_3.png')"
   ]
  },
  {
   "cell_type": "code",
   "execution_count": null,
   "metadata": {},
   "outputs": [],
   "source": []
  },
  {
   "cell_type": "code",
   "execution_count": null,
   "metadata": {},
   "outputs": [],
   "source": []
  }
 ],
 "metadata": {
  "kernelspec": {
   "display_name": "Python 3",
   "language": "python",
   "name": "python3"
  },
  "language_info": {
   "codemirror_mode": {
    "name": "ipython",
    "version": 3
   },
   "file_extension": ".py",
   "mimetype": "text/x-python",
   "name": "python",
   "nbconvert_exporter": "python",
   "pygments_lexer": "ipython3",
   "version": "3.8.3"
  }
 },
 "nbformat": 4,
 "nbformat_minor": 4
}
